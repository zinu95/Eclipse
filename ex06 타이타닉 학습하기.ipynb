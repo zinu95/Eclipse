{
 "cells": [
  {
   "cell_type": "code",
   "execution_count": 1,
   "metadata": {},
   "outputs": [],
   "source": [
    "import pandas as pd\n",
    "import numpy as np\n",
    "import matplotlib.pyplot as plt\n",
    "import seaborn as sns # 시각화 라이브러리"
   ]
  },
  {
   "cell_type": "markdown",
   "metadata": {},
   "source": [
    "    ++++++++++++++++++++++++++++++++++++++++++++++++++++++++++++++++++++++\n",
    "        # 1. 문제정의\n",
    "- 생존자 / 사망자 예측\n",
    "- kaggle 대회에서 높은 점수를 획득"
   ]
  },
  {
   "cell_type": "markdown",
   "metadata": {},
   "source": [
    "# 2. 데이터 수집\n",
    "- kaggle 사이트로부터 train, test 수집"
   ]
  },
  {
   "cell_type": "code",
   "execution_count": 2,
   "metadata": {},
   "outputs": [],
   "source": [
    "train = pd.read_csv('./titanic/train.csv')\n",
    "test = pd.read_csv('./titanic/test.csv')"
   ]
  },
  {
   "cell_type": "code",
   "execution_count": 3,
   "metadata": {},
   "outputs": [],
   "source": [
    "# PassengerId를 인덱스로 변경하기\n",
    "# set_index\n",
    "train = train.set_index('PassengerId')\n",
    "test = test.set_index('PassengerId')"
   ]
  },
  {
   "cell_type": "code",
   "execution_count": 4,
   "metadata": {},
   "outputs": [],
   "source": [
    "# 인덱스로 변경 하는 방법 중 하나\n",
    "# pd.read_csv('./titanic/train.csv', index_col = 'PassengerId')"
   ]
  },
  {
   "cell_type": "code",
   "execution_count": 5,
   "metadata": {},
   "outputs": [
    {
     "name": "stdout",
     "output_type": "stream",
     "text": [
      "(891, 11)\n",
      "(418, 10)\n"
     ]
    }
   ],
   "source": [
    "print(train.shape)\n",
    "print(test.shape)"
   ]
  },
  {
   "cell_type": "code",
   "execution_count": 6,
   "metadata": {
    "scrolled": true
   },
   "outputs": [
    {
     "name": "stdout",
     "output_type": "stream",
     "text": [
      "<class 'pandas.core.frame.DataFrame'>\n",
      "Int64Index: 891 entries, 1 to 891\n",
      "Data columns (total 11 columns):\n",
      " #   Column    Non-Null Count  Dtype  \n",
      "---  ------    --------------  -----  \n",
      " 0   Survived  891 non-null    int64  \n",
      " 1   Pclass    891 non-null    int64  \n",
      " 2   Name      891 non-null    object \n",
      " 3   Sex       891 non-null    object \n",
      " 4   Age       714 non-null    float64\n",
      " 5   SibSp     891 non-null    int64  \n",
      " 6   Parch     891 non-null    int64  \n",
      " 7   Ticket    891 non-null    object \n",
      " 8   Fare      891 non-null    float64\n",
      " 9   Cabin     204 non-null    object \n",
      " 10  Embarked  889 non-null    object \n",
      "dtypes: float64(2), int64(4), object(5)\n",
      "memory usage: 83.5+ KB\n"
     ]
    }
   ],
   "source": [
    "# 결측치 확인\n",
    "train.info()\n",
    "# Age, Cabin, Emabrkde"
   ]
  },
  {
   "cell_type": "code",
   "execution_count": 7,
   "metadata": {
    "scrolled": true
   },
   "outputs": [
    {
     "name": "stdout",
     "output_type": "stream",
     "text": [
      "<class 'pandas.core.frame.DataFrame'>\n",
      "Int64Index: 418 entries, 892 to 1309\n",
      "Data columns (total 10 columns):\n",
      " #   Column    Non-Null Count  Dtype  \n",
      "---  ------    --------------  -----  \n",
      " 0   Pclass    418 non-null    int64  \n",
      " 1   Name      418 non-null    object \n",
      " 2   Sex       418 non-null    object \n",
      " 3   Age       332 non-null    float64\n",
      " 4   SibSp     418 non-null    int64  \n",
      " 5   Parch     418 non-null    int64  \n",
      " 6   Ticket    418 non-null    object \n",
      " 7   Fare      417 non-null    float64\n",
      " 8   Cabin     91 non-null     object \n",
      " 9   Embarked  418 non-null    object \n",
      "dtypes: float64(2), int64(3), object(5)\n",
      "memory usage: 35.9+ KB\n"
     ]
    }
   ],
   "source": [
    "test.info()\n",
    "# Age, Fare, Cabin"
   ]
  },
  {
   "cell_type": "code",
   "execution_count": 8,
   "metadata": {},
   "outputs": [
    {
     "data": {
      "text/plain": [
       "S    644\n",
       "C    168\n",
       "Q     77\n",
       "Name: Embarked, dtype: int64"
      ]
     },
     "execution_count": 8,
     "metadata": {},
     "output_type": "execute_result"
    }
   ],
   "source": [
    "# train -> embarked 결측치 채우기\n",
    "# value_counts() : 컬럼에 몇 개의 값이 있는지 확인\n",
    "# 각각의 개수 확인\n",
    "train['Embarked'].value_counts()"
   ]
  },
  {
   "cell_type": "code",
   "execution_count": 9,
   "metadata": {},
   "outputs": [
    {
     "data": {
      "text/plain": [
       "S    646\n",
       "C    168\n",
       "Q     77\n",
       "Name: Embarked, dtype: int64"
      ]
     },
     "execution_count": 9,
     "metadata": {},
     "output_type": "execute_result"
    }
   ],
   "source": [
    "# 최빈값으로 결측치 채우기\n",
    "# Embarked칼럼에 S가 갖는 비율이 높음(70% 이상)\n",
    "# 2개의 결측치이기 때문에 학습에 큰 영향을 끼치지 않음\n",
    "# fillna('결측치에 채울 값') -> 결측치 재우기\n",
    "train['Embarked'] = train['Embarked'].fillna('S')\n",
    "train['Embarked'].value_counts()"
   ]
  },
  {
   "cell_type": "code",
   "execution_count": 10,
   "metadata": {},
   "outputs": [
    {
     "data": {
      "text/html": [
       "<div>\n",
       "<style scoped>\n",
       "    .dataframe tbody tr th:only-of-type {\n",
       "        vertical-align: middle;\n",
       "    }\n",
       "\n",
       "    .dataframe tbody tr th {\n",
       "        vertical-align: top;\n",
       "    }\n",
       "\n",
       "    .dataframe thead th {\n",
       "        text-align: right;\n",
       "    }\n",
       "</style>\n",
       "<table border=\"1\" class=\"dataframe\">\n",
       "  <thead>\n",
       "    <tr style=\"text-align: right;\">\n",
       "      <th></th>\n",
       "      <th>Survived</th>\n",
       "      <th>Pclass</th>\n",
       "      <th>Age</th>\n",
       "      <th>SibSp</th>\n",
       "      <th>Parch</th>\n",
       "      <th>Fare</th>\n",
       "    </tr>\n",
       "  </thead>\n",
       "  <tbody>\n",
       "    <tr>\n",
       "      <th>Survived</th>\n",
       "      <td>1.000000</td>\n",
       "      <td>-0.338481</td>\n",
       "      <td>-0.077221</td>\n",
       "      <td>-0.035322</td>\n",
       "      <td>0.081629</td>\n",
       "      <td>0.257307</td>\n",
       "    </tr>\n",
       "    <tr>\n",
       "      <th>Pclass</th>\n",
       "      <td>-0.338481</td>\n",
       "      <td>1.000000</td>\n",
       "      <td>-0.369226</td>\n",
       "      <td>0.083081</td>\n",
       "      <td>0.018443</td>\n",
       "      <td>-0.549500</td>\n",
       "    </tr>\n",
       "    <tr>\n",
       "      <th>Age</th>\n",
       "      <td>-0.077221</td>\n",
       "      <td>-0.369226</td>\n",
       "      <td>1.000000</td>\n",
       "      <td>-0.308247</td>\n",
       "      <td>-0.189119</td>\n",
       "      <td>0.096067</td>\n",
       "    </tr>\n",
       "    <tr>\n",
       "      <th>SibSp</th>\n",
       "      <td>-0.035322</td>\n",
       "      <td>0.083081</td>\n",
       "      <td>-0.308247</td>\n",
       "      <td>1.000000</td>\n",
       "      <td>0.414838</td>\n",
       "      <td>0.159651</td>\n",
       "    </tr>\n",
       "    <tr>\n",
       "      <th>Parch</th>\n",
       "      <td>0.081629</td>\n",
       "      <td>0.018443</td>\n",
       "      <td>-0.189119</td>\n",
       "      <td>0.414838</td>\n",
       "      <td>1.000000</td>\n",
       "      <td>0.216225</td>\n",
       "    </tr>\n",
       "    <tr>\n",
       "      <th>Fare</th>\n",
       "      <td>0.257307</td>\n",
       "      <td>-0.549500</td>\n",
       "      <td>0.096067</td>\n",
       "      <td>0.159651</td>\n",
       "      <td>0.216225</td>\n",
       "      <td>1.000000</td>\n",
       "    </tr>\n",
       "  </tbody>\n",
       "</table>\n",
       "</div>"
      ],
      "text/plain": [
       "          Survived    Pclass       Age     SibSp     Parch      Fare\n",
       "Survived  1.000000 -0.338481 -0.077221 -0.035322  0.081629  0.257307\n",
       "Pclass   -0.338481  1.000000 -0.369226  0.083081  0.018443 -0.549500\n",
       "Age      -0.077221 -0.369226  1.000000 -0.308247 -0.189119  0.096067\n",
       "SibSp    -0.035322  0.083081 -0.308247  1.000000  0.414838  0.159651\n",
       "Parch     0.081629  0.018443 -0.189119  0.414838  1.000000  0.216225\n",
       "Fare      0.257307 -0.549500  0.096067  0.159651  0.216225  1.000000"
      ]
     },
     "execution_count": 10,
     "metadata": {},
     "output_type": "execute_result"
    }
   ],
   "source": [
    "# train, test의 Age 채우기\n",
    "# 다른 컬럼 간의 상관관계를 통해서 결측치를 채워보자\n",
    "# Age과 다른 컬럼 간의 상관관계를 알아보자\n",
    "# corr : 상관관계 알아보기\n",
    "# 절대값이 1에 가까울 수록 두 컬럼 간의 상관관계가 높다.\n",
    "train.corr()"
   ]
  },
  {
   "cell_type": "code",
   "execution_count": 11,
   "metadata": {},
   "outputs": [],
   "source": [
    "# Age - 객실등급(Pclass), 성별(Sex)을 통해 결측치를 채움\n",
    "pt1 = train.pivot_table(values = 'Age', # 궁금한 값\n",
    "                 index = ['Pclass', 'Sex'], # 기준값 (기준값에는 결측치가 존재하면 안된다!)\n",
    "                 aggfunc = 'mean') # 출력할 값 = 평균(mean)"
   ]
  },
  {
   "cell_type": "code",
   "execution_count": 12,
   "metadata": {
    "scrolled": true
   },
   "outputs": [
    {
     "data": {
      "text/plain": [
       "Age    21.75\n",
       "Name: (3, female), dtype: float64"
      ]
     },
     "execution_count": 12,
     "metadata": {},
     "output_type": "execute_result"
    }
   ],
   "source": [
    "# 인덱스 두 개 입력\n",
    "pt1.loc[3,'female']"
   ]
  },
  {
   "cell_type": "code",
   "execution_count": 13,
   "metadata": {},
   "outputs": [],
   "source": [
    "# apply : 행 / 열 단위로 작업을 할 때 사용\n",
    "# np.isnan : 결측치면 : Tarue, 결측치가 아니면 : False\n",
    "# astype : Series의 타입 변경"
   ]
  },
  {
   "cell_type": "code",
   "execution_count": 14,
   "metadata": {
    "scrolled": true
   },
   "outputs": [
    {
     "data": {
      "text/plain": [
       "Survived                          0\n",
       "Pclass                            3\n",
       "Name        Braund, Mr. Owen Harris\n",
       "Sex                            male\n",
       "Age                              22\n",
       "SibSp                             1\n",
       "Parch                             0\n",
       "Ticket                    A/5 21171\n",
       "Fare                           7.25\n",
       "Cabin                           NaN\n",
       "Embarked                          S\n",
       "Name: 1, dtype: object"
      ]
     },
     "execution_count": 14,
     "metadata": {},
     "output_type": "execute_result"
    }
   ],
   "source": [
    "train.iloc[0, : ]"
   ]
  },
  {
   "cell_type": "code",
   "execution_count": 15,
   "metadata": {},
   "outputs": [],
   "source": [
    "def fill_age(data):\n",
    "    # 나이가 결측치인지 아닌지\n",
    "    # 나이가 결측치라면 pt1 값을 가져오고\n",
    "    if np.isnan(data['Age']):\n",
    "        return pt1.loc[data['Pclass'], data['Sex']][0]\n",
    "    # 나이가 결측치가 아니라면 그 값을 그대로 사용\n",
    "    else:\n",
    "        return data['Age']"
   ]
  },
  {
   "cell_type": "code",
   "execution_count": 16,
   "metadata": {},
   "outputs": [],
   "source": [
    "train['Age'] = train.apply(fill_age, axis = 1).astype('int')"
   ]
  },
  {
   "cell_type": "code",
   "execution_count": 17,
   "metadata": {},
   "outputs": [],
   "source": [
    "# axis = 1 행 단위로 작업하겠다.\n",
    "# train에 있는 행을 하나씩 출력해서 fill_age함수에 적용"
   ]
  },
  {
   "cell_type": "code",
   "execution_count": 18,
   "metadata": {
    "scrolled": true
   },
   "outputs": [
    {
     "name": "stdout",
     "output_type": "stream",
     "text": [
      "<class 'pandas.core.frame.DataFrame'>\n",
      "Int64Index: 891 entries, 1 to 891\n",
      "Data columns (total 11 columns):\n",
      " #   Column    Non-Null Count  Dtype  \n",
      "---  ------    --------------  -----  \n",
      " 0   Survived  891 non-null    int64  \n",
      " 1   Pclass    891 non-null    int64  \n",
      " 2   Name      891 non-null    object \n",
      " 3   Sex       891 non-null    object \n",
      " 4   Age       891 non-null    int32  \n",
      " 5   SibSp     891 non-null    int64  \n",
      " 6   Parch     891 non-null    int64  \n",
      " 7   Ticket    891 non-null    object \n",
      " 8   Fare      891 non-null    float64\n",
      " 9   Cabin     204 non-null    object \n",
      " 10  Embarked  891 non-null    object \n",
      "dtypes: float64(1), int32(1), int64(4), object(5)\n",
      "memory usage: 80.1+ KB\n"
     ]
    }
   ],
   "source": [
    "train.info()"
   ]
  },
  {
   "cell_type": "code",
   "execution_count": 19,
   "metadata": {
    "scrolled": true
   },
   "outputs": [
    {
     "name": "stdout",
     "output_type": "stream",
     "text": [
      "<class 'pandas.core.frame.DataFrame'>\n",
      "Int64Index: 418 entries, 892 to 1309\n",
      "Data columns (total 10 columns):\n",
      " #   Column    Non-Null Count  Dtype  \n",
      "---  ------    --------------  -----  \n",
      " 0   Pclass    418 non-null    int64  \n",
      " 1   Name      418 non-null    object \n",
      " 2   Sex       418 non-null    object \n",
      " 3   Age       332 non-null    float64\n",
      " 4   SibSp     418 non-null    int64  \n",
      " 5   Parch     418 non-null    int64  \n",
      " 6   Ticket    418 non-null    object \n",
      " 7   Fare      417 non-null    float64\n",
      " 8   Cabin     91 non-null     object \n",
      " 9   Embarked  418 non-null    object \n",
      "dtypes: float64(2), int64(3), object(5)\n",
      "memory usage: 35.9+ KB\n"
     ]
    }
   ],
   "source": [
    "test.info()"
   ]
  },
  {
   "cell_type": "code",
   "execution_count": 20,
   "metadata": {},
   "outputs": [],
   "source": [
    "test['Age'] = test.apply(fill_age, axis = 1).astype('int')"
   ]
  },
  {
   "cell_type": "code",
   "execution_count": 21,
   "metadata": {
    "scrolled": true
   },
   "outputs": [
    {
     "name": "stdout",
     "output_type": "stream",
     "text": [
      "<class 'pandas.core.frame.DataFrame'>\n",
      "Int64Index: 418 entries, 892 to 1309\n",
      "Data columns (total 10 columns):\n",
      " #   Column    Non-Null Count  Dtype  \n",
      "---  ------    --------------  -----  \n",
      " 0   Pclass    418 non-null    int64  \n",
      " 1   Name      418 non-null    object \n",
      " 2   Sex       418 non-null    object \n",
      " 3   Age       418 non-null    int32  \n",
      " 4   SibSp     418 non-null    int64  \n",
      " 5   Parch     418 non-null    int64  \n",
      " 6   Ticket    418 non-null    object \n",
      " 7   Fare      417 non-null    float64\n",
      " 8   Cabin     91 non-null     object \n",
      " 9   Embarked  418 non-null    object \n",
      "dtypes: float64(1), int32(1), int64(3), object(5)\n",
      "memory usage: 34.3+ KB\n"
     ]
    }
   ],
   "source": [
    "test.info()"
   ]
  },
  {
   "cell_type": "code",
   "execution_count": 22,
   "metadata": {
    "scrolled": true
   },
   "outputs": [
    {
     "data": {
      "text/html": [
       "<div>\n",
       "<style scoped>\n",
       "    .dataframe tbody tr th:only-of-type {\n",
       "        vertical-align: middle;\n",
       "    }\n",
       "\n",
       "    .dataframe tbody tr th {\n",
       "        vertical-align: top;\n",
       "    }\n",
       "\n",
       "    .dataframe thead th {\n",
       "        text-align: right;\n",
       "    }\n",
       "</style>\n",
       "<table border=\"1\" class=\"dataframe\">\n",
       "  <thead>\n",
       "    <tr style=\"text-align: right;\">\n",
       "      <th></th>\n",
       "      <th>Pclass</th>\n",
       "      <th>Name</th>\n",
       "      <th>Sex</th>\n",
       "      <th>Age</th>\n",
       "      <th>SibSp</th>\n",
       "      <th>Parch</th>\n",
       "      <th>Ticket</th>\n",
       "      <th>Fare</th>\n",
       "      <th>Cabin</th>\n",
       "      <th>Embarked</th>\n",
       "    </tr>\n",
       "    <tr>\n",
       "      <th>PassengerId</th>\n",
       "      <th></th>\n",
       "      <th></th>\n",
       "      <th></th>\n",
       "      <th></th>\n",
       "      <th></th>\n",
       "      <th></th>\n",
       "      <th></th>\n",
       "      <th></th>\n",
       "      <th></th>\n",
       "      <th></th>\n",
       "    </tr>\n",
       "  </thead>\n",
       "  <tbody>\n",
       "    <tr>\n",
       "      <th>892</th>\n",
       "      <td>3</td>\n",
       "      <td>Kelly, Mr. James</td>\n",
       "      <td>male</td>\n",
       "      <td>34</td>\n",
       "      <td>0</td>\n",
       "      <td>0</td>\n",
       "      <td>330911</td>\n",
       "      <td>7.8292</td>\n",
       "      <td>32</td>\n",
       "      <td>Q</td>\n",
       "    </tr>\n",
       "    <tr>\n",
       "      <th>893</th>\n",
       "      <td>3</td>\n",
       "      <td>Wilkes, Mrs. James (Ellen Needs)</td>\n",
       "      <td>female</td>\n",
       "      <td>47</td>\n",
       "      <td>1</td>\n",
       "      <td>0</td>\n",
       "      <td>363272</td>\n",
       "      <td>7.0000</td>\n",
       "      <td>32</td>\n",
       "      <td>S</td>\n",
       "    </tr>\n",
       "    <tr>\n",
       "      <th>894</th>\n",
       "      <td>2</td>\n",
       "      <td>Myles, Mr. Thomas Francis</td>\n",
       "      <td>male</td>\n",
       "      <td>62</td>\n",
       "      <td>0</td>\n",
       "      <td>0</td>\n",
       "      <td>240276</td>\n",
       "      <td>9.6875</td>\n",
       "      <td>32</td>\n",
       "      <td>Q</td>\n",
       "    </tr>\n",
       "    <tr>\n",
       "      <th>895</th>\n",
       "      <td>3</td>\n",
       "      <td>Wirz, Mr. Albert</td>\n",
       "      <td>male</td>\n",
       "      <td>27</td>\n",
       "      <td>0</td>\n",
       "      <td>0</td>\n",
       "      <td>315154</td>\n",
       "      <td>8.6625</td>\n",
       "      <td>32</td>\n",
       "      <td>S</td>\n",
       "    </tr>\n",
       "    <tr>\n",
       "      <th>896</th>\n",
       "      <td>3</td>\n",
       "      <td>Hirvonen, Mrs. Alexander (Helga E Lindqvist)</td>\n",
       "      <td>female</td>\n",
       "      <td>22</td>\n",
       "      <td>1</td>\n",
       "      <td>1</td>\n",
       "      <td>3101298</td>\n",
       "      <td>12.2875</td>\n",
       "      <td>32</td>\n",
       "      <td>S</td>\n",
       "    </tr>\n",
       "    <tr>\n",
       "      <th>...</th>\n",
       "      <td>...</td>\n",
       "      <td>...</td>\n",
       "      <td>...</td>\n",
       "      <td>...</td>\n",
       "      <td>...</td>\n",
       "      <td>...</td>\n",
       "      <td>...</td>\n",
       "      <td>...</td>\n",
       "      <td>...</td>\n",
       "      <td>...</td>\n",
       "    </tr>\n",
       "    <tr>\n",
       "      <th>1305</th>\n",
       "      <td>3</td>\n",
       "      <td>Spector, Mr. Woolf</td>\n",
       "      <td>male</td>\n",
       "      <td>26</td>\n",
       "      <td>0</td>\n",
       "      <td>0</td>\n",
       "      <td>A.5. 3236</td>\n",
       "      <td>8.0500</td>\n",
       "      <td>32</td>\n",
       "      <td>S</td>\n",
       "    </tr>\n",
       "    <tr>\n",
       "      <th>1306</th>\n",
       "      <td>1</td>\n",
       "      <td>Oliva y Ocana, Dona. Fermina</td>\n",
       "      <td>female</td>\n",
       "      <td>39</td>\n",
       "      <td>0</td>\n",
       "      <td>0</td>\n",
       "      <td>PC 17758</td>\n",
       "      <td>108.9000</td>\n",
       "      <td>C105</td>\n",
       "      <td>C</td>\n",
       "    </tr>\n",
       "    <tr>\n",
       "      <th>1307</th>\n",
       "      <td>3</td>\n",
       "      <td>Saether, Mr. Simon Sivertsen</td>\n",
       "      <td>male</td>\n",
       "      <td>38</td>\n",
       "      <td>0</td>\n",
       "      <td>0</td>\n",
       "      <td>SOTON/O.Q. 3101262</td>\n",
       "      <td>7.2500</td>\n",
       "      <td>32</td>\n",
       "      <td>S</td>\n",
       "    </tr>\n",
       "    <tr>\n",
       "      <th>1308</th>\n",
       "      <td>3</td>\n",
       "      <td>Ware, Mr. Frederick</td>\n",
       "      <td>male</td>\n",
       "      <td>26</td>\n",
       "      <td>0</td>\n",
       "      <td>0</td>\n",
       "      <td>359309</td>\n",
       "      <td>8.0500</td>\n",
       "      <td>32</td>\n",
       "      <td>S</td>\n",
       "    </tr>\n",
       "    <tr>\n",
       "      <th>1309</th>\n",
       "      <td>3</td>\n",
       "      <td>Peter, Master. Michael J</td>\n",
       "      <td>male</td>\n",
       "      <td>26</td>\n",
       "      <td>1</td>\n",
       "      <td>1</td>\n",
       "      <td>2668</td>\n",
       "      <td>22.3583</td>\n",
       "      <td>32</td>\n",
       "      <td>C</td>\n",
       "    </tr>\n",
       "  </tbody>\n",
       "</table>\n",
       "<p>418 rows × 10 columns</p>\n",
       "</div>"
      ],
      "text/plain": [
       "             Pclass                                          Name     Sex  \\\n",
       "PassengerId                                                                 \n",
       "892               3                              Kelly, Mr. James    male   \n",
       "893               3              Wilkes, Mrs. James (Ellen Needs)  female   \n",
       "894               2                     Myles, Mr. Thomas Francis    male   \n",
       "895               3                              Wirz, Mr. Albert    male   \n",
       "896               3  Hirvonen, Mrs. Alexander (Helga E Lindqvist)  female   \n",
       "...             ...                                           ...     ...   \n",
       "1305              3                            Spector, Mr. Woolf    male   \n",
       "1306              1                  Oliva y Ocana, Dona. Fermina  female   \n",
       "1307              3                  Saether, Mr. Simon Sivertsen    male   \n",
       "1308              3                           Ware, Mr. Frederick    male   \n",
       "1309              3                      Peter, Master. Michael J    male   \n",
       "\n",
       "             Age  SibSp  Parch              Ticket      Fare Cabin Embarked  \n",
       "PassengerId                                                                  \n",
       "892           34      0      0              330911    7.8292    32        Q  \n",
       "893           47      1      0              363272    7.0000    32        S  \n",
       "894           62      0      0              240276    9.6875    32        Q  \n",
       "895           27      0      0              315154    8.6625    32        S  \n",
       "896           22      1      1             3101298   12.2875    32        S  \n",
       "...          ...    ...    ...                 ...       ...   ...      ...  \n",
       "1305          26      0      0           A.5. 3236    8.0500    32        S  \n",
       "1306          39      0      0            PC 17758  108.9000  C105        C  \n",
       "1307          38      0      0  SOTON/O.Q. 3101262    7.2500    32        S  \n",
       "1308          26      0      0              359309    8.0500    32        S  \n",
       "1309          26      1      1                2668   22.3583    32        C  \n",
       "\n",
       "[418 rows x 10 columns]"
      ]
     },
     "execution_count": 22,
     "metadata": {},
     "output_type": "execute_result"
    }
   ],
   "source": [
    "# test의 Fare 채우기\n",
    "# 평균값\n",
    "# fillna 활용\n",
    "# 1. 결측치 제외하고 Fare값 출력하기\n",
    "train['Fare'].mean()\n",
    "# 2. 출력한 값의 평균값 출력하기\n",
    "# 3. 출력한 평균값으로 결측치 채우기\n",
    "test.fillna(32)"
   ]
  },
  {
   "cell_type": "code",
   "execution_count": 23,
   "metadata": {},
   "outputs": [
    {
     "data": {
      "text/html": [
       "<div>\n",
       "<style scoped>\n",
       "    .dataframe tbody tr th:only-of-type {\n",
       "        vertical-align: middle;\n",
       "    }\n",
       "\n",
       "    .dataframe tbody tr th {\n",
       "        vertical-align: top;\n",
       "    }\n",
       "\n",
       "    .dataframe thead th {\n",
       "        text-align: right;\n",
       "    }\n",
       "</style>\n",
       "<table border=\"1\" class=\"dataframe\">\n",
       "  <thead>\n",
       "    <tr style=\"text-align: right;\">\n",
       "      <th></th>\n",
       "      <th>Survived</th>\n",
       "      <th>Pclass</th>\n",
       "      <th>Age</th>\n",
       "      <th>SibSp</th>\n",
       "      <th>Parch</th>\n",
       "      <th>Fare</th>\n",
       "    </tr>\n",
       "  </thead>\n",
       "  <tbody>\n",
       "    <tr>\n",
       "      <th>Survived</th>\n",
       "      <td>1.000000</td>\n",
       "      <td>-0.338481</td>\n",
       "      <td>-0.066538</td>\n",
       "      <td>-0.035322</td>\n",
       "      <td>0.081629</td>\n",
       "      <td>0.257307</td>\n",
       "    </tr>\n",
       "    <tr>\n",
       "      <th>Pclass</th>\n",
       "      <td>-0.338481</td>\n",
       "      <td>1.000000</td>\n",
       "      <td>-0.410104</td>\n",
       "      <td>0.083081</td>\n",
       "      <td>0.018443</td>\n",
       "      <td>-0.549500</td>\n",
       "    </tr>\n",
       "    <tr>\n",
       "      <th>Age</th>\n",
       "      <td>-0.066538</td>\n",
       "      <td>-0.410104</td>\n",
       "      <td>1.000000</td>\n",
       "      <td>-0.251439</td>\n",
       "      <td>-0.178855</td>\n",
       "      <td>0.120173</td>\n",
       "    </tr>\n",
       "    <tr>\n",
       "      <th>SibSp</th>\n",
       "      <td>-0.035322</td>\n",
       "      <td>0.083081</td>\n",
       "      <td>-0.251439</td>\n",
       "      <td>1.000000</td>\n",
       "      <td>0.414838</td>\n",
       "      <td>0.159651</td>\n",
       "    </tr>\n",
       "    <tr>\n",
       "      <th>Parch</th>\n",
       "      <td>0.081629</td>\n",
       "      <td>0.018443</td>\n",
       "      <td>-0.178855</td>\n",
       "      <td>0.414838</td>\n",
       "      <td>1.000000</td>\n",
       "      <td>0.216225</td>\n",
       "    </tr>\n",
       "    <tr>\n",
       "      <th>Fare</th>\n",
       "      <td>0.257307</td>\n",
       "      <td>-0.549500</td>\n",
       "      <td>0.120173</td>\n",
       "      <td>0.159651</td>\n",
       "      <td>0.216225</td>\n",
       "      <td>1.000000</td>\n",
       "    </tr>\n",
       "  </tbody>\n",
       "</table>\n",
       "</div>"
      ],
      "text/plain": [
       "          Survived    Pclass       Age     SibSp     Parch      Fare\n",
       "Survived  1.000000 -0.338481 -0.066538 -0.035322  0.081629  0.257307\n",
       "Pclass   -0.338481  1.000000 -0.410104  0.083081  0.018443 -0.549500\n",
       "Age      -0.066538 -0.410104  1.000000 -0.251439 -0.178855  0.120173\n",
       "SibSp    -0.035322  0.083081 -0.251439  1.000000  0.414838  0.159651\n",
       "Parch     0.081629  0.018443 -0.178855  0.414838  1.000000  0.216225\n",
       "Fare      0.257307 -0.549500  0.120173  0.159651  0.216225  1.000000"
      ]
     },
     "execution_count": 23,
     "metadata": {},
     "output_type": "execute_result"
    }
   ],
   "source": [
    "# 피벗테이블을 활용해서 Fare 결측치 채우기\n",
    "train.corr()"
   ]
  },
  {
   "cell_type": "code",
   "execution_count": 24,
   "metadata": {},
   "outputs": [],
   "source": [
    "# test의 Fare 결측치 채우기\n",
    "# 객실등급(Pclass), 성별(Sex)을 기준으로 사용"
   ]
  },
  {
   "cell_type": "code",
   "execution_count": 25,
   "metadata": {},
   "outputs": [],
   "source": [
    "pt2 = train.pivot_table(values = 'Fare', # 궁금한 값\n",
    "                 index = ['Pclass', 'Sex'], # 기준값 (기준값에는 결측치가 존재하면 안된다!)\n",
    "                 aggfunc = 'mean') # 출력할 값 = 평균(mean)"
   ]
  },
  {
   "cell_type": "code",
   "execution_count": 26,
   "metadata": {},
   "outputs": [],
   "source": [
    "def fill_Fare(data):\n",
    "    # 나이가 결측치인지 아닌지\n",
    "    # 나이가 결측치라면 pt1 값을 가져오고\n",
    "    if np.isnan(data['Fare']):\n",
    "        return pt1.loc[data['Pclass'], data['Sex']][0]\n",
    "    # 나이가 결측치가 아니라면 그 값을 그대로 사용\n",
    "    else:\n",
    "        return data['Fare']"
   ]
  },
  {
   "cell_type": "code",
   "execution_count": 27,
   "metadata": {
    "scrolled": true
   },
   "outputs": [
    {
     "data": {
      "text/html": [
       "<div>\n",
       "<style scoped>\n",
       "    .dataframe tbody tr th:only-of-type {\n",
       "        vertical-align: middle;\n",
       "    }\n",
       "\n",
       "    .dataframe tbody tr th {\n",
       "        vertical-align: top;\n",
       "    }\n",
       "\n",
       "    .dataframe thead th {\n",
       "        text-align: right;\n",
       "    }\n",
       "</style>\n",
       "<table border=\"1\" class=\"dataframe\">\n",
       "  <thead>\n",
       "    <tr style=\"text-align: right;\">\n",
       "      <th></th>\n",
       "      <th>Pclass</th>\n",
       "      <th>Name</th>\n",
       "      <th>Sex</th>\n",
       "      <th>Age</th>\n",
       "      <th>SibSp</th>\n",
       "      <th>Parch</th>\n",
       "      <th>Ticket</th>\n",
       "      <th>Fare</th>\n",
       "      <th>Cabin</th>\n",
       "      <th>Embarked</th>\n",
       "    </tr>\n",
       "    <tr>\n",
       "      <th>PassengerId</th>\n",
       "      <th></th>\n",
       "      <th></th>\n",
       "      <th></th>\n",
       "      <th></th>\n",
       "      <th></th>\n",
       "      <th></th>\n",
       "      <th></th>\n",
       "      <th></th>\n",
       "      <th></th>\n",
       "      <th></th>\n",
       "    </tr>\n",
       "  </thead>\n",
       "  <tbody>\n",
       "    <tr>\n",
       "      <th>1044</th>\n",
       "      <td>3</td>\n",
       "      <td>Storey, Mr. Thomas</td>\n",
       "      <td>male</td>\n",
       "      <td>60</td>\n",
       "      <td>0</td>\n",
       "      <td>0</td>\n",
       "      <td>3701</td>\n",
       "      <td>NaN</td>\n",
       "      <td>NaN</td>\n",
       "      <td>S</td>\n",
       "    </tr>\n",
       "  </tbody>\n",
       "</table>\n",
       "</div>"
      ],
      "text/plain": [
       "             Pclass                Name   Sex  Age  SibSp  Parch Ticket  Fare  \\\n",
       "PassengerId                                                                     \n",
       "1044              3  Storey, Mr. Thomas  male   60      0      0   3701   NaN   \n",
       "\n",
       "            Cabin Embarked  \n",
       "PassengerId                 \n",
       "1044          NaN        S  "
      ]
     },
     "execution_count": 27,
     "metadata": {},
     "output_type": "execute_result"
    }
   ],
   "source": [
    "# Fare에 있는 결측치 행을 출력하기 위해서 불리언 인덱싱\n",
    "test[test['Fare'].isnull()]"
   ]
  },
  {
   "cell_type": "code",
   "execution_count": 28,
   "metadata": {},
   "outputs": [],
   "source": [
    "test['Fare'] = test['Fare'].fillna(12.6)"
   ]
  },
  {
   "cell_type": "code",
   "execution_count": 29,
   "metadata": {
    "scrolled": true
   },
   "outputs": [
    {
     "name": "stdout",
     "output_type": "stream",
     "text": [
      "<class 'pandas.core.frame.DataFrame'>\n",
      "Int64Index: 418 entries, 892 to 1309\n",
      "Data columns (total 10 columns):\n",
      " #   Column    Non-Null Count  Dtype  \n",
      "---  ------    --------------  -----  \n",
      " 0   Pclass    418 non-null    int64  \n",
      " 1   Name      418 non-null    object \n",
      " 2   Sex       418 non-null    object \n",
      " 3   Age       418 non-null    int32  \n",
      " 4   SibSp     418 non-null    int64  \n",
      " 5   Parch     418 non-null    int64  \n",
      " 6   Ticket    418 non-null    object \n",
      " 7   Fare      418 non-null    float64\n",
      " 8   Cabin     91 non-null     object \n",
      " 9   Embarked  418 non-null    object \n",
      "dtypes: float64(1), int32(1), int64(3), object(5)\n",
      "memory usage: 34.3+ KB\n"
     ]
    }
   ],
   "source": [
    "test.info()"
   ]
  },
  {
   "cell_type": "code",
   "execution_count": 30,
   "metadata": {
    "scrolled": true
   },
   "outputs": [
    {
     "data": {
      "text/plain": [
       "array([nan, 'C85', 'C123', 'E46', 'G6', 'C103', 'D56', 'A6',\n",
       "       'C23 C25 C27', 'B78', 'D33', 'B30', 'C52', 'B28', 'C83', 'F33',\n",
       "       'F G73', 'E31', 'A5', 'D10 D12', 'D26', 'C110', 'B58 B60', 'E101',\n",
       "       'F E69', 'D47', 'B86', 'F2', 'C2', 'E33', 'B19', 'A7', 'C49', 'F4',\n",
       "       'A32', 'B4', 'B80', 'A31', 'D36', 'D15', 'C93', 'C78', 'D35',\n",
       "       'C87', 'B77', 'E67', 'B94', 'C125', 'C99', 'C118', 'D7', 'A19',\n",
       "       'B49', 'D', 'C22 C26', 'C106', 'C65', 'E36', 'C54',\n",
       "       'B57 B59 B63 B66', 'C7', 'E34', 'C32', 'B18', 'C124', 'C91', 'E40',\n",
       "       'T', 'C128', 'D37', 'B35', 'E50', 'C82', 'B96 B98', 'E10', 'E44',\n",
       "       'A34', 'C104', 'C111', 'C92', 'E38', 'D21', 'E12', 'E63', 'A14',\n",
       "       'B37', 'C30', 'D20', 'B79', 'E25', 'D46', 'B73', 'C95', 'B38',\n",
       "       'B39', 'B22', 'C86', 'C70', 'A16', 'C101', 'C68', 'A10', 'E68',\n",
       "       'B41', 'A20', 'D19', 'D50', 'D9', 'A23', 'B50', 'A26', 'D48',\n",
       "       'E58', 'C126', 'B71', 'B51 B53 B55', 'D49', 'B5', 'B20', 'F G63',\n",
       "       'C62 C64', 'E24', 'C90', 'C45', 'E8', 'B101', 'D45', 'C46', 'D30',\n",
       "       'E121', 'D11', 'E77', 'F38', 'B3', 'D6', 'B82 B84', 'D17', 'A36',\n",
       "       'B102', 'B69', 'E49', 'C47', 'D28', 'E17', 'A24', 'C50', 'B42',\n",
       "       'C148'], dtype=object)"
      ]
     },
     "execution_count": 30,
     "metadata": {},
     "output_type": "execute_result"
    }
   ],
   "source": [
    "# train, test의 Cabin 결측치 채우기\n",
    "train['Cabin'].unique()"
   ]
  },
  {
   "cell_type": "code",
   "execution_count": 31,
   "metadata": {},
   "outputs": [],
   "source": [
    "# Cabin\n",
    "# 층별로 구분하기"
   ]
  },
  {
   "cell_type": "code",
   "execution_count": 32,
   "metadata": {
    "scrolled": true
   },
   "outputs": [],
   "source": [
    "# train['Cabin'] 컬럼에 각 값을 인덱싱\n",
    "# 인덱싱을 하기 위해선 값들이 문자열이 되어야함 -> str\n",
    "# 문자열의 0번 인덱스를 가져오겠다 -> [0]\n",
    "train['Cabin'] = train['Cabin'].str[0]\n",
    "test['Cabin'] = test['Cabin'].str[0]\n",
    "# 모든 값을 층별로 구분"
   ]
  },
  {
   "cell_type": "code",
   "execution_count": 33,
   "metadata": {},
   "outputs": [],
   "source": [
    "# 결측치 자체를 하나의 데이터로 활용\n",
    "# 죽은 사람에겐 정보를 수집할 수 없음\n",
    "# 'Cabin컬럼의 결측치가 위의 이유일 것이다'\n",
    "# 라는 가설을 세우고 모든 결측치를 하나의 문자로 채움\n",
    "train['Cabin'] = train['Cabin'].fillna('M')\n",
    "test['Cabin'] = test['Cabin'].fillna('M')"
   ]
  },
  {
   "cell_type": "code",
   "execution_count": 34,
   "metadata": {
    "scrolled": true
   },
   "outputs": [
    {
     "name": "stdout",
     "output_type": "stream",
     "text": [
      "<class 'pandas.core.frame.DataFrame'>\n",
      "Int64Index: 891 entries, 1 to 891\n",
      "Data columns (total 11 columns):\n",
      " #   Column    Non-Null Count  Dtype  \n",
      "---  ------    --------------  -----  \n",
      " 0   Survived  891 non-null    int64  \n",
      " 1   Pclass    891 non-null    int64  \n",
      " 2   Name      891 non-null    object \n",
      " 3   Sex       891 non-null    object \n",
      " 4   Age       891 non-null    int32  \n",
      " 5   SibSp     891 non-null    int64  \n",
      " 6   Parch     891 non-null    int64  \n",
      " 7   Ticket    891 non-null    object \n",
      " 8   Fare      891 non-null    float64\n",
      " 9   Cabin     891 non-null    object \n",
      " 10  Embarked  891 non-null    object \n",
      "dtypes: float64(1), int32(1), int64(4), object(5)\n",
      "memory usage: 80.1+ KB\n"
     ]
    }
   ],
   "source": [
    "train.info()"
   ]
  },
  {
   "cell_type": "code",
   "execution_count": 35,
   "metadata": {
    "scrolled": true
   },
   "outputs": [
    {
     "name": "stdout",
     "output_type": "stream",
     "text": [
      "<class 'pandas.core.frame.DataFrame'>\n",
      "Int64Index: 418 entries, 892 to 1309\n",
      "Data columns (total 10 columns):\n",
      " #   Column    Non-Null Count  Dtype  \n",
      "---  ------    --------------  -----  \n",
      " 0   Pclass    418 non-null    int64  \n",
      " 1   Name      418 non-null    object \n",
      " 2   Sex       418 non-null    object \n",
      " 3   Age       418 non-null    int32  \n",
      " 4   SibSp     418 non-null    int64  \n",
      " 5   Parch     418 non-null    int64  \n",
      " 6   Ticket    418 non-null    object \n",
      " 7   Fare      418 non-null    float64\n",
      " 8   Cabin     418 non-null    object \n",
      " 9   Embarked  418 non-null    object \n",
      "dtypes: float64(1), int32(1), int64(3), object(5)\n",
      "memory usage: 34.3+ KB\n"
     ]
    }
   ],
   "source": [
    "test.info()"
   ]
  },
  {
   "cell_type": "markdown",
   "metadata": {},
   "source": [
    " # 4. 탐색적 데이터 분석\n",
    " - 시각화를 통해서 칼럼을 분석"
   ]
  },
  {
   "cell_type": "code",
   "execution_count": 36,
   "metadata": {},
   "outputs": [
    {
     "data": {
      "text/plain": [
       "<AxesSubplot:xlabel='Cabin', ylabel='count'>"
      ]
     },
     "execution_count": 36,
     "metadata": {},
     "output_type": "execute_result"
    },
    {
     "data": {
      "image/png": "[encoded data removed]",
      "text/plain": [
       "<Figure size 432x288 with 1 Axes>"
      ]
     },
     "metadata": {
      "needs_background": "light"
     },
     "output_type": "display_data"
    }
   ],
   "source": [
    "# Cabin\n",
    "sns.countplot(data=train, # 사용할 데이터\n",
    "              x='Cabin', # X축으로 사용할 컬럼\n",
    "              hue='Survived') # count에 대한 기준"
   ]
  },
  {
   "cell_type": "markdown",
   "metadata": {},
   "source": [
    "- M에서 상대적으로 많은 사람이 죽었다.\n",
    "- 위에서 세운 가설이 어느 정도 성립\n",
    "- 생존여부 판단에 활용해도 괜찮겠다."
   ]
  },
  {
   "cell_type": "code",
   "execution_count": 37,
   "metadata": {},
   "outputs": [
    {
     "data": {
      "text/plain": [
       "<AxesSubplot:xlabel='Pclass', ylabel='count'>"
      ]
     },
     "execution_count": 37,
     "metadata": {},
     "output_type": "execute_result"
    },
    {
     "data": {
      "image/png": "[encoded data removed]",
      "text/plain": [
       "<Figure size 432x288 with 1 Axes>"
      ]
     },
     "metadata": {
      "needs_background": "light"
     },
     "output_type": "display_data"
    }
   ],
   "source": [
    "# Pclass\n",
    "sns.countplot(data=train,\n",
    "             x='Pclass',\n",
    "             hue='Survived')"
   ]
  },
  {
   "cell_type": "markdown",
   "metadata": {},
   "source": [
    "- 객실등급(Pclass)컬럼이 생존에 영향을 끼쳤다.\n",
    "- 3등급이 생존에 많은 차이를 보인다."
   ]
  },
  {
   "cell_type": "code",
   "execution_count": 38,
   "metadata": {},
   "outputs": [
    {
     "data": {
      "text/plain": [
       "<AxesSubplot:xlabel='Cabin', ylabel='count'>"
      ]
     },
     "execution_count": 38,
     "metadata": {},
     "output_type": "execute_result"
    },
    {
     "data": {
      "image/png": "[encoded data removed]",
      "text/plain": [
       "<Figure size 432x288 with 1 Axes>"
      ]
     },
     "metadata": {
      "needs_background": "light"
     },
     "output_type": "display_data"
    }
   ],
   "source": [
    "# Pclass Cabin 컬럼 시각화\n",
    "sns.countplot(data = train,\n",
    "             x = 'Cabin',\n",
    "             hue = 'Pclass')"
   ]
  },
  {
   "cell_type": "markdown",
   "metadata": {},
   "source": [
    "- Cabin과 Pclass간의 상관이 어느 정도 있다.\n",
    "- Cabin의 M값은 유의미한 결과를 도출했다."
   ]
  },
  {
   "cell_type": "code",
   "execution_count": 39,
   "metadata": {},
   "outputs": [
    {
     "data": {
      "text/plain": [
       "<AxesSubplot:xlabel='Embarked', ylabel='count'>"
      ]
     },
     "execution_count": 39,
     "metadata": {},
     "output_type": "execute_result"
    },
    {
     "data": {
      "image/png": "[encoded data removed]",
      "text/plain": [
       "<Figure size 432x288 with 1 Axes>"
      ]
     },
     "metadata": {
      "needs_background": "light"
     },
     "output_type": "display_data"
    }
   ],
   "source": [
    "# Embarked\n",
    "# 탑승 위치별 생존\n",
    "sns.countplot(data = train,\n",
    "             x = 'Embarked',\n",
    "             hue = 'Survived')"
   ]
  },
  {
   "cell_type": "markdown",
   "metadata": {},
   "source": [
    "- S(사우스햄튼)에서 탑승한 탑승객들은 많은 비율로 죽었다.\n",
    "- S의 경제력이 낮아서 낮은 등급의 객실을 타지 않았을까?"
   ]
  },
  {
   "cell_type": "code",
   "execution_count": 40,
   "metadata": {},
   "outputs": [
    {
     "data": {
      "text/plain": [
       "<AxesSubplot:xlabel='Sex', ylabel='Age'>"
      ]
     },
     "execution_count": 40,
     "metadata": {},
     "output_type": "execute_result"
    },
    {
     "data": {
      "image/png": "[encoded data removed]",
      "text/plain": [
       "<Figure size 1080x360 with 1 Axes>"
      ]
     },
     "metadata": {
      "needs_background": "light"
     },
     "output_type": "display_data"
    }
   ],
   "source": [
    "# Age\n",
    "# violinplot\n",
    "plt.figure(figsize = (15,5))\n",
    "sns.violinplot(data = train,\n",
    "              x = 'Sex',\n",
    "              y = 'Age',\n",
    "              hue = 'Survived',\n",
    "              split = True)"
   ]
  },
  {
   "cell_type": "markdown",
   "metadata": {},
   "source": [
    "- 20대 초반의 사람들이 가장 많다.\n",
    "- 어린 아이 중에서는 남자아이가 산 비율이 높다.\n",
    "- 남아선호사상같은 시대적 배경이 있지 않았을까?"
   ]
  },
  {
   "cell_type": "code",
   "execution_count": 41,
   "metadata": {},
   "outputs": [
    {
     "data": {
      "text/plain": [
       "<AxesSubplot:xlabel='Sex', ylabel='Fare'>"
      ]
     },
     "execution_count": 41,
     "metadata": {},
     "output_type": "execute_result"
    },
    {
     "data": {
      "image/png": "[encoded data removed]",
      "text/plain": [
       "<Figure size 1080x360 with 1 Axes>"
      ]
     },
     "metadata": {
      "needs_background": "light"
     },
     "output_type": "display_data"
    }
   ],
   "source": [
    "# Fare\n",
    "plt.figure(figsize = (15,5))\n",
    "sns.violinplot(data = train[train['Fare']>=100],\n",
    "              x = 'Sex',\n",
    "              y = 'Fare',\n",
    "              hue = 'Survived',\n",
    "              split = True)"
   ]
  },
  {
   "cell_type": "markdown",
   "metadata": {},
   "source": [
    "- 저렴한 객실에 승선한 사람들은 상대적으로 많이 죽었다."
   ]
  },
  {
   "cell_type": "code",
   "execution_count": 42,
   "metadata": {},
   "outputs": [
    {
     "data": {
      "text/plain": [
       "<AxesSubplot:xlabel='Family', ylabel='count'>"
      ]
     },
     "execution_count": 42,
     "metadata": {},
     "output_type": "execute_result"
    },
    {
     "data": {
      "image/png": "[encoded data removed]",
      "text/plain": [
       "<Figure size 432x288 with 1 Axes>"
      ]
     },
     "metadata": {
      "needs_background": "light"
     },
     "output_type": "display_data"
    }
   ],
   "source": [
    "# Parch, SibSp - 부모자식, 헝제자매\n",
    "# 가족\n",
    "# Family라는 새로운 특성을 생성\n",
    "# 같이 승선한 가족의 수\n",
    "# Family = Parch + SibSp + 1(본인)\n",
    "# countplot\n",
    "train['Family'] = train['Parch'] + train['SibSp'] + 1\n",
    "test['Family'] = test['Parch'] + test['SibSp'] + 1\n",
    "sns.countplot(data = train,\n",
    "             x = 'Family',\n",
    "             hue = 'Survived')"
   ]
  },
  {
   "cell_type": "code",
   "execution_count": 43,
   "metadata": {},
   "outputs": [],
   "source": [
    "# Family를 범주형으로 만들자\n",
    "# 1 : Alone\n",
    "# 2 ~ 4 : Small\n",
    "# 5 이상이면 : Large\n",
    "# pd.cut\n",
    "bins = [0 , 1 , 4 , 11] # 범주형의 범위 지정 위 그래프의 (1 ~ 11)\n",
    "labels = ['Alone', 'Small', 'Large'] # 범주형에 달아줄 이름\n",
    "train['Family'] = pd.cut(train['Family'], bins = bins, labels = labels)"
   ]
  },
  {
   "cell_type": "code",
   "execution_count": 44,
   "metadata": {},
   "outputs": [],
   "source": [
    "test['Family'] = pd.cut(test['Family'], bins = bins, labels = labels)"
   ]
  },
  {
   "cell_type": "code",
   "execution_count": 45,
   "metadata": {
    "scrolled": false
   },
   "outputs": [
    {
     "data": {
      "text/plain": [
       "Alone    537\n",
       "Small    292\n",
       "Large     62\n",
       "Name: Family, dtype: int64"
      ]
     },
     "execution_count": 45,
     "metadata": {},
     "output_type": "execute_result"
    }
   ],
   "source": [
    "train['Family'].value_counts()"
   ]
  },
  {
   "cell_type": "code",
   "execution_count": 46,
   "metadata": {
    "scrolled": true
   },
   "outputs": [
    {
     "data": {
      "text/plain": [
       "<AxesSubplot:xlabel='Family', ylabel='count'>"
      ]
     },
     "execution_count": 46,
     "metadata": {},
     "output_type": "execute_result"
    },
    {
     "data": {
      "image/png": "[encoded data removed]",
      "text/plain": [
       "<Figure size 432x288 with 1 Axes>"
      ]
     },
     "metadata": {
      "needs_background": "light"
     },
     "output_type": "display_data"
    }
   ],
   "source": [
    "sns.countplot(data = train,\n",
    "             x = 'Family',\n",
    "             hue = 'Survived')"
   ]
  },
  {
   "cell_type": "code",
   "execution_count": 47,
   "metadata": {
    "scrolled": true
   },
   "outputs": [
    {
     "data": {
      "text/plain": [
       "PassengerId\n",
       "1                                Braund, Mr. Owen Harris\n",
       "2      Cumings, Mrs. John Bradley (Florence Briggs Th...\n",
       "3                                 Heikkinen, Miss. Laina\n",
       "4           Futrelle, Mrs. Jacques Heath (Lily May Peel)\n",
       "5                               Allen, Mr. William Henry\n",
       "                             ...                        \n",
       "887                                Montvila, Rev. Juozas\n",
       "888                         Graham, Miss. Margaret Edith\n",
       "889             Johnston, Miss. Catherine Helen \"Carrie\"\n",
       "890                                Behr, Mr. Karl Howell\n",
       "891                                  Dooley, Mr. Patrick\n",
       "Name: Name, Length: 891, dtype: object"
      ]
     },
     "execution_count": 47,
     "metadata": {},
     "output_type": "execute_result"
    }
   ],
   "source": [
    "# 글자열 데이터 다루기\n",
    "# name\n",
    "# 중간 호칭만 추출\n",
    "train['Name']"
   ]
  },
  {
   "cell_type": "code",
   "execution_count": 48,
   "metadata": {},
   "outputs": [],
   "source": [
    "# apply\n",
    "# split\n",
    "temp = train['Name'].iloc[0]"
   ]
  },
  {
   "cell_type": "code",
   "execution_count": 49,
   "metadata": {
    "scrolled": true
   },
   "outputs": [
    {
     "data": {
      "text/plain": [
       "['Braund', ' Mr. Owen Harris']"
      ]
     },
     "execution_count": 49,
     "metadata": {},
     "output_type": "execute_result"
    }
   ],
   "source": [
    "temp.split(',') # 쉼표를 기준으로 앞과 뒤로 데이터를 나눔"
   ]
  },
  {
   "cell_type": "code",
   "execution_count": 50,
   "metadata": {
    "scrolled": true
   },
   "outputs": [
    {
     "data": {
      "text/plain": [
       "' Mr. Owen Harris'"
      ]
     },
     "execution_count": 50,
     "metadata": {},
     "output_type": "execute_result"
    }
   ],
   "source": [
    " temp.split(',')[1] # 원하는 중간호칭은 무조건 1번 인덱스에 위치"
   ]
  },
  {
   "cell_type": "code",
   "execution_count": 51,
   "metadata": {},
   "outputs": [
    {
     "data": {
      "text/plain": [
       "[' Mr', ' Owen Harris']"
      ]
     },
     "execution_count": 51,
     "metadata": {},
     "output_type": "execute_result"
    }
   ],
   "source": [
    "temp.split(',')[1].split('.') # 맞춤표를 기준으로 앞과 뒤로 데이터를 나눔"
   ]
  },
  {
   "cell_type": "code",
   "execution_count": 52,
   "metadata": {},
   "outputs": [
    {
     "data": {
      "text/plain": [
       "' Mr'"
      ]
     },
     "execution_count": 52,
     "metadata": {},
     "output_type": "execute_result"
    }
   ],
   "source": [
    "temp.split(',')[1].split('.')[0] # 원하는 중간호칭은 0번 인덱스에 위치"
   ]
  },
  {
   "cell_type": "code",
   "execution_count": 53,
   "metadata": {},
   "outputs": [
    {
     "data": {
      "text/plain": [
       "'Mr'"
      ]
     },
     "execution_count": 53,
     "metadata": {},
     "output_type": "execute_result"
    }
   ],
   "source": [
    "temp.split(',')[1].split('.')[0].strip() # 공백 제거"
   ]
  },
  {
   "cell_type": "code",
   "execution_count": 54,
   "metadata": {},
   "outputs": [],
   "source": [
    "def split_name(data) :\n",
    "    return data.split(',')[1].split('.')[0].strip()"
   ]
  },
  {
   "cell_type": "code",
   "execution_count": 55,
   "metadata": {},
   "outputs": [],
   "source": [
    "# apply(axis = 1)\n",
    "# axis = 1 행 단위로 작업\n",
    "# axis = 0 열 단위로 작업(기본값)\n",
    "train['Name'] = train['Name'].apply(split_name)\n",
    "test['Name'] = test['Name'].apply(split_name)"
   ]
  },
  {
   "cell_type": "code",
   "execution_count": 56,
   "metadata": {
    "scrolled": true
   },
   "outputs": [
    {
     "data": {
      "text/plain": [
       "Mr              517\n",
       "Miss            182\n",
       "Mrs             125\n",
       "Master           40\n",
       "Dr                7\n",
       "Rev               6\n",
       "Col               2\n",
       "Major             2\n",
       "Mlle              2\n",
       "Ms                1\n",
       "Jonkheer          1\n",
       "Mme               1\n",
       "Sir               1\n",
       "Capt              1\n",
       "Lady              1\n",
       "Don               1\n",
       "the Countess      1\n",
       "Name: Name, dtype: int64"
      ]
     },
     "execution_count": 56,
     "metadata": {},
     "output_type": "execute_result"
    }
   ],
   "source": [
    "train['Name'].value_counts()"
   ]
  },
  {
   "cell_type": "code",
   "execution_count": 57,
   "metadata": {},
   "outputs": [
    {
     "name": "stdout",
     "output_type": "stream",
     "text": [
      "(891, 12)\n",
      "(418, 11)\n"
     ]
    }
   ],
   "source": [
    "print(train.shape)\n",
    "print(test.shape)"
   ]
  },
  {
   "cell_type": "code",
   "execution_count": 58,
   "metadata": {},
   "outputs": [],
   "source": [
    "# 컬럼 지우기\n",
    "# train = train.drop(\"지울 컬럼 이름\", axis = 1)"
   ]
  },
  {
   "cell_type": "code",
   "execution_count": 59,
   "metadata": {},
   "outputs": [],
   "source": [
    "Title_Dictionary = {\n",
    "    \"Capt\": \"Other\",\n",
    "    \"Col\": \"Other\",\n",
    "    \"Major\": \"Other\",\n",
    "    \"Jonkheer\": \"Other\",\n",
    "    \"Don\": \"Other\",\n",
    "    \"Sir\" : \"Other\",\n",
    "    \"Dr\": \"Dr\",\n",
    "    \"Rev\": \"Rev\",\n",
    "    \"the Countess\":\"Other\",\n",
    "    \"Mme\": \"Other\",\n",
    "    \"Mlle\": \"Other\",\n",
    "    \"Ms\": \"Other\",\n",
    "    \"Mr\" : \"Mr\",\n",
    "    \"Mrs\" : \"Mrs\",\n",
    "    \"Miss\" : \"Miss\",\n",
    "    \"Master\" : \"Master\",\n",
    "    \"Lady\" : \"Other\"\n",
    "}"
   ]
  },
  {
   "cell_type": "code",
   "execution_count": 60,
   "metadata": {
    "scrolled": true
   },
   "outputs": [],
   "source": [
    "# map 함수를 활용해서 라벨인코딩\n",
    "train['Name'] = train['Name'].map(Title_Dictionary)\n",
    "test['Name'] = test['Name'].map(Title_Dictionary)"
   ]
  },
  {
   "cell_type": "code",
   "execution_count": 61,
   "metadata": {},
   "outputs": [
    {
     "data": {
      "text/plain": [
       "<AxesSubplot:xlabel='Name', ylabel='count'>"
      ]
     },
     "execution_count": 61,
     "metadata": {},
     "output_type": "execute_result"
    },
    {
     "data": {
      "image/png": "[encoded data removed]",
      "text/plain": [
       "<Figure size 1080x360 with 1 Axes>"
      ]
     },
     "metadata": {
      "needs_background": "light"
     },
     "output_type": "display_data"
    }
   ],
   "source": [
    "plt.figure(figsize = (15, 5))\n",
    "sns.countplot(data = train,\n",
    "             x = 'Name',\n",
    "             hue = 'Survived')"
   ]
  },
  {
   "cell_type": "code",
   "execution_count": 62,
   "metadata": {},
   "outputs": [
    {
     "data": {
      "text/plain": [
       "PassengerId\n",
       "1             A/5 21171\n",
       "2              PC 17599\n",
       "3      STON/O2. 3101282\n",
       "4                113803\n",
       "5                373450\n",
       "             ...       \n",
       "887              211536\n",
       "888              112053\n",
       "889          W./C. 6607\n",
       "890              111369\n",
       "891              370376\n",
       "Name: Ticket, Length: 891, dtype: object"
      ]
     },
     "execution_count": 62,
     "metadata": {},
     "output_type": "execute_result"
    }
   ],
   "source": [
    "train['Ticket']"
   ]
  },
  {
   "cell_type": "code",
   "execution_count": 63,
   "metadata": {},
   "outputs": [],
   "source": [
    "# Ticket 삭제\n",
    "# 유의미한 결과를 출력하기 힘들 것이라고 판단해서!\n",
    "train.drop('Ticket', axis = 1, inplace = True)\n",
    "test.drop('Ticket', axis = 1, inplace = True)"
   ]
  },
  {
   "cell_type": "code",
   "execution_count": 64,
   "metadata": {},
   "outputs": [
    {
     "data": {
      "text/plain": [
       "Index(['Survived', 'Pclass', 'Name', 'Sex', 'Age', 'SibSp', 'Parch', 'Fare',\n",
       "       'Cabin', 'Embarked', 'Family'],\n",
       "      dtype='object')"
      ]
     },
     "execution_count": 64,
     "metadata": {},
     "output_type": "execute_result"
    }
   ],
   "source": [
    "train.columns"
   ]
  },
  {
   "cell_type": "code",
   "execution_count": 65,
   "metadata": {},
   "outputs": [
    {
     "name": "stdout",
     "output_type": "stream",
     "text": [
      "<class 'pandas.core.frame.DataFrame'>\n",
      "Int64Index: 891 entries, 1 to 891\n",
      "Data columns (total 11 columns):\n",
      " #   Column    Non-Null Count  Dtype   \n",
      "---  ------    --------------  -----   \n",
      " 0   Survived  891 non-null    int64   \n",
      " 1   Pclass    891 non-null    int64   \n",
      " 2   Name      891 non-null    object  \n",
      " 3   Sex       891 non-null    object  \n",
      " 4   Age       891 non-null    int32   \n",
      " 5   SibSp     891 non-null    int64   \n",
      " 6   Parch     891 non-null    int64   \n",
      " 7   Fare      891 non-null    float64 \n",
      " 8   Cabin     891 non-null    object  \n",
      " 9   Embarked  891 non-null    object  \n",
      " 10  Family    891 non-null    category\n",
      "dtypes: category(1), float64(1), int32(1), int64(4), object(4)\n",
      "memory usage: 114.1+ KB\n"
     ]
    }
   ],
   "source": [
    "# one-hot 인코딩\n",
    "train.info()"
   ]
  },
  {
   "cell_type": "code",
   "execution_count": 66,
   "metadata": {},
   "outputs": [],
   "source": [
    "onehot_column = ['Name', 'Sex', 'Cabin', 'Embarked', 'Family']"
   ]
  },
  {
   "cell_type": "code",
   "execution_count": 67,
   "metadata": {},
   "outputs": [
    {
     "data": {
      "text/html": [
       "<div>\n",
       "<style scoped>\n",
       "    .dataframe tbody tr th:only-of-type {\n",
       "        vertical-align: middle;\n",
       "    }\n",
       "\n",
       "    .dataframe tbody tr th {\n",
       "        vertical-align: top;\n",
       "    }\n",
       "\n",
       "    .dataframe thead th {\n",
       "        text-align: right;\n",
       "    }\n",
       "</style>\n",
       "<table border=\"1\" class=\"dataframe\">\n",
       "  <thead>\n",
       "    <tr style=\"text-align: right;\">\n",
       "      <th></th>\n",
       "      <th>Name_Dr</th>\n",
       "      <th>Name_Master</th>\n",
       "      <th>Name_Miss</th>\n",
       "      <th>Name_Mr</th>\n",
       "      <th>Name_Mrs</th>\n",
       "      <th>Name_Other</th>\n",
       "      <th>Name_Rev</th>\n",
       "    </tr>\n",
       "    <tr>\n",
       "      <th>PassengerId</th>\n",
       "      <th></th>\n",
       "      <th></th>\n",
       "      <th></th>\n",
       "      <th></th>\n",
       "      <th></th>\n",
       "      <th></th>\n",
       "      <th></th>\n",
       "    </tr>\n",
       "  </thead>\n",
       "  <tbody>\n",
       "    <tr>\n",
       "      <th>1</th>\n",
       "      <td>0</td>\n",
       "      <td>0</td>\n",
       "      <td>0</td>\n",
       "      <td>1</td>\n",
       "      <td>0</td>\n",
       "      <td>0</td>\n",
       "      <td>0</td>\n",
       "    </tr>\n",
       "    <tr>\n",
       "      <th>2</th>\n",
       "      <td>0</td>\n",
       "      <td>0</td>\n",
       "      <td>0</td>\n",
       "      <td>0</td>\n",
       "      <td>1</td>\n",
       "      <td>0</td>\n",
       "      <td>0</td>\n",
       "    </tr>\n",
       "    <tr>\n",
       "      <th>3</th>\n",
       "      <td>0</td>\n",
       "      <td>0</td>\n",
       "      <td>1</td>\n",
       "      <td>0</td>\n",
       "      <td>0</td>\n",
       "      <td>0</td>\n",
       "      <td>0</td>\n",
       "    </tr>\n",
       "    <tr>\n",
       "      <th>4</th>\n",
       "      <td>0</td>\n",
       "      <td>0</td>\n",
       "      <td>0</td>\n",
       "      <td>0</td>\n",
       "      <td>1</td>\n",
       "      <td>0</td>\n",
       "      <td>0</td>\n",
       "    </tr>\n",
       "    <tr>\n",
       "      <th>5</th>\n",
       "      <td>0</td>\n",
       "      <td>0</td>\n",
       "      <td>0</td>\n",
       "      <td>1</td>\n",
       "      <td>0</td>\n",
       "      <td>0</td>\n",
       "      <td>0</td>\n",
       "    </tr>\n",
       "    <tr>\n",
       "      <th>...</th>\n",
       "      <td>...</td>\n",
       "      <td>...</td>\n",
       "      <td>...</td>\n",
       "      <td>...</td>\n",
       "      <td>...</td>\n",
       "      <td>...</td>\n",
       "      <td>...</td>\n",
       "    </tr>\n",
       "    <tr>\n",
       "      <th>887</th>\n",
       "      <td>0</td>\n",
       "      <td>0</td>\n",
       "      <td>0</td>\n",
       "      <td>0</td>\n",
       "      <td>0</td>\n",
       "      <td>0</td>\n",
       "      <td>1</td>\n",
       "    </tr>\n",
       "    <tr>\n",
       "      <th>888</th>\n",
       "      <td>0</td>\n",
       "      <td>0</td>\n",
       "      <td>1</td>\n",
       "      <td>0</td>\n",
       "      <td>0</td>\n",
       "      <td>0</td>\n",
       "      <td>0</td>\n",
       "    </tr>\n",
       "    <tr>\n",
       "      <th>889</th>\n",
       "      <td>0</td>\n",
       "      <td>0</td>\n",
       "      <td>1</td>\n",
       "      <td>0</td>\n",
       "      <td>0</td>\n",
       "      <td>0</td>\n",
       "      <td>0</td>\n",
       "    </tr>\n",
       "    <tr>\n",
       "      <th>890</th>\n",
       "      <td>0</td>\n",
       "      <td>0</td>\n",
       "      <td>0</td>\n",
       "      <td>1</td>\n",
       "      <td>0</td>\n",
       "      <td>0</td>\n",
       "      <td>0</td>\n",
       "    </tr>\n",
       "    <tr>\n",
       "      <th>891</th>\n",
       "      <td>0</td>\n",
       "      <td>0</td>\n",
       "      <td>0</td>\n",
       "      <td>1</td>\n",
       "      <td>0</td>\n",
       "      <td>0</td>\n",
       "      <td>0</td>\n",
       "    </tr>\n",
       "  </tbody>\n",
       "</table>\n",
       "<p>891 rows × 7 columns</p>\n",
       "</div>"
      ],
      "text/plain": [
       "             Name_Dr  Name_Master  Name_Miss  Name_Mr  Name_Mrs  Name_Other  \\\n",
       "PassengerId                                                                   \n",
       "1                  0            0          0        1         0           0   \n",
       "2                  0            0          0        0         1           0   \n",
       "3                  0            0          1        0         0           0   \n",
       "4                  0            0          0        0         1           0   \n",
       "5                  0            0          0        1         0           0   \n",
       "...              ...          ...        ...      ...       ...         ...   \n",
       "887                0            0          0        0         0           0   \n",
       "888                0            0          1        0         0           0   \n",
       "889                0            0          1        0         0           0   \n",
       "890                0            0          0        1         0           0   \n",
       "891                0            0          0        1         0           0   \n",
       "\n",
       "             Name_Rev  \n",
       "PassengerId            \n",
       "1                   0  \n",
       "2                   0  \n",
       "3                   0  \n",
       "4                   0  \n",
       "5                   0  \n",
       "...               ...  \n",
       "887                 1  \n",
       "888                 0  \n",
       "889                 0  \n",
       "890                 0  \n",
       "891                 0  \n",
       "\n",
       "[891 rows x 7 columns]"
      ]
     },
     "execution_count": 67,
     "metadata": {},
     "output_type": "execute_result"
    }
   ],
   "source": [
    "# prefix : 원핫인코딩 후 어디서 파생된 컬럼인지 확인\n",
    "pd.get_dummies(train['Name'], prefix = 'Name')"
   ]
  },
  {
   "cell_type": "code",
   "execution_count": 68,
   "metadata": {},
   "outputs": [],
   "source": [
    "for col in onehot_column :\n",
    "    # 원핫 인코딩한 컬럼 변수에 저장\n",
    "    dummy = pd.get_dummies(train[col], prefix = col)\n",
    "    # 원핫 인코딩된 결과물을 기존의 자료와 합치기\n",
    "    train = pd.concat([train, dummy], axis = 1)\n",
    "    # 글자형 컬럼(원핫 인코딩 진행한) 삭제\n",
    "    train.drop(col, axis = 1, inplace = True)"
   ]
  },
  {
   "cell_type": "code",
   "execution_count": 69,
   "metadata": {},
   "outputs": [],
   "source": [
    "for col in onehot_column :\n",
    "    # 원핫 인코딩한 컬럼 변수에 저장\n",
    "    dummy = pd.get_dummies(test[col], prefix = col)\n",
    "    # 원핫 인코딩된 결과물을 기존의 자료와 합치기\n",
    "    test = pd.concat([test, dummy], axis = 1)\n",
    "    # 글자형 컬럼(원핫 인코딩 진행한) 삭제\n",
    "    test.drop(col, axis = 1, inplace = True)"
   ]
  },
  {
   "cell_type": "code",
   "execution_count": 70,
   "metadata": {},
   "outputs": [
    {
     "name": "stdout",
     "output_type": "stream",
     "text": [
      "(891, 30)\n",
      "(418, 28)\n"
     ]
    }
   ],
   "source": [
    "print(train.shape)\n",
    "print(test.shape)"
   ]
  },
  {
   "cell_type": "code",
   "execution_count": 71,
   "metadata": {
    "scrolled": true
   },
   "outputs": [
    {
     "data": {
      "text/plain": [
       "set()"
      ]
     },
     "execution_count": 71,
     "metadata": {},
     "output_type": "execute_result"
    }
   ],
   "source": [
    "# test가 가지고 있는 컬럼 - train이 가지고 있는 컬럼\n",
    "# test에는 있고 train에는 없는 것\n",
    "set(test.columns) - set(train.columns)"
   ]
  },
  {
   "cell_type": "code",
   "execution_count": 72,
   "metadata": {},
   "outputs": [
    {
     "data": {
      "text/plain": [
       "{'Cabin_T', 'Survived'}"
      ]
     },
     "execution_count": 72,
     "metadata": {},
     "output_type": "execute_result"
    }
   ],
   "source": [
    "# train가 가지고 있는 컬럼 - test이 가지고 있는 컬럼\n",
    "# train에는 있고 test에는 없는 것\n",
    "set(train.columns) - set(test.columns)"
   ]
  },
  {
   "cell_type": "code",
   "execution_count": 73,
   "metadata": {},
   "outputs": [],
   "source": [
    "# 기존 test에 Cabin컬럼에 T라는 값이 없기 때문에\n",
    "# 원핫인코딩을 진행했을 때 Cabin_T컬럼이 생성되지 않았다.\n",
    "# Cabin_T컬럼에는 모두 0의 값을 집어 넣어줌\n",
    "test['Cabin_T'] = 0"
   ]
  },
  {
   "cell_type": "code",
   "execution_count": 74,
   "metadata": {},
   "outputs": [
    {
     "name": "stdout",
     "output_type": "stream",
     "text": [
      "(891, 30)\n",
      "(418, 29)\n"
     ]
    }
   ],
   "source": [
    "print(train.shape)\n",
    "print(test.shape)"
   ]
  },
  {
   "cell_type": "markdown",
   "metadata": {},
   "source": [
    "# 5. 모델 선택 및 하이퍼 파라미터 튜닝"
   ]
  },
  {
   "cell_type": "code",
   "execution_count": 75,
   "metadata": {},
   "outputs": [],
   "source": [
    "# 훈련 / 평가 데이터를 -> train, test\n",
    "# 문제와 정답으로 분리 -> X, y\n",
    "# X_train, y_train, X_test\n",
    "X_train = train.drop('Survived', axis = 1)\n",
    "y_train = train['Survived']\n",
    "X_test = test.copy()"
   ]
  },
  {
   "cell_type": "code",
   "execution_count": 76,
   "metadata": {},
   "outputs": [
    {
     "data": {
      "text/plain": [
       "((891, 29), (418, 29), (891,))"
      ]
     },
     "execution_count": 76,
     "metadata": {},
     "output_type": "execute_result"
    }
   ],
   "source": [
    "X_train.shape, X_test.shape, y_train.shape"
   ]
  },
  {
   "cell_type": "code",
   "execution_count": 77,
   "metadata": {},
   "outputs": [],
   "source": [
    "# DecisionTree\n",
    "from sklearn.tree import DecisionTreeClassifier\n",
    "tree = DecisionTreeClassifier(max_depth = 4)"
   ]
  },
  {
   "cell_type": "code",
   "execution_count": 78,
   "metadata": {},
   "outputs": [],
   "source": [
    "# 교차검증\n",
    "from sklearn.model_selection import cross_val_score"
   ]
  },
  {
   "cell_type": "code",
   "execution_count": 79,
   "metadata": {},
   "outputs": [
    {
     "data": {
      "text/plain": [
       "0.8204067541271736"
      ]
     },
     "execution_count": 79,
     "metadata": {},
     "output_type": "execute_result"
    }
   ],
   "source": [
    "result = cross_val_score(tree, X_train, y_train, cv = 5)\n",
    "result.mean()"
   ]
  },
  {
   "cell_type": "markdown",
   "metadata": {},
   "source": [
    "# 6. 학습"
   ]
  },
  {
   "cell_type": "code",
   "execution_count": 80,
   "metadata": {},
   "outputs": [
    {
     "data": {
      "text/plain": [
       "DecisionTreeClassifier(max_depth=4)"
      ]
     },
     "execution_count": 80,
     "metadata": {},
     "output_type": "execute_result"
    }
   ],
   "source": [
    "tree.fit(X_train, y_train)"
   ]
  },
  {
   "cell_type": "markdown",
   "metadata": {},
   "source": [
    "# 7. 평가"
   ]
  },
  {
   "cell_type": "code",
   "execution_count": 81,
   "metadata": {},
   "outputs": [
    {
     "data": {
      "text/plain": [
       "0.8439955106621774"
      ]
     },
     "execution_count": 81,
     "metadata": {},
     "output_type": "execute_result"
    }
   ],
   "source": [
    "tree.score(X_train, y_train)"
   ]
  },
  {
   "cell_type": "code",
   "execution_count": 82,
   "metadata": {},
   "outputs": [],
   "source": [
    "# X_test를 통해서 예측값 출력하기\n",
    "pre = tree.predict(X_test)"
   ]
  },
  {
   "cell_type": "code",
   "execution_count": 83,
   "metadata": {},
   "outputs": [],
   "source": [
    "result = pd.read_csv('titanic/gender_submission.csv')"
   ]
  },
  {
   "cell_type": "code",
   "execution_count": 84,
   "metadata": {},
   "outputs": [],
   "source": [
    "# result에 survived컬럼을 예측한 값으로 채우자\n",
    "result['Survived'] = pre"
   ]
  },
  {
   "cell_type": "code",
   "execution_count": 85,
   "metadata": {},
   "outputs": [],
   "source": [
    "# result를 csv파일로 저장\n",
    "result.to_csv('DT_submission_01.csv', index = False)"
   ]
  },
  {
   "cell_type": "markdown",
   "metadata": {},
   "source": [
    "# 5-1\n",
    "- RandomForest"
   ]
  },
  {
   "cell_type": "code",
   "execution_count": 86,
   "metadata": {},
   "outputs": [],
   "source": [
    "from sklearn.ensemble import RandomForestClassifier\n",
    "forest = RandomForestClassifier(n_estimators=1000, # tree의 개수\n",
    "                                      max_features=0.7, # 각각의 트리에서 사용할 특성의 개수\n",
    "                                      max_depth=5,\n",
    "                                      min_samples_leaf=15,\n",
    "                                      max_leaf_nodes=50)"
   ]
  },
  {
   "cell_type": "code",
   "execution_count": 87,
   "metadata": {},
   "outputs": [],
   "source": [
    "# GridSearch\n",
    "# 여러 개의 파라미터를 한 번에 튜닝하는 방법\n",
    "# 교차검증을 같이 진행\n",
    "from sklearn.model_selection import GridSearchCV"
   ]
  },
  {
   "cell_type": "code",
   "execution_count": 88,
   "metadata": {},
   "outputs": [],
   "source": [
    "param_grid={\n",
    "    'max_depth' : [5,10,15,20],\n",
    "    'n_estimators' :[1000,1500,2000,2500],\n",
    "    'max_features' : [0.5, 0.7],\n",
    "    'max_leaf_nodes' : [20,50,80],\n",
    "    'min_samples_leaf' : [10,15,20]\n",
    "}"
   ]
  },
  {
   "cell_type": "code",
   "execution_count": 109,
   "metadata": {},
   "outputs": [],
   "source": [
    "grid = GridSearchCV(forest, # gridSearch에 사용할 모델\n",
    "                   param_grid, # 튜닝할 매개변수\n",
    "                   cv = 3, # k겹 교차검증\n",
    "                   verbose = 2 # 현재 진행중인 학습 열람\n",
    "                   )"
   ]
  },
  {
   "cell_type": "code",
   "execution_count": 110,
   "metadata": {},
   "outputs": [
    {
     "name": "stdout",
     "output_type": "stream",
     "text": [
      "Fitting 3 folds for each of 288 candidates, totalling 864 fits\n",
      "[CV] max_depth=5, max_features=0.5, max_leaf_nodes=20, min_samples_leaf=10, n_estimators=1000 \n"
     ]
    },
    {
     "name": "stderr",
     "output_type": "stream",
     "text": [
      "[Parallel(n_jobs=1)]: Using backend SequentialBackend with 1 concurrent workers.\n"
     ]
    },
    {
     "name": "stdout",
     "output_type": "stream",
     "text": [
      "[CV]  max_depth=5, max_features=0.5, max_leaf_nodes=20, min_samples_leaf=10, n_estimators=1000, total=   1.1s\n",
      "[CV] max_depth=5, max_features=0.5, max_leaf_nodes=20, min_samples_leaf=10, n_estimators=1000 \n"
     ]
    },
    {
     "name": "stderr",
     "output_type": "stream",
     "text": [
      "[Parallel(n_jobs=1)]: Done   1 out of   1 | elapsed:    1.0s remaining:    0.0s\n"
     ]
    },
    {
     "name": "stdout",
     "output_type": "stream",
     "text": [
      "[CV]  max_depth=5, max_features=0.5, max_leaf_nodes=20, min_samples_leaf=10, n_estimators=1000, total=   1.1s\n",
      "[CV] max_depth=5, max_features=0.5, max_leaf_nodes=20, min_samples_leaf=10, n_estimators=1000 \n",
      "[CV]  max_depth=5, max_features=0.5, max_leaf_nodes=20, min_samples_leaf=10, n_estimators=1000, total=   1.2s\n",
      "[CV] max_depth=5, max_features=0.5, max_leaf_nodes=20, min_samples_leaf=10, n_estimators=1500 \n",
      "[CV]  max_depth=5, max_features=0.5, max_leaf_nodes=20, min_samples_leaf=10, n_estimators=1500, total=   1.7s\n",
      "[CV] max_depth=5, max_features=0.5, max_leaf_nodes=20, min_samples_leaf=10, n_estimators=1500 \n",
      "[CV]  max_depth=5, max_features=0.5, max_leaf_nodes=20, min_samples_leaf=10, n_estimators=1500, total=   1.7s\n",
      "[CV] max_depth=5, max_features=0.5, max_leaf_nodes=20, min_samples_leaf=10, n_estimators=1500 \n",
      "[CV]  max_depth=5, max_features=0.5, max_leaf_nodes=20, min_samples_leaf=10, n_estimators=1500, total=   1.8s\n",
      "[CV] max_depth=5, max_features=0.5, max_leaf_nodes=20, min_samples_leaf=10, n_estimators=2000 \n",
      "[CV]  max_depth=5, max_features=0.5, max_leaf_nodes=20, min_samples_leaf=10, n_estimators=2000, total=   2.4s\n",
      "[CV] max_depth=5, max_features=0.5, max_leaf_nodes=20, min_samples_leaf=10, n_estimators=2000 \n",
      "[CV]  max_depth=5, max_features=0.5, max_leaf_nodes=20, min_samples_leaf=10, n_estimators=2000, total=   2.3s\n",
      "[CV] max_depth=5, max_features=0.5, max_leaf_nodes=20, min_samples_leaf=10, n_estimators=2000 \n",
      "[CV]  max_depth=5, max_features=0.5, max_leaf_nodes=20, min_samples_leaf=10, n_estimators=2000, total=   2.3s\n",
      "[CV] max_depth=5, max_features=0.5, max_leaf_nodes=20, min_samples_leaf=10, n_estimators=2500 \n",
      "[CV]  max_depth=5, max_features=0.5, max_leaf_nodes=20, min_samples_leaf=10, n_estimators=2500, total=   2.9s\n",
      "[CV] max_depth=5, max_features=0.5, max_leaf_nodes=20, min_samples_leaf=10, n_estimators=2500 \n",
      "[CV]  max_depth=5, max_features=0.5, max_leaf_nodes=20, min_samples_leaf=10, n_estimators=2500, total=   2.8s\n",
      "[CV] max_depth=5, max_features=0.5, max_leaf_nodes=20, min_samples_leaf=10, n_estimators=2500 \n",
      "[CV]  max_depth=5, max_features=0.5, max_leaf_nodes=20, min_samples_leaf=10, n_estimators=2500, total=   2.8s\n",
      "[CV] max_depth=5, max_features=0.5, max_leaf_nodes=20, min_samples_leaf=15, n_estimators=1000 \n",
      "[CV]  max_depth=5, max_features=0.5, max_leaf_nodes=20, min_samples_leaf=15, n_estimators=1000, total=   1.1s\n",
      "[CV] max_depth=5, max_features=0.5, max_leaf_nodes=20, min_samples_leaf=15, n_estimators=1000 \n",
      "[CV]  max_depth=5, max_features=0.5, max_leaf_nodes=20, min_samples_leaf=15, n_estimators=1000, total=   1.1s\n",
      "[CV] max_depth=5, max_features=0.5, max_leaf_nodes=20, min_samples_leaf=15, n_estimators=1000 \n",
      "[CV]  max_depth=5, max_features=0.5, max_leaf_nodes=20, min_samples_leaf=15, n_estimators=1000, total=   1.1s\n",
      "[CV] max_depth=5, max_features=0.5, max_leaf_nodes=20, min_samples_leaf=15, n_estimators=1500 \n",
      "[CV]  max_depth=5, max_features=0.5, max_leaf_nodes=20, min_samples_leaf=15, n_estimators=1500, total=   1.7s\n",
      "[CV] max_depth=5, max_features=0.5, max_leaf_nodes=20, min_samples_leaf=15, n_estimators=1500 \n",
      "[CV]  max_depth=5, max_features=0.5, max_leaf_nodes=20, min_samples_leaf=15, n_estimators=1500, total=   1.7s\n",
      "[CV] max_depth=5, max_features=0.5, max_leaf_nodes=20, min_samples_leaf=15, n_estimators=1500 \n",
      "[CV]  max_depth=5, max_features=0.5, max_leaf_nodes=20, min_samples_leaf=15, n_estimators=1500, total=   1.7s\n",
      "[CV] max_depth=5, max_features=0.5, max_leaf_nodes=20, min_samples_leaf=15, n_estimators=2000 \n",
      "[CV]  max_depth=5, max_features=0.5, max_leaf_nodes=20, min_samples_leaf=15, n_estimators=2000, total=   2.3s\n",
      "[CV] max_depth=5, max_features=0.5, max_leaf_nodes=20, min_samples_leaf=15, n_estimators=2000 \n",
      "[CV]  max_depth=5, max_features=0.5, max_leaf_nodes=20, min_samples_leaf=15, n_estimators=2000, total=   2.2s\n",
      "[CV] max_depth=5, max_features=0.5, max_leaf_nodes=20, min_samples_leaf=15, n_estimators=2000 \n",
      "[CV]  max_depth=5, max_features=0.5, max_leaf_nodes=20, min_samples_leaf=15, n_estimators=2000, total=   2.2s\n",
      "[CV] max_depth=5, max_features=0.5, max_leaf_nodes=20, min_samples_leaf=15, n_estimators=2500 \n",
      "[CV]  max_depth=5, max_features=0.5, max_leaf_nodes=20, min_samples_leaf=15, n_estimators=2500, total=   2.8s\n",
      "[CV] max_depth=5, max_features=0.5, max_leaf_nodes=20, min_samples_leaf=15, n_estimators=2500 \n",
      "[CV]  max_depth=5, max_features=0.5, max_leaf_nodes=20, min_samples_leaf=15, n_estimators=2500, total=   2.8s\n",
      "[CV] max_depth=5, max_features=0.5, max_leaf_nodes=20, min_samples_leaf=15, n_estimators=2500 \n",
      "[CV]  max_depth=5, max_features=0.5, max_leaf_nodes=20, min_samples_leaf=15, n_estimators=2500, total=   2.8s\n",
      "[CV] max_depth=5, max_features=0.5, max_leaf_nodes=20, min_samples_leaf=20, n_estimators=1000 \n",
      "[CV]  max_depth=5, max_features=0.5, max_leaf_nodes=20, min_samples_leaf=20, n_estimators=1000, total=   1.1s\n",
      "[CV] max_depth=5, max_features=0.5, max_leaf_nodes=20, min_samples_leaf=20, n_estimators=1000 \n",
      "[CV]  max_depth=5, max_features=0.5, max_leaf_nodes=20, min_samples_leaf=20, n_estimators=1000, total=   1.1s\n",
      "[CV] max_depth=5, max_features=0.5, max_leaf_nodes=20, min_samples_leaf=20, n_estimators=1000 \n",
      "[CV]  max_depth=5, max_features=0.5, max_leaf_nodes=20, min_samples_leaf=20, n_estimators=1000, total=   1.1s\n",
      "[CV] max_depth=5, max_features=0.5, max_leaf_nodes=20, min_samples_leaf=20, n_estimators=1500 \n",
      "[CV]  max_depth=5, max_features=0.5, max_leaf_nodes=20, min_samples_leaf=20, n_estimators=1500, total=   1.6s\n",
      "[CV] max_depth=5, max_features=0.5, max_leaf_nodes=20, min_samples_leaf=20, n_estimators=1500 \n",
      "[CV]  max_depth=5, max_features=0.5, max_leaf_nodes=20, min_samples_leaf=20, n_estimators=1500, total=   1.7s\n",
      "[CV] max_depth=5, max_features=0.5, max_leaf_nodes=20, min_samples_leaf=20, n_estimators=1500 \n",
      "[CV]  max_depth=5, max_features=0.5, max_leaf_nodes=20, min_samples_leaf=20, n_estimators=1500, total=   1.6s\n",
      "[CV] max_depth=5, max_features=0.5, max_leaf_nodes=20, min_samples_leaf=20, n_estimators=2000 \n",
      "[CV]  max_depth=5, max_features=0.5, max_leaf_nodes=20, min_samples_leaf=20, n_estimators=2000, total=   2.2s\n",
      "[CV] max_depth=5, max_features=0.5, max_leaf_nodes=20, min_samples_leaf=20, n_estimators=2000 \n",
      "[CV]  max_depth=5, max_features=0.5, max_leaf_nodes=20, min_samples_leaf=20, n_estimators=2000, total=   2.2s\n",
      "[CV] max_depth=5, max_features=0.5, max_leaf_nodes=20, min_samples_leaf=20, n_estimators=2000 \n",
      "[CV]  max_depth=5, max_features=0.5, max_leaf_nodes=20, min_samples_leaf=20, n_estimators=2000, total=   2.2s\n",
      "[CV] max_depth=5, max_features=0.5, max_leaf_nodes=20, min_samples_leaf=20, n_estimators=2500 \n",
      "[CV]  max_depth=5, max_features=0.5, max_leaf_nodes=20, min_samples_leaf=20, n_estimators=2500, total=   2.8s\n",
      "[CV] max_depth=5, max_features=0.5, max_leaf_nodes=20, min_samples_leaf=20, n_estimators=2500 \n",
      "[CV]  max_depth=5, max_features=0.5, max_leaf_nodes=20, min_samples_leaf=20, n_estimators=2500, total=   2.7s\n",
      "[CV] max_depth=5, max_features=0.5, max_leaf_nodes=20, min_samples_leaf=20, n_estimators=2500 \n",
      "[CV]  max_depth=5, max_features=0.5, max_leaf_nodes=20, min_samples_leaf=20, n_estimators=2500, total=   2.8s\n",
      "[CV] max_depth=5, max_features=0.5, max_leaf_nodes=50, min_samples_leaf=10, n_estimators=1000 \n",
      "[CV]  max_depth=5, max_features=0.5, max_leaf_nodes=50, min_samples_leaf=10, n_estimators=1000, total=   1.1s\n",
      "[CV] max_depth=5, max_features=0.5, max_leaf_nodes=50, min_samples_leaf=10, n_estimators=1000 \n",
      "[CV]  max_depth=5, max_features=0.5, max_leaf_nodes=50, min_samples_leaf=10, n_estimators=1000, total=   1.1s\n",
      "[CV] max_depth=5, max_features=0.5, max_leaf_nodes=50, min_samples_leaf=10, n_estimators=1000 \n",
      "[CV]  max_depth=5, max_features=0.5, max_leaf_nodes=50, min_samples_leaf=10, n_estimators=1000, total=   1.1s\n",
      "[CV] max_depth=5, max_features=0.5, max_leaf_nodes=50, min_samples_leaf=10, n_estimators=1500 \n",
      "[CV]  max_depth=5, max_features=0.5, max_leaf_nodes=50, min_samples_leaf=10, n_estimators=1500, total=   1.7s\n",
      "[CV] max_depth=5, max_features=0.5, max_leaf_nodes=50, min_samples_leaf=10, n_estimators=1500 \n",
      "[CV]  max_depth=5, max_features=0.5, max_leaf_nodes=50, min_samples_leaf=10, n_estimators=1500, total=   1.7s\n",
      "[CV] max_depth=5, max_features=0.5, max_leaf_nodes=50, min_samples_leaf=10, n_estimators=1500 \n"
     ]
    },
    {
     "name": "stdout",
     "output_type": "stream",
     "text": [
      "[CV]  max_depth=5, max_features=0.5, max_leaf_nodes=50, min_samples_leaf=10, n_estimators=1500, total=   1.7s\n",
      "[CV] max_depth=5, max_features=0.5, max_leaf_nodes=50, min_samples_leaf=10, n_estimators=2000 \n",
      "[CV]  max_depth=5, max_features=0.5, max_leaf_nodes=50, min_samples_leaf=10, n_estimators=2000, total=   2.3s\n",
      "[CV] max_depth=5, max_features=0.5, max_leaf_nodes=50, min_samples_leaf=10, n_estimators=2000 \n",
      "[CV]  max_depth=5, max_features=0.5, max_leaf_nodes=50, min_samples_leaf=10, n_estimators=2000, total=   2.2s\n",
      "[CV] max_depth=5, max_features=0.5, max_leaf_nodes=50, min_samples_leaf=10, n_estimators=2000 \n",
      "[CV]  max_depth=5, max_features=0.5, max_leaf_nodes=50, min_samples_leaf=10, n_estimators=2000, total=   2.3s\n",
      "[CV] max_depth=5, max_features=0.5, max_leaf_nodes=50, min_samples_leaf=10, n_estimators=2500 \n",
      "[CV]  max_depth=5, max_features=0.5, max_leaf_nodes=50, min_samples_leaf=10, n_estimators=2500, total=   2.8s\n",
      "[CV] max_depth=5, max_features=0.5, max_leaf_nodes=50, min_samples_leaf=10, n_estimators=2500 \n",
      "[CV]  max_depth=5, max_features=0.5, max_leaf_nodes=50, min_samples_leaf=10, n_estimators=2500, total=   2.8s\n",
      "[CV] max_depth=5, max_features=0.5, max_leaf_nodes=50, min_samples_leaf=10, n_estimators=2500 \n",
      "[CV]  max_depth=5, max_features=0.5, max_leaf_nodes=50, min_samples_leaf=10, n_estimators=2500, total=   2.8s\n",
      "[CV] max_depth=5, max_features=0.5, max_leaf_nodes=50, min_samples_leaf=15, n_estimators=1000 \n",
      "[CV]  max_depth=5, max_features=0.5, max_leaf_nodes=50, min_samples_leaf=15, n_estimators=1000, total=   1.1s\n",
      "[CV] max_depth=5, max_features=0.5, max_leaf_nodes=50, min_samples_leaf=15, n_estimators=1000 \n",
      "[CV]  max_depth=5, max_features=0.5, max_leaf_nodes=50, min_samples_leaf=15, n_estimators=1000, total=   1.1s\n",
      "[CV] max_depth=5, max_features=0.5, max_leaf_nodes=50, min_samples_leaf=15, n_estimators=1000 \n",
      "[CV]  max_depth=5, max_features=0.5, max_leaf_nodes=50, min_samples_leaf=15, n_estimators=1000, total=   1.1s\n",
      "[CV] max_depth=5, max_features=0.5, max_leaf_nodes=50, min_samples_leaf=15, n_estimators=1500 \n",
      "[CV]  max_depth=5, max_features=0.5, max_leaf_nodes=50, min_samples_leaf=15, n_estimators=1500, total=   1.7s\n",
      "[CV] max_depth=5, max_features=0.5, max_leaf_nodes=50, min_samples_leaf=15, n_estimators=1500 \n",
      "[CV]  max_depth=5, max_features=0.5, max_leaf_nodes=50, min_samples_leaf=15, n_estimators=1500, total=   1.7s\n",
      "[CV] max_depth=5, max_features=0.5, max_leaf_nodes=50, min_samples_leaf=15, n_estimators=1500 \n",
      "[CV]  max_depth=5, max_features=0.5, max_leaf_nodes=50, min_samples_leaf=15, n_estimators=1500, total=   1.7s\n",
      "[CV] max_depth=5, max_features=0.5, max_leaf_nodes=50, min_samples_leaf=15, n_estimators=2000 \n",
      "[CV]  max_depth=5, max_features=0.5, max_leaf_nodes=50, min_samples_leaf=15, n_estimators=2000, total=   2.2s\n",
      "[CV] max_depth=5, max_features=0.5, max_leaf_nodes=50, min_samples_leaf=15, n_estimators=2000 \n",
      "[CV]  max_depth=5, max_features=0.5, max_leaf_nodes=50, min_samples_leaf=15, n_estimators=2000, total=   2.3s\n",
      "[CV] max_depth=5, max_features=0.5, max_leaf_nodes=50, min_samples_leaf=15, n_estimators=2000 \n",
      "[CV]  max_depth=5, max_features=0.5, max_leaf_nodes=50, min_samples_leaf=15, n_estimators=2000, total=   2.2s\n",
      "[CV] max_depth=5, max_features=0.5, max_leaf_nodes=50, min_samples_leaf=15, n_estimators=2500 \n",
      "[CV]  max_depth=5, max_features=0.5, max_leaf_nodes=50, min_samples_leaf=15, n_estimators=2500, total=   2.8s\n",
      "[CV] max_depth=5, max_features=0.5, max_leaf_nodes=50, min_samples_leaf=15, n_estimators=2500 \n",
      "[CV]  max_depth=5, max_features=0.5, max_leaf_nodes=50, min_samples_leaf=15, n_estimators=2500, total=   2.8s\n",
      "[CV] max_depth=5, max_features=0.5, max_leaf_nodes=50, min_samples_leaf=15, n_estimators=2500 \n",
      "[CV]  max_depth=5, max_features=0.5, max_leaf_nodes=50, min_samples_leaf=15, n_estimators=2500, total=   2.8s\n",
      "[CV] max_depth=5, max_features=0.5, max_leaf_nodes=50, min_samples_leaf=20, n_estimators=1000 \n",
      "[CV]  max_depth=5, max_features=0.5, max_leaf_nodes=50, min_samples_leaf=20, n_estimators=1000, total=   1.2s\n",
      "[CV] max_depth=5, max_features=0.5, max_leaf_nodes=50, min_samples_leaf=20, n_estimators=1000 \n",
      "[CV]  max_depth=5, max_features=0.5, max_leaf_nodes=50, min_samples_leaf=20, n_estimators=1000, total=   1.1s\n",
      "[CV] max_depth=5, max_features=0.5, max_leaf_nodes=50, min_samples_leaf=20, n_estimators=1000 \n",
      "[CV]  max_depth=5, max_features=0.5, max_leaf_nodes=50, min_samples_leaf=20, n_estimators=1000, total=   1.1s\n",
      "[CV] max_depth=5, max_features=0.5, max_leaf_nodes=50, min_samples_leaf=20, n_estimators=1500 \n",
      "[CV]  max_depth=5, max_features=0.5, max_leaf_nodes=50, min_samples_leaf=20, n_estimators=1500, total=   1.6s\n",
      "[CV] max_depth=5, max_features=0.5, max_leaf_nodes=50, min_samples_leaf=20, n_estimators=1500 \n",
      "[CV]  max_depth=5, max_features=0.5, max_leaf_nodes=50, min_samples_leaf=20, n_estimators=1500, total=   1.6s\n",
      "[CV] max_depth=5, max_features=0.5, max_leaf_nodes=50, min_samples_leaf=20, n_estimators=1500 \n",
      "[CV]  max_depth=5, max_features=0.5, max_leaf_nodes=50, min_samples_leaf=20, n_estimators=1500, total=   1.6s\n",
      "[CV] max_depth=5, max_features=0.5, max_leaf_nodes=50, min_samples_leaf=20, n_estimators=2000 \n",
      "[CV]  max_depth=5, max_features=0.5, max_leaf_nodes=50, min_samples_leaf=20, n_estimators=2000, total=   2.2s\n",
      "[CV] max_depth=5, max_features=0.5, max_leaf_nodes=50, min_samples_leaf=20, n_estimators=2000 \n",
      "[CV]  max_depth=5, max_features=0.5, max_leaf_nodes=50, min_samples_leaf=20, n_estimators=2000, total=   2.2s\n",
      "[CV] max_depth=5, max_features=0.5, max_leaf_nodes=50, min_samples_leaf=20, n_estimators=2000 \n",
      "[CV]  max_depth=5, max_features=0.5, max_leaf_nodes=50, min_samples_leaf=20, n_estimators=2000, total=   2.3s\n",
      "[CV] max_depth=5, max_features=0.5, max_leaf_nodes=50, min_samples_leaf=20, n_estimators=2500 \n",
      "[CV]  max_depth=5, max_features=0.5, max_leaf_nodes=50, min_samples_leaf=20, n_estimators=2500, total=   2.7s\n",
      "[CV] max_depth=5, max_features=0.5, max_leaf_nodes=50, min_samples_leaf=20, n_estimators=2500 \n",
      "[CV]  max_depth=5, max_features=0.5, max_leaf_nodes=50, min_samples_leaf=20, n_estimators=2500, total=   2.8s\n",
      "[CV] max_depth=5, max_features=0.5, max_leaf_nodes=50, min_samples_leaf=20, n_estimators=2500 \n",
      "[CV]  max_depth=5, max_features=0.5, max_leaf_nodes=50, min_samples_leaf=20, n_estimators=2500, total=   2.8s\n",
      "[CV] max_depth=5, max_features=0.5, max_leaf_nodes=80, min_samples_leaf=10, n_estimators=1000 \n",
      "[CV]  max_depth=5, max_features=0.5, max_leaf_nodes=80, min_samples_leaf=10, n_estimators=1000, total=   1.1s\n",
      "[CV] max_depth=5, max_features=0.5, max_leaf_nodes=80, min_samples_leaf=10, n_estimators=1000 \n",
      "[CV]  max_depth=5, max_features=0.5, max_leaf_nodes=80, min_samples_leaf=10, n_estimators=1000, total=   1.1s\n",
      "[CV] max_depth=5, max_features=0.5, max_leaf_nodes=80, min_samples_leaf=10, n_estimators=1000 \n",
      "[CV]  max_depth=5, max_features=0.5, max_leaf_nodes=80, min_samples_leaf=10, n_estimators=1000, total=   1.1s\n",
      "[CV] max_depth=5, max_features=0.5, max_leaf_nodes=80, min_samples_leaf=10, n_estimators=1500 \n",
      "[CV]  max_depth=5, max_features=0.5, max_leaf_nodes=80, min_samples_leaf=10, n_estimators=1500, total=   1.7s\n",
      "[CV] max_depth=5, max_features=0.5, max_leaf_nodes=80, min_samples_leaf=10, n_estimators=1500 \n",
      "[CV]  max_depth=5, max_features=0.5, max_leaf_nodes=80, min_samples_leaf=10, n_estimators=1500, total=   1.7s\n",
      "[CV] max_depth=5, max_features=0.5, max_leaf_nodes=80, min_samples_leaf=10, n_estimators=1500 \n",
      "[CV]  max_depth=5, max_features=0.5, max_leaf_nodes=80, min_samples_leaf=10, n_estimators=1500, total=   1.7s\n",
      "[CV] max_depth=5, max_features=0.5, max_leaf_nodes=80, min_samples_leaf=10, n_estimators=2000 \n",
      "[CV]  max_depth=5, max_features=0.5, max_leaf_nodes=80, min_samples_leaf=10, n_estimators=2000, total=   2.3s\n",
      "[CV] max_depth=5, max_features=0.5, max_leaf_nodes=80, min_samples_leaf=10, n_estimators=2000 \n",
      "[CV]  max_depth=5, max_features=0.5, max_leaf_nodes=80, min_samples_leaf=10, n_estimators=2000, total=   2.2s\n",
      "[CV] max_depth=5, max_features=0.5, max_leaf_nodes=80, min_samples_leaf=10, n_estimators=2000 \n",
      "[CV]  max_depth=5, max_features=0.5, max_leaf_nodes=80, min_samples_leaf=10, n_estimators=2000, total=   2.3s\n",
      "[CV] max_depth=5, max_features=0.5, max_leaf_nodes=80, min_samples_leaf=10, n_estimators=2500 \n"
     ]
    },
    {
     "name": "stdout",
     "output_type": "stream",
     "text": [
      "[CV]  max_depth=5, max_features=0.5, max_leaf_nodes=80, min_samples_leaf=10, n_estimators=2500, total=   2.8s\n",
      "[CV] max_depth=5, max_features=0.5, max_leaf_nodes=80, min_samples_leaf=10, n_estimators=2500 \n",
      "[CV]  max_depth=5, max_features=0.5, max_leaf_nodes=80, min_samples_leaf=10, n_estimators=2500, total=   2.8s\n",
      "[CV] max_depth=5, max_features=0.5, max_leaf_nodes=80, min_samples_leaf=10, n_estimators=2500 \n",
      "[CV]  max_depth=5, max_features=0.5, max_leaf_nodes=80, min_samples_leaf=10, n_estimators=2500, total=   2.9s\n",
      "[CV] max_depth=5, max_features=0.5, max_leaf_nodes=80, min_samples_leaf=15, n_estimators=1000 \n",
      "[CV]  max_depth=5, max_features=0.5, max_leaf_nodes=80, min_samples_leaf=15, n_estimators=1000, total=   1.1s\n",
      "[CV] max_depth=5, max_features=0.5, max_leaf_nodes=80, min_samples_leaf=15, n_estimators=1000 \n",
      "[CV]  max_depth=5, max_features=0.5, max_leaf_nodes=80, min_samples_leaf=15, n_estimators=1000, total=   1.1s\n",
      "[CV] max_depth=5, max_features=0.5, max_leaf_nodes=80, min_samples_leaf=15, n_estimators=1000 \n",
      "[CV]  max_depth=5, max_features=0.5, max_leaf_nodes=80, min_samples_leaf=15, n_estimators=1000, total=   1.1s\n",
      "[CV] max_depth=5, max_features=0.5, max_leaf_nodes=80, min_samples_leaf=15, n_estimators=1500 \n",
      "[CV]  max_depth=5, max_features=0.5, max_leaf_nodes=80, min_samples_leaf=15, n_estimators=1500, total=   1.7s\n",
      "[CV] max_depth=5, max_features=0.5, max_leaf_nodes=80, min_samples_leaf=15, n_estimators=1500 \n",
      "[CV]  max_depth=5, max_features=0.5, max_leaf_nodes=80, min_samples_leaf=15, n_estimators=1500, total=   1.7s\n",
      "[CV] max_depth=5, max_features=0.5, max_leaf_nodes=80, min_samples_leaf=15, n_estimators=1500 \n",
      "[CV]  max_depth=5, max_features=0.5, max_leaf_nodes=80, min_samples_leaf=15, n_estimators=1500, total=   1.7s\n",
      "[CV] max_depth=5, max_features=0.5, max_leaf_nodes=80, min_samples_leaf=15, n_estimators=2000 \n",
      "[CV]  max_depth=5, max_features=0.5, max_leaf_nodes=80, min_samples_leaf=15, n_estimators=2000, total=   2.2s\n",
      "[CV] max_depth=5, max_features=0.5, max_leaf_nodes=80, min_samples_leaf=15, n_estimators=2000 \n",
      "[CV]  max_depth=5, max_features=0.5, max_leaf_nodes=80, min_samples_leaf=15, n_estimators=2000, total=   2.2s\n",
      "[CV] max_depth=5, max_features=0.5, max_leaf_nodes=80, min_samples_leaf=15, n_estimators=2000 \n",
      "[CV]  max_depth=5, max_features=0.5, max_leaf_nodes=80, min_samples_leaf=15, n_estimators=2000, total=   2.3s\n",
      "[CV] max_depth=5, max_features=0.5, max_leaf_nodes=80, min_samples_leaf=15, n_estimators=2500 \n",
      "[CV]  max_depth=5, max_features=0.5, max_leaf_nodes=80, min_samples_leaf=15, n_estimators=2500, total=   2.8s\n",
      "[CV] max_depth=5, max_features=0.5, max_leaf_nodes=80, min_samples_leaf=15, n_estimators=2500 \n",
      "[CV]  max_depth=5, max_features=0.5, max_leaf_nodes=80, min_samples_leaf=15, n_estimators=2500, total=   2.8s\n",
      "[CV] max_depth=5, max_features=0.5, max_leaf_nodes=80, min_samples_leaf=15, n_estimators=2500 \n",
      "[CV]  max_depth=5, max_features=0.5, max_leaf_nodes=80, min_samples_leaf=15, n_estimators=2500, total=   2.8s\n",
      "[CV] max_depth=5, max_features=0.5, max_leaf_nodes=80, min_samples_leaf=20, n_estimators=1000 \n",
      "[CV]  max_depth=5, max_features=0.5, max_leaf_nodes=80, min_samples_leaf=20, n_estimators=1000, total=   1.1s\n",
      "[CV] max_depth=5, max_features=0.5, max_leaf_nodes=80, min_samples_leaf=20, n_estimators=1000 \n",
      "[CV]  max_depth=5, max_features=0.5, max_leaf_nodes=80, min_samples_leaf=20, n_estimators=1000, total=   1.1s\n",
      "[CV] max_depth=5, max_features=0.5, max_leaf_nodes=80, min_samples_leaf=20, n_estimators=1000 \n",
      "[CV]  max_depth=5, max_features=0.5, max_leaf_nodes=80, min_samples_leaf=20, n_estimators=1000, total=   1.1s\n",
      "[CV] max_depth=5, max_features=0.5, max_leaf_nodes=80, min_samples_leaf=20, n_estimators=1500 \n",
      "[CV]  max_depth=5, max_features=0.5, max_leaf_nodes=80, min_samples_leaf=20, n_estimators=1500, total=   1.6s\n",
      "[CV] max_depth=5, max_features=0.5, max_leaf_nodes=80, min_samples_leaf=20, n_estimators=1500 \n",
      "[CV]  max_depth=5, max_features=0.5, max_leaf_nodes=80, min_samples_leaf=20, n_estimators=1500, total=   1.7s\n",
      "[CV] max_depth=5, max_features=0.5, max_leaf_nodes=80, min_samples_leaf=20, n_estimators=1500 \n",
      "[CV]  max_depth=5, max_features=0.5, max_leaf_nodes=80, min_samples_leaf=20, n_estimators=1500, total=   1.7s\n",
      "[CV] max_depth=5, max_features=0.5, max_leaf_nodes=80, min_samples_leaf=20, n_estimators=2000 \n",
      "[CV]  max_depth=5, max_features=0.5, max_leaf_nodes=80, min_samples_leaf=20, n_estimators=2000, total=   2.2s\n",
      "[CV] max_depth=5, max_features=0.5, max_leaf_nodes=80, min_samples_leaf=20, n_estimators=2000 \n",
      "[CV]  max_depth=5, max_features=0.5, max_leaf_nodes=80, min_samples_leaf=20, n_estimators=2000, total=   2.2s\n",
      "[CV] max_depth=5, max_features=0.5, max_leaf_nodes=80, min_samples_leaf=20, n_estimators=2000 \n",
      "[CV]  max_depth=5, max_features=0.5, max_leaf_nodes=80, min_samples_leaf=20, n_estimators=2000, total=   2.2s\n",
      "[CV] max_depth=5, max_features=0.5, max_leaf_nodes=80, min_samples_leaf=20, n_estimators=2500 \n",
      "[CV]  max_depth=5, max_features=0.5, max_leaf_nodes=80, min_samples_leaf=20, n_estimators=2500, total=   2.7s\n",
      "[CV] max_depth=5, max_features=0.5, max_leaf_nodes=80, min_samples_leaf=20, n_estimators=2500 \n",
      "[CV]  max_depth=5, max_features=0.5, max_leaf_nodes=80, min_samples_leaf=20, n_estimators=2500, total=   2.8s\n",
      "[CV] max_depth=5, max_features=0.5, max_leaf_nodes=80, min_samples_leaf=20, n_estimators=2500 \n",
      "[CV]  max_depth=5, max_features=0.5, max_leaf_nodes=80, min_samples_leaf=20, n_estimators=2500, total=   2.7s\n",
      "[CV] max_depth=5, max_features=0.7, max_leaf_nodes=20, min_samples_leaf=10, n_estimators=1000 \n",
      "[CV]  max_depth=5, max_features=0.7, max_leaf_nodes=20, min_samples_leaf=10, n_estimators=1000, total=   1.2s\n",
      "[CV] max_depth=5, max_features=0.7, max_leaf_nodes=20, min_samples_leaf=10, n_estimators=1000 \n",
      "[CV]  max_depth=5, max_features=0.7, max_leaf_nodes=20, min_samples_leaf=10, n_estimators=1000, total=   1.2s\n",
      "[CV] max_depth=5, max_features=0.7, max_leaf_nodes=20, min_samples_leaf=10, n_estimators=1000 \n",
      "[CV]  max_depth=5, max_features=0.7, max_leaf_nodes=20, min_samples_leaf=10, n_estimators=1000, total=   1.2s\n",
      "[CV] max_depth=5, max_features=0.7, max_leaf_nodes=20, min_samples_leaf=10, n_estimators=1500 \n",
      "[CV]  max_depth=5, max_features=0.7, max_leaf_nodes=20, min_samples_leaf=10, n_estimators=1500, total=   1.8s\n",
      "[CV] max_depth=5, max_features=0.7, max_leaf_nodes=20, min_samples_leaf=10, n_estimators=1500 \n",
      "[CV]  max_depth=5, max_features=0.7, max_leaf_nodes=20, min_samples_leaf=10, n_estimators=1500, total=   1.8s\n",
      "[CV] max_depth=5, max_features=0.7, max_leaf_nodes=20, min_samples_leaf=10, n_estimators=1500 \n",
      "[CV]  max_depth=5, max_features=0.7, max_leaf_nodes=20, min_samples_leaf=10, n_estimators=1500, total=   1.8s\n",
      "[CV] max_depth=5, max_features=0.7, max_leaf_nodes=20, min_samples_leaf=10, n_estimators=2000 \n",
      "[CV]  max_depth=5, max_features=0.7, max_leaf_nodes=20, min_samples_leaf=10, n_estimators=2000, total=   2.4s\n",
      "[CV] max_depth=5, max_features=0.7, max_leaf_nodes=20, min_samples_leaf=10, n_estimators=2000 \n",
      "[CV]  max_depth=5, max_features=0.7, max_leaf_nodes=20, min_samples_leaf=10, n_estimators=2000, total=   2.4s\n",
      "[CV] max_depth=5, max_features=0.7, max_leaf_nodes=20, min_samples_leaf=10, n_estimators=2000 \n",
      "[CV]  max_depth=5, max_features=0.7, max_leaf_nodes=20, min_samples_leaf=10, n_estimators=2000, total=   2.4s\n",
      "[CV] max_depth=5, max_features=0.7, max_leaf_nodes=20, min_samples_leaf=10, n_estimators=2500 \n",
      "[CV]  max_depth=5, max_features=0.7, max_leaf_nodes=20, min_samples_leaf=10, n_estimators=2500, total=   3.0s\n",
      "[CV] max_depth=5, max_features=0.7, max_leaf_nodes=20, min_samples_leaf=10, n_estimators=2500 \n",
      "[CV]  max_depth=5, max_features=0.7, max_leaf_nodes=20, min_samples_leaf=10, n_estimators=2500, total=   3.0s\n",
      "[CV] max_depth=5, max_features=0.7, max_leaf_nodes=20, min_samples_leaf=10, n_estimators=2500 \n",
      "[CV]  max_depth=5, max_features=0.7, max_leaf_nodes=20, min_samples_leaf=10, n_estimators=2500, total=   3.0s\n",
      "[CV] max_depth=5, max_features=0.7, max_leaf_nodes=20, min_samples_leaf=15, n_estimators=1000 \n",
      "[CV]  max_depth=5, max_features=0.7, max_leaf_nodes=20, min_samples_leaf=15, n_estimators=1000, total=   1.2s\n",
      "[CV] max_depth=5, max_features=0.7, max_leaf_nodes=20, min_samples_leaf=15, n_estimators=1000 \n"
     ]
    },
    {
     "name": "stdout",
     "output_type": "stream",
     "text": [
      "[CV]  max_depth=5, max_features=0.7, max_leaf_nodes=20, min_samples_leaf=15, n_estimators=1000, total=   1.2s\n",
      "[CV] max_depth=5, max_features=0.7, max_leaf_nodes=20, min_samples_leaf=15, n_estimators=1000 \n",
      "[CV]  max_depth=5, max_features=0.7, max_leaf_nodes=20, min_samples_leaf=15, n_estimators=1000, total=   1.2s\n",
      "[CV] max_depth=5, max_features=0.7, max_leaf_nodes=20, min_samples_leaf=15, n_estimators=1500 \n",
      "[CV]  max_depth=5, max_features=0.7, max_leaf_nodes=20, min_samples_leaf=15, n_estimators=1500, total=   1.8s\n",
      "[CV] max_depth=5, max_features=0.7, max_leaf_nodes=20, min_samples_leaf=15, n_estimators=1500 \n",
      "[CV]  max_depth=5, max_features=0.7, max_leaf_nodes=20, min_samples_leaf=15, n_estimators=1500, total=   1.8s\n",
      "[CV] max_depth=5, max_features=0.7, max_leaf_nodes=20, min_samples_leaf=15, n_estimators=1500 \n",
      "[CV]  max_depth=5, max_features=0.7, max_leaf_nodes=20, min_samples_leaf=15, n_estimators=1500, total=   1.8s\n",
      "[CV] max_depth=5, max_features=0.7, max_leaf_nodes=20, min_samples_leaf=15, n_estimators=2000 \n",
      "[CV]  max_depth=5, max_features=0.7, max_leaf_nodes=20, min_samples_leaf=15, n_estimators=2000, total=   2.4s\n",
      "[CV] max_depth=5, max_features=0.7, max_leaf_nodes=20, min_samples_leaf=15, n_estimators=2000 \n",
      "[CV]  max_depth=5, max_features=0.7, max_leaf_nodes=20, min_samples_leaf=15, n_estimators=2000, total=   2.4s\n",
      "[CV] max_depth=5, max_features=0.7, max_leaf_nodes=20, min_samples_leaf=15, n_estimators=2000 \n",
      "[CV]  max_depth=5, max_features=0.7, max_leaf_nodes=20, min_samples_leaf=15, n_estimators=2000, total=   2.4s\n",
      "[CV] max_depth=5, max_features=0.7, max_leaf_nodes=20, min_samples_leaf=15, n_estimators=2500 \n",
      "[CV]  max_depth=5, max_features=0.7, max_leaf_nodes=20, min_samples_leaf=15, n_estimators=2500, total=   3.0s\n",
      "[CV] max_depth=5, max_features=0.7, max_leaf_nodes=20, min_samples_leaf=15, n_estimators=2500 \n",
      "[CV]  max_depth=5, max_features=0.7, max_leaf_nodes=20, min_samples_leaf=15, n_estimators=2500, total=   2.9s\n",
      "[CV] max_depth=5, max_features=0.7, max_leaf_nodes=20, min_samples_leaf=15, n_estimators=2500 \n",
      "[CV]  max_depth=5, max_features=0.7, max_leaf_nodes=20, min_samples_leaf=15, n_estimators=2500, total=   3.0s\n",
      "[CV] max_depth=5, max_features=0.7, max_leaf_nodes=20, min_samples_leaf=20, n_estimators=1000 \n",
      "[CV]  max_depth=5, max_features=0.7, max_leaf_nodes=20, min_samples_leaf=20, n_estimators=1000, total=   1.2s\n",
      "[CV] max_depth=5, max_features=0.7, max_leaf_nodes=20, min_samples_leaf=20, n_estimators=1000 \n",
      "[CV]  max_depth=5, max_features=0.7, max_leaf_nodes=20, min_samples_leaf=20, n_estimators=1000, total=   1.2s\n",
      "[CV] max_depth=5, max_features=0.7, max_leaf_nodes=20, min_samples_leaf=20, n_estimators=1000 \n",
      "[CV]  max_depth=5, max_features=0.7, max_leaf_nodes=20, min_samples_leaf=20, n_estimators=1000, total=   1.2s\n",
      "[CV] max_depth=5, max_features=0.7, max_leaf_nodes=20, min_samples_leaf=20, n_estimators=1500 \n",
      "[CV]  max_depth=5, max_features=0.7, max_leaf_nodes=20, min_samples_leaf=20, n_estimators=1500, total=   1.7s\n",
      "[CV] max_depth=5, max_features=0.7, max_leaf_nodes=20, min_samples_leaf=20, n_estimators=1500 \n",
      "[CV]  max_depth=5, max_features=0.7, max_leaf_nodes=20, min_samples_leaf=20, n_estimators=1500, total=   1.8s\n",
      "[CV] max_depth=5, max_features=0.7, max_leaf_nodes=20, min_samples_leaf=20, n_estimators=1500 \n",
      "[CV]  max_depth=5, max_features=0.7, max_leaf_nodes=20, min_samples_leaf=20, n_estimators=1500, total=   1.7s\n",
      "[CV] max_depth=5, max_features=0.7, max_leaf_nodes=20, min_samples_leaf=20, n_estimators=2000 \n",
      "[CV]  max_depth=5, max_features=0.7, max_leaf_nodes=20, min_samples_leaf=20, n_estimators=2000, total=   2.3s\n",
      "[CV] max_depth=5, max_features=0.7, max_leaf_nodes=20, min_samples_leaf=20, n_estimators=2000 \n",
      "[CV]  max_depth=5, max_features=0.7, max_leaf_nodes=20, min_samples_leaf=20, n_estimators=2000, total=   2.3s\n",
      "[CV] max_depth=5, max_features=0.7, max_leaf_nodes=20, min_samples_leaf=20, n_estimators=2000 \n",
      "[CV]  max_depth=5, max_features=0.7, max_leaf_nodes=20, min_samples_leaf=20, n_estimators=2000, total=   2.3s\n",
      "[CV] max_depth=5, max_features=0.7, max_leaf_nodes=20, min_samples_leaf=20, n_estimators=2500 \n",
      "[CV]  max_depth=5, max_features=0.7, max_leaf_nodes=20, min_samples_leaf=20, n_estimators=2500, total=   2.9s\n",
      "[CV] max_depth=5, max_features=0.7, max_leaf_nodes=20, min_samples_leaf=20, n_estimators=2500 \n",
      "[CV]  max_depth=5, max_features=0.7, max_leaf_nodes=20, min_samples_leaf=20, n_estimators=2500, total=   2.9s\n",
      "[CV] max_depth=5, max_features=0.7, max_leaf_nodes=20, min_samples_leaf=20, n_estimators=2500 \n",
      "[CV]  max_depth=5, max_features=0.7, max_leaf_nodes=20, min_samples_leaf=20, n_estimators=2500, total=   2.9s\n",
      "[CV] max_depth=5, max_features=0.7, max_leaf_nodes=50, min_samples_leaf=10, n_estimators=1000 \n",
      "[CV]  max_depth=5, max_features=0.7, max_leaf_nodes=50, min_samples_leaf=10, n_estimators=1000, total=   1.2s\n",
      "[CV] max_depth=5, max_features=0.7, max_leaf_nodes=50, min_samples_leaf=10, n_estimators=1000 \n",
      "[CV]  max_depth=5, max_features=0.7, max_leaf_nodes=50, min_samples_leaf=10, n_estimators=1000, total=   1.2s\n",
      "[CV] max_depth=5, max_features=0.7, max_leaf_nodes=50, min_samples_leaf=10, n_estimators=1000 \n",
      "[CV]  max_depth=5, max_features=0.7, max_leaf_nodes=50, min_samples_leaf=10, n_estimators=1000, total=   1.2s\n",
      "[CV] max_depth=5, max_features=0.7, max_leaf_nodes=50, min_samples_leaf=10, n_estimators=1500 \n",
      "[CV]  max_depth=5, max_features=0.7, max_leaf_nodes=50, min_samples_leaf=10, n_estimators=1500, total=   1.8s\n",
      "[CV] max_depth=5, max_features=0.7, max_leaf_nodes=50, min_samples_leaf=10, n_estimators=1500 \n",
      "[CV]  max_depth=5, max_features=0.7, max_leaf_nodes=50, min_samples_leaf=10, n_estimators=1500, total=   1.8s\n",
      "[CV] max_depth=5, max_features=0.7, max_leaf_nodes=50, min_samples_leaf=10, n_estimators=1500 \n",
      "[CV]  max_depth=5, max_features=0.7, max_leaf_nodes=50, min_samples_leaf=10, n_estimators=1500, total=   1.8s\n",
      "[CV] max_depth=5, max_features=0.7, max_leaf_nodes=50, min_samples_leaf=10, n_estimators=2000 \n",
      "[CV]  max_depth=5, max_features=0.7, max_leaf_nodes=50, min_samples_leaf=10, n_estimators=2000, total=   2.4s\n",
      "[CV] max_depth=5, max_features=0.7, max_leaf_nodes=50, min_samples_leaf=10, n_estimators=2000 \n",
      "[CV]  max_depth=5, max_features=0.7, max_leaf_nodes=50, min_samples_leaf=10, n_estimators=2000, total=   2.4s\n",
      "[CV] max_depth=5, max_features=0.7, max_leaf_nodes=50, min_samples_leaf=10, n_estimators=2000 \n",
      "[CV]  max_depth=5, max_features=0.7, max_leaf_nodes=50, min_samples_leaf=10, n_estimators=2000, total=   2.4s\n",
      "[CV] max_depth=5, max_features=0.7, max_leaf_nodes=50, min_samples_leaf=10, n_estimators=2500 \n",
      "[CV]  max_depth=5, max_features=0.7, max_leaf_nodes=50, min_samples_leaf=10, n_estimators=2500, total=   3.0s\n",
      "[CV] max_depth=5, max_features=0.7, max_leaf_nodes=50, min_samples_leaf=10, n_estimators=2500 \n",
      "[CV]  max_depth=5, max_features=0.7, max_leaf_nodes=50, min_samples_leaf=10, n_estimators=2500, total=   3.0s\n",
      "[CV] max_depth=5, max_features=0.7, max_leaf_nodes=50, min_samples_leaf=10, n_estimators=2500 \n",
      "[CV]  max_depth=5, max_features=0.7, max_leaf_nodes=50, min_samples_leaf=10, n_estimators=2500, total=   3.0s\n",
      "[CV] max_depth=5, max_features=0.7, max_leaf_nodes=50, min_samples_leaf=15, n_estimators=1000 \n",
      "[CV]  max_depth=5, max_features=0.7, max_leaf_nodes=50, min_samples_leaf=15, n_estimators=1000, total=   1.2s\n",
      "[CV] max_depth=5, max_features=0.7, max_leaf_nodes=50, min_samples_leaf=15, n_estimators=1000 \n",
      "[CV]  max_depth=5, max_features=0.7, max_leaf_nodes=50, min_samples_leaf=15, n_estimators=1000, total=   1.2s\n",
      "[CV] max_depth=5, max_features=0.7, max_leaf_nodes=50, min_samples_leaf=15, n_estimators=1000 \n",
      "[CV]  max_depth=5, max_features=0.7, max_leaf_nodes=50, min_samples_leaf=15, n_estimators=1000, total=   1.2s\n",
      "[CV] max_depth=5, max_features=0.7, max_leaf_nodes=50, min_samples_leaf=15, n_estimators=1500 \n",
      "[CV]  max_depth=5, max_features=0.7, max_leaf_nodes=50, min_samples_leaf=15, n_estimators=1500, total=   1.8s\n",
      "[CV] max_depth=5, max_features=0.7, max_leaf_nodes=50, min_samples_leaf=15, n_estimators=1500 \n",
      "[CV]  max_depth=5, max_features=0.7, max_leaf_nodes=50, min_samples_leaf=15, n_estimators=1500, total=   1.8s\n",
      "[CV] max_depth=5, max_features=0.7, max_leaf_nodes=50, min_samples_leaf=15, n_estimators=1500 \n"
     ]
    },
    {
     "name": "stdout",
     "output_type": "stream",
     "text": [
      "[CV]  max_depth=5, max_features=0.7, max_leaf_nodes=50, min_samples_leaf=15, n_estimators=1500, total=   1.8s\n",
      "[CV] max_depth=5, max_features=0.7, max_leaf_nodes=50, min_samples_leaf=15, n_estimators=2000 \n",
      "[CV]  max_depth=5, max_features=0.7, max_leaf_nodes=50, min_samples_leaf=15, n_estimators=2000, total=   2.4s\n",
      "[CV] max_depth=5, max_features=0.7, max_leaf_nodes=50, min_samples_leaf=15, n_estimators=2000 \n",
      "[CV]  max_depth=5, max_features=0.7, max_leaf_nodes=50, min_samples_leaf=15, n_estimators=2000, total=   2.4s\n",
      "[CV] max_depth=5, max_features=0.7, max_leaf_nodes=50, min_samples_leaf=15, n_estimators=2000 \n",
      "[CV]  max_depth=5, max_features=0.7, max_leaf_nodes=50, min_samples_leaf=15, n_estimators=2000, total=   2.4s\n",
      "[CV] max_depth=5, max_features=0.7, max_leaf_nodes=50, min_samples_leaf=15, n_estimators=2500 \n",
      "[CV]  max_depth=5, max_features=0.7, max_leaf_nodes=50, min_samples_leaf=15, n_estimators=2500, total=   2.9s\n",
      "[CV] max_depth=5, max_features=0.7, max_leaf_nodes=50, min_samples_leaf=15, n_estimators=2500 \n",
      "[CV]  max_depth=5, max_features=0.7, max_leaf_nodes=50, min_samples_leaf=15, n_estimators=2500, total=   3.0s\n",
      "[CV] max_depth=5, max_features=0.7, max_leaf_nodes=50, min_samples_leaf=15, n_estimators=2500 \n",
      "[CV]  max_depth=5, max_features=0.7, max_leaf_nodes=50, min_samples_leaf=15, n_estimators=2500, total=   2.9s\n",
      "[CV] max_depth=5, max_features=0.7, max_leaf_nodes=50, min_samples_leaf=20, n_estimators=1000 \n",
      "[CV]  max_depth=5, max_features=0.7, max_leaf_nodes=50, min_samples_leaf=20, n_estimators=1000, total=   1.2s\n",
      "[CV] max_depth=5, max_features=0.7, max_leaf_nodes=50, min_samples_leaf=20, n_estimators=1000 \n",
      "[CV]  max_depth=5, max_features=0.7, max_leaf_nodes=50, min_samples_leaf=20, n_estimators=1000, total=   1.2s\n",
      "[CV] max_depth=5, max_features=0.7, max_leaf_nodes=50, min_samples_leaf=20, n_estimators=1000 \n",
      "[CV]  max_depth=5, max_features=0.7, max_leaf_nodes=50, min_samples_leaf=20, n_estimators=1000, total=   1.2s\n",
      "[CV] max_depth=5, max_features=0.7, max_leaf_nodes=50, min_samples_leaf=20, n_estimators=1500 \n",
      "[CV]  max_depth=5, max_features=0.7, max_leaf_nodes=50, min_samples_leaf=20, n_estimators=1500, total=   1.8s\n",
      "[CV] max_depth=5, max_features=0.7, max_leaf_nodes=50, min_samples_leaf=20, n_estimators=1500 \n",
      "[CV]  max_depth=5, max_features=0.7, max_leaf_nodes=50, min_samples_leaf=20, n_estimators=1500, total=   1.8s\n",
      "[CV] max_depth=5, max_features=0.7, max_leaf_nodes=50, min_samples_leaf=20, n_estimators=1500 \n",
      "[CV]  max_depth=5, max_features=0.7, max_leaf_nodes=50, min_samples_leaf=20, n_estimators=1500, total=   1.7s\n",
      "[CV] max_depth=5, max_features=0.7, max_leaf_nodes=50, min_samples_leaf=20, n_estimators=2000 \n",
      "[CV]  max_depth=5, max_features=0.7, max_leaf_nodes=50, min_samples_leaf=20, n_estimators=2000, total=   2.3s\n",
      "[CV] max_depth=5, max_features=0.7, max_leaf_nodes=50, min_samples_leaf=20, n_estimators=2000 \n",
      "[CV]  max_depth=5, max_features=0.7, max_leaf_nodes=50, min_samples_leaf=20, n_estimators=2000, total=   2.3s\n",
      "[CV] max_depth=5, max_features=0.7, max_leaf_nodes=50, min_samples_leaf=20, n_estimators=2000 \n",
      "[CV]  max_depth=5, max_features=0.7, max_leaf_nodes=50, min_samples_leaf=20, n_estimators=2000, total=   2.3s\n",
      "[CV] max_depth=5, max_features=0.7, max_leaf_nodes=50, min_samples_leaf=20, n_estimators=2500 \n",
      "[CV]  max_depth=5, max_features=0.7, max_leaf_nodes=50, min_samples_leaf=20, n_estimators=2500, total=   2.9s\n",
      "[CV] max_depth=5, max_features=0.7, max_leaf_nodes=50, min_samples_leaf=20, n_estimators=2500 \n",
      "[CV]  max_depth=5, max_features=0.7, max_leaf_nodes=50, min_samples_leaf=20, n_estimators=2500, total=   2.9s\n",
      "[CV] max_depth=5, max_features=0.7, max_leaf_nodes=50, min_samples_leaf=20, n_estimators=2500 \n",
      "[CV]  max_depth=5, max_features=0.7, max_leaf_nodes=50, min_samples_leaf=20, n_estimators=2500, total=   2.9s\n",
      "[CV] max_depth=5, max_features=0.7, max_leaf_nodes=80, min_samples_leaf=10, n_estimators=1000 \n",
      "[CV]  max_depth=5, max_features=0.7, max_leaf_nodes=80, min_samples_leaf=10, n_estimators=1000, total=   1.2s\n",
      "[CV] max_depth=5, max_features=0.7, max_leaf_nodes=80, min_samples_leaf=10, n_estimators=1000 \n",
      "[CV]  max_depth=5, max_features=0.7, max_leaf_nodes=80, min_samples_leaf=10, n_estimators=1000, total=   1.2s\n",
      "[CV] max_depth=5, max_features=0.7, max_leaf_nodes=80, min_samples_leaf=10, n_estimators=1000 \n",
      "[CV]  max_depth=5, max_features=0.7, max_leaf_nodes=80, min_samples_leaf=10, n_estimators=1000, total=   1.2s\n",
      "[CV] max_depth=5, max_features=0.7, max_leaf_nodes=80, min_samples_leaf=10, n_estimators=1500 \n",
      "[CV]  max_depth=5, max_features=0.7, max_leaf_nodes=80, min_samples_leaf=10, n_estimators=1500, total=   1.8s\n",
      "[CV] max_depth=5, max_features=0.7, max_leaf_nodes=80, min_samples_leaf=10, n_estimators=1500 \n",
      "[CV]  max_depth=5, max_features=0.7, max_leaf_nodes=80, min_samples_leaf=10, n_estimators=1500, total=   1.8s\n",
      "[CV] max_depth=5, max_features=0.7, max_leaf_nodes=80, min_samples_leaf=10, n_estimators=1500 \n",
      "[CV]  max_depth=5, max_features=0.7, max_leaf_nodes=80, min_samples_leaf=10, n_estimators=1500, total=   1.8s\n",
      "[CV] max_depth=5, max_features=0.7, max_leaf_nodes=80, min_samples_leaf=10, n_estimators=2000 \n",
      "[CV]  max_depth=5, max_features=0.7, max_leaf_nodes=80, min_samples_leaf=10, n_estimators=2000, total=   2.4s\n",
      "[CV] max_depth=5, max_features=0.7, max_leaf_nodes=80, min_samples_leaf=10, n_estimators=2000 \n",
      "[CV]  max_depth=5, max_features=0.7, max_leaf_nodes=80, min_samples_leaf=10, n_estimators=2000, total=   2.4s\n",
      "[CV] max_depth=5, max_features=0.7, max_leaf_nodes=80, min_samples_leaf=10, n_estimators=2000 \n",
      "[CV]  max_depth=5, max_features=0.7, max_leaf_nodes=80, min_samples_leaf=10, n_estimators=2000, total=   2.4s\n",
      "[CV] max_depth=5, max_features=0.7, max_leaf_nodes=80, min_samples_leaf=10, n_estimators=2500 \n",
      "[CV]  max_depth=5, max_features=0.7, max_leaf_nodes=80, min_samples_leaf=10, n_estimators=2500, total=   3.0s\n",
      "[CV] max_depth=5, max_features=0.7, max_leaf_nodes=80, min_samples_leaf=10, n_estimators=2500 \n",
      "[CV]  max_depth=5, max_features=0.7, max_leaf_nodes=80, min_samples_leaf=10, n_estimators=2500, total=   3.0s\n",
      "[CV] max_depth=5, max_features=0.7, max_leaf_nodes=80, min_samples_leaf=10, n_estimators=2500 \n",
      "[CV]  max_depth=5, max_features=0.7, max_leaf_nodes=80, min_samples_leaf=10, n_estimators=2500, total=   3.0s\n",
      "[CV] max_depth=5, max_features=0.7, max_leaf_nodes=80, min_samples_leaf=15, n_estimators=1000 \n",
      "[CV]  max_depth=5, max_features=0.7, max_leaf_nodes=80, min_samples_leaf=15, n_estimators=1000, total=   1.2s\n",
      "[CV] max_depth=5, max_features=0.7, max_leaf_nodes=80, min_samples_leaf=15, n_estimators=1000 \n",
      "[CV]  max_depth=5, max_features=0.7, max_leaf_nodes=80, min_samples_leaf=15, n_estimators=1000, total=   1.2s\n",
      "[CV] max_depth=5, max_features=0.7, max_leaf_nodes=80, min_samples_leaf=15, n_estimators=1000 \n",
      "[CV]  max_depth=5, max_features=0.7, max_leaf_nodes=80, min_samples_leaf=15, n_estimators=1000, total=   1.2s\n",
      "[CV] max_depth=5, max_features=0.7, max_leaf_nodes=80, min_samples_leaf=15, n_estimators=1500 \n",
      "[CV]  max_depth=5, max_features=0.7, max_leaf_nodes=80, min_samples_leaf=15, n_estimators=1500, total=   1.8s\n",
      "[CV] max_depth=5, max_features=0.7, max_leaf_nodes=80, min_samples_leaf=15, n_estimators=1500 \n",
      "[CV]  max_depth=5, max_features=0.7, max_leaf_nodes=80, min_samples_leaf=15, n_estimators=1500, total=   1.8s\n",
      "[CV] max_depth=5, max_features=0.7, max_leaf_nodes=80, min_samples_leaf=15, n_estimators=1500 \n",
      "[CV]  max_depth=5, max_features=0.7, max_leaf_nodes=80, min_samples_leaf=15, n_estimators=1500, total=   1.8s\n",
      "[CV] max_depth=5, max_features=0.7, max_leaf_nodes=80, min_samples_leaf=15, n_estimators=2000 \n",
      "[CV]  max_depth=5, max_features=0.7, max_leaf_nodes=80, min_samples_leaf=15, n_estimators=2000, total=   2.4s\n",
      "[CV] max_depth=5, max_features=0.7, max_leaf_nodes=80, min_samples_leaf=15, n_estimators=2000 \n",
      "[CV]  max_depth=5, max_features=0.7, max_leaf_nodes=80, min_samples_leaf=15, n_estimators=2000, total=   2.3s\n",
      "[CV] max_depth=5, max_features=0.7, max_leaf_nodes=80, min_samples_leaf=15, n_estimators=2000 \n",
      "[CV]  max_depth=5, max_features=0.7, max_leaf_nodes=80, min_samples_leaf=15, n_estimators=2000, total=   2.3s\n",
      "[CV] max_depth=5, max_features=0.7, max_leaf_nodes=80, min_samples_leaf=15, n_estimators=2500 \n"
     ]
    },
    {
     "name": "stdout",
     "output_type": "stream",
     "text": [
      "[CV]  max_depth=5, max_features=0.7, max_leaf_nodes=80, min_samples_leaf=15, n_estimators=2500, total=   3.0s\n",
      "[CV] max_depth=5, max_features=0.7, max_leaf_nodes=80, min_samples_leaf=15, n_estimators=2500 \n",
      "[CV]  max_depth=5, max_features=0.7, max_leaf_nodes=80, min_samples_leaf=15, n_estimators=2500, total=   2.9s\n",
      "[CV] max_depth=5, max_features=0.7, max_leaf_nodes=80, min_samples_leaf=15, n_estimators=2500 \n",
      "[CV]  max_depth=5, max_features=0.7, max_leaf_nodes=80, min_samples_leaf=15, n_estimators=2500, total=   3.0s\n",
      "[CV] max_depth=5, max_features=0.7, max_leaf_nodes=80, min_samples_leaf=20, n_estimators=1000 \n",
      "[CV]  max_depth=5, max_features=0.7, max_leaf_nodes=80, min_samples_leaf=20, n_estimators=1000, total=   1.1s\n",
      "[CV] max_depth=5, max_features=0.7, max_leaf_nodes=80, min_samples_leaf=20, n_estimators=1000 \n",
      "[CV]  max_depth=5, max_features=0.7, max_leaf_nodes=80, min_samples_leaf=20, n_estimators=1000, total=   1.2s\n",
      "[CV] max_depth=5, max_features=0.7, max_leaf_nodes=80, min_samples_leaf=20, n_estimators=1000 \n",
      "[CV]  max_depth=5, max_features=0.7, max_leaf_nodes=80, min_samples_leaf=20, n_estimators=1000, total=   1.2s\n",
      "[CV] max_depth=5, max_features=0.7, max_leaf_nodes=80, min_samples_leaf=20, n_estimators=1500 \n",
      "[CV]  max_depth=5, max_features=0.7, max_leaf_nodes=80, min_samples_leaf=20, n_estimators=1500, total=   1.7s\n",
      "[CV] max_depth=5, max_features=0.7, max_leaf_nodes=80, min_samples_leaf=20, n_estimators=1500 \n",
      "[CV]  max_depth=5, max_features=0.7, max_leaf_nodes=80, min_samples_leaf=20, n_estimators=1500, total=   1.7s\n",
      "[CV] max_depth=5, max_features=0.7, max_leaf_nodes=80, min_samples_leaf=20, n_estimators=1500 \n",
      "[CV]  max_depth=5, max_features=0.7, max_leaf_nodes=80, min_samples_leaf=20, n_estimators=1500, total=   1.7s\n",
      "[CV] max_depth=5, max_features=0.7, max_leaf_nodes=80, min_samples_leaf=20, n_estimators=2000 \n",
      "[CV]  max_depth=5, max_features=0.7, max_leaf_nodes=80, min_samples_leaf=20, n_estimators=2000, total=   2.4s\n",
      "[CV] max_depth=5, max_features=0.7, max_leaf_nodes=80, min_samples_leaf=20, n_estimators=2000 \n",
      "[CV]  max_depth=5, max_features=0.7, max_leaf_nodes=80, min_samples_leaf=20, n_estimators=2000, total=   2.3s\n",
      "[CV] max_depth=5, max_features=0.7, max_leaf_nodes=80, min_samples_leaf=20, n_estimators=2000 \n",
      "[CV]  max_depth=5, max_features=0.7, max_leaf_nodes=80, min_samples_leaf=20, n_estimators=2000, total=   2.4s\n",
      "[CV] max_depth=5, max_features=0.7, max_leaf_nodes=80, min_samples_leaf=20, n_estimators=2500 \n",
      "[CV]  max_depth=5, max_features=0.7, max_leaf_nodes=80, min_samples_leaf=20, n_estimators=2500, total=   2.9s\n",
      "[CV] max_depth=5, max_features=0.7, max_leaf_nodes=80, min_samples_leaf=20, n_estimators=2500 \n",
      "[CV]  max_depth=5, max_features=0.7, max_leaf_nodes=80, min_samples_leaf=20, n_estimators=2500, total=   2.9s\n",
      "[CV] max_depth=5, max_features=0.7, max_leaf_nodes=80, min_samples_leaf=20, n_estimators=2500 \n",
      "[CV]  max_depth=5, max_features=0.7, max_leaf_nodes=80, min_samples_leaf=20, n_estimators=2500, total=   2.9s\n",
      "[CV] max_depth=10, max_features=0.5, max_leaf_nodes=20, min_samples_leaf=10, n_estimators=1000 \n",
      "[CV]  max_depth=10, max_features=0.5, max_leaf_nodes=20, min_samples_leaf=10, n_estimators=1000, total=   1.2s\n",
      "[CV] max_depth=10, max_features=0.5, max_leaf_nodes=20, min_samples_leaf=10, n_estimators=1000 \n",
      "[CV]  max_depth=10, max_features=0.5, max_leaf_nodes=20, min_samples_leaf=10, n_estimators=1000, total=   1.2s\n",
      "[CV] max_depth=10, max_features=0.5, max_leaf_nodes=20, min_samples_leaf=10, n_estimators=1000 \n",
      "[CV]  max_depth=10, max_features=0.5, max_leaf_nodes=20, min_samples_leaf=10, n_estimators=1000, total=   1.2s\n",
      "[CV] max_depth=10, max_features=0.5, max_leaf_nodes=20, min_samples_leaf=10, n_estimators=1500 \n",
      "[CV]  max_depth=10, max_features=0.5, max_leaf_nodes=20, min_samples_leaf=10, n_estimators=1500, total=   1.7s\n",
      "[CV] max_depth=10, max_features=0.5, max_leaf_nodes=20, min_samples_leaf=10, n_estimators=1500 \n",
      "[CV]  max_depth=10, max_features=0.5, max_leaf_nodes=20, min_samples_leaf=10, n_estimators=1500, total=   1.7s\n",
      "[CV] max_depth=10, max_features=0.5, max_leaf_nodes=20, min_samples_leaf=10, n_estimators=1500 \n",
      "[CV]  max_depth=10, max_features=0.5, max_leaf_nodes=20, min_samples_leaf=10, n_estimators=1500, total=   1.7s\n",
      "[CV] max_depth=10, max_features=0.5, max_leaf_nodes=20, min_samples_leaf=10, n_estimators=2000 \n",
      "[CV]  max_depth=10, max_features=0.5, max_leaf_nodes=20, min_samples_leaf=10, n_estimators=2000, total=   2.3s\n",
      "[CV] max_depth=10, max_features=0.5, max_leaf_nodes=20, min_samples_leaf=10, n_estimators=2000 \n",
      "[CV]  max_depth=10, max_features=0.5, max_leaf_nodes=20, min_samples_leaf=10, n_estimators=2000, total=   2.3s\n",
      "[CV] max_depth=10, max_features=0.5, max_leaf_nodes=20, min_samples_leaf=10, n_estimators=2000 \n",
      "[CV]  max_depth=10, max_features=0.5, max_leaf_nodes=20, min_samples_leaf=10, n_estimators=2000, total=   2.3s\n",
      "[CV] max_depth=10, max_features=0.5, max_leaf_nodes=20, min_samples_leaf=10, n_estimators=2500 \n",
      "[CV]  max_depth=10, max_features=0.5, max_leaf_nodes=20, min_samples_leaf=10, n_estimators=2500, total=   2.9s\n",
      "[CV] max_depth=10, max_features=0.5, max_leaf_nodes=20, min_samples_leaf=10, n_estimators=2500 \n",
      "[CV]  max_depth=10, max_features=0.5, max_leaf_nodes=20, min_samples_leaf=10, n_estimators=2500, total=   3.0s\n",
      "[CV] max_depth=10, max_features=0.5, max_leaf_nodes=20, min_samples_leaf=10, n_estimators=2500 \n",
      "[CV]  max_depth=10, max_features=0.5, max_leaf_nodes=20, min_samples_leaf=10, n_estimators=2500, total=   2.9s\n",
      "[CV] max_depth=10, max_features=0.5, max_leaf_nodes=20, min_samples_leaf=15, n_estimators=1000 \n",
      "[CV]  max_depth=10, max_features=0.5, max_leaf_nodes=20, min_samples_leaf=15, n_estimators=1000, total=   1.1s\n",
      "[CV] max_depth=10, max_features=0.5, max_leaf_nodes=20, min_samples_leaf=15, n_estimators=1000 \n",
      "[CV]  max_depth=10, max_features=0.5, max_leaf_nodes=20, min_samples_leaf=15, n_estimators=1000, total=   1.1s\n",
      "[CV] max_depth=10, max_features=0.5, max_leaf_nodes=20, min_samples_leaf=15, n_estimators=1000 \n",
      "[CV]  max_depth=10, max_features=0.5, max_leaf_nodes=20, min_samples_leaf=15, n_estimators=1000, total=   1.1s\n",
      "[CV] max_depth=10, max_features=0.5, max_leaf_nodes=20, min_samples_leaf=15, n_estimators=1500 \n",
      "[CV]  max_depth=10, max_features=0.5, max_leaf_nodes=20, min_samples_leaf=15, n_estimators=1500, total=   1.7s\n",
      "[CV] max_depth=10, max_features=0.5, max_leaf_nodes=20, min_samples_leaf=15, n_estimators=1500 \n",
      "[CV]  max_depth=10, max_features=0.5, max_leaf_nodes=20, min_samples_leaf=15, n_estimators=1500, total=   1.7s\n",
      "[CV] max_depth=10, max_features=0.5, max_leaf_nodes=20, min_samples_leaf=15, n_estimators=1500 \n",
      "[CV]  max_depth=10, max_features=0.5, max_leaf_nodes=20, min_samples_leaf=15, n_estimators=1500, total=   1.7s\n",
      "[CV] max_depth=10, max_features=0.5, max_leaf_nodes=20, min_samples_leaf=15, n_estimators=2000 \n",
      "[CV]  max_depth=10, max_features=0.5, max_leaf_nodes=20, min_samples_leaf=15, n_estimators=2000, total=   2.3s\n",
      "[CV] max_depth=10, max_features=0.5, max_leaf_nodes=20, min_samples_leaf=15, n_estimators=2000 \n",
      "[CV]  max_depth=10, max_features=0.5, max_leaf_nodes=20, min_samples_leaf=15, n_estimators=2000, total=   2.3s\n",
      "[CV] max_depth=10, max_features=0.5, max_leaf_nodes=20, min_samples_leaf=15, n_estimators=2000 \n",
      "[CV]  max_depth=10, max_features=0.5, max_leaf_nodes=20, min_samples_leaf=15, n_estimators=2000, total=   2.3s\n",
      "[CV] max_depth=10, max_features=0.5, max_leaf_nodes=20, min_samples_leaf=15, n_estimators=2500 \n",
      "[CV]  max_depth=10, max_features=0.5, max_leaf_nodes=20, min_samples_leaf=15, n_estimators=2500, total=   2.8s\n",
      "[CV] max_depth=10, max_features=0.5, max_leaf_nodes=20, min_samples_leaf=15, n_estimators=2500 \n",
      "[CV]  max_depth=10, max_features=0.5, max_leaf_nodes=20, min_samples_leaf=15, n_estimators=2500, total=   2.8s\n",
      "[CV] max_depth=10, max_features=0.5, max_leaf_nodes=20, min_samples_leaf=15, n_estimators=2500 \n",
      "[CV]  max_depth=10, max_features=0.5, max_leaf_nodes=20, min_samples_leaf=15, n_estimators=2500, total=   2.8s\n",
      "[CV] max_depth=10, max_features=0.5, max_leaf_nodes=20, min_samples_leaf=20, n_estimators=1000 \n",
      "[CV]  max_depth=10, max_features=0.5, max_leaf_nodes=20, min_samples_leaf=20, n_estimators=1000, total=   1.2s\n",
      "[CV] max_depth=10, max_features=0.5, max_leaf_nodes=20, min_samples_leaf=20, n_estimators=1000 \n"
     ]
    },
    {
     "name": "stdout",
     "output_type": "stream",
     "text": [
      "[CV]  max_depth=10, max_features=0.5, max_leaf_nodes=20, min_samples_leaf=20, n_estimators=1000, total=   1.1s\n",
      "[CV] max_depth=10, max_features=0.5, max_leaf_nodes=20, min_samples_leaf=20, n_estimators=1000 \n",
      "[CV]  max_depth=10, max_features=0.5, max_leaf_nodes=20, min_samples_leaf=20, n_estimators=1000, total=   1.1s\n",
      "[CV] max_depth=10, max_features=0.5, max_leaf_nodes=20, min_samples_leaf=20, n_estimators=1500 \n",
      "[CV]  max_depth=10, max_features=0.5, max_leaf_nodes=20, min_samples_leaf=20, n_estimators=1500, total=   1.7s\n",
      "[CV] max_depth=10, max_features=0.5, max_leaf_nodes=20, min_samples_leaf=20, n_estimators=1500 \n",
      "[CV]  max_depth=10, max_features=0.5, max_leaf_nodes=20, min_samples_leaf=20, n_estimators=1500, total=   1.7s\n",
      "[CV] max_depth=10, max_features=0.5, max_leaf_nodes=20, min_samples_leaf=20, n_estimators=1500 \n",
      "[CV]  max_depth=10, max_features=0.5, max_leaf_nodes=20, min_samples_leaf=20, n_estimators=1500, total=   1.7s\n",
      "[CV] max_depth=10, max_features=0.5, max_leaf_nodes=20, min_samples_leaf=20, n_estimators=2000 \n",
      "[CV]  max_depth=10, max_features=0.5, max_leaf_nodes=20, min_samples_leaf=20, n_estimators=2000, total=   2.2s\n",
      "[CV] max_depth=10, max_features=0.5, max_leaf_nodes=20, min_samples_leaf=20, n_estimators=2000 \n",
      "[CV]  max_depth=10, max_features=0.5, max_leaf_nodes=20, min_samples_leaf=20, n_estimators=2000, total=   2.2s\n",
      "[CV] max_depth=10, max_features=0.5, max_leaf_nodes=20, min_samples_leaf=20, n_estimators=2000 \n",
      "[CV]  max_depth=10, max_features=0.5, max_leaf_nodes=20, min_samples_leaf=20, n_estimators=2000, total=   2.3s\n",
      "[CV] max_depth=10, max_features=0.5, max_leaf_nodes=20, min_samples_leaf=20, n_estimators=2500 \n",
      "[CV]  max_depth=10, max_features=0.5, max_leaf_nodes=20, min_samples_leaf=20, n_estimators=2500, total=   2.8s\n",
      "[CV] max_depth=10, max_features=0.5, max_leaf_nodes=20, min_samples_leaf=20, n_estimators=2500 \n",
      "[CV]  max_depth=10, max_features=0.5, max_leaf_nodes=20, min_samples_leaf=20, n_estimators=2500, total=   2.8s\n",
      "[CV] max_depth=10, max_features=0.5, max_leaf_nodes=20, min_samples_leaf=20, n_estimators=2500 \n",
      "[CV]  max_depth=10, max_features=0.5, max_leaf_nodes=20, min_samples_leaf=20, n_estimators=2500, total=   2.8s\n",
      "[CV] max_depth=10, max_features=0.5, max_leaf_nodes=50, min_samples_leaf=10, n_estimators=1000 \n",
      "[CV]  max_depth=10, max_features=0.5, max_leaf_nodes=50, min_samples_leaf=10, n_estimators=1000, total=   1.2s\n",
      "[CV] max_depth=10, max_features=0.5, max_leaf_nodes=50, min_samples_leaf=10, n_estimators=1000 \n",
      "[CV]  max_depth=10, max_features=0.5, max_leaf_nodes=50, min_samples_leaf=10, n_estimators=1000, total=   1.2s\n",
      "[CV] max_depth=10, max_features=0.5, max_leaf_nodes=50, min_samples_leaf=10, n_estimators=1000 \n",
      "[CV]  max_depth=10, max_features=0.5, max_leaf_nodes=50, min_samples_leaf=10, n_estimators=1000, total=   1.2s\n",
      "[CV] max_depth=10, max_features=0.5, max_leaf_nodes=50, min_samples_leaf=10, n_estimators=1500 \n",
      "[CV]  max_depth=10, max_features=0.5, max_leaf_nodes=50, min_samples_leaf=10, n_estimators=1500, total=   1.7s\n",
      "[CV] max_depth=10, max_features=0.5, max_leaf_nodes=50, min_samples_leaf=10, n_estimators=1500 \n",
      "[CV]  max_depth=10, max_features=0.5, max_leaf_nodes=50, min_samples_leaf=10, n_estimators=1500, total=   1.8s\n",
      "[CV] max_depth=10, max_features=0.5, max_leaf_nodes=50, min_samples_leaf=10, n_estimators=1500 \n",
      "[CV]  max_depth=10, max_features=0.5, max_leaf_nodes=50, min_samples_leaf=10, n_estimators=1500, total=   1.8s\n",
      "[CV] max_depth=10, max_features=0.5, max_leaf_nodes=50, min_samples_leaf=10, n_estimators=2000 \n",
      "[CV]  max_depth=10, max_features=0.5, max_leaf_nodes=50, min_samples_leaf=10, n_estimators=2000, total=   2.4s\n",
      "[CV] max_depth=10, max_features=0.5, max_leaf_nodes=50, min_samples_leaf=10, n_estimators=2000 \n",
      "[CV]  max_depth=10, max_features=0.5, max_leaf_nodes=50, min_samples_leaf=10, n_estimators=2000, total=   2.3s\n",
      "[CV] max_depth=10, max_features=0.5, max_leaf_nodes=50, min_samples_leaf=10, n_estimators=2000 \n",
      "[CV]  max_depth=10, max_features=0.5, max_leaf_nodes=50, min_samples_leaf=10, n_estimators=2000, total=   2.3s\n",
      "[CV] max_depth=10, max_features=0.5, max_leaf_nodes=50, min_samples_leaf=10, n_estimators=2500 \n",
      "[CV]  max_depth=10, max_features=0.5, max_leaf_nodes=50, min_samples_leaf=10, n_estimators=2500, total=   2.9s\n",
      "[CV] max_depth=10, max_features=0.5, max_leaf_nodes=50, min_samples_leaf=10, n_estimators=2500 \n",
      "[CV]  max_depth=10, max_features=0.5, max_leaf_nodes=50, min_samples_leaf=10, n_estimators=2500, total=   2.9s\n",
      "[CV] max_depth=10, max_features=0.5, max_leaf_nodes=50, min_samples_leaf=10, n_estimators=2500 \n",
      "[CV]  max_depth=10, max_features=0.5, max_leaf_nodes=50, min_samples_leaf=10, n_estimators=2500, total=   3.0s\n",
      "[CV] max_depth=10, max_features=0.5, max_leaf_nodes=50, min_samples_leaf=15, n_estimators=1000 \n",
      "[CV]  max_depth=10, max_features=0.5, max_leaf_nodes=50, min_samples_leaf=15, n_estimators=1000, total=   1.2s\n",
      "[CV] max_depth=10, max_features=0.5, max_leaf_nodes=50, min_samples_leaf=15, n_estimators=1000 \n",
      "[CV]  max_depth=10, max_features=0.5, max_leaf_nodes=50, min_samples_leaf=15, n_estimators=1000, total=   1.1s\n",
      "[CV] max_depth=10, max_features=0.5, max_leaf_nodes=50, min_samples_leaf=15, n_estimators=1000 \n",
      "[CV]  max_depth=10, max_features=0.5, max_leaf_nodes=50, min_samples_leaf=15, n_estimators=1000, total=   1.1s\n",
      "[CV] max_depth=10, max_features=0.5, max_leaf_nodes=50, min_samples_leaf=15, n_estimators=1500 \n",
      "[CV]  max_depth=10, max_features=0.5, max_leaf_nodes=50, min_samples_leaf=15, n_estimators=1500, total=   1.7s\n",
      "[CV] max_depth=10, max_features=0.5, max_leaf_nodes=50, min_samples_leaf=15, n_estimators=1500 \n",
      "[CV]  max_depth=10, max_features=0.5, max_leaf_nodes=50, min_samples_leaf=15, n_estimators=1500, total=   1.7s\n",
      "[CV] max_depth=10, max_features=0.5, max_leaf_nodes=50, min_samples_leaf=15, n_estimators=1500 \n",
      "[CV]  max_depth=10, max_features=0.5, max_leaf_nodes=50, min_samples_leaf=15, n_estimators=1500, total=   1.7s\n",
      "[CV] max_depth=10, max_features=0.5, max_leaf_nodes=50, min_samples_leaf=15, n_estimators=2000 \n",
      "[CV]  max_depth=10, max_features=0.5, max_leaf_nodes=50, min_samples_leaf=15, n_estimators=2000, total=   2.3s\n",
      "[CV] max_depth=10, max_features=0.5, max_leaf_nodes=50, min_samples_leaf=15, n_estimators=2000 \n",
      "[CV]  max_depth=10, max_features=0.5, max_leaf_nodes=50, min_samples_leaf=15, n_estimators=2000, total=   2.3s\n",
      "[CV] max_depth=10, max_features=0.5, max_leaf_nodes=50, min_samples_leaf=15, n_estimators=2000 \n",
      "[CV]  max_depth=10, max_features=0.5, max_leaf_nodes=50, min_samples_leaf=15, n_estimators=2000, total=   2.3s\n",
      "[CV] max_depth=10, max_features=0.5, max_leaf_nodes=50, min_samples_leaf=15, n_estimators=2500 \n",
      "[CV]  max_depth=10, max_features=0.5, max_leaf_nodes=50, min_samples_leaf=15, n_estimators=2500, total=   2.8s\n",
      "[CV] max_depth=10, max_features=0.5, max_leaf_nodes=50, min_samples_leaf=15, n_estimators=2500 \n",
      "[CV]  max_depth=10, max_features=0.5, max_leaf_nodes=50, min_samples_leaf=15, n_estimators=2500, total=   2.8s\n",
      "[CV] max_depth=10, max_features=0.5, max_leaf_nodes=50, min_samples_leaf=15, n_estimators=2500 \n",
      "[CV]  max_depth=10, max_features=0.5, max_leaf_nodes=50, min_samples_leaf=15, n_estimators=2500, total=   2.8s\n",
      "[CV] max_depth=10, max_features=0.5, max_leaf_nodes=50, min_samples_leaf=20, n_estimators=1000 \n",
      "[CV]  max_depth=10, max_features=0.5, max_leaf_nodes=50, min_samples_leaf=20, n_estimators=1000, total=   1.1s\n",
      "[CV] max_depth=10, max_features=0.5, max_leaf_nodes=50, min_samples_leaf=20, n_estimators=1000 \n",
      "[CV]  max_depth=10, max_features=0.5, max_leaf_nodes=50, min_samples_leaf=20, n_estimators=1000, total=   1.1s\n",
      "[CV] max_depth=10, max_features=0.5, max_leaf_nodes=50, min_samples_leaf=20, n_estimators=1000 \n",
      "[CV]  max_depth=10, max_features=0.5, max_leaf_nodes=50, min_samples_leaf=20, n_estimators=1000, total=   1.2s\n",
      "[CV] max_depth=10, max_features=0.5, max_leaf_nodes=50, min_samples_leaf=20, n_estimators=1500 \n",
      "[CV]  max_depth=10, max_features=0.5, max_leaf_nodes=50, min_samples_leaf=20, n_estimators=1500, total=   1.7s\n",
      "[CV] max_depth=10, max_features=0.5, max_leaf_nodes=50, min_samples_leaf=20, n_estimators=1500 \n",
      "[CV]  max_depth=10, max_features=0.5, max_leaf_nodes=50, min_samples_leaf=20, n_estimators=1500, total=   1.7s\n",
      "[CV] max_depth=10, max_features=0.5, max_leaf_nodes=50, min_samples_leaf=20, n_estimators=1500 \n"
     ]
    },
    {
     "name": "stdout",
     "output_type": "stream",
     "text": [
      "[CV]  max_depth=10, max_features=0.5, max_leaf_nodes=50, min_samples_leaf=20, n_estimators=1500, total=   1.7s\n",
      "[CV] max_depth=10, max_features=0.5, max_leaf_nodes=50, min_samples_leaf=20, n_estimators=2000 \n",
      "[CV]  max_depth=10, max_features=0.5, max_leaf_nodes=50, min_samples_leaf=20, n_estimators=2000, total=   2.2s\n",
      "[CV] max_depth=10, max_features=0.5, max_leaf_nodes=50, min_samples_leaf=20, n_estimators=2000 \n",
      "[CV]  max_depth=10, max_features=0.5, max_leaf_nodes=50, min_samples_leaf=20, n_estimators=2000, total=   2.2s\n",
      "[CV] max_depth=10, max_features=0.5, max_leaf_nodes=50, min_samples_leaf=20, n_estimators=2000 \n",
      "[CV]  max_depth=10, max_features=0.5, max_leaf_nodes=50, min_samples_leaf=20, n_estimators=2000, total=   2.2s\n",
      "[CV] max_depth=10, max_features=0.5, max_leaf_nodes=50, min_samples_leaf=20, n_estimators=2500 \n",
      "[CV]  max_depth=10, max_features=0.5, max_leaf_nodes=50, min_samples_leaf=20, n_estimators=2500, total=   2.7s\n",
      "[CV] max_depth=10, max_features=0.5, max_leaf_nodes=50, min_samples_leaf=20, n_estimators=2500 \n",
      "[CV]  max_depth=10, max_features=0.5, max_leaf_nodes=50, min_samples_leaf=20, n_estimators=2500, total=   2.8s\n",
      "[CV] max_depth=10, max_features=0.5, max_leaf_nodes=50, min_samples_leaf=20, n_estimators=2500 \n",
      "[CV]  max_depth=10, max_features=0.5, max_leaf_nodes=50, min_samples_leaf=20, n_estimators=2500, total=   2.8s\n",
      "[CV] max_depth=10, max_features=0.5, max_leaf_nodes=80, min_samples_leaf=10, n_estimators=1000 \n",
      "[CV]  max_depth=10, max_features=0.5, max_leaf_nodes=80, min_samples_leaf=10, n_estimators=1000, total=   1.2s\n",
      "[CV] max_depth=10, max_features=0.5, max_leaf_nodes=80, min_samples_leaf=10, n_estimators=1000 \n",
      "[CV]  max_depth=10, max_features=0.5, max_leaf_nodes=80, min_samples_leaf=10, n_estimators=1000, total=   1.2s\n",
      "[CV] max_depth=10, max_features=0.5, max_leaf_nodes=80, min_samples_leaf=10, n_estimators=1000 \n",
      "[CV]  max_depth=10, max_features=0.5, max_leaf_nodes=80, min_samples_leaf=10, n_estimators=1000, total=   1.2s\n",
      "[CV] max_depth=10, max_features=0.5, max_leaf_nodes=80, min_samples_leaf=10, n_estimators=1500 \n",
      "[CV]  max_depth=10, max_features=0.5, max_leaf_nodes=80, min_samples_leaf=10, n_estimators=1500, total=   1.7s\n",
      "[CV] max_depth=10, max_features=0.5, max_leaf_nodes=80, min_samples_leaf=10, n_estimators=1500 \n",
      "[CV]  max_depth=10, max_features=0.5, max_leaf_nodes=80, min_samples_leaf=10, n_estimators=1500, total=   1.8s\n",
      "[CV] max_depth=10, max_features=0.5, max_leaf_nodes=80, min_samples_leaf=10, n_estimators=1500 \n",
      "[CV]  max_depth=10, max_features=0.5, max_leaf_nodes=80, min_samples_leaf=10, n_estimators=1500, total=   1.8s\n",
      "[CV] max_depth=10, max_features=0.5, max_leaf_nodes=80, min_samples_leaf=10, n_estimators=2000 \n",
      "[CV]  max_depth=10, max_features=0.5, max_leaf_nodes=80, min_samples_leaf=10, n_estimators=2000, total=   2.3s\n",
      "[CV] max_depth=10, max_features=0.5, max_leaf_nodes=80, min_samples_leaf=10, n_estimators=2000 \n",
      "[CV]  max_depth=10, max_features=0.5, max_leaf_nodes=80, min_samples_leaf=10, n_estimators=2000, total=   2.4s\n",
      "[CV] max_depth=10, max_features=0.5, max_leaf_nodes=80, min_samples_leaf=10, n_estimators=2000 \n",
      "[CV]  max_depth=10, max_features=0.5, max_leaf_nodes=80, min_samples_leaf=10, n_estimators=2000, total=   2.3s\n",
      "[CV] max_depth=10, max_features=0.5, max_leaf_nodes=80, min_samples_leaf=10, n_estimators=2500 \n",
      "[CV]  max_depth=10, max_features=0.5, max_leaf_nodes=80, min_samples_leaf=10, n_estimators=2500, total=   2.9s\n",
      "[CV] max_depth=10, max_features=0.5, max_leaf_nodes=80, min_samples_leaf=10, n_estimators=2500 \n",
      "[CV]  max_depth=10, max_features=0.5, max_leaf_nodes=80, min_samples_leaf=10, n_estimators=2500, total=   2.9s\n",
      "[CV] max_depth=10, max_features=0.5, max_leaf_nodes=80, min_samples_leaf=10, n_estimators=2500 \n",
      "[CV]  max_depth=10, max_features=0.5, max_leaf_nodes=80, min_samples_leaf=10, n_estimators=2500, total=   2.9s\n",
      "[CV] max_depth=10, max_features=0.5, max_leaf_nodes=80, min_samples_leaf=15, n_estimators=1000 \n",
      "[CV]  max_depth=10, max_features=0.5, max_leaf_nodes=80, min_samples_leaf=15, n_estimators=1000, total=   1.2s\n",
      "[CV] max_depth=10, max_features=0.5, max_leaf_nodes=80, min_samples_leaf=15, n_estimators=1000 \n",
      "[CV]  max_depth=10, max_features=0.5, max_leaf_nodes=80, min_samples_leaf=15, n_estimators=1000, total=   1.1s\n",
      "[CV] max_depth=10, max_features=0.5, max_leaf_nodes=80, min_samples_leaf=15, n_estimators=1000 \n",
      "[CV]  max_depth=10, max_features=0.5, max_leaf_nodes=80, min_samples_leaf=15, n_estimators=1000, total=   1.1s\n",
      "[CV] max_depth=10, max_features=0.5, max_leaf_nodes=80, min_samples_leaf=15, n_estimators=1500 \n",
      "[CV]  max_depth=10, max_features=0.5, max_leaf_nodes=80, min_samples_leaf=15, n_estimators=1500, total=   1.7s\n",
      "[CV] max_depth=10, max_features=0.5, max_leaf_nodes=80, min_samples_leaf=15, n_estimators=1500 \n",
      "[CV]  max_depth=10, max_features=0.5, max_leaf_nodes=80, min_samples_leaf=15, n_estimators=1500, total=   1.7s\n",
      "[CV] max_depth=10, max_features=0.5, max_leaf_nodes=80, min_samples_leaf=15, n_estimators=1500 \n",
      "[CV]  max_depth=10, max_features=0.5, max_leaf_nodes=80, min_samples_leaf=15, n_estimators=1500, total=   1.7s\n",
      "[CV] max_depth=10, max_features=0.5, max_leaf_nodes=80, min_samples_leaf=15, n_estimators=2000 \n",
      "[CV]  max_depth=10, max_features=0.5, max_leaf_nodes=80, min_samples_leaf=15, n_estimators=2000, total=   2.3s\n",
      "[CV] max_depth=10, max_features=0.5, max_leaf_nodes=80, min_samples_leaf=15, n_estimators=2000 \n",
      "[CV]  max_depth=10, max_features=0.5, max_leaf_nodes=80, min_samples_leaf=15, n_estimators=2000, total=   2.3s\n",
      "[CV] max_depth=10, max_features=0.5, max_leaf_nodes=80, min_samples_leaf=15, n_estimators=2000 \n",
      "[CV]  max_depth=10, max_features=0.5, max_leaf_nodes=80, min_samples_leaf=15, n_estimators=2000, total=   2.3s\n",
      "[CV] max_depth=10, max_features=0.5, max_leaf_nodes=80, min_samples_leaf=15, n_estimators=2500 \n",
      "[CV]  max_depth=10, max_features=0.5, max_leaf_nodes=80, min_samples_leaf=15, n_estimators=2500, total=   2.8s\n",
      "[CV] max_depth=10, max_features=0.5, max_leaf_nodes=80, min_samples_leaf=15, n_estimators=2500 \n",
      "[CV]  max_depth=10, max_features=0.5, max_leaf_nodes=80, min_samples_leaf=15, n_estimators=2500, total=   2.8s\n",
      "[CV] max_depth=10, max_features=0.5, max_leaf_nodes=80, min_samples_leaf=15, n_estimators=2500 \n",
      "[CV]  max_depth=10, max_features=0.5, max_leaf_nodes=80, min_samples_leaf=15, n_estimators=2500, total=   2.8s\n",
      "[CV] max_depth=10, max_features=0.5, max_leaf_nodes=80, min_samples_leaf=20, n_estimators=1000 \n",
      "[CV]  max_depth=10, max_features=0.5, max_leaf_nodes=80, min_samples_leaf=20, n_estimators=1000, total=   1.1s\n",
      "[CV] max_depth=10, max_features=0.5, max_leaf_nodes=80, min_samples_leaf=20, n_estimators=1000 \n",
      "[CV]  max_depth=10, max_features=0.5, max_leaf_nodes=80, min_samples_leaf=20, n_estimators=1000, total=   1.1s\n",
      "[CV] max_depth=10, max_features=0.5, max_leaf_nodes=80, min_samples_leaf=20, n_estimators=1000 \n",
      "[CV]  max_depth=10, max_features=0.5, max_leaf_nodes=80, min_samples_leaf=20, n_estimators=1000, total=   1.1s\n",
      "[CV] max_depth=10, max_features=0.5, max_leaf_nodes=80, min_samples_leaf=20, n_estimators=1500 \n",
      "[CV]  max_depth=10, max_features=0.5, max_leaf_nodes=80, min_samples_leaf=20, n_estimators=1500, total=   1.7s\n",
      "[CV] max_depth=10, max_features=0.5, max_leaf_nodes=80, min_samples_leaf=20, n_estimators=1500 \n",
      "[CV]  max_depth=10, max_features=0.5, max_leaf_nodes=80, min_samples_leaf=20, n_estimators=1500, total=   1.7s\n",
      "[CV] max_depth=10, max_features=0.5, max_leaf_nodes=80, min_samples_leaf=20, n_estimators=1500 \n",
      "[CV]  max_depth=10, max_features=0.5, max_leaf_nodes=80, min_samples_leaf=20, n_estimators=1500, total=   1.7s\n",
      "[CV] max_depth=10, max_features=0.5, max_leaf_nodes=80, min_samples_leaf=20, n_estimators=2000 \n",
      "[CV]  max_depth=10, max_features=0.5, max_leaf_nodes=80, min_samples_leaf=20, n_estimators=2000, total=   2.2s\n",
      "[CV] max_depth=10, max_features=0.5, max_leaf_nodes=80, min_samples_leaf=20, n_estimators=2000 \n",
      "[CV]  max_depth=10, max_features=0.5, max_leaf_nodes=80, min_samples_leaf=20, n_estimators=2000, total=   2.2s\n",
      "[CV] max_depth=10, max_features=0.5, max_leaf_nodes=80, min_samples_leaf=20, n_estimators=2000 \n",
      "[CV]  max_depth=10, max_features=0.5, max_leaf_nodes=80, min_samples_leaf=20, n_estimators=2000, total=   2.2s\n",
      "[CV] max_depth=10, max_features=0.5, max_leaf_nodes=80, min_samples_leaf=20, n_estimators=2500 \n"
     ]
    },
    {
     "name": "stdout",
     "output_type": "stream",
     "text": [
      "[CV]  max_depth=10, max_features=0.5, max_leaf_nodes=80, min_samples_leaf=20, n_estimators=2500, total=   2.8s\n",
      "[CV] max_depth=10, max_features=0.5, max_leaf_nodes=80, min_samples_leaf=20, n_estimators=2500 \n",
      "[CV]  max_depth=10, max_features=0.5, max_leaf_nodes=80, min_samples_leaf=20, n_estimators=2500, total=   2.8s\n",
      "[CV] max_depth=10, max_features=0.5, max_leaf_nodes=80, min_samples_leaf=20, n_estimators=2500 \n",
      "[CV]  max_depth=10, max_features=0.5, max_leaf_nodes=80, min_samples_leaf=20, n_estimators=2500, total=   2.8s\n",
      "[CV] max_depth=10, max_features=0.7, max_leaf_nodes=20, min_samples_leaf=10, n_estimators=1000 \n",
      "[CV]  max_depth=10, max_features=0.7, max_leaf_nodes=20, min_samples_leaf=10, n_estimators=1000, total=   1.2s\n",
      "[CV] max_depth=10, max_features=0.7, max_leaf_nodes=20, min_samples_leaf=10, n_estimators=1000 \n",
      "[CV]  max_depth=10, max_features=0.7, max_leaf_nodes=20, min_samples_leaf=10, n_estimators=1000, total=   1.3s\n",
      "[CV] max_depth=10, max_features=0.7, max_leaf_nodes=20, min_samples_leaf=10, n_estimators=1000 \n",
      "[CV]  max_depth=10, max_features=0.7, max_leaf_nodes=20, min_samples_leaf=10, n_estimators=1000, total=   1.3s\n",
      "[CV] max_depth=10, max_features=0.7, max_leaf_nodes=20, min_samples_leaf=10, n_estimators=1500 \n",
      "[CV]  max_depth=10, max_features=0.7, max_leaf_nodes=20, min_samples_leaf=10, n_estimators=1500, total=   1.9s\n",
      "[CV] max_depth=10, max_features=0.7, max_leaf_nodes=20, min_samples_leaf=10, n_estimators=1500 \n",
      "[CV]  max_depth=10, max_features=0.7, max_leaf_nodes=20, min_samples_leaf=10, n_estimators=1500, total=   1.9s\n",
      "[CV] max_depth=10, max_features=0.7, max_leaf_nodes=20, min_samples_leaf=10, n_estimators=1500 \n",
      "[CV]  max_depth=10, max_features=0.7, max_leaf_nodes=20, min_samples_leaf=10, n_estimators=1500, total=   1.9s\n",
      "[CV] max_depth=10, max_features=0.7, max_leaf_nodes=20, min_samples_leaf=10, n_estimators=2000 \n",
      "[CV]  max_depth=10, max_features=0.7, max_leaf_nodes=20, min_samples_leaf=10, n_estimators=2000, total=   2.5s\n",
      "[CV] max_depth=10, max_features=0.7, max_leaf_nodes=20, min_samples_leaf=10, n_estimators=2000 \n",
      "[CV]  max_depth=10, max_features=0.7, max_leaf_nodes=20, min_samples_leaf=10, n_estimators=2000, total=   2.5s\n",
      "[CV] max_depth=10, max_features=0.7, max_leaf_nodes=20, min_samples_leaf=10, n_estimators=2000 \n",
      "[CV]  max_depth=10, max_features=0.7, max_leaf_nodes=20, min_samples_leaf=10, n_estimators=2000, total=   2.5s\n",
      "[CV] max_depth=10, max_features=0.7, max_leaf_nodes=20, min_samples_leaf=10, n_estimators=2500 \n",
      "[CV]  max_depth=10, max_features=0.7, max_leaf_nodes=20, min_samples_leaf=10, n_estimators=2500, total=   3.1s\n",
      "[CV] max_depth=10, max_features=0.7, max_leaf_nodes=20, min_samples_leaf=10, n_estimators=2500 \n",
      "[CV]  max_depth=10, max_features=0.7, max_leaf_nodes=20, min_samples_leaf=10, n_estimators=2500, total=   3.1s\n",
      "[CV] max_depth=10, max_features=0.7, max_leaf_nodes=20, min_samples_leaf=10, n_estimators=2500 \n",
      "[CV]  max_depth=10, max_features=0.7, max_leaf_nodes=20, min_samples_leaf=10, n_estimators=2500, total=   3.1s\n",
      "[CV] max_depth=10, max_features=0.7, max_leaf_nodes=20, min_samples_leaf=15, n_estimators=1000 \n",
      "[CV]  max_depth=10, max_features=0.7, max_leaf_nodes=20, min_samples_leaf=15, n_estimators=1000, total=   1.2s\n",
      "[CV] max_depth=10, max_features=0.7, max_leaf_nodes=20, min_samples_leaf=15, n_estimators=1000 \n",
      "[CV]  max_depth=10, max_features=0.7, max_leaf_nodes=20, min_samples_leaf=15, n_estimators=1000, total=   1.2s\n",
      "[CV] max_depth=10, max_features=0.7, max_leaf_nodes=20, min_samples_leaf=15, n_estimators=1000 \n",
      "[CV]  max_depth=10, max_features=0.7, max_leaf_nodes=20, min_samples_leaf=15, n_estimators=1000, total=   1.3s\n",
      "[CV] max_depth=10, max_features=0.7, max_leaf_nodes=20, min_samples_leaf=15, n_estimators=1500 \n",
      "[CV]  max_depth=10, max_features=0.7, max_leaf_nodes=20, min_samples_leaf=15, n_estimators=1500, total=   1.8s\n",
      "[CV] max_depth=10, max_features=0.7, max_leaf_nodes=20, min_samples_leaf=15, n_estimators=1500 \n",
      "[CV]  max_depth=10, max_features=0.7, max_leaf_nodes=20, min_samples_leaf=15, n_estimators=1500, total=   1.8s\n",
      "[CV] max_depth=10, max_features=0.7, max_leaf_nodes=20, min_samples_leaf=15, n_estimators=1500 \n",
      "[CV]  max_depth=10, max_features=0.7, max_leaf_nodes=20, min_samples_leaf=15, n_estimators=1500, total=   1.8s\n",
      "[CV] max_depth=10, max_features=0.7, max_leaf_nodes=20, min_samples_leaf=15, n_estimators=2000 \n",
      "[CV]  max_depth=10, max_features=0.7, max_leaf_nodes=20, min_samples_leaf=15, n_estimators=2000, total=   2.4s\n",
      "[CV] max_depth=10, max_features=0.7, max_leaf_nodes=20, min_samples_leaf=15, n_estimators=2000 \n",
      "[CV]  max_depth=10, max_features=0.7, max_leaf_nodes=20, min_samples_leaf=15, n_estimators=2000, total=   2.4s\n",
      "[CV] max_depth=10, max_features=0.7, max_leaf_nodes=20, min_samples_leaf=15, n_estimators=2000 \n",
      "[CV]  max_depth=10, max_features=0.7, max_leaf_nodes=20, min_samples_leaf=15, n_estimators=2000, total=   2.4s\n",
      "[CV] max_depth=10, max_features=0.7, max_leaf_nodes=20, min_samples_leaf=15, n_estimators=2500 \n",
      "[CV]  max_depth=10, max_features=0.7, max_leaf_nodes=20, min_samples_leaf=15, n_estimators=2500, total=   3.0s\n",
      "[CV] max_depth=10, max_features=0.7, max_leaf_nodes=20, min_samples_leaf=15, n_estimators=2500 \n",
      "[CV]  max_depth=10, max_features=0.7, max_leaf_nodes=20, min_samples_leaf=15, n_estimators=2500, total=   3.1s\n",
      "[CV] max_depth=10, max_features=0.7, max_leaf_nodes=20, min_samples_leaf=15, n_estimators=2500 \n",
      "[CV]  max_depth=10, max_features=0.7, max_leaf_nodes=20, min_samples_leaf=15, n_estimators=2500, total=   3.0s\n",
      "[CV] max_depth=10, max_features=0.7, max_leaf_nodes=20, min_samples_leaf=20, n_estimators=1000 \n",
      "[CV]  max_depth=10, max_features=0.7, max_leaf_nodes=20, min_samples_leaf=20, n_estimators=1000, total=   1.2s\n",
      "[CV] max_depth=10, max_features=0.7, max_leaf_nodes=20, min_samples_leaf=20, n_estimators=1000 \n",
      "[CV]  max_depth=10, max_features=0.7, max_leaf_nodes=20, min_samples_leaf=20, n_estimators=1000, total=   1.2s\n",
      "[CV] max_depth=10, max_features=0.7, max_leaf_nodes=20, min_samples_leaf=20, n_estimators=1000 \n",
      "[CV]  max_depth=10, max_features=0.7, max_leaf_nodes=20, min_samples_leaf=20, n_estimators=1000, total=   1.2s\n",
      "[CV] max_depth=10, max_features=0.7, max_leaf_nodes=20, min_samples_leaf=20, n_estimators=1500 \n",
      "[CV]  max_depth=10, max_features=0.7, max_leaf_nodes=20, min_samples_leaf=20, n_estimators=1500, total=   1.8s\n",
      "[CV] max_depth=10, max_features=0.7, max_leaf_nodes=20, min_samples_leaf=20, n_estimators=1500 \n",
      "[CV]  max_depth=10, max_features=0.7, max_leaf_nodes=20, min_samples_leaf=20, n_estimators=1500, total=   1.8s\n",
      "[CV] max_depth=10, max_features=0.7, max_leaf_nodes=20, min_samples_leaf=20, n_estimators=1500 \n",
      "[CV]  max_depth=10, max_features=0.7, max_leaf_nodes=20, min_samples_leaf=20, n_estimators=1500, total=   1.8s\n",
      "[CV] max_depth=10, max_features=0.7, max_leaf_nodes=20, min_samples_leaf=20, n_estimators=2000 \n",
      "[CV]  max_depth=10, max_features=0.7, max_leaf_nodes=20, min_samples_leaf=20, n_estimators=2000, total=   2.3s\n",
      "[CV] max_depth=10, max_features=0.7, max_leaf_nodes=20, min_samples_leaf=20, n_estimators=2000 \n",
      "[CV]  max_depth=10, max_features=0.7, max_leaf_nodes=20, min_samples_leaf=20, n_estimators=2000, total=   2.4s\n",
      "[CV] max_depth=10, max_features=0.7, max_leaf_nodes=20, min_samples_leaf=20, n_estimators=2000 \n",
      "[CV]  max_depth=10, max_features=0.7, max_leaf_nodes=20, min_samples_leaf=20, n_estimators=2000, total=   2.4s\n",
      "[CV] max_depth=10, max_features=0.7, max_leaf_nodes=20, min_samples_leaf=20, n_estimators=2500 \n",
      "[CV]  max_depth=10, max_features=0.7, max_leaf_nodes=20, min_samples_leaf=20, n_estimators=2500, total=   2.9s\n",
      "[CV] max_depth=10, max_features=0.7, max_leaf_nodes=20, min_samples_leaf=20, n_estimators=2500 \n",
      "[CV]  max_depth=10, max_features=0.7, max_leaf_nodes=20, min_samples_leaf=20, n_estimators=2500, total=   2.9s\n",
      "[CV] max_depth=10, max_features=0.7, max_leaf_nodes=20, min_samples_leaf=20, n_estimators=2500 \n",
      "[CV]  max_depth=10, max_features=0.7, max_leaf_nodes=20, min_samples_leaf=20, n_estimators=2500, total=   3.0s\n",
      "[CV] max_depth=10, max_features=0.7, max_leaf_nodes=50, min_samples_leaf=10, n_estimators=1000 \n",
      "[CV]  max_depth=10, max_features=0.7, max_leaf_nodes=50, min_samples_leaf=10, n_estimators=1000, total=   1.3s\n",
      "[CV] max_depth=10, max_features=0.7, max_leaf_nodes=50, min_samples_leaf=10, n_estimators=1000 \n"
     ]
    },
    {
     "name": "stdout",
     "output_type": "stream",
     "text": [
      "[CV]  max_depth=10, max_features=0.7, max_leaf_nodes=50, min_samples_leaf=10, n_estimators=1000, total=   1.3s\n",
      "[CV] max_depth=10, max_features=0.7, max_leaf_nodes=50, min_samples_leaf=10, n_estimators=1000 \n",
      "[CV]  max_depth=10, max_features=0.7, max_leaf_nodes=50, min_samples_leaf=10, n_estimators=1000, total=   1.3s\n",
      "[CV] max_depth=10, max_features=0.7, max_leaf_nodes=50, min_samples_leaf=10, n_estimators=1500 \n",
      "[CV]  max_depth=10, max_features=0.7, max_leaf_nodes=50, min_samples_leaf=10, n_estimators=1500, total=   1.9s\n",
      "[CV] max_depth=10, max_features=0.7, max_leaf_nodes=50, min_samples_leaf=10, n_estimators=1500 \n",
      "[CV]  max_depth=10, max_features=0.7, max_leaf_nodes=50, min_samples_leaf=10, n_estimators=1500, total=   1.9s\n",
      "[CV] max_depth=10, max_features=0.7, max_leaf_nodes=50, min_samples_leaf=10, n_estimators=1500 \n",
      "[CV]  max_depth=10, max_features=0.7, max_leaf_nodes=50, min_samples_leaf=10, n_estimators=1500, total=   1.9s\n",
      "[CV] max_depth=10, max_features=0.7, max_leaf_nodes=50, min_samples_leaf=10, n_estimators=2000 \n",
      "[CV]  max_depth=10, max_features=0.7, max_leaf_nodes=50, min_samples_leaf=10, n_estimators=2000, total=   2.5s\n",
      "[CV] max_depth=10, max_features=0.7, max_leaf_nodes=50, min_samples_leaf=10, n_estimators=2000 \n",
      "[CV]  max_depth=10, max_features=0.7, max_leaf_nodes=50, min_samples_leaf=10, n_estimators=2000, total=   2.5s\n",
      "[CV] max_depth=10, max_features=0.7, max_leaf_nodes=50, min_samples_leaf=10, n_estimators=2000 \n",
      "[CV]  max_depth=10, max_features=0.7, max_leaf_nodes=50, min_samples_leaf=10, n_estimators=2000, total=   2.6s\n",
      "[CV] max_depth=10, max_features=0.7, max_leaf_nodes=50, min_samples_leaf=10, n_estimators=2500 \n",
      "[CV]  max_depth=10, max_features=0.7, max_leaf_nodes=50, min_samples_leaf=10, n_estimators=2500, total=   3.1s\n",
      "[CV] max_depth=10, max_features=0.7, max_leaf_nodes=50, min_samples_leaf=10, n_estimators=2500 \n",
      "[CV]  max_depth=10, max_features=0.7, max_leaf_nodes=50, min_samples_leaf=10, n_estimators=2500, total=   3.1s\n",
      "[CV] max_depth=10, max_features=0.7, max_leaf_nodes=50, min_samples_leaf=10, n_estimators=2500 \n",
      "[CV]  max_depth=10, max_features=0.7, max_leaf_nodes=50, min_samples_leaf=10, n_estimators=2500, total=   3.1s\n",
      "[CV] max_depth=10, max_features=0.7, max_leaf_nodes=50, min_samples_leaf=15, n_estimators=1000 \n",
      "[CV]  max_depth=10, max_features=0.7, max_leaf_nodes=50, min_samples_leaf=15, n_estimators=1000, total=   1.2s\n",
      "[CV] max_depth=10, max_features=0.7, max_leaf_nodes=50, min_samples_leaf=15, n_estimators=1000 \n",
      "[CV]  max_depth=10, max_features=0.7, max_leaf_nodes=50, min_samples_leaf=15, n_estimators=1000, total=   1.2s\n",
      "[CV] max_depth=10, max_features=0.7, max_leaf_nodes=50, min_samples_leaf=15, n_estimators=1000 \n",
      "[CV]  max_depth=10, max_features=0.7, max_leaf_nodes=50, min_samples_leaf=15, n_estimators=1000, total=   1.2s\n",
      "[CV] max_depth=10, max_features=0.7, max_leaf_nodes=50, min_samples_leaf=15, n_estimators=1500 \n",
      "[CV]  max_depth=10, max_features=0.7, max_leaf_nodes=50, min_samples_leaf=15, n_estimators=1500, total=   1.8s\n",
      "[CV] max_depth=10, max_features=0.7, max_leaf_nodes=50, min_samples_leaf=15, n_estimators=1500 \n",
      "[CV]  max_depth=10, max_features=0.7, max_leaf_nodes=50, min_samples_leaf=15, n_estimators=1500, total=   1.9s\n",
      "[CV] max_depth=10, max_features=0.7, max_leaf_nodes=50, min_samples_leaf=15, n_estimators=1500 \n",
      "[CV]  max_depth=10, max_features=0.7, max_leaf_nodes=50, min_samples_leaf=15, n_estimators=1500, total=   1.8s\n",
      "[CV] max_depth=10, max_features=0.7, max_leaf_nodes=50, min_samples_leaf=15, n_estimators=2000 \n",
      "[CV]  max_depth=10, max_features=0.7, max_leaf_nodes=50, min_samples_leaf=15, n_estimators=2000, total=   2.4s\n",
      "[CV] max_depth=10, max_features=0.7, max_leaf_nodes=50, min_samples_leaf=15, n_estimators=2000 \n",
      "[CV]  max_depth=10, max_features=0.7, max_leaf_nodes=50, min_samples_leaf=15, n_estimators=2000, total=   2.4s\n",
      "[CV] max_depth=10, max_features=0.7, max_leaf_nodes=50, min_samples_leaf=15, n_estimators=2000 \n",
      "[CV]  max_depth=10, max_features=0.7, max_leaf_nodes=50, min_samples_leaf=15, n_estimators=2000, total=   2.4s\n",
      "[CV] max_depth=10, max_features=0.7, max_leaf_nodes=50, min_samples_leaf=15, n_estimators=2500 \n",
      "[CV]  max_depth=10, max_features=0.7, max_leaf_nodes=50, min_samples_leaf=15, n_estimators=2500, total=   3.0s\n",
      "[CV] max_depth=10, max_features=0.7, max_leaf_nodes=50, min_samples_leaf=15, n_estimators=2500 \n",
      "[CV]  max_depth=10, max_features=0.7, max_leaf_nodes=50, min_samples_leaf=15, n_estimators=2500, total=   3.0s\n",
      "[CV] max_depth=10, max_features=0.7, max_leaf_nodes=50, min_samples_leaf=15, n_estimators=2500 \n",
      "[CV]  max_depth=10, max_features=0.7, max_leaf_nodes=50, min_samples_leaf=15, n_estimators=2500, total=   3.1s\n",
      "[CV] max_depth=10, max_features=0.7, max_leaf_nodes=50, min_samples_leaf=20, n_estimators=1000 \n",
      "[CV]  max_depth=10, max_features=0.7, max_leaf_nodes=50, min_samples_leaf=20, n_estimators=1000, total=   1.2s\n",
      "[CV] max_depth=10, max_features=0.7, max_leaf_nodes=50, min_samples_leaf=20, n_estimators=1000 \n",
      "[CV]  max_depth=10, max_features=0.7, max_leaf_nodes=50, min_samples_leaf=20, n_estimators=1000, total=   1.2s\n",
      "[CV] max_depth=10, max_features=0.7, max_leaf_nodes=50, min_samples_leaf=20, n_estimators=1000 \n",
      "[CV]  max_depth=10, max_features=0.7, max_leaf_nodes=50, min_samples_leaf=20, n_estimators=1000, total=   1.2s\n",
      "[CV] max_depth=10, max_features=0.7, max_leaf_nodes=50, min_samples_leaf=20, n_estimators=1500 \n",
      "[CV]  max_depth=10, max_features=0.7, max_leaf_nodes=50, min_samples_leaf=20, n_estimators=1500, total=   1.7s\n",
      "[CV] max_depth=10, max_features=0.7, max_leaf_nodes=50, min_samples_leaf=20, n_estimators=1500 \n",
      "[CV]  max_depth=10, max_features=0.7, max_leaf_nodes=50, min_samples_leaf=20, n_estimators=1500, total=   1.8s\n",
      "[CV] max_depth=10, max_features=0.7, max_leaf_nodes=50, min_samples_leaf=20, n_estimators=1500 \n",
      "[CV]  max_depth=10, max_features=0.7, max_leaf_nodes=50, min_samples_leaf=20, n_estimators=1500, total=   1.8s\n",
      "[CV] max_depth=10, max_features=0.7, max_leaf_nodes=50, min_samples_leaf=20, n_estimators=2000 \n",
      "[CV]  max_depth=10, max_features=0.7, max_leaf_nodes=50, min_samples_leaf=20, n_estimators=2000, total=   2.4s\n",
      "[CV] max_depth=10, max_features=0.7, max_leaf_nodes=50, min_samples_leaf=20, n_estimators=2000 \n",
      "[CV]  max_depth=10, max_features=0.7, max_leaf_nodes=50, min_samples_leaf=20, n_estimators=2000, total=   2.4s\n",
      "[CV] max_depth=10, max_features=0.7, max_leaf_nodes=50, min_samples_leaf=20, n_estimators=2000 \n",
      "[CV]  max_depth=10, max_features=0.7, max_leaf_nodes=50, min_samples_leaf=20, n_estimators=2000, total=   2.4s\n",
      "[CV] max_depth=10, max_features=0.7, max_leaf_nodes=50, min_samples_leaf=20, n_estimators=2500 \n",
      "[CV]  max_depth=10, max_features=0.7, max_leaf_nodes=50, min_samples_leaf=20, n_estimators=2500, total=   3.0s\n",
      "[CV] max_depth=10, max_features=0.7, max_leaf_nodes=50, min_samples_leaf=20, n_estimators=2500 \n",
      "[CV]  max_depth=10, max_features=0.7, max_leaf_nodes=50, min_samples_leaf=20, n_estimators=2500, total=   3.0s\n",
      "[CV] max_depth=10, max_features=0.7, max_leaf_nodes=50, min_samples_leaf=20, n_estimators=2500 \n",
      "[CV]  max_depth=10, max_features=0.7, max_leaf_nodes=50, min_samples_leaf=20, n_estimators=2500, total=   2.9s\n",
      "[CV] max_depth=10, max_features=0.7, max_leaf_nodes=80, min_samples_leaf=10, n_estimators=1000 \n",
      "[CV]  max_depth=10, max_features=0.7, max_leaf_nodes=80, min_samples_leaf=10, n_estimators=1000, total=   1.3s\n",
      "[CV] max_depth=10, max_features=0.7, max_leaf_nodes=80, min_samples_leaf=10, n_estimators=1000 \n",
      "[CV]  max_depth=10, max_features=0.7, max_leaf_nodes=80, min_samples_leaf=10, n_estimators=1000, total=   1.3s\n",
      "[CV] max_depth=10, max_features=0.7, max_leaf_nodes=80, min_samples_leaf=10, n_estimators=1000 \n",
      "[CV]  max_depth=10, max_features=0.7, max_leaf_nodes=80, min_samples_leaf=10, n_estimators=1000, total=   1.3s\n",
      "[CV] max_depth=10, max_features=0.7, max_leaf_nodes=80, min_samples_leaf=10, n_estimators=1500 \n",
      "[CV]  max_depth=10, max_features=0.7, max_leaf_nodes=80, min_samples_leaf=10, n_estimators=1500, total=   1.9s\n",
      "[CV] max_depth=10, max_features=0.7, max_leaf_nodes=80, min_samples_leaf=10, n_estimators=1500 \n",
      "[CV]  max_depth=10, max_features=0.7, max_leaf_nodes=80, min_samples_leaf=10, n_estimators=1500, total=   1.9s\n",
      "[CV] max_depth=10, max_features=0.7, max_leaf_nodes=80, min_samples_leaf=10, n_estimators=1500 \n"
     ]
    },
    {
     "name": "stdout",
     "output_type": "stream",
     "text": [
      "[CV]  max_depth=10, max_features=0.7, max_leaf_nodes=80, min_samples_leaf=10, n_estimators=1500, total=   1.9s\n",
      "[CV] max_depth=10, max_features=0.7, max_leaf_nodes=80, min_samples_leaf=10, n_estimators=2000 \n",
      "[CV]  max_depth=10, max_features=0.7, max_leaf_nodes=80, min_samples_leaf=10, n_estimators=2000, total=   2.5s\n",
      "[CV] max_depth=10, max_features=0.7, max_leaf_nodes=80, min_samples_leaf=10, n_estimators=2000 \n",
      "[CV]  max_depth=10, max_features=0.7, max_leaf_nodes=80, min_samples_leaf=10, n_estimators=2000, total=   2.5s\n",
      "[CV] max_depth=10, max_features=0.7, max_leaf_nodes=80, min_samples_leaf=10, n_estimators=2000 \n",
      "[CV]  max_depth=10, max_features=0.7, max_leaf_nodes=80, min_samples_leaf=10, n_estimators=2000, total=   2.5s\n",
      "[CV] max_depth=10, max_features=0.7, max_leaf_nodes=80, min_samples_leaf=10, n_estimators=2500 \n",
      "[CV]  max_depth=10, max_features=0.7, max_leaf_nodes=80, min_samples_leaf=10, n_estimators=2500, total=   3.1s\n",
      "[CV] max_depth=10, max_features=0.7, max_leaf_nodes=80, min_samples_leaf=10, n_estimators=2500 \n",
      "[CV]  max_depth=10, max_features=0.7, max_leaf_nodes=80, min_samples_leaf=10, n_estimators=2500, total=   3.2s\n",
      "[CV] max_depth=10, max_features=0.7, max_leaf_nodes=80, min_samples_leaf=10, n_estimators=2500 \n",
      "[CV]  max_depth=10, max_features=0.7, max_leaf_nodes=80, min_samples_leaf=10, n_estimators=2500, total=   3.2s\n",
      "[CV] max_depth=10, max_features=0.7, max_leaf_nodes=80, min_samples_leaf=15, n_estimators=1000 \n",
      "[CV]  max_depth=10, max_features=0.7, max_leaf_nodes=80, min_samples_leaf=15, n_estimators=1000, total=   1.2s\n",
      "[CV] max_depth=10, max_features=0.7, max_leaf_nodes=80, min_samples_leaf=15, n_estimators=1000 \n",
      "[CV]  max_depth=10, max_features=0.7, max_leaf_nodes=80, min_samples_leaf=15, n_estimators=1000, total=   1.2s\n",
      "[CV] max_depth=10, max_features=0.7, max_leaf_nodes=80, min_samples_leaf=15, n_estimators=1000 \n",
      "[CV]  max_depth=10, max_features=0.7, max_leaf_nodes=80, min_samples_leaf=15, n_estimators=1000, total=   1.2s\n",
      "[CV] max_depth=10, max_features=0.7, max_leaf_nodes=80, min_samples_leaf=15, n_estimators=1500 \n",
      "[CV]  max_depth=10, max_features=0.7, max_leaf_nodes=80, min_samples_leaf=15, n_estimators=1500, total=   1.8s\n",
      "[CV] max_depth=10, max_features=0.7, max_leaf_nodes=80, min_samples_leaf=15, n_estimators=1500 \n",
      "[CV]  max_depth=10, max_features=0.7, max_leaf_nodes=80, min_samples_leaf=15, n_estimators=1500, total=   1.8s\n",
      "[CV] max_depth=10, max_features=0.7, max_leaf_nodes=80, min_samples_leaf=15, n_estimators=1500 \n",
      "[CV]  max_depth=10, max_features=0.7, max_leaf_nodes=80, min_samples_leaf=15, n_estimators=1500, total=   1.8s\n",
      "[CV] max_depth=10, max_features=0.7, max_leaf_nodes=80, min_samples_leaf=15, n_estimators=2000 \n",
      "[CV]  max_depth=10, max_features=0.7, max_leaf_nodes=80, min_samples_leaf=15, n_estimators=2000, total=   2.4s\n",
      "[CV] max_depth=10, max_features=0.7, max_leaf_nodes=80, min_samples_leaf=15, n_estimators=2000 \n",
      "[CV]  max_depth=10, max_features=0.7, max_leaf_nodes=80, min_samples_leaf=15, n_estimators=2000, total=   2.5s\n",
      "[CV] max_depth=10, max_features=0.7, max_leaf_nodes=80, min_samples_leaf=15, n_estimators=2000 \n",
      "[CV]  max_depth=10, max_features=0.7, max_leaf_nodes=80, min_samples_leaf=15, n_estimators=2000, total=   2.4s\n",
      "[CV] max_depth=10, max_features=0.7, max_leaf_nodes=80, min_samples_leaf=15, n_estimators=2500 \n",
      "[CV]  max_depth=10, max_features=0.7, max_leaf_nodes=80, min_samples_leaf=15, n_estimators=2500, total=   3.0s\n",
      "[CV] max_depth=10, max_features=0.7, max_leaf_nodes=80, min_samples_leaf=15, n_estimators=2500 \n",
      "[CV]  max_depth=10, max_features=0.7, max_leaf_nodes=80, min_samples_leaf=15, n_estimators=2500, total=   3.0s\n",
      "[CV] max_depth=10, max_features=0.7, max_leaf_nodes=80, min_samples_leaf=15, n_estimators=2500 \n",
      "[CV]  max_depth=10, max_features=0.7, max_leaf_nodes=80, min_samples_leaf=15, n_estimators=2500, total=   3.0s\n",
      "[CV] max_depth=10, max_features=0.7, max_leaf_nodes=80, min_samples_leaf=20, n_estimators=1000 \n",
      "[CV]  max_depth=10, max_features=0.7, max_leaf_nodes=80, min_samples_leaf=20, n_estimators=1000, total=   1.2s\n",
      "[CV] max_depth=10, max_features=0.7, max_leaf_nodes=80, min_samples_leaf=20, n_estimators=1000 \n",
      "[CV]  max_depth=10, max_features=0.7, max_leaf_nodes=80, min_samples_leaf=20, n_estimators=1000, total=   1.2s\n",
      "[CV] max_depth=10, max_features=0.7, max_leaf_nodes=80, min_samples_leaf=20, n_estimators=1000 \n",
      "[CV]  max_depth=10, max_features=0.7, max_leaf_nodes=80, min_samples_leaf=20, n_estimators=1000, total=   1.2s\n",
      "[CV] max_depth=10, max_features=0.7, max_leaf_nodes=80, min_samples_leaf=20, n_estimators=1500 \n",
      "[CV]  max_depth=10, max_features=0.7, max_leaf_nodes=80, min_samples_leaf=20, n_estimators=1500, total=   1.8s\n",
      "[CV] max_depth=10, max_features=0.7, max_leaf_nodes=80, min_samples_leaf=20, n_estimators=1500 \n",
      "[CV]  max_depth=10, max_features=0.7, max_leaf_nodes=80, min_samples_leaf=20, n_estimators=1500, total=   1.8s\n",
      "[CV] max_depth=10, max_features=0.7, max_leaf_nodes=80, min_samples_leaf=20, n_estimators=1500 \n",
      "[CV]  max_depth=10, max_features=0.7, max_leaf_nodes=80, min_samples_leaf=20, n_estimators=1500, total=   1.8s\n",
      "[CV] max_depth=10, max_features=0.7, max_leaf_nodes=80, min_samples_leaf=20, n_estimators=2000 \n",
      "[CV]  max_depth=10, max_features=0.7, max_leaf_nodes=80, min_samples_leaf=20, n_estimators=2000, total=   2.3s\n",
      "[CV] max_depth=10, max_features=0.7, max_leaf_nodes=80, min_samples_leaf=20, n_estimators=2000 \n",
      "[CV]  max_depth=10, max_features=0.7, max_leaf_nodes=80, min_samples_leaf=20, n_estimators=2000, total=   2.4s\n",
      "[CV] max_depth=10, max_features=0.7, max_leaf_nodes=80, min_samples_leaf=20, n_estimators=2000 \n",
      "[CV]  max_depth=10, max_features=0.7, max_leaf_nodes=80, min_samples_leaf=20, n_estimators=2000, total=   2.4s\n",
      "[CV] max_depth=10, max_features=0.7, max_leaf_nodes=80, min_samples_leaf=20, n_estimators=2500 \n",
      "[CV]  max_depth=10, max_features=0.7, max_leaf_nodes=80, min_samples_leaf=20, n_estimators=2500, total=   2.9s\n",
      "[CV] max_depth=10, max_features=0.7, max_leaf_nodes=80, min_samples_leaf=20, n_estimators=2500 \n",
      "[CV]  max_depth=10, max_features=0.7, max_leaf_nodes=80, min_samples_leaf=20, n_estimators=2500, total=   2.9s\n",
      "[CV] max_depth=10, max_features=0.7, max_leaf_nodes=80, min_samples_leaf=20, n_estimators=2500 \n",
      "[CV]  max_depth=10, max_features=0.7, max_leaf_nodes=80, min_samples_leaf=20, n_estimators=2500, total=   2.9s\n",
      "[CV] max_depth=15, max_features=0.5, max_leaf_nodes=20, min_samples_leaf=10, n_estimators=1000 \n",
      "[CV]  max_depth=15, max_features=0.5, max_leaf_nodes=20, min_samples_leaf=10, n_estimators=1000, total=   1.2s\n",
      "[CV] max_depth=15, max_features=0.5, max_leaf_nodes=20, min_samples_leaf=10, n_estimators=1000 \n",
      "[CV]  max_depth=15, max_features=0.5, max_leaf_nodes=20, min_samples_leaf=10, n_estimators=1000, total=   1.2s\n",
      "[CV] max_depth=15, max_features=0.5, max_leaf_nodes=20, min_samples_leaf=10, n_estimators=1000 \n",
      "[CV]  max_depth=15, max_features=0.5, max_leaf_nodes=20, min_samples_leaf=10, n_estimators=1000, total=   1.2s\n",
      "[CV] max_depth=15, max_features=0.5, max_leaf_nodes=20, min_samples_leaf=10, n_estimators=1500 \n",
      "[CV]  max_depth=15, max_features=0.5, max_leaf_nodes=20, min_samples_leaf=10, n_estimators=1500, total=   1.7s\n",
      "[CV] max_depth=15, max_features=0.5, max_leaf_nodes=20, min_samples_leaf=10, n_estimators=1500 \n",
      "[CV]  max_depth=15, max_features=0.5, max_leaf_nodes=20, min_samples_leaf=10, n_estimators=1500, total=   1.8s\n",
      "[CV] max_depth=15, max_features=0.5, max_leaf_nodes=20, min_samples_leaf=10, n_estimators=1500 \n",
      "[CV]  max_depth=15, max_features=0.5, max_leaf_nodes=20, min_samples_leaf=10, n_estimators=1500, total=   1.7s\n",
      "[CV] max_depth=15, max_features=0.5, max_leaf_nodes=20, min_samples_leaf=10, n_estimators=2000 \n",
      "[CV]  max_depth=15, max_features=0.5, max_leaf_nodes=20, min_samples_leaf=10, n_estimators=2000, total=   2.3s\n",
      "[CV] max_depth=15, max_features=0.5, max_leaf_nodes=20, min_samples_leaf=10, n_estimators=2000 \n",
      "[CV]  max_depth=15, max_features=0.5, max_leaf_nodes=20, min_samples_leaf=10, n_estimators=2000, total=   2.3s\n",
      "[CV] max_depth=15, max_features=0.5, max_leaf_nodes=20, min_samples_leaf=10, n_estimators=2000 \n",
      "[CV]  max_depth=15, max_features=0.5, max_leaf_nodes=20, min_samples_leaf=10, n_estimators=2000, total=   2.3s\n",
      "[CV] max_depth=15, max_features=0.5, max_leaf_nodes=20, min_samples_leaf=10, n_estimators=2500 \n"
     ]
    },
    {
     "name": "stdout",
     "output_type": "stream",
     "text": [
      "[CV]  max_depth=15, max_features=0.5, max_leaf_nodes=20, min_samples_leaf=10, n_estimators=2500, total=   2.9s\n",
      "[CV] max_depth=15, max_features=0.5, max_leaf_nodes=20, min_samples_leaf=10, n_estimators=2500 \n",
      "[CV]  max_depth=15, max_features=0.5, max_leaf_nodes=20, min_samples_leaf=10, n_estimators=2500, total=   2.9s\n",
      "[CV] max_depth=15, max_features=0.5, max_leaf_nodes=20, min_samples_leaf=10, n_estimators=2500 \n",
      "[CV]  max_depth=15, max_features=0.5, max_leaf_nodes=20, min_samples_leaf=10, n_estimators=2500, total=   2.9s\n",
      "[CV] max_depth=15, max_features=0.5, max_leaf_nodes=20, min_samples_leaf=15, n_estimators=1000 \n",
      "[CV]  max_depth=15, max_features=0.5, max_leaf_nodes=20, min_samples_leaf=15, n_estimators=1000, total=   1.2s\n",
      "[CV] max_depth=15, max_features=0.5, max_leaf_nodes=20, min_samples_leaf=15, n_estimators=1000 \n",
      "[CV]  max_depth=15, max_features=0.5, max_leaf_nodes=20, min_samples_leaf=15, n_estimators=1000, total=   1.1s\n",
      "[CV] max_depth=15, max_features=0.5, max_leaf_nodes=20, min_samples_leaf=15, n_estimators=1000 \n",
      "[CV]  max_depth=15, max_features=0.5, max_leaf_nodes=20, min_samples_leaf=15, n_estimators=1000, total=   1.2s\n",
      "[CV] max_depth=15, max_features=0.5, max_leaf_nodes=20, min_samples_leaf=15, n_estimators=1500 \n",
      "[CV]  max_depth=15, max_features=0.5, max_leaf_nodes=20, min_samples_leaf=15, n_estimators=1500, total=   1.7s\n",
      "[CV] max_depth=15, max_features=0.5, max_leaf_nodes=20, min_samples_leaf=15, n_estimators=1500 \n",
      "[CV]  max_depth=15, max_features=0.5, max_leaf_nodes=20, min_samples_leaf=15, n_estimators=1500, total=   1.7s\n",
      "[CV] max_depth=15, max_features=0.5, max_leaf_nodes=20, min_samples_leaf=15, n_estimators=1500 \n",
      "[CV]  max_depth=15, max_features=0.5, max_leaf_nodes=20, min_samples_leaf=15, n_estimators=1500, total=   1.7s\n",
      "[CV] max_depth=15, max_features=0.5, max_leaf_nodes=20, min_samples_leaf=15, n_estimators=2000 \n",
      "[CV]  max_depth=15, max_features=0.5, max_leaf_nodes=20, min_samples_leaf=15, n_estimators=2000, total=   2.2s\n",
      "[CV] max_depth=15, max_features=0.5, max_leaf_nodes=20, min_samples_leaf=15, n_estimators=2000 \n",
      "[CV]  max_depth=15, max_features=0.5, max_leaf_nodes=20, min_samples_leaf=15, n_estimators=2000, total=   2.3s\n",
      "[CV] max_depth=15, max_features=0.5, max_leaf_nodes=20, min_samples_leaf=15, n_estimators=2000 \n",
      "[CV]  max_depth=15, max_features=0.5, max_leaf_nodes=20, min_samples_leaf=15, n_estimators=2000, total=   2.3s\n",
      "[CV] max_depth=15, max_features=0.5, max_leaf_nodes=20, min_samples_leaf=15, n_estimators=2500 \n",
      "[CV]  max_depth=15, max_features=0.5, max_leaf_nodes=20, min_samples_leaf=15, n_estimators=2500, total=   2.8s\n",
      "[CV] max_depth=15, max_features=0.5, max_leaf_nodes=20, min_samples_leaf=15, n_estimators=2500 \n",
      "[CV]  max_depth=15, max_features=0.5, max_leaf_nodes=20, min_samples_leaf=15, n_estimators=2500, total=   2.8s\n",
      "[CV] max_depth=15, max_features=0.5, max_leaf_nodes=20, min_samples_leaf=15, n_estimators=2500 \n",
      "[CV]  max_depth=15, max_features=0.5, max_leaf_nodes=20, min_samples_leaf=15, n_estimators=2500, total=   2.8s\n",
      "[CV] max_depth=15, max_features=0.5, max_leaf_nodes=20, min_samples_leaf=20, n_estimators=1000 \n",
      "[CV]  max_depth=15, max_features=0.5, max_leaf_nodes=20, min_samples_leaf=20, n_estimators=1000, total=   1.1s\n",
      "[CV] max_depth=15, max_features=0.5, max_leaf_nodes=20, min_samples_leaf=20, n_estimators=1000 \n",
      "[CV]  max_depth=15, max_features=0.5, max_leaf_nodes=20, min_samples_leaf=20, n_estimators=1000, total=   1.1s\n",
      "[CV] max_depth=15, max_features=0.5, max_leaf_nodes=20, min_samples_leaf=20, n_estimators=1000 \n",
      "[CV]  max_depth=15, max_features=0.5, max_leaf_nodes=20, min_samples_leaf=20, n_estimators=1000, total=   1.2s\n",
      "[CV] max_depth=15, max_features=0.5, max_leaf_nodes=20, min_samples_leaf=20, n_estimators=1500 \n",
      "[CV]  max_depth=15, max_features=0.5, max_leaf_nodes=20, min_samples_leaf=20, n_estimators=1500, total=   1.7s\n",
      "[CV] max_depth=15, max_features=0.5, max_leaf_nodes=20, min_samples_leaf=20, n_estimators=1500 \n",
      "[CV]  max_depth=15, max_features=0.5, max_leaf_nodes=20, min_samples_leaf=20, n_estimators=1500, total=   1.7s\n",
      "[CV] max_depth=15, max_features=0.5, max_leaf_nodes=20, min_samples_leaf=20, n_estimators=1500 \n",
      "[CV]  max_depth=15, max_features=0.5, max_leaf_nodes=20, min_samples_leaf=20, n_estimators=1500, total=   1.7s\n",
      "[CV] max_depth=15, max_features=0.5, max_leaf_nodes=20, min_samples_leaf=20, n_estimators=2000 \n",
      "[CV]  max_depth=15, max_features=0.5, max_leaf_nodes=20, min_samples_leaf=20, n_estimators=2000, total=   2.2s\n",
      "[CV] max_depth=15, max_features=0.5, max_leaf_nodes=20, min_samples_leaf=20, n_estimators=2000 \n",
      "[CV]  max_depth=15, max_features=0.5, max_leaf_nodes=20, min_samples_leaf=20, n_estimators=2000, total=   2.2s\n",
      "[CV] max_depth=15, max_features=0.5, max_leaf_nodes=20, min_samples_leaf=20, n_estimators=2000 \n",
      "[CV]  max_depth=15, max_features=0.5, max_leaf_nodes=20, min_samples_leaf=20, n_estimators=2000, total=   2.2s\n",
      "[CV] max_depth=15, max_features=0.5, max_leaf_nodes=20, min_samples_leaf=20, n_estimators=2500 \n",
      "[CV]  max_depth=15, max_features=0.5, max_leaf_nodes=20, min_samples_leaf=20, n_estimators=2500, total=   2.8s\n",
      "[CV] max_depth=15, max_features=0.5, max_leaf_nodes=20, min_samples_leaf=20, n_estimators=2500 \n",
      "[CV]  max_depth=15, max_features=0.5, max_leaf_nodes=20, min_samples_leaf=20, n_estimators=2500, total=   2.8s\n",
      "[CV] max_depth=15, max_features=0.5, max_leaf_nodes=20, min_samples_leaf=20, n_estimators=2500 \n",
      "[CV]  max_depth=15, max_features=0.5, max_leaf_nodes=20, min_samples_leaf=20, n_estimators=2500, total=   2.8s\n",
      "[CV] max_depth=15, max_features=0.5, max_leaf_nodes=50, min_samples_leaf=10, n_estimators=1000 \n",
      "[CV]  max_depth=15, max_features=0.5, max_leaf_nodes=50, min_samples_leaf=10, n_estimators=1000, total=   1.2s\n",
      "[CV] max_depth=15, max_features=0.5, max_leaf_nodes=50, min_samples_leaf=10, n_estimators=1000 \n",
      "[CV]  max_depth=15, max_features=0.5, max_leaf_nodes=50, min_samples_leaf=10, n_estimators=1000, total=   1.2s\n",
      "[CV] max_depth=15, max_features=0.5, max_leaf_nodes=50, min_samples_leaf=10, n_estimators=1000 \n",
      "[CV]  max_depth=15, max_features=0.5, max_leaf_nodes=50, min_samples_leaf=10, n_estimators=1000, total=   1.2s\n",
      "[CV] max_depth=15, max_features=0.5, max_leaf_nodes=50, min_samples_leaf=10, n_estimators=1500 \n",
      "[CV]  max_depth=15, max_features=0.5, max_leaf_nodes=50, min_samples_leaf=10, n_estimators=1500, total=   1.7s\n",
      "[CV] max_depth=15, max_features=0.5, max_leaf_nodes=50, min_samples_leaf=10, n_estimators=1500 \n",
      "[CV]  max_depth=15, max_features=0.5, max_leaf_nodes=50, min_samples_leaf=10, n_estimators=1500, total=   1.7s\n",
      "[CV] max_depth=15, max_features=0.5, max_leaf_nodes=50, min_samples_leaf=10, n_estimators=1500 \n",
      "[CV]  max_depth=15, max_features=0.5, max_leaf_nodes=50, min_samples_leaf=10, n_estimators=1500, total=   1.8s\n",
      "[CV] max_depth=15, max_features=0.5, max_leaf_nodes=50, min_samples_leaf=10, n_estimators=2000 \n",
      "[CV]  max_depth=15, max_features=0.5, max_leaf_nodes=50, min_samples_leaf=10, n_estimators=2000, total=   2.3s\n",
      "[CV] max_depth=15, max_features=0.5, max_leaf_nodes=50, min_samples_leaf=10, n_estimators=2000 \n",
      "[CV]  max_depth=15, max_features=0.5, max_leaf_nodes=50, min_samples_leaf=10, n_estimators=2000, total=   2.4s\n",
      "[CV] max_depth=15, max_features=0.5, max_leaf_nodes=50, min_samples_leaf=10, n_estimators=2000 \n",
      "[CV]  max_depth=15, max_features=0.5, max_leaf_nodes=50, min_samples_leaf=10, n_estimators=2000, total=   2.4s\n",
      "[CV] max_depth=15, max_features=0.5, max_leaf_nodes=50, min_samples_leaf=10, n_estimators=2500 \n",
      "[CV]  max_depth=15, max_features=0.5, max_leaf_nodes=50, min_samples_leaf=10, n_estimators=2500, total=   2.9s\n",
      "[CV] max_depth=15, max_features=0.5, max_leaf_nodes=50, min_samples_leaf=10, n_estimators=2500 \n",
      "[CV]  max_depth=15, max_features=0.5, max_leaf_nodes=50, min_samples_leaf=10, n_estimators=2500, total=   2.9s\n",
      "[CV] max_depth=15, max_features=0.5, max_leaf_nodes=50, min_samples_leaf=10, n_estimators=2500 \n",
      "[CV]  max_depth=15, max_features=0.5, max_leaf_nodes=50, min_samples_leaf=10, n_estimators=2500, total=   2.9s\n",
      "[CV] max_depth=15, max_features=0.5, max_leaf_nodes=50, min_samples_leaf=15, n_estimators=1000 \n",
      "[CV]  max_depth=15, max_features=0.5, max_leaf_nodes=50, min_samples_leaf=15, n_estimators=1000, total=   1.2s\n",
      "[CV] max_depth=15, max_features=0.5, max_leaf_nodes=50, min_samples_leaf=15, n_estimators=1000 \n"
     ]
    },
    {
     "name": "stdout",
     "output_type": "stream",
     "text": [
      "[CV]  max_depth=15, max_features=0.5, max_leaf_nodes=50, min_samples_leaf=15, n_estimators=1000, total=   1.1s\n",
      "[CV] max_depth=15, max_features=0.5, max_leaf_nodes=50, min_samples_leaf=15, n_estimators=1000 \n",
      "[CV]  max_depth=15, max_features=0.5, max_leaf_nodes=50, min_samples_leaf=15, n_estimators=1000, total=   1.2s\n",
      "[CV] max_depth=15, max_features=0.5, max_leaf_nodes=50, min_samples_leaf=15, n_estimators=1500 \n",
      "[CV]  max_depth=15, max_features=0.5, max_leaf_nodes=50, min_samples_leaf=15, n_estimators=1500, total=   1.7s\n",
      "[CV] max_depth=15, max_features=0.5, max_leaf_nodes=50, min_samples_leaf=15, n_estimators=1500 \n",
      "[CV]  max_depth=15, max_features=0.5, max_leaf_nodes=50, min_samples_leaf=15, n_estimators=1500, total=   1.7s\n",
      "[CV] max_depth=15, max_features=0.5, max_leaf_nodes=50, min_samples_leaf=15, n_estimators=1500 \n",
      "[CV]  max_depth=15, max_features=0.5, max_leaf_nodes=50, min_samples_leaf=15, n_estimators=1500, total=   1.7s\n",
      "[CV] max_depth=15, max_features=0.5, max_leaf_nodes=50, min_samples_leaf=15, n_estimators=2000 \n",
      "[CV]  max_depth=15, max_features=0.5, max_leaf_nodes=50, min_samples_leaf=15, n_estimators=2000, total=   2.3s\n",
      "[CV] max_depth=15, max_features=0.5, max_leaf_nodes=50, min_samples_leaf=15, n_estimators=2000 \n",
      "[CV]  max_depth=15, max_features=0.5, max_leaf_nodes=50, min_samples_leaf=15, n_estimators=2000, total=   2.3s\n",
      "[CV] max_depth=15, max_features=0.5, max_leaf_nodes=50, min_samples_leaf=15, n_estimators=2000 \n",
      "[CV]  max_depth=15, max_features=0.5, max_leaf_nodes=50, min_samples_leaf=15, n_estimators=2000, total=   2.3s\n",
      "[CV] max_depth=15, max_features=0.5, max_leaf_nodes=50, min_samples_leaf=15, n_estimators=2500 \n",
      "[CV]  max_depth=15, max_features=0.5, max_leaf_nodes=50, min_samples_leaf=15, n_estimators=2500, total=   2.8s\n",
      "[CV] max_depth=15, max_features=0.5, max_leaf_nodes=50, min_samples_leaf=15, n_estimators=2500 \n",
      "[CV]  max_depth=15, max_features=0.5, max_leaf_nodes=50, min_samples_leaf=15, n_estimators=2500, total=   2.9s\n",
      "[CV] max_depth=15, max_features=0.5, max_leaf_nodes=50, min_samples_leaf=15, n_estimators=2500 \n",
      "[CV]  max_depth=15, max_features=0.5, max_leaf_nodes=50, min_samples_leaf=15, n_estimators=2500, total=   2.9s\n",
      "[CV] max_depth=15, max_features=0.5, max_leaf_nodes=50, min_samples_leaf=20, n_estimators=1000 \n",
      "[CV]  max_depth=15, max_features=0.5, max_leaf_nodes=50, min_samples_leaf=20, n_estimators=1000, total=   1.1s\n",
      "[CV] max_depth=15, max_features=0.5, max_leaf_nodes=50, min_samples_leaf=20, n_estimators=1000 \n",
      "[CV]  max_depth=15, max_features=0.5, max_leaf_nodes=50, min_samples_leaf=20, n_estimators=1000, total=   1.1s\n",
      "[CV] max_depth=15, max_features=0.5, max_leaf_nodes=50, min_samples_leaf=20, n_estimators=1000 \n",
      "[CV]  max_depth=15, max_features=0.5, max_leaf_nodes=50, min_samples_leaf=20, n_estimators=1000, total=   1.1s\n",
      "[CV] max_depth=15, max_features=0.5, max_leaf_nodes=50, min_samples_leaf=20, n_estimators=1500 \n",
      "[CV]  max_depth=15, max_features=0.5, max_leaf_nodes=50, min_samples_leaf=20, n_estimators=1500, total=   1.7s\n",
      "[CV] max_depth=15, max_features=0.5, max_leaf_nodes=50, min_samples_leaf=20, n_estimators=1500 \n",
      "[CV]  max_depth=15, max_features=0.5, max_leaf_nodes=50, min_samples_leaf=20, n_estimators=1500, total=   1.7s\n",
      "[CV] max_depth=15, max_features=0.5, max_leaf_nodes=50, min_samples_leaf=20, n_estimators=1500 \n",
      "[CV]  max_depth=15, max_features=0.5, max_leaf_nodes=50, min_samples_leaf=20, n_estimators=1500, total=   1.7s\n",
      "[CV] max_depth=15, max_features=0.5, max_leaf_nodes=50, min_samples_leaf=20, n_estimators=2000 \n",
      "[CV]  max_depth=15, max_features=0.5, max_leaf_nodes=50, min_samples_leaf=20, n_estimators=2000, total=   2.2s\n",
      "[CV] max_depth=15, max_features=0.5, max_leaf_nodes=50, min_samples_leaf=20, n_estimators=2000 \n",
      "[CV]  max_depth=15, max_features=0.5, max_leaf_nodes=50, min_samples_leaf=20, n_estimators=2000, total=   2.2s\n",
      "[CV] max_depth=15, max_features=0.5, max_leaf_nodes=50, min_samples_leaf=20, n_estimators=2000 \n",
      "[CV]  max_depth=15, max_features=0.5, max_leaf_nodes=50, min_samples_leaf=20, n_estimators=2000, total=   2.2s\n",
      "[CV] max_depth=15, max_features=0.5, max_leaf_nodes=50, min_samples_leaf=20, n_estimators=2500 \n",
      "[CV]  max_depth=15, max_features=0.5, max_leaf_nodes=50, min_samples_leaf=20, n_estimators=2500, total=   2.8s\n",
      "[CV] max_depth=15, max_features=0.5, max_leaf_nodes=50, min_samples_leaf=20, n_estimators=2500 \n",
      "[CV]  max_depth=15, max_features=0.5, max_leaf_nodes=50, min_samples_leaf=20, n_estimators=2500, total=   2.8s\n",
      "[CV] max_depth=15, max_features=0.5, max_leaf_nodes=50, min_samples_leaf=20, n_estimators=2500 \n",
      "[CV]  max_depth=15, max_features=0.5, max_leaf_nodes=50, min_samples_leaf=20, n_estimators=2500, total=   2.8s\n",
      "[CV] max_depth=15, max_features=0.5, max_leaf_nodes=80, min_samples_leaf=10, n_estimators=1000 \n",
      "[CV]  max_depth=15, max_features=0.5, max_leaf_nodes=80, min_samples_leaf=10, n_estimators=1000, total=   1.2s\n",
      "[CV] max_depth=15, max_features=0.5, max_leaf_nodes=80, min_samples_leaf=10, n_estimators=1000 \n",
      "[CV]  max_depth=15, max_features=0.5, max_leaf_nodes=80, min_samples_leaf=10, n_estimators=1000, total=   1.2s\n",
      "[CV] max_depth=15, max_features=0.5, max_leaf_nodes=80, min_samples_leaf=10, n_estimators=1000 \n",
      "[CV]  max_depth=15, max_features=0.5, max_leaf_nodes=80, min_samples_leaf=10, n_estimators=1000, total=   1.2s\n",
      "[CV] max_depth=15, max_features=0.5, max_leaf_nodes=80, min_samples_leaf=10, n_estimators=1500 \n",
      "[CV]  max_depth=15, max_features=0.5, max_leaf_nodes=80, min_samples_leaf=10, n_estimators=1500, total=   1.8s\n",
      "[CV] max_depth=15, max_features=0.5, max_leaf_nodes=80, min_samples_leaf=10, n_estimators=1500 \n",
      "[CV]  max_depth=15, max_features=0.5, max_leaf_nodes=80, min_samples_leaf=10, n_estimators=1500, total=   1.7s\n",
      "[CV] max_depth=15, max_features=0.5, max_leaf_nodes=80, min_samples_leaf=10, n_estimators=1500 \n",
      "[CV]  max_depth=15, max_features=0.5, max_leaf_nodes=80, min_samples_leaf=10, n_estimators=1500, total=   1.8s\n",
      "[CV] max_depth=15, max_features=0.5, max_leaf_nodes=80, min_samples_leaf=10, n_estimators=2000 \n",
      "[CV]  max_depth=15, max_features=0.5, max_leaf_nodes=80, min_samples_leaf=10, n_estimators=2000, total=   2.3s\n",
      "[CV] max_depth=15, max_features=0.5, max_leaf_nodes=80, min_samples_leaf=10, n_estimators=2000 \n",
      "[CV]  max_depth=15, max_features=0.5, max_leaf_nodes=80, min_samples_leaf=10, n_estimators=2000, total=   2.3s\n",
      "[CV] max_depth=15, max_features=0.5, max_leaf_nodes=80, min_samples_leaf=10, n_estimators=2000 \n",
      "[CV]  max_depth=15, max_features=0.5, max_leaf_nodes=80, min_samples_leaf=10, n_estimators=2000, total=   2.4s\n",
      "[CV] max_depth=15, max_features=0.5, max_leaf_nodes=80, min_samples_leaf=10, n_estimators=2500 \n",
      "[CV]  max_depth=15, max_features=0.5, max_leaf_nodes=80, min_samples_leaf=10, n_estimators=2500, total=   2.9s\n",
      "[CV] max_depth=15, max_features=0.5, max_leaf_nodes=80, min_samples_leaf=10, n_estimators=2500 \n",
      "[CV]  max_depth=15, max_features=0.5, max_leaf_nodes=80, min_samples_leaf=10, n_estimators=2500, total=   2.9s\n",
      "[CV] max_depth=15, max_features=0.5, max_leaf_nodes=80, min_samples_leaf=10, n_estimators=2500 \n",
      "[CV]  max_depth=15, max_features=0.5, max_leaf_nodes=80, min_samples_leaf=10, n_estimators=2500, total=   2.9s\n",
      "[CV] max_depth=15, max_features=0.5, max_leaf_nodes=80, min_samples_leaf=15, n_estimators=1000 \n",
      "[CV]  max_depth=15, max_features=0.5, max_leaf_nodes=80, min_samples_leaf=15, n_estimators=1000, total=   1.1s\n",
      "[CV] max_depth=15, max_features=0.5, max_leaf_nodes=80, min_samples_leaf=15, n_estimators=1000 \n",
      "[CV]  max_depth=15, max_features=0.5, max_leaf_nodes=80, min_samples_leaf=15, n_estimators=1000, total=   1.1s\n",
      "[CV] max_depth=15, max_features=0.5, max_leaf_nodes=80, min_samples_leaf=15, n_estimators=1000 \n",
      "[CV]  max_depth=15, max_features=0.5, max_leaf_nodes=80, min_samples_leaf=15, n_estimators=1000, total=   1.2s\n",
      "[CV] max_depth=15, max_features=0.5, max_leaf_nodes=80, min_samples_leaf=15, n_estimators=1500 \n",
      "[CV]  max_depth=15, max_features=0.5, max_leaf_nodes=80, min_samples_leaf=15, n_estimators=1500, total=   1.7s\n",
      "[CV] max_depth=15, max_features=0.5, max_leaf_nodes=80, min_samples_leaf=15, n_estimators=1500 \n",
      "[CV]  max_depth=15, max_features=0.5, max_leaf_nodes=80, min_samples_leaf=15, n_estimators=1500, total=   1.7s\n",
      "[CV] max_depth=15, max_features=0.5, max_leaf_nodes=80, min_samples_leaf=15, n_estimators=1500 \n"
     ]
    },
    {
     "name": "stdout",
     "output_type": "stream",
     "text": [
      "[CV]  max_depth=15, max_features=0.5, max_leaf_nodes=80, min_samples_leaf=15, n_estimators=1500, total=   1.7s\n",
      "[CV] max_depth=15, max_features=0.5, max_leaf_nodes=80, min_samples_leaf=15, n_estimators=2000 \n",
      "[CV]  max_depth=15, max_features=0.5, max_leaf_nodes=80, min_samples_leaf=15, n_estimators=2000, total=   2.3s\n",
      "[CV] max_depth=15, max_features=0.5, max_leaf_nodes=80, min_samples_leaf=15, n_estimators=2000 \n",
      "[CV]  max_depth=15, max_features=0.5, max_leaf_nodes=80, min_samples_leaf=15, n_estimators=2000, total=   2.3s\n",
      "[CV] max_depth=15, max_features=0.5, max_leaf_nodes=80, min_samples_leaf=15, n_estimators=2000 \n",
      "[CV]  max_depth=15, max_features=0.5, max_leaf_nodes=80, min_samples_leaf=15, n_estimators=2000, total=   2.3s\n",
      "[CV] max_depth=15, max_features=0.5, max_leaf_nodes=80, min_samples_leaf=15, n_estimators=2500 \n",
      "[CV]  max_depth=15, max_features=0.5, max_leaf_nodes=80, min_samples_leaf=15, n_estimators=2500, total=   2.8s\n",
      "[CV] max_depth=15, max_features=0.5, max_leaf_nodes=80, min_samples_leaf=15, n_estimators=2500 \n",
      "[CV]  max_depth=15, max_features=0.5, max_leaf_nodes=80, min_samples_leaf=15, n_estimators=2500, total=   2.9s\n",
      "[CV] max_depth=15, max_features=0.5, max_leaf_nodes=80, min_samples_leaf=15, n_estimators=2500 \n",
      "[CV]  max_depth=15, max_features=0.5, max_leaf_nodes=80, min_samples_leaf=15, n_estimators=2500, total=   2.8s\n",
      "[CV] max_depth=15, max_features=0.5, max_leaf_nodes=80, min_samples_leaf=20, n_estimators=1000 \n",
      "[CV]  max_depth=15, max_features=0.5, max_leaf_nodes=80, min_samples_leaf=20, n_estimators=1000, total=   1.1s\n",
      "[CV] max_depth=15, max_features=0.5, max_leaf_nodes=80, min_samples_leaf=20, n_estimators=1000 \n",
      "[CV]  max_depth=15, max_features=0.5, max_leaf_nodes=80, min_samples_leaf=20, n_estimators=1000, total=   1.1s\n",
      "[CV] max_depth=15, max_features=0.5, max_leaf_nodes=80, min_samples_leaf=20, n_estimators=1000 \n",
      "[CV]  max_depth=15, max_features=0.5, max_leaf_nodes=80, min_samples_leaf=20, n_estimators=1000, total=   1.1s\n",
      "[CV] max_depth=15, max_features=0.5, max_leaf_nodes=80, min_samples_leaf=20, n_estimators=1500 \n",
      "[CV]  max_depth=15, max_features=0.5, max_leaf_nodes=80, min_samples_leaf=20, n_estimators=1500, total=   1.7s\n",
      "[CV] max_depth=15, max_features=0.5, max_leaf_nodes=80, min_samples_leaf=20, n_estimators=1500 \n",
      "[CV]  max_depth=15, max_features=0.5, max_leaf_nodes=80, min_samples_leaf=20, n_estimators=1500, total=   1.7s\n",
      "[CV] max_depth=15, max_features=0.5, max_leaf_nodes=80, min_samples_leaf=20, n_estimators=1500 \n",
      "[CV]  max_depth=15, max_features=0.5, max_leaf_nodes=80, min_samples_leaf=20, n_estimators=1500, total=   1.7s\n",
      "[CV] max_depth=15, max_features=0.5, max_leaf_nodes=80, min_samples_leaf=20, n_estimators=2000 \n",
      "[CV]  max_depth=15, max_features=0.5, max_leaf_nodes=80, min_samples_leaf=20, n_estimators=2000, total=   2.2s\n",
      "[CV] max_depth=15, max_features=0.5, max_leaf_nodes=80, min_samples_leaf=20, n_estimators=2000 \n",
      "[CV]  max_depth=15, max_features=0.5, max_leaf_nodes=80, min_samples_leaf=20, n_estimators=2000, total=   2.3s\n",
      "[CV] max_depth=15, max_features=0.5, max_leaf_nodes=80, min_samples_leaf=20, n_estimators=2000 \n",
      "[CV]  max_depth=15, max_features=0.5, max_leaf_nodes=80, min_samples_leaf=20, n_estimators=2000, total=   2.2s\n",
      "[CV] max_depth=15, max_features=0.5, max_leaf_nodes=80, min_samples_leaf=20, n_estimators=2500 \n",
      "[CV]  max_depth=15, max_features=0.5, max_leaf_nodes=80, min_samples_leaf=20, n_estimators=2500, total=   2.8s\n",
      "[CV] max_depth=15, max_features=0.5, max_leaf_nodes=80, min_samples_leaf=20, n_estimators=2500 \n",
      "[CV]  max_depth=15, max_features=0.5, max_leaf_nodes=80, min_samples_leaf=20, n_estimators=2500, total=   2.8s\n",
      "[CV] max_depth=15, max_features=0.5, max_leaf_nodes=80, min_samples_leaf=20, n_estimators=2500 \n",
      "[CV]  max_depth=15, max_features=0.5, max_leaf_nodes=80, min_samples_leaf=20, n_estimators=2500, total=   2.8s\n",
      "[CV] max_depth=15, max_features=0.7, max_leaf_nodes=20, min_samples_leaf=10, n_estimators=1000 \n",
      "[CV]  max_depth=15, max_features=0.7, max_leaf_nodes=20, min_samples_leaf=10, n_estimators=1000, total=   1.3s\n",
      "[CV] max_depth=15, max_features=0.7, max_leaf_nodes=20, min_samples_leaf=10, n_estimators=1000 \n",
      "[CV]  max_depth=15, max_features=0.7, max_leaf_nodes=20, min_samples_leaf=10, n_estimators=1000, total=   1.2s\n",
      "[CV] max_depth=15, max_features=0.7, max_leaf_nodes=20, min_samples_leaf=10, n_estimators=1000 \n",
      "[CV]  max_depth=15, max_features=0.7, max_leaf_nodes=20, min_samples_leaf=10, n_estimators=1000, total=   1.3s\n",
      "[CV] max_depth=15, max_features=0.7, max_leaf_nodes=20, min_samples_leaf=10, n_estimators=1500 \n",
      "[CV]  max_depth=15, max_features=0.7, max_leaf_nodes=20, min_samples_leaf=10, n_estimators=1500, total=   1.8s\n",
      "[CV] max_depth=15, max_features=0.7, max_leaf_nodes=20, min_samples_leaf=10, n_estimators=1500 \n",
      "[CV]  max_depth=15, max_features=0.7, max_leaf_nodes=20, min_samples_leaf=10, n_estimators=1500, total=   1.9s\n",
      "[CV] max_depth=15, max_features=0.7, max_leaf_nodes=20, min_samples_leaf=10, n_estimators=1500 \n",
      "[CV]  max_depth=15, max_features=0.7, max_leaf_nodes=20, min_samples_leaf=10, n_estimators=1500, total=   1.9s\n",
      "[CV] max_depth=15, max_features=0.7, max_leaf_nodes=20, min_samples_leaf=10, n_estimators=2000 \n",
      "[CV]  max_depth=15, max_features=0.7, max_leaf_nodes=20, min_samples_leaf=10, n_estimators=2000, total=   2.5s\n",
      "[CV] max_depth=15, max_features=0.7, max_leaf_nodes=20, min_samples_leaf=10, n_estimators=2000 \n",
      "[CV]  max_depth=15, max_features=0.7, max_leaf_nodes=20, min_samples_leaf=10, n_estimators=2000, total=   2.5s\n",
      "[CV] max_depth=15, max_features=0.7, max_leaf_nodes=20, min_samples_leaf=10, n_estimators=2000 \n",
      "[CV]  max_depth=15, max_features=0.7, max_leaf_nodes=20, min_samples_leaf=10, n_estimators=2000, total=   2.5s\n",
      "[CV] max_depth=15, max_features=0.7, max_leaf_nodes=20, min_samples_leaf=10, n_estimators=2500 \n",
      "[CV]  max_depth=15, max_features=0.7, max_leaf_nodes=20, min_samples_leaf=10, n_estimators=2500, total=   3.1s\n",
      "[CV] max_depth=15, max_features=0.7, max_leaf_nodes=20, min_samples_leaf=10, n_estimators=2500 \n",
      "[CV]  max_depth=15, max_features=0.7, max_leaf_nodes=20, min_samples_leaf=10, n_estimators=2500, total=   3.1s\n",
      "[CV] max_depth=15, max_features=0.7, max_leaf_nodes=20, min_samples_leaf=10, n_estimators=2500 \n",
      "[CV]  max_depth=15, max_features=0.7, max_leaf_nodes=20, min_samples_leaf=10, n_estimators=2500, total=   3.1s\n",
      "[CV] max_depth=15, max_features=0.7, max_leaf_nodes=20, min_samples_leaf=15, n_estimators=1000 \n",
      "[CV]  max_depth=15, max_features=0.7, max_leaf_nodes=20, min_samples_leaf=15, n_estimators=1000, total=   1.2s\n",
      "[CV] max_depth=15, max_features=0.7, max_leaf_nodes=20, min_samples_leaf=15, n_estimators=1000 \n",
      "[CV]  max_depth=15, max_features=0.7, max_leaf_nodes=20, min_samples_leaf=15, n_estimators=1000, total=   1.3s\n",
      "[CV] max_depth=15, max_features=0.7, max_leaf_nodes=20, min_samples_leaf=15, n_estimators=1000 \n",
      "[CV]  max_depth=15, max_features=0.7, max_leaf_nodes=20, min_samples_leaf=15, n_estimators=1000, total=   1.2s\n",
      "[CV] max_depth=15, max_features=0.7, max_leaf_nodes=20, min_samples_leaf=15, n_estimators=1500 \n",
      "[CV]  max_depth=15, max_features=0.7, max_leaf_nodes=20, min_samples_leaf=15, n_estimators=1500, total=   1.8s\n",
      "[CV] max_depth=15, max_features=0.7, max_leaf_nodes=20, min_samples_leaf=15, n_estimators=1500 \n",
      "[CV]  max_depth=15, max_features=0.7, max_leaf_nodes=20, min_samples_leaf=15, n_estimators=1500, total=   1.9s\n",
      "[CV] max_depth=15, max_features=0.7, max_leaf_nodes=20, min_samples_leaf=15, n_estimators=1500 \n",
      "[CV]  max_depth=15, max_features=0.7, max_leaf_nodes=20, min_samples_leaf=15, n_estimators=1500, total=   1.8s\n",
      "[CV] max_depth=15, max_features=0.7, max_leaf_nodes=20, min_samples_leaf=15, n_estimators=2000 \n",
      "[CV]  max_depth=15, max_features=0.7, max_leaf_nodes=20, min_samples_leaf=15, n_estimators=2000, total=   2.4s\n",
      "[CV] max_depth=15, max_features=0.7, max_leaf_nodes=20, min_samples_leaf=15, n_estimators=2000 \n",
      "[CV]  max_depth=15, max_features=0.7, max_leaf_nodes=20, min_samples_leaf=15, n_estimators=2000, total=   2.4s\n",
      "[CV] max_depth=15, max_features=0.7, max_leaf_nodes=20, min_samples_leaf=15, n_estimators=2000 \n",
      "[CV]  max_depth=15, max_features=0.7, max_leaf_nodes=20, min_samples_leaf=15, n_estimators=2000, total=   2.4s\n",
      "[CV] max_depth=15, max_features=0.7, max_leaf_nodes=20, min_samples_leaf=15, n_estimators=2500 \n"
     ]
    },
    {
     "name": "stdout",
     "output_type": "stream",
     "text": [
      "[CV]  max_depth=15, max_features=0.7, max_leaf_nodes=20, min_samples_leaf=15, n_estimators=2500, total=   3.0s\n",
      "[CV] max_depth=15, max_features=0.7, max_leaf_nodes=20, min_samples_leaf=15, n_estimators=2500 \n",
      "[CV]  max_depth=15, max_features=0.7, max_leaf_nodes=20, min_samples_leaf=15, n_estimators=2500, total=   3.0s\n",
      "[CV] max_depth=15, max_features=0.7, max_leaf_nodes=20, min_samples_leaf=15, n_estimators=2500 \n",
      "[CV]  max_depth=15, max_features=0.7, max_leaf_nodes=20, min_samples_leaf=15, n_estimators=2500, total=   3.2s\n",
      "[CV] max_depth=15, max_features=0.7, max_leaf_nodes=20, min_samples_leaf=20, n_estimators=1000 \n",
      "[CV]  max_depth=15, max_features=0.7, max_leaf_nodes=20, min_samples_leaf=20, n_estimators=1000, total=   1.2s\n",
      "[CV] max_depth=15, max_features=0.7, max_leaf_nodes=20, min_samples_leaf=20, n_estimators=1000 \n",
      "[CV]  max_depth=15, max_features=0.7, max_leaf_nodes=20, min_samples_leaf=20, n_estimators=1000, total=   1.2s\n",
      "[CV] max_depth=15, max_features=0.7, max_leaf_nodes=20, min_samples_leaf=20, n_estimators=1000 \n",
      "[CV]  max_depth=15, max_features=0.7, max_leaf_nodes=20, min_samples_leaf=20, n_estimators=1000, total=   1.2s\n",
      "[CV] max_depth=15, max_features=0.7, max_leaf_nodes=20, min_samples_leaf=20, n_estimators=1500 \n",
      "[CV]  max_depth=15, max_features=0.7, max_leaf_nodes=20, min_samples_leaf=20, n_estimators=1500, total=   1.8s\n",
      "[CV] max_depth=15, max_features=0.7, max_leaf_nodes=20, min_samples_leaf=20, n_estimators=1500 \n",
      "[CV]  max_depth=15, max_features=0.7, max_leaf_nodes=20, min_samples_leaf=20, n_estimators=1500, total=   1.8s\n",
      "[CV] max_depth=15, max_features=0.7, max_leaf_nodes=20, min_samples_leaf=20, n_estimators=1500 \n",
      "[CV]  max_depth=15, max_features=0.7, max_leaf_nodes=20, min_samples_leaf=20, n_estimators=1500, total=   1.8s\n",
      "[CV] max_depth=15, max_features=0.7, max_leaf_nodes=20, min_samples_leaf=20, n_estimators=2000 \n",
      "[CV]  max_depth=15, max_features=0.7, max_leaf_nodes=20, min_samples_leaf=20, n_estimators=2000, total=   2.4s\n",
      "[CV] max_depth=15, max_features=0.7, max_leaf_nodes=20, min_samples_leaf=20, n_estimators=2000 \n",
      "[CV]  max_depth=15, max_features=0.7, max_leaf_nodes=20, min_samples_leaf=20, n_estimators=2000, total=   2.4s\n",
      "[CV] max_depth=15, max_features=0.7, max_leaf_nodes=20, min_samples_leaf=20, n_estimators=2000 \n",
      "[CV]  max_depth=15, max_features=0.7, max_leaf_nodes=20, min_samples_leaf=20, n_estimators=2000, total=   2.4s\n",
      "[CV] max_depth=15, max_features=0.7, max_leaf_nodes=20, min_samples_leaf=20, n_estimators=2500 \n",
      "[CV]  max_depth=15, max_features=0.7, max_leaf_nodes=20, min_samples_leaf=20, n_estimators=2500, total=   2.9s\n",
      "[CV] max_depth=15, max_features=0.7, max_leaf_nodes=20, min_samples_leaf=20, n_estimators=2500 \n",
      "[CV]  max_depth=15, max_features=0.7, max_leaf_nodes=20, min_samples_leaf=20, n_estimators=2500, total=   2.9s\n",
      "[CV] max_depth=15, max_features=0.7, max_leaf_nodes=20, min_samples_leaf=20, n_estimators=2500 \n",
      "[CV]  max_depth=15, max_features=0.7, max_leaf_nodes=20, min_samples_leaf=20, n_estimators=2500, total=   3.0s\n",
      "[CV] max_depth=15, max_features=0.7, max_leaf_nodes=50, min_samples_leaf=10, n_estimators=1000 \n",
      "[CV]  max_depth=15, max_features=0.7, max_leaf_nodes=50, min_samples_leaf=10, n_estimators=1000, total=   1.3s\n",
      "[CV] max_depth=15, max_features=0.7, max_leaf_nodes=50, min_samples_leaf=10, n_estimators=1000 \n",
      "[CV]  max_depth=15, max_features=0.7, max_leaf_nodes=50, min_samples_leaf=10, n_estimators=1000, total=   1.2s\n",
      "[CV] max_depth=15, max_features=0.7, max_leaf_nodes=50, min_samples_leaf=10, n_estimators=1000 \n",
      "[CV]  max_depth=15, max_features=0.7, max_leaf_nodes=50, min_samples_leaf=10, n_estimators=1000, total=   1.3s\n",
      "[CV] max_depth=15, max_features=0.7, max_leaf_nodes=50, min_samples_leaf=10, n_estimators=1500 \n",
      "[CV]  max_depth=15, max_features=0.7, max_leaf_nodes=50, min_samples_leaf=10, n_estimators=1500, total=   1.9s\n",
      "[CV] max_depth=15, max_features=0.7, max_leaf_nodes=50, min_samples_leaf=10, n_estimators=1500 \n",
      "[CV]  max_depth=15, max_features=0.7, max_leaf_nodes=50, min_samples_leaf=10, n_estimators=1500, total=   1.9s\n",
      "[CV] max_depth=15, max_features=0.7, max_leaf_nodes=50, min_samples_leaf=10, n_estimators=1500 \n",
      "[CV]  max_depth=15, max_features=0.7, max_leaf_nodes=50, min_samples_leaf=10, n_estimators=1500, total=   1.9s\n",
      "[CV] max_depth=15, max_features=0.7, max_leaf_nodes=50, min_samples_leaf=10, n_estimators=2000 \n",
      "[CV]  max_depth=15, max_features=0.7, max_leaf_nodes=50, min_samples_leaf=10, n_estimators=2000, total=   2.5s\n",
      "[CV] max_depth=15, max_features=0.7, max_leaf_nodes=50, min_samples_leaf=10, n_estimators=2000 \n",
      "[CV]  max_depth=15, max_features=0.7, max_leaf_nodes=50, min_samples_leaf=10, n_estimators=2000, total=   2.5s\n",
      "[CV] max_depth=15, max_features=0.7, max_leaf_nodes=50, min_samples_leaf=10, n_estimators=2000 \n",
      "[CV]  max_depth=15, max_features=0.7, max_leaf_nodes=50, min_samples_leaf=10, n_estimators=2000, total=   2.5s\n",
      "[CV] max_depth=15, max_features=0.7, max_leaf_nodes=50, min_samples_leaf=10, n_estimators=2500 \n",
      "[CV]  max_depth=15, max_features=0.7, max_leaf_nodes=50, min_samples_leaf=10, n_estimators=2500, total=   3.1s\n",
      "[CV] max_depth=15, max_features=0.7, max_leaf_nodes=50, min_samples_leaf=10, n_estimators=2500 \n",
      "[CV]  max_depth=15, max_features=0.7, max_leaf_nodes=50, min_samples_leaf=10, n_estimators=2500, total=   3.2s\n",
      "[CV] max_depth=15, max_features=0.7, max_leaf_nodes=50, min_samples_leaf=10, n_estimators=2500 \n",
      "[CV]  max_depth=15, max_features=0.7, max_leaf_nodes=50, min_samples_leaf=10, n_estimators=2500, total=   3.1s\n",
      "[CV] max_depth=15, max_features=0.7, max_leaf_nodes=50, min_samples_leaf=15, n_estimators=1000 \n",
      "[CV]  max_depth=15, max_features=0.7, max_leaf_nodes=50, min_samples_leaf=15, n_estimators=1000, total=   1.2s\n",
      "[CV] max_depth=15, max_features=0.7, max_leaf_nodes=50, min_samples_leaf=15, n_estimators=1000 \n",
      "[CV]  max_depth=15, max_features=0.7, max_leaf_nodes=50, min_samples_leaf=15, n_estimators=1000, total=   1.2s\n",
      "[CV] max_depth=15, max_features=0.7, max_leaf_nodes=50, min_samples_leaf=15, n_estimators=1000 \n",
      "[CV]  max_depth=15, max_features=0.7, max_leaf_nodes=50, min_samples_leaf=15, n_estimators=1000, total=   1.2s\n",
      "[CV] max_depth=15, max_features=0.7, max_leaf_nodes=50, min_samples_leaf=15, n_estimators=1500 \n",
      "[CV]  max_depth=15, max_features=0.7, max_leaf_nodes=50, min_samples_leaf=15, n_estimators=1500, total=   1.8s\n",
      "[CV] max_depth=15, max_features=0.7, max_leaf_nodes=50, min_samples_leaf=15, n_estimators=1500 \n",
      "[CV]  max_depth=15, max_features=0.7, max_leaf_nodes=50, min_samples_leaf=15, n_estimators=1500, total=   1.8s\n",
      "[CV] max_depth=15, max_features=0.7, max_leaf_nodes=50, min_samples_leaf=15, n_estimators=1500 \n",
      "[CV]  max_depth=15, max_features=0.7, max_leaf_nodes=50, min_samples_leaf=15, n_estimators=1500, total=   1.8s\n",
      "[CV] max_depth=15, max_features=0.7, max_leaf_nodes=50, min_samples_leaf=15, n_estimators=2000 \n",
      "[CV]  max_depth=15, max_features=0.7, max_leaf_nodes=50, min_samples_leaf=15, n_estimators=2000, total=   2.4s\n",
      "[CV] max_depth=15, max_features=0.7, max_leaf_nodes=50, min_samples_leaf=15, n_estimators=2000 \n",
      "[CV]  max_depth=15, max_features=0.7, max_leaf_nodes=50, min_samples_leaf=15, n_estimators=2000, total=   2.4s\n",
      "[CV] max_depth=15, max_features=0.7, max_leaf_nodes=50, min_samples_leaf=15, n_estimators=2000 \n",
      "[CV]  max_depth=15, max_features=0.7, max_leaf_nodes=50, min_samples_leaf=15, n_estimators=2000, total=   2.4s\n",
      "[CV] max_depth=15, max_features=0.7, max_leaf_nodes=50, min_samples_leaf=15, n_estimators=2500 \n",
      "[CV]  max_depth=15, max_features=0.7, max_leaf_nodes=50, min_samples_leaf=15, n_estimators=2500, total=   3.0s\n",
      "[CV] max_depth=15, max_features=0.7, max_leaf_nodes=50, min_samples_leaf=15, n_estimators=2500 \n",
      "[CV]  max_depth=15, max_features=0.7, max_leaf_nodes=50, min_samples_leaf=15, n_estimators=2500, total=   3.0s\n",
      "[CV] max_depth=15, max_features=0.7, max_leaf_nodes=50, min_samples_leaf=15, n_estimators=2500 \n",
      "[CV]  max_depth=15, max_features=0.7, max_leaf_nodes=50, min_samples_leaf=15, n_estimators=2500, total=   3.0s\n",
      "[CV] max_depth=15, max_features=0.7, max_leaf_nodes=50, min_samples_leaf=20, n_estimators=1000 \n",
      "[CV]  max_depth=15, max_features=0.7, max_leaf_nodes=50, min_samples_leaf=20, n_estimators=1000, total=   1.2s\n",
      "[CV] max_depth=15, max_features=0.7, max_leaf_nodes=50, min_samples_leaf=20, n_estimators=1000 \n"
     ]
    },
    {
     "name": "stdout",
     "output_type": "stream",
     "text": [
      "[CV]  max_depth=15, max_features=0.7, max_leaf_nodes=50, min_samples_leaf=20, n_estimators=1000, total=   1.2s\n",
      "[CV] max_depth=15, max_features=0.7, max_leaf_nodes=50, min_samples_leaf=20, n_estimators=1000 \n",
      "[CV]  max_depth=15, max_features=0.7, max_leaf_nodes=50, min_samples_leaf=20, n_estimators=1000, total=   1.2s\n",
      "[CV] max_depth=15, max_features=0.7, max_leaf_nodes=50, min_samples_leaf=20, n_estimators=1500 \n",
      "[CV]  max_depth=15, max_features=0.7, max_leaf_nodes=50, min_samples_leaf=20, n_estimators=1500, total=   1.7s\n",
      "[CV] max_depth=15, max_features=0.7, max_leaf_nodes=50, min_samples_leaf=20, n_estimators=1500 \n",
      "[CV]  max_depth=15, max_features=0.7, max_leaf_nodes=50, min_samples_leaf=20, n_estimators=1500, total=   1.8s\n",
      "[CV] max_depth=15, max_features=0.7, max_leaf_nodes=50, min_samples_leaf=20, n_estimators=1500 \n",
      "[CV]  max_depth=15, max_features=0.7, max_leaf_nodes=50, min_samples_leaf=20, n_estimators=1500, total=   1.8s\n",
      "[CV] max_depth=15, max_features=0.7, max_leaf_nodes=50, min_samples_leaf=20, n_estimators=2000 \n",
      "[CV]  max_depth=15, max_features=0.7, max_leaf_nodes=50, min_samples_leaf=20, n_estimators=2000, total=   2.3s\n",
      "[CV] max_depth=15, max_features=0.7, max_leaf_nodes=50, min_samples_leaf=20, n_estimators=2000 \n",
      "[CV]  max_depth=15, max_features=0.7, max_leaf_nodes=50, min_samples_leaf=20, n_estimators=2000, total=   2.4s\n",
      "[CV] max_depth=15, max_features=0.7, max_leaf_nodes=50, min_samples_leaf=20, n_estimators=2000 \n",
      "[CV]  max_depth=15, max_features=0.7, max_leaf_nodes=50, min_samples_leaf=20, n_estimators=2000, total=   2.4s\n",
      "[CV] max_depth=15, max_features=0.7, max_leaf_nodes=50, min_samples_leaf=20, n_estimators=2500 \n",
      "[CV]  max_depth=15, max_features=0.7, max_leaf_nodes=50, min_samples_leaf=20, n_estimators=2500, total=   2.9s\n",
      "[CV] max_depth=15, max_features=0.7, max_leaf_nodes=50, min_samples_leaf=20, n_estimators=2500 \n",
      "[CV]  max_depth=15, max_features=0.7, max_leaf_nodes=50, min_samples_leaf=20, n_estimators=2500, total=   2.9s\n",
      "[CV] max_depth=15, max_features=0.7, max_leaf_nodes=50, min_samples_leaf=20, n_estimators=2500 \n",
      "[CV]  max_depth=15, max_features=0.7, max_leaf_nodes=50, min_samples_leaf=20, n_estimators=2500, total=   2.9s\n",
      "[CV] max_depth=15, max_features=0.7, max_leaf_nodes=80, min_samples_leaf=10, n_estimators=1000 \n",
      "[CV]  max_depth=15, max_features=0.7, max_leaf_nodes=80, min_samples_leaf=10, n_estimators=1000, total=   1.3s\n",
      "[CV] max_depth=15, max_features=0.7, max_leaf_nodes=80, min_samples_leaf=10, n_estimators=1000 \n",
      "[CV]  max_depth=15, max_features=0.7, max_leaf_nodes=80, min_samples_leaf=10, n_estimators=1000, total=   1.3s\n",
      "[CV] max_depth=15, max_features=0.7, max_leaf_nodes=80, min_samples_leaf=10, n_estimators=1000 \n",
      "[CV]  max_depth=15, max_features=0.7, max_leaf_nodes=80, min_samples_leaf=10, n_estimators=1000, total=   1.3s\n",
      "[CV] max_depth=15, max_features=0.7, max_leaf_nodes=80, min_samples_leaf=10, n_estimators=1500 \n",
      "[CV]  max_depth=15, max_features=0.7, max_leaf_nodes=80, min_samples_leaf=10, n_estimators=1500, total=   1.9s\n",
      "[CV] max_depth=15, max_features=0.7, max_leaf_nodes=80, min_samples_leaf=10, n_estimators=1500 \n",
      "[CV]  max_depth=15, max_features=0.7, max_leaf_nodes=80, min_samples_leaf=10, n_estimators=1500, total=   1.9s\n",
      "[CV] max_depth=15, max_features=0.7, max_leaf_nodes=80, min_samples_leaf=10, n_estimators=1500 \n",
      "[CV]  max_depth=15, max_features=0.7, max_leaf_nodes=80, min_samples_leaf=10, n_estimators=1500, total=   1.9s\n",
      "[CV] max_depth=15, max_features=0.7, max_leaf_nodes=80, min_samples_leaf=10, n_estimators=2000 \n",
      "[CV]  max_depth=15, max_features=0.7, max_leaf_nodes=80, min_samples_leaf=10, n_estimators=2000, total=   2.5s\n",
      "[CV] max_depth=15, max_features=0.7, max_leaf_nodes=80, min_samples_leaf=10, n_estimators=2000 \n",
      "[CV]  max_depth=15, max_features=0.7, max_leaf_nodes=80, min_samples_leaf=10, n_estimators=2000, total=   2.5s\n",
      "[CV] max_depth=15, max_features=0.7, max_leaf_nodes=80, min_samples_leaf=10, n_estimators=2000 \n",
      "[CV]  max_depth=15, max_features=0.7, max_leaf_nodes=80, min_samples_leaf=10, n_estimators=2000, total=   2.5s\n",
      "[CV] max_depth=15, max_features=0.7, max_leaf_nodes=80, min_samples_leaf=10, n_estimators=2500 \n",
      "[CV]  max_depth=15, max_features=0.7, max_leaf_nodes=80, min_samples_leaf=10, n_estimators=2500, total=   3.1s\n",
      "[CV] max_depth=15, max_features=0.7, max_leaf_nodes=80, min_samples_leaf=10, n_estimators=2500 \n",
      "[CV]  max_depth=15, max_features=0.7, max_leaf_nodes=80, min_samples_leaf=10, n_estimators=2500, total=   3.1s\n",
      "[CV] max_depth=15, max_features=0.7, max_leaf_nodes=80, min_samples_leaf=10, n_estimators=2500 \n",
      "[CV]  max_depth=15, max_features=0.7, max_leaf_nodes=80, min_samples_leaf=10, n_estimators=2500, total=   3.2s\n",
      "[CV] max_depth=15, max_features=0.7, max_leaf_nodes=80, min_samples_leaf=15, n_estimators=1000 \n",
      "[CV]  max_depth=15, max_features=0.7, max_leaf_nodes=80, min_samples_leaf=15, n_estimators=1000, total=   1.2s\n",
      "[CV] max_depth=15, max_features=0.7, max_leaf_nodes=80, min_samples_leaf=15, n_estimators=1000 \n",
      "[CV]  max_depth=15, max_features=0.7, max_leaf_nodes=80, min_samples_leaf=15, n_estimators=1000, total=   1.2s\n",
      "[CV] max_depth=15, max_features=0.7, max_leaf_nodes=80, min_samples_leaf=15, n_estimators=1000 \n",
      "[CV]  max_depth=15, max_features=0.7, max_leaf_nodes=80, min_samples_leaf=15, n_estimators=1000, total=   1.2s\n",
      "[CV] max_depth=15, max_features=0.7, max_leaf_nodes=80, min_samples_leaf=15, n_estimators=1500 \n",
      "[CV]  max_depth=15, max_features=0.7, max_leaf_nodes=80, min_samples_leaf=15, n_estimators=1500, total=   1.8s\n",
      "[CV] max_depth=15, max_features=0.7, max_leaf_nodes=80, min_samples_leaf=15, n_estimators=1500 \n",
      "[CV]  max_depth=15, max_features=0.7, max_leaf_nodes=80, min_samples_leaf=15, n_estimators=1500, total=   1.8s\n",
      "[CV] max_depth=15, max_features=0.7, max_leaf_nodes=80, min_samples_leaf=15, n_estimators=1500 \n",
      "[CV]  max_depth=15, max_features=0.7, max_leaf_nodes=80, min_samples_leaf=15, n_estimators=1500, total=   1.8s\n",
      "[CV] max_depth=15, max_features=0.7, max_leaf_nodes=80, min_samples_leaf=15, n_estimators=2000 \n",
      "[CV]  max_depth=15, max_features=0.7, max_leaf_nodes=80, min_samples_leaf=15, n_estimators=2000, total=   2.4s\n",
      "[CV] max_depth=15, max_features=0.7, max_leaf_nodes=80, min_samples_leaf=15, n_estimators=2000 \n",
      "[CV]  max_depth=15, max_features=0.7, max_leaf_nodes=80, min_samples_leaf=15, n_estimators=2000, total=   2.4s\n",
      "[CV] max_depth=15, max_features=0.7, max_leaf_nodes=80, min_samples_leaf=15, n_estimators=2000 \n",
      "[CV]  max_depth=15, max_features=0.7, max_leaf_nodes=80, min_samples_leaf=15, n_estimators=2000, total=   2.5s\n",
      "[CV] max_depth=15, max_features=0.7, max_leaf_nodes=80, min_samples_leaf=15, n_estimators=2500 \n",
      "[CV]  max_depth=15, max_features=0.7, max_leaf_nodes=80, min_samples_leaf=15, n_estimators=2500, total=   3.0s\n",
      "[CV] max_depth=15, max_features=0.7, max_leaf_nodes=80, min_samples_leaf=15, n_estimators=2500 \n",
      "[CV]  max_depth=15, max_features=0.7, max_leaf_nodes=80, min_samples_leaf=15, n_estimators=2500, total=   3.0s\n",
      "[CV] max_depth=15, max_features=0.7, max_leaf_nodes=80, min_samples_leaf=15, n_estimators=2500 \n",
      "[CV]  max_depth=15, max_features=0.7, max_leaf_nodes=80, min_samples_leaf=15, n_estimators=2500, total=   3.1s\n",
      "[CV] max_depth=15, max_features=0.7, max_leaf_nodes=80, min_samples_leaf=20, n_estimators=1000 \n",
      "[CV]  max_depth=15, max_features=0.7, max_leaf_nodes=80, min_samples_leaf=20, n_estimators=1000, total=   1.2s\n",
      "[CV] max_depth=15, max_features=0.7, max_leaf_nodes=80, min_samples_leaf=20, n_estimators=1000 \n",
      "[CV]  max_depth=15, max_features=0.7, max_leaf_nodes=80, min_samples_leaf=20, n_estimators=1000, total=   1.2s\n",
      "[CV] max_depth=15, max_features=0.7, max_leaf_nodes=80, min_samples_leaf=20, n_estimators=1000 \n",
      "[CV]  max_depth=15, max_features=0.7, max_leaf_nodes=80, min_samples_leaf=20, n_estimators=1000, total=   1.2s\n",
      "[CV] max_depth=15, max_features=0.7, max_leaf_nodes=80, min_samples_leaf=20, n_estimators=1500 \n",
      "[CV]  max_depth=15, max_features=0.7, max_leaf_nodes=80, min_samples_leaf=20, n_estimators=1500, total=   1.8s\n",
      "[CV] max_depth=15, max_features=0.7, max_leaf_nodes=80, min_samples_leaf=20, n_estimators=1500 \n",
      "[CV]  max_depth=15, max_features=0.7, max_leaf_nodes=80, min_samples_leaf=20, n_estimators=1500, total=   1.8s\n",
      "[CV] max_depth=15, max_features=0.7, max_leaf_nodes=80, min_samples_leaf=20, n_estimators=1500 \n"
     ]
    },
    {
     "name": "stdout",
     "output_type": "stream",
     "text": [
      "[CV]  max_depth=15, max_features=0.7, max_leaf_nodes=80, min_samples_leaf=20, n_estimators=1500, total=   1.8s\n",
      "[CV] max_depth=15, max_features=0.7, max_leaf_nodes=80, min_samples_leaf=20, n_estimators=2000 \n",
      "[CV]  max_depth=15, max_features=0.7, max_leaf_nodes=80, min_samples_leaf=20, n_estimators=2000, total=   2.3s\n",
      "[CV] max_depth=15, max_features=0.7, max_leaf_nodes=80, min_samples_leaf=20, n_estimators=2000 \n",
      "[CV]  max_depth=15, max_features=0.7, max_leaf_nodes=80, min_samples_leaf=20, n_estimators=2000, total=   2.4s\n",
      "[CV] max_depth=15, max_features=0.7, max_leaf_nodes=80, min_samples_leaf=20, n_estimators=2000 \n",
      "[CV]  max_depth=15, max_features=0.7, max_leaf_nodes=80, min_samples_leaf=20, n_estimators=2000, total=   2.4s\n",
      "[CV] max_depth=15, max_features=0.7, max_leaf_nodes=80, min_samples_leaf=20, n_estimators=2500 \n",
      "[CV]  max_depth=15, max_features=0.7, max_leaf_nodes=80, min_samples_leaf=20, n_estimators=2500, total=   2.9s\n",
      "[CV] max_depth=15, max_features=0.7, max_leaf_nodes=80, min_samples_leaf=20, n_estimators=2500 \n",
      "[CV]  max_depth=15, max_features=0.7, max_leaf_nodes=80, min_samples_leaf=20, n_estimators=2500, total=   3.0s\n",
      "[CV] max_depth=15, max_features=0.7, max_leaf_nodes=80, min_samples_leaf=20, n_estimators=2500 \n",
      "[CV]  max_depth=15, max_features=0.7, max_leaf_nodes=80, min_samples_leaf=20, n_estimators=2500, total=   2.9s\n",
      "[CV] max_depth=20, max_features=0.5, max_leaf_nodes=20, min_samples_leaf=10, n_estimators=1000 \n",
      "[CV]  max_depth=20, max_features=0.5, max_leaf_nodes=20, min_samples_leaf=10, n_estimators=1000, total=   1.2s\n",
      "[CV] max_depth=20, max_features=0.5, max_leaf_nodes=20, min_samples_leaf=10, n_estimators=1000 \n",
      "[CV]  max_depth=20, max_features=0.5, max_leaf_nodes=20, min_samples_leaf=10, n_estimators=1000, total=   1.2s\n",
      "[CV] max_depth=20, max_features=0.5, max_leaf_nodes=20, min_samples_leaf=10, n_estimators=1000 \n",
      "[CV]  max_depth=20, max_features=0.5, max_leaf_nodes=20, min_samples_leaf=10, n_estimators=1000, total=   1.1s\n",
      "[CV] max_depth=20, max_features=0.5, max_leaf_nodes=20, min_samples_leaf=10, n_estimators=1500 \n",
      "[CV]  max_depth=20, max_features=0.5, max_leaf_nodes=20, min_samples_leaf=10, n_estimators=1500, total=   1.7s\n",
      "[CV] max_depth=20, max_features=0.5, max_leaf_nodes=20, min_samples_leaf=10, n_estimators=1500 \n",
      "[CV]  max_depth=20, max_features=0.5, max_leaf_nodes=20, min_samples_leaf=10, n_estimators=1500, total=   1.8s\n",
      "[CV] max_depth=20, max_features=0.5, max_leaf_nodes=20, min_samples_leaf=10, n_estimators=1500 \n",
      "[CV]  max_depth=20, max_features=0.5, max_leaf_nodes=20, min_samples_leaf=10, n_estimators=1500, total=   1.8s\n",
      "[CV] max_depth=20, max_features=0.5, max_leaf_nodes=20, min_samples_leaf=10, n_estimators=2000 \n",
      "[CV]  max_depth=20, max_features=0.5, max_leaf_nodes=20, min_samples_leaf=10, n_estimators=2000, total=   2.3s\n",
      "[CV] max_depth=20, max_features=0.5, max_leaf_nodes=20, min_samples_leaf=10, n_estimators=2000 \n",
      "[CV]  max_depth=20, max_features=0.5, max_leaf_nodes=20, min_samples_leaf=10, n_estimators=2000, total=   2.3s\n",
      "[CV] max_depth=20, max_features=0.5, max_leaf_nodes=20, min_samples_leaf=10, n_estimators=2000 \n",
      "[CV]  max_depth=20, max_features=0.5, max_leaf_nodes=20, min_samples_leaf=10, n_estimators=2000, total=   2.3s\n",
      "[CV] max_depth=20, max_features=0.5, max_leaf_nodes=20, min_samples_leaf=10, n_estimators=2500 \n",
      "[CV]  max_depth=20, max_features=0.5, max_leaf_nodes=20, min_samples_leaf=10, n_estimators=2500, total=   2.9s\n",
      "[CV] max_depth=20, max_features=0.5, max_leaf_nodes=20, min_samples_leaf=10, n_estimators=2500 \n",
      "[CV]  max_depth=20, max_features=0.5, max_leaf_nodes=20, min_samples_leaf=10, n_estimators=2500, total=   2.9s\n",
      "[CV] max_depth=20, max_features=0.5, max_leaf_nodes=20, min_samples_leaf=10, n_estimators=2500 \n",
      "[CV]  max_depth=20, max_features=0.5, max_leaf_nodes=20, min_samples_leaf=10, n_estimators=2500, total=   2.9s\n",
      "[CV] max_depth=20, max_features=0.5, max_leaf_nodes=20, min_samples_leaf=15, n_estimators=1000 \n",
      "[CV]  max_depth=20, max_features=0.5, max_leaf_nodes=20, min_samples_leaf=15, n_estimators=1000, total=   1.2s\n",
      "[CV] max_depth=20, max_features=0.5, max_leaf_nodes=20, min_samples_leaf=15, n_estimators=1000 \n",
      "[CV]  max_depth=20, max_features=0.5, max_leaf_nodes=20, min_samples_leaf=15, n_estimators=1000, total=   1.1s\n",
      "[CV] max_depth=20, max_features=0.5, max_leaf_nodes=20, min_samples_leaf=15, n_estimators=1000 \n",
      "[CV]  max_depth=20, max_features=0.5, max_leaf_nodes=20, min_samples_leaf=15, n_estimators=1000, total=   1.2s\n",
      "[CV] max_depth=20, max_features=0.5, max_leaf_nodes=20, min_samples_leaf=15, n_estimators=1500 \n",
      "[CV]  max_depth=20, max_features=0.5, max_leaf_nodes=20, min_samples_leaf=15, n_estimators=1500, total=   1.7s\n",
      "[CV] max_depth=20, max_features=0.5, max_leaf_nodes=20, min_samples_leaf=15, n_estimators=1500 \n",
      "[CV]  max_depth=20, max_features=0.5, max_leaf_nodes=20, min_samples_leaf=15, n_estimators=1500, total=   1.7s\n",
      "[CV] max_depth=20, max_features=0.5, max_leaf_nodes=20, min_samples_leaf=15, n_estimators=1500 \n",
      "[CV]  max_depth=20, max_features=0.5, max_leaf_nodes=20, min_samples_leaf=15, n_estimators=1500, total=   1.7s\n",
      "[CV] max_depth=20, max_features=0.5, max_leaf_nodes=20, min_samples_leaf=15, n_estimators=2000 \n",
      "[CV]  max_depth=20, max_features=0.5, max_leaf_nodes=20, min_samples_leaf=15, n_estimators=2000, total=   2.2s\n",
      "[CV] max_depth=20, max_features=0.5, max_leaf_nodes=20, min_samples_leaf=15, n_estimators=2000 \n",
      "[CV]  max_depth=20, max_features=0.5, max_leaf_nodes=20, min_samples_leaf=15, n_estimators=2000, total=   2.3s\n",
      "[CV] max_depth=20, max_features=0.5, max_leaf_nodes=20, min_samples_leaf=15, n_estimators=2000 \n",
      "[CV]  max_depth=20, max_features=0.5, max_leaf_nodes=20, min_samples_leaf=15, n_estimators=2000, total=   2.4s\n",
      "[CV] max_depth=20, max_features=0.5, max_leaf_nodes=20, min_samples_leaf=15, n_estimators=2500 \n",
      "[CV]  max_depth=20, max_features=0.5, max_leaf_nodes=20, min_samples_leaf=15, n_estimators=2500, total=   2.8s\n",
      "[CV] max_depth=20, max_features=0.5, max_leaf_nodes=20, min_samples_leaf=15, n_estimators=2500 \n",
      "[CV]  max_depth=20, max_features=0.5, max_leaf_nodes=20, min_samples_leaf=15, n_estimators=2500, total=   2.8s\n",
      "[CV] max_depth=20, max_features=0.5, max_leaf_nodes=20, min_samples_leaf=15, n_estimators=2500 \n",
      "[CV]  max_depth=20, max_features=0.5, max_leaf_nodes=20, min_samples_leaf=15, n_estimators=2500, total=   2.8s\n",
      "[CV] max_depth=20, max_features=0.5, max_leaf_nodes=20, min_samples_leaf=20, n_estimators=1000 \n",
      "[CV]  max_depth=20, max_features=0.5, max_leaf_nodes=20, min_samples_leaf=20, n_estimators=1000, total=   1.1s\n",
      "[CV] max_depth=20, max_features=0.5, max_leaf_nodes=20, min_samples_leaf=20, n_estimators=1000 \n",
      "[CV]  max_depth=20, max_features=0.5, max_leaf_nodes=20, min_samples_leaf=20, n_estimators=1000, total=   1.1s\n",
      "[CV] max_depth=20, max_features=0.5, max_leaf_nodes=20, min_samples_leaf=20, n_estimators=1000 \n",
      "[CV]  max_depth=20, max_features=0.5, max_leaf_nodes=20, min_samples_leaf=20, n_estimators=1000, total=   1.1s\n",
      "[CV] max_depth=20, max_features=0.5, max_leaf_nodes=20, min_samples_leaf=20, n_estimators=1500 \n",
      "[CV]  max_depth=20, max_features=0.5, max_leaf_nodes=20, min_samples_leaf=20, n_estimators=1500, total=   1.6s\n",
      "[CV] max_depth=20, max_features=0.5, max_leaf_nodes=20, min_samples_leaf=20, n_estimators=1500 \n",
      "[CV]  max_depth=20, max_features=0.5, max_leaf_nodes=20, min_samples_leaf=20, n_estimators=1500, total=   1.7s\n",
      "[CV] max_depth=20, max_features=0.5, max_leaf_nodes=20, min_samples_leaf=20, n_estimators=1500 \n",
      "[CV]  max_depth=20, max_features=0.5, max_leaf_nodes=20, min_samples_leaf=20, n_estimators=1500, total=   1.7s\n",
      "[CV] max_depth=20, max_features=0.5, max_leaf_nodes=20, min_samples_leaf=20, n_estimators=2000 \n",
      "[CV]  max_depth=20, max_features=0.5, max_leaf_nodes=20, min_samples_leaf=20, n_estimators=2000, total=   2.2s\n",
      "[CV] max_depth=20, max_features=0.5, max_leaf_nodes=20, min_samples_leaf=20, n_estimators=2000 \n",
      "[CV]  max_depth=20, max_features=0.5, max_leaf_nodes=20, min_samples_leaf=20, n_estimators=2000, total=   2.2s\n",
      "[CV] max_depth=20, max_features=0.5, max_leaf_nodes=20, min_samples_leaf=20, n_estimators=2000 \n",
      "[CV]  max_depth=20, max_features=0.5, max_leaf_nodes=20, min_samples_leaf=20, n_estimators=2000, total=   2.3s\n",
      "[CV] max_depth=20, max_features=0.5, max_leaf_nodes=20, min_samples_leaf=20, n_estimators=2500 \n"
     ]
    },
    {
     "name": "stdout",
     "output_type": "stream",
     "text": [
      "[CV]  max_depth=20, max_features=0.5, max_leaf_nodes=20, min_samples_leaf=20, n_estimators=2500, total=   2.8s\n",
      "[CV] max_depth=20, max_features=0.5, max_leaf_nodes=20, min_samples_leaf=20, n_estimators=2500 \n",
      "[CV]  max_depth=20, max_features=0.5, max_leaf_nodes=20, min_samples_leaf=20, n_estimators=2500, total=   2.8s\n",
      "[CV] max_depth=20, max_features=0.5, max_leaf_nodes=20, min_samples_leaf=20, n_estimators=2500 \n",
      "[CV]  max_depth=20, max_features=0.5, max_leaf_nodes=20, min_samples_leaf=20, n_estimators=2500, total=   2.9s\n",
      "[CV] max_depth=20, max_features=0.5, max_leaf_nodes=50, min_samples_leaf=10, n_estimators=1000 \n",
      "[CV]  max_depth=20, max_features=0.5, max_leaf_nodes=50, min_samples_leaf=10, n_estimators=1000, total=   1.2s\n",
      "[CV] max_depth=20, max_features=0.5, max_leaf_nodes=50, min_samples_leaf=10, n_estimators=1000 \n",
      "[CV]  max_depth=20, max_features=0.5, max_leaf_nodes=50, min_samples_leaf=10, n_estimators=1000, total=   1.2s\n",
      "[CV] max_depth=20, max_features=0.5, max_leaf_nodes=50, min_samples_leaf=10, n_estimators=1000 \n",
      "[CV]  max_depth=20, max_features=0.5, max_leaf_nodes=50, min_samples_leaf=10, n_estimators=1000, total=   1.2s\n",
      "[CV] max_depth=20, max_features=0.5, max_leaf_nodes=50, min_samples_leaf=10, n_estimators=1500 \n",
      "[CV]  max_depth=20, max_features=0.5, max_leaf_nodes=50, min_samples_leaf=10, n_estimators=1500, total=   1.8s\n",
      "[CV] max_depth=20, max_features=0.5, max_leaf_nodes=50, min_samples_leaf=10, n_estimators=1500 \n",
      "[CV]  max_depth=20, max_features=0.5, max_leaf_nodes=50, min_samples_leaf=10, n_estimators=1500, total=   1.8s\n",
      "[CV] max_depth=20, max_features=0.5, max_leaf_nodes=50, min_samples_leaf=10, n_estimators=1500 \n",
      "[CV]  max_depth=20, max_features=0.5, max_leaf_nodes=50, min_samples_leaf=10, n_estimators=1500, total=   1.8s\n",
      "[CV] max_depth=20, max_features=0.5, max_leaf_nodes=50, min_samples_leaf=10, n_estimators=2000 \n",
      "[CV]  max_depth=20, max_features=0.5, max_leaf_nodes=50, min_samples_leaf=10, n_estimators=2000, total=   2.3s\n",
      "[CV] max_depth=20, max_features=0.5, max_leaf_nodes=50, min_samples_leaf=10, n_estimators=2000 \n",
      "[CV]  max_depth=20, max_features=0.5, max_leaf_nodes=50, min_samples_leaf=10, n_estimators=2000, total=   2.3s\n",
      "[CV] max_depth=20, max_features=0.5, max_leaf_nodes=50, min_samples_leaf=10, n_estimators=2000 \n",
      "[CV]  max_depth=20, max_features=0.5, max_leaf_nodes=50, min_samples_leaf=10, n_estimators=2000, total=   2.4s\n",
      "[CV] max_depth=20, max_features=0.5, max_leaf_nodes=50, min_samples_leaf=10, n_estimators=2500 \n",
      "[CV]  max_depth=20, max_features=0.5, max_leaf_nodes=50, min_samples_leaf=10, n_estimators=2500, total=   2.9s\n",
      "[CV] max_depth=20, max_features=0.5, max_leaf_nodes=50, min_samples_leaf=10, n_estimators=2500 \n",
      "[CV]  max_depth=20, max_features=0.5, max_leaf_nodes=50, min_samples_leaf=10, n_estimators=2500, total=   2.9s\n",
      "[CV] max_depth=20, max_features=0.5, max_leaf_nodes=50, min_samples_leaf=10, n_estimators=2500 \n",
      "[CV]  max_depth=20, max_features=0.5, max_leaf_nodes=50, min_samples_leaf=10, n_estimators=2500, total=   2.9s\n",
      "[CV] max_depth=20, max_features=0.5, max_leaf_nodes=50, min_samples_leaf=15, n_estimators=1000 \n",
      "[CV]  max_depth=20, max_features=0.5, max_leaf_nodes=50, min_samples_leaf=15, n_estimators=1000, total=   1.1s\n",
      "[CV] max_depth=20, max_features=0.5, max_leaf_nodes=50, min_samples_leaf=15, n_estimators=1000 \n",
      "[CV]  max_depth=20, max_features=0.5, max_leaf_nodes=50, min_samples_leaf=15, n_estimators=1000, total=   1.1s\n",
      "[CV] max_depth=20, max_features=0.5, max_leaf_nodes=50, min_samples_leaf=15, n_estimators=1000 \n",
      "[CV]  max_depth=20, max_features=0.5, max_leaf_nodes=50, min_samples_leaf=15, n_estimators=1000, total=   1.2s\n",
      "[CV] max_depth=20, max_features=0.5, max_leaf_nodes=50, min_samples_leaf=15, n_estimators=1500 \n",
      "[CV]  max_depth=20, max_features=0.5, max_leaf_nodes=50, min_samples_leaf=15, n_estimators=1500, total=   1.7s\n",
      "[CV] max_depth=20, max_features=0.5, max_leaf_nodes=50, min_samples_leaf=15, n_estimators=1500 \n",
      "[CV]  max_depth=20, max_features=0.5, max_leaf_nodes=50, min_samples_leaf=15, n_estimators=1500, total=   1.7s\n",
      "[CV] max_depth=20, max_features=0.5, max_leaf_nodes=50, min_samples_leaf=15, n_estimators=1500 \n",
      "[CV]  max_depth=20, max_features=0.5, max_leaf_nodes=50, min_samples_leaf=15, n_estimators=1500, total=   1.7s\n",
      "[CV] max_depth=20, max_features=0.5, max_leaf_nodes=50, min_samples_leaf=15, n_estimators=2000 \n",
      "[CV]  max_depth=20, max_features=0.5, max_leaf_nodes=50, min_samples_leaf=15, n_estimators=2000, total=   2.3s\n",
      "[CV] max_depth=20, max_features=0.5, max_leaf_nodes=50, min_samples_leaf=15, n_estimators=2000 \n",
      "[CV]  max_depth=20, max_features=0.5, max_leaf_nodes=50, min_samples_leaf=15, n_estimators=2000, total=   2.3s\n",
      "[CV] max_depth=20, max_features=0.5, max_leaf_nodes=50, min_samples_leaf=15, n_estimators=2000 \n",
      "[CV]  max_depth=20, max_features=0.5, max_leaf_nodes=50, min_samples_leaf=15, n_estimators=2000, total=   2.3s\n",
      "[CV] max_depth=20, max_features=0.5, max_leaf_nodes=50, min_samples_leaf=15, n_estimators=2500 \n",
      "[CV]  max_depth=20, max_features=0.5, max_leaf_nodes=50, min_samples_leaf=15, n_estimators=2500, total=   2.8s\n",
      "[CV] max_depth=20, max_features=0.5, max_leaf_nodes=50, min_samples_leaf=15, n_estimators=2500 \n",
      "[CV]  max_depth=20, max_features=0.5, max_leaf_nodes=50, min_samples_leaf=15, n_estimators=2500, total=   2.9s\n",
      "[CV] max_depth=20, max_features=0.5, max_leaf_nodes=50, min_samples_leaf=15, n_estimators=2500 \n",
      "[CV]  max_depth=20, max_features=0.5, max_leaf_nodes=50, min_samples_leaf=15, n_estimators=2500, total=   2.9s\n",
      "[CV] max_depth=20, max_features=0.5, max_leaf_nodes=50, min_samples_leaf=20, n_estimators=1000 \n",
      "[CV]  max_depth=20, max_features=0.5, max_leaf_nodes=50, min_samples_leaf=20, n_estimators=1000, total=   1.1s\n",
      "[CV] max_depth=20, max_features=0.5, max_leaf_nodes=50, min_samples_leaf=20, n_estimators=1000 \n",
      "[CV]  max_depth=20, max_features=0.5, max_leaf_nodes=50, min_samples_leaf=20, n_estimators=1000, total=   1.1s\n",
      "[CV] max_depth=20, max_features=0.5, max_leaf_nodes=50, min_samples_leaf=20, n_estimators=1000 \n",
      "[CV]  max_depth=20, max_features=0.5, max_leaf_nodes=50, min_samples_leaf=20, n_estimators=1000, total=   1.1s\n",
      "[CV] max_depth=20, max_features=0.5, max_leaf_nodes=50, min_samples_leaf=20, n_estimators=1500 \n",
      "[CV]  max_depth=20, max_features=0.5, max_leaf_nodes=50, min_samples_leaf=20, n_estimators=1500, total=   1.7s\n",
      "[CV] max_depth=20, max_features=0.5, max_leaf_nodes=50, min_samples_leaf=20, n_estimators=1500 \n",
      "[CV]  max_depth=20, max_features=0.5, max_leaf_nodes=50, min_samples_leaf=20, n_estimators=1500, total=   1.7s\n",
      "[CV] max_depth=20, max_features=0.5, max_leaf_nodes=50, min_samples_leaf=20, n_estimators=1500 \n",
      "[CV]  max_depth=20, max_features=0.5, max_leaf_nodes=50, min_samples_leaf=20, n_estimators=1500, total=   1.7s\n",
      "[CV] max_depth=20, max_features=0.5, max_leaf_nodes=50, min_samples_leaf=20, n_estimators=2000 \n",
      "[CV]  max_depth=20, max_features=0.5, max_leaf_nodes=50, min_samples_leaf=20, n_estimators=2000, total=   2.2s\n",
      "[CV] max_depth=20, max_features=0.5, max_leaf_nodes=50, min_samples_leaf=20, n_estimators=2000 \n",
      "[CV]  max_depth=20, max_features=0.5, max_leaf_nodes=50, min_samples_leaf=20, n_estimators=2000, total=   2.3s\n",
      "[CV] max_depth=20, max_features=0.5, max_leaf_nodes=50, min_samples_leaf=20, n_estimators=2000 \n",
      "[CV]  max_depth=20, max_features=0.5, max_leaf_nodes=50, min_samples_leaf=20, n_estimators=2000, total=   2.2s\n",
      "[CV] max_depth=20, max_features=0.5, max_leaf_nodes=50, min_samples_leaf=20, n_estimators=2500 \n",
      "[CV]  max_depth=20, max_features=0.5, max_leaf_nodes=50, min_samples_leaf=20, n_estimators=2500, total=   2.8s\n",
      "[CV] max_depth=20, max_features=0.5, max_leaf_nodes=50, min_samples_leaf=20, n_estimators=2500 \n",
      "[CV]  max_depth=20, max_features=0.5, max_leaf_nodes=50, min_samples_leaf=20, n_estimators=2500, total=   2.8s\n",
      "[CV] max_depth=20, max_features=0.5, max_leaf_nodes=50, min_samples_leaf=20, n_estimators=2500 \n",
      "[CV]  max_depth=20, max_features=0.5, max_leaf_nodes=50, min_samples_leaf=20, n_estimators=2500, total=   2.8s\n",
      "[CV] max_depth=20, max_features=0.5, max_leaf_nodes=80, min_samples_leaf=10, n_estimators=1000 \n",
      "[CV]  max_depth=20, max_features=0.5, max_leaf_nodes=80, min_samples_leaf=10, n_estimators=1000, total=   1.2s\n",
      "[CV] max_depth=20, max_features=0.5, max_leaf_nodes=80, min_samples_leaf=10, n_estimators=1000 \n"
     ]
    },
    {
     "name": "stdout",
     "output_type": "stream",
     "text": [
      "[CV]  max_depth=20, max_features=0.5, max_leaf_nodes=80, min_samples_leaf=10, n_estimators=1000, total=   1.2s\n",
      "[CV] max_depth=20, max_features=0.5, max_leaf_nodes=80, min_samples_leaf=10, n_estimators=1000 \n",
      "[CV]  max_depth=20, max_features=0.5, max_leaf_nodes=80, min_samples_leaf=10, n_estimators=1000, total=   1.2s\n",
      "[CV] max_depth=20, max_features=0.5, max_leaf_nodes=80, min_samples_leaf=10, n_estimators=1500 \n",
      "[CV]  max_depth=20, max_features=0.5, max_leaf_nodes=80, min_samples_leaf=10, n_estimators=1500, total=   1.7s\n",
      "[CV] max_depth=20, max_features=0.5, max_leaf_nodes=80, min_samples_leaf=10, n_estimators=1500 \n",
      "[CV]  max_depth=20, max_features=0.5, max_leaf_nodes=80, min_samples_leaf=10, n_estimators=1500, total=   1.8s\n",
      "[CV] max_depth=20, max_features=0.5, max_leaf_nodes=80, min_samples_leaf=10, n_estimators=1500 \n",
      "[CV]  max_depth=20, max_features=0.5, max_leaf_nodes=80, min_samples_leaf=10, n_estimators=1500, total=   1.8s\n",
      "[CV] max_depth=20, max_features=0.5, max_leaf_nodes=80, min_samples_leaf=10, n_estimators=2000 \n",
      "[CV]  max_depth=20, max_features=0.5, max_leaf_nodes=80, min_samples_leaf=10, n_estimators=2000, total=   2.3s\n",
      "[CV] max_depth=20, max_features=0.5, max_leaf_nodes=80, min_samples_leaf=10, n_estimators=2000 \n",
      "[CV]  max_depth=20, max_features=0.5, max_leaf_nodes=80, min_samples_leaf=10, n_estimators=2000, total=   2.3s\n",
      "[CV] max_depth=20, max_features=0.5, max_leaf_nodes=80, min_samples_leaf=10, n_estimators=2000 \n",
      "[CV]  max_depth=20, max_features=0.5, max_leaf_nodes=80, min_samples_leaf=10, n_estimators=2000, total=   2.4s\n",
      "[CV] max_depth=20, max_features=0.5, max_leaf_nodes=80, min_samples_leaf=10, n_estimators=2500 \n",
      "[CV]  max_depth=20, max_features=0.5, max_leaf_nodes=80, min_samples_leaf=10, n_estimators=2500, total=   2.9s\n",
      "[CV] max_depth=20, max_features=0.5, max_leaf_nodes=80, min_samples_leaf=10, n_estimators=2500 \n",
      "[CV]  max_depth=20, max_features=0.5, max_leaf_nodes=80, min_samples_leaf=10, n_estimators=2500, total=   2.9s\n",
      "[CV] max_depth=20, max_features=0.5, max_leaf_nodes=80, min_samples_leaf=10, n_estimators=2500 \n",
      "[CV]  max_depth=20, max_features=0.5, max_leaf_nodes=80, min_samples_leaf=10, n_estimators=2500, total=   2.9s\n",
      "[CV] max_depth=20, max_features=0.5, max_leaf_nodes=80, min_samples_leaf=15, n_estimators=1000 \n",
      "[CV]  max_depth=20, max_features=0.5, max_leaf_nodes=80, min_samples_leaf=15, n_estimators=1000, total=   1.1s\n",
      "[CV] max_depth=20, max_features=0.5, max_leaf_nodes=80, min_samples_leaf=15, n_estimators=1000 \n",
      "[CV]  max_depth=20, max_features=0.5, max_leaf_nodes=80, min_samples_leaf=15, n_estimators=1000, total=   1.1s\n",
      "[CV] max_depth=20, max_features=0.5, max_leaf_nodes=80, min_samples_leaf=15, n_estimators=1000 \n",
      "[CV]  max_depth=20, max_features=0.5, max_leaf_nodes=80, min_samples_leaf=15, n_estimators=1000, total=   1.2s\n",
      "[CV] max_depth=20, max_features=0.5, max_leaf_nodes=80, min_samples_leaf=15, n_estimators=1500 \n",
      "[CV]  max_depth=20, max_features=0.5, max_leaf_nodes=80, min_samples_leaf=15, n_estimators=1500, total=   1.7s\n",
      "[CV] max_depth=20, max_features=0.5, max_leaf_nodes=80, min_samples_leaf=15, n_estimators=1500 \n",
      "[CV]  max_depth=20, max_features=0.5, max_leaf_nodes=80, min_samples_leaf=15, n_estimators=1500, total=   1.7s\n",
      "[CV] max_depth=20, max_features=0.5, max_leaf_nodes=80, min_samples_leaf=15, n_estimators=1500 \n",
      "[CV]  max_depth=20, max_features=0.5, max_leaf_nodes=80, min_samples_leaf=15, n_estimators=1500, total=   1.7s\n",
      "[CV] max_depth=20, max_features=0.5, max_leaf_nodes=80, min_samples_leaf=15, n_estimators=2000 \n",
      "[CV]  max_depth=20, max_features=0.5, max_leaf_nodes=80, min_samples_leaf=15, n_estimators=2000, total=   2.3s\n",
      "[CV] max_depth=20, max_features=0.5, max_leaf_nodes=80, min_samples_leaf=15, n_estimators=2000 \n",
      "[CV]  max_depth=20, max_features=0.5, max_leaf_nodes=80, min_samples_leaf=15, n_estimators=2000, total=   2.3s\n",
      "[CV] max_depth=20, max_features=0.5, max_leaf_nodes=80, min_samples_leaf=15, n_estimators=2000 \n",
      "[CV]  max_depth=20, max_features=0.5, max_leaf_nodes=80, min_samples_leaf=15, n_estimators=2000, total=   2.3s\n",
      "[CV] max_depth=20, max_features=0.5, max_leaf_nodes=80, min_samples_leaf=15, n_estimators=2500 \n",
      "[CV]  max_depth=20, max_features=0.5, max_leaf_nodes=80, min_samples_leaf=15, n_estimators=2500, total=   2.8s\n",
      "[CV] max_depth=20, max_features=0.5, max_leaf_nodes=80, min_samples_leaf=15, n_estimators=2500 \n",
      "[CV]  max_depth=20, max_features=0.5, max_leaf_nodes=80, min_samples_leaf=15, n_estimators=2500, total=   2.8s\n",
      "[CV] max_depth=20, max_features=0.5, max_leaf_nodes=80, min_samples_leaf=15, n_estimators=2500 \n",
      "[CV]  max_depth=20, max_features=0.5, max_leaf_nodes=80, min_samples_leaf=15, n_estimators=2500, total=   2.9s\n",
      "[CV] max_depth=20, max_features=0.5, max_leaf_nodes=80, min_samples_leaf=20, n_estimators=1000 \n",
      "[CV]  max_depth=20, max_features=0.5, max_leaf_nodes=80, min_samples_leaf=20, n_estimators=1000, total=   1.1s\n",
      "[CV] max_depth=20, max_features=0.5, max_leaf_nodes=80, min_samples_leaf=20, n_estimators=1000 \n",
      "[CV]  max_depth=20, max_features=0.5, max_leaf_nodes=80, min_samples_leaf=20, n_estimators=1000, total=   1.1s\n",
      "[CV] max_depth=20, max_features=0.5, max_leaf_nodes=80, min_samples_leaf=20, n_estimators=1000 \n",
      "[CV]  max_depth=20, max_features=0.5, max_leaf_nodes=80, min_samples_leaf=20, n_estimators=1000, total=   1.1s\n",
      "[CV] max_depth=20, max_features=0.5, max_leaf_nodes=80, min_samples_leaf=20, n_estimators=1500 \n",
      "[CV]  max_depth=20, max_features=0.5, max_leaf_nodes=80, min_samples_leaf=20, n_estimators=1500, total=   1.6s\n",
      "[CV] max_depth=20, max_features=0.5, max_leaf_nodes=80, min_samples_leaf=20, n_estimators=1500 \n",
      "[CV]  max_depth=20, max_features=0.5, max_leaf_nodes=80, min_samples_leaf=20, n_estimators=1500, total=   1.7s\n",
      "[CV] max_depth=20, max_features=0.5, max_leaf_nodes=80, min_samples_leaf=20, n_estimators=1500 \n",
      "[CV]  max_depth=20, max_features=0.5, max_leaf_nodes=80, min_samples_leaf=20, n_estimators=1500, total=   1.7s\n",
      "[CV] max_depth=20, max_features=0.5, max_leaf_nodes=80, min_samples_leaf=20, n_estimators=2000 \n",
      "[CV]  max_depth=20, max_features=0.5, max_leaf_nodes=80, min_samples_leaf=20, n_estimators=2000, total=   2.2s\n",
      "[CV] max_depth=20, max_features=0.5, max_leaf_nodes=80, min_samples_leaf=20, n_estimators=2000 \n",
      "[CV]  max_depth=20, max_features=0.5, max_leaf_nodes=80, min_samples_leaf=20, n_estimators=2000, total=   2.2s\n",
      "[CV] max_depth=20, max_features=0.5, max_leaf_nodes=80, min_samples_leaf=20, n_estimators=2000 \n",
      "[CV]  max_depth=20, max_features=0.5, max_leaf_nodes=80, min_samples_leaf=20, n_estimators=2000, total=   2.3s\n",
      "[CV] max_depth=20, max_features=0.5, max_leaf_nodes=80, min_samples_leaf=20, n_estimators=2500 \n",
      "[CV]  max_depth=20, max_features=0.5, max_leaf_nodes=80, min_samples_leaf=20, n_estimators=2500, total=   2.8s\n",
      "[CV] max_depth=20, max_features=0.5, max_leaf_nodes=80, min_samples_leaf=20, n_estimators=2500 \n",
      "[CV]  max_depth=20, max_features=0.5, max_leaf_nodes=80, min_samples_leaf=20, n_estimators=2500, total=   2.8s\n",
      "[CV] max_depth=20, max_features=0.5, max_leaf_nodes=80, min_samples_leaf=20, n_estimators=2500 \n",
      "[CV]  max_depth=20, max_features=0.5, max_leaf_nodes=80, min_samples_leaf=20, n_estimators=2500, total=   2.8s\n",
      "[CV] max_depth=20, max_features=0.7, max_leaf_nodes=20, min_samples_leaf=10, n_estimators=1000 \n",
      "[CV]  max_depth=20, max_features=0.7, max_leaf_nodes=20, min_samples_leaf=10, n_estimators=1000, total=   1.2s\n",
      "[CV] max_depth=20, max_features=0.7, max_leaf_nodes=20, min_samples_leaf=10, n_estimators=1000 \n",
      "[CV]  max_depth=20, max_features=0.7, max_leaf_nodes=20, min_samples_leaf=10, n_estimators=1000, total=   1.3s\n",
      "[CV] max_depth=20, max_features=0.7, max_leaf_nodes=20, min_samples_leaf=10, n_estimators=1000 \n",
      "[CV]  max_depth=20, max_features=0.7, max_leaf_nodes=20, min_samples_leaf=10, n_estimators=1000, total=   1.3s\n",
      "[CV] max_depth=20, max_features=0.7, max_leaf_nodes=20, min_samples_leaf=10, n_estimators=1500 \n",
      "[CV]  max_depth=20, max_features=0.7, max_leaf_nodes=20, min_samples_leaf=10, n_estimators=1500, total=   1.9s\n",
      "[CV] max_depth=20, max_features=0.7, max_leaf_nodes=20, min_samples_leaf=10, n_estimators=1500 \n",
      "[CV]  max_depth=20, max_features=0.7, max_leaf_nodes=20, min_samples_leaf=10, n_estimators=1500, total=   1.9s\n",
      "[CV] max_depth=20, max_features=0.7, max_leaf_nodes=20, min_samples_leaf=10, n_estimators=1500 \n"
     ]
    },
    {
     "name": "stdout",
     "output_type": "stream",
     "text": [
      "[CV]  max_depth=20, max_features=0.7, max_leaf_nodes=20, min_samples_leaf=10, n_estimators=1500, total=   1.9s\n",
      "[CV] max_depth=20, max_features=0.7, max_leaf_nodes=20, min_samples_leaf=10, n_estimators=2000 \n",
      "[CV]  max_depth=20, max_features=0.7, max_leaf_nodes=20, min_samples_leaf=10, n_estimators=2000, total=   2.5s\n",
      "[CV] max_depth=20, max_features=0.7, max_leaf_nodes=20, min_samples_leaf=10, n_estimators=2000 \n",
      "[CV]  max_depth=20, max_features=0.7, max_leaf_nodes=20, min_samples_leaf=10, n_estimators=2000, total=   2.5s\n",
      "[CV] max_depth=20, max_features=0.7, max_leaf_nodes=20, min_samples_leaf=10, n_estimators=2000 \n",
      "[CV]  max_depth=20, max_features=0.7, max_leaf_nodes=20, min_samples_leaf=10, n_estimators=2000, total=   2.5s\n",
      "[CV] max_depth=20, max_features=0.7, max_leaf_nodes=20, min_samples_leaf=10, n_estimators=2500 \n",
      "[CV]  max_depth=20, max_features=0.7, max_leaf_nodes=20, min_samples_leaf=10, n_estimators=2500, total=   3.1s\n",
      "[CV] max_depth=20, max_features=0.7, max_leaf_nodes=20, min_samples_leaf=10, n_estimators=2500 \n",
      "[CV]  max_depth=20, max_features=0.7, max_leaf_nodes=20, min_samples_leaf=10, n_estimators=2500, total=   3.1s\n",
      "[CV] max_depth=20, max_features=0.7, max_leaf_nodes=20, min_samples_leaf=10, n_estimators=2500 \n",
      "[CV]  max_depth=20, max_features=0.7, max_leaf_nodes=20, min_samples_leaf=10, n_estimators=2500, total=   3.1s\n",
      "[CV] max_depth=20, max_features=0.7, max_leaf_nodes=20, min_samples_leaf=15, n_estimators=1000 \n",
      "[CV]  max_depth=20, max_features=0.7, max_leaf_nodes=20, min_samples_leaf=15, n_estimators=1000, total=   1.2s\n",
      "[CV] max_depth=20, max_features=0.7, max_leaf_nodes=20, min_samples_leaf=15, n_estimators=1000 \n",
      "[CV]  max_depth=20, max_features=0.7, max_leaf_nodes=20, min_samples_leaf=15, n_estimators=1000, total=   1.2s\n",
      "[CV] max_depth=20, max_features=0.7, max_leaf_nodes=20, min_samples_leaf=15, n_estimators=1000 \n",
      "[CV]  max_depth=20, max_features=0.7, max_leaf_nodes=20, min_samples_leaf=15, n_estimators=1000, total=   1.2s\n",
      "[CV] max_depth=20, max_features=0.7, max_leaf_nodes=20, min_samples_leaf=15, n_estimators=1500 \n",
      "[CV]  max_depth=20, max_features=0.7, max_leaf_nodes=20, min_samples_leaf=15, n_estimators=1500, total=   1.8s\n",
      "[CV] max_depth=20, max_features=0.7, max_leaf_nodes=20, min_samples_leaf=15, n_estimators=1500 \n",
      "[CV]  max_depth=20, max_features=0.7, max_leaf_nodes=20, min_samples_leaf=15, n_estimators=1500, total=   1.8s\n",
      "[CV] max_depth=20, max_features=0.7, max_leaf_nodes=20, min_samples_leaf=15, n_estimators=1500 \n",
      "[CV]  max_depth=20, max_features=0.7, max_leaf_nodes=20, min_samples_leaf=15, n_estimators=1500, total=   1.8s\n",
      "[CV] max_depth=20, max_features=0.7, max_leaf_nodes=20, min_samples_leaf=15, n_estimators=2000 \n",
      "[CV]  max_depth=20, max_features=0.7, max_leaf_nodes=20, min_samples_leaf=15, n_estimators=2000, total=   2.4s\n",
      "[CV] max_depth=20, max_features=0.7, max_leaf_nodes=20, min_samples_leaf=15, n_estimators=2000 \n",
      "[CV]  max_depth=20, max_features=0.7, max_leaf_nodes=20, min_samples_leaf=15, n_estimators=2000, total=   2.5s\n",
      "[CV] max_depth=20, max_features=0.7, max_leaf_nodes=20, min_samples_leaf=15, n_estimators=2000 \n",
      "[CV]  max_depth=20, max_features=0.7, max_leaf_nodes=20, min_samples_leaf=15, n_estimators=2000, total=   2.4s\n",
      "[CV] max_depth=20, max_features=0.7, max_leaf_nodes=20, min_samples_leaf=15, n_estimators=2500 \n",
      "[CV]  max_depth=20, max_features=0.7, max_leaf_nodes=20, min_samples_leaf=15, n_estimators=2500, total=   3.0s\n",
      "[CV] max_depth=20, max_features=0.7, max_leaf_nodes=20, min_samples_leaf=15, n_estimators=2500 \n",
      "[CV]  max_depth=20, max_features=0.7, max_leaf_nodes=20, min_samples_leaf=15, n_estimators=2500, total=   3.0s\n",
      "[CV] max_depth=20, max_features=0.7, max_leaf_nodes=20, min_samples_leaf=15, n_estimators=2500 \n",
      "[CV]  max_depth=20, max_features=0.7, max_leaf_nodes=20, min_samples_leaf=15, n_estimators=2500, total=   3.1s\n",
      "[CV] max_depth=20, max_features=0.7, max_leaf_nodes=20, min_samples_leaf=20, n_estimators=1000 \n",
      "[CV]  max_depth=20, max_features=0.7, max_leaf_nodes=20, min_samples_leaf=20, n_estimators=1000, total=   1.4s\n",
      "[CV] max_depth=20, max_features=0.7, max_leaf_nodes=20, min_samples_leaf=20, n_estimators=1000 \n",
      "[CV]  max_depth=20, max_features=0.7, max_leaf_nodes=20, min_samples_leaf=20, n_estimators=1000, total=   1.3s\n",
      "[CV] max_depth=20, max_features=0.7, max_leaf_nodes=20, min_samples_leaf=20, n_estimators=1000 \n",
      "[CV]  max_depth=20, max_features=0.7, max_leaf_nodes=20, min_samples_leaf=20, n_estimators=1000, total=   1.2s\n",
      "[CV] max_depth=20, max_features=0.7, max_leaf_nodes=20, min_samples_leaf=20, n_estimators=1500 \n",
      "[CV]  max_depth=20, max_features=0.7, max_leaf_nodes=20, min_samples_leaf=20, n_estimators=1500, total=   1.8s\n",
      "[CV] max_depth=20, max_features=0.7, max_leaf_nodes=20, min_samples_leaf=20, n_estimators=1500 \n",
      "[CV]  max_depth=20, max_features=0.7, max_leaf_nodes=20, min_samples_leaf=20, n_estimators=1500, total=   1.8s\n",
      "[CV] max_depth=20, max_features=0.7, max_leaf_nodes=20, min_samples_leaf=20, n_estimators=1500 \n",
      "[CV]  max_depth=20, max_features=0.7, max_leaf_nodes=20, min_samples_leaf=20, n_estimators=1500, total=   1.8s\n",
      "[CV] max_depth=20, max_features=0.7, max_leaf_nodes=20, min_samples_leaf=20, n_estimators=2000 \n",
      "[CV]  max_depth=20, max_features=0.7, max_leaf_nodes=20, min_samples_leaf=20, n_estimators=2000, total=   2.6s\n",
      "[CV] max_depth=20, max_features=0.7, max_leaf_nodes=20, min_samples_leaf=20, n_estimators=2000 \n",
      "[CV]  max_depth=20, max_features=0.7, max_leaf_nodes=20, min_samples_leaf=20, n_estimators=2000, total=   2.5s\n",
      "[CV] max_depth=20, max_features=0.7, max_leaf_nodes=20, min_samples_leaf=20, n_estimators=2000 \n",
      "[CV]  max_depth=20, max_features=0.7, max_leaf_nodes=20, min_samples_leaf=20, n_estimators=2000, total=   2.4s\n",
      "[CV] max_depth=20, max_features=0.7, max_leaf_nodes=20, min_samples_leaf=20, n_estimators=2500 \n",
      "[CV]  max_depth=20, max_features=0.7, max_leaf_nodes=20, min_samples_leaf=20, n_estimators=2500, total=   2.9s\n",
      "[CV] max_depth=20, max_features=0.7, max_leaf_nodes=20, min_samples_leaf=20, n_estimators=2500 \n",
      "[CV]  max_depth=20, max_features=0.7, max_leaf_nodes=20, min_samples_leaf=20, n_estimators=2500, total=   3.0s\n",
      "[CV] max_depth=20, max_features=0.7, max_leaf_nodes=20, min_samples_leaf=20, n_estimators=2500 \n",
      "[CV]  max_depth=20, max_features=0.7, max_leaf_nodes=20, min_samples_leaf=20, n_estimators=2500, total=   2.9s\n",
      "[CV] max_depth=20, max_features=0.7, max_leaf_nodes=50, min_samples_leaf=10, n_estimators=1000 \n",
      "[CV]  max_depth=20, max_features=0.7, max_leaf_nodes=50, min_samples_leaf=10, n_estimators=1000, total=   1.3s\n",
      "[CV] max_depth=20, max_features=0.7, max_leaf_nodes=50, min_samples_leaf=10, n_estimators=1000 \n",
      "[CV]  max_depth=20, max_features=0.7, max_leaf_nodes=50, min_samples_leaf=10, n_estimators=1000, total=   1.3s\n",
      "[CV] max_depth=20, max_features=0.7, max_leaf_nodes=50, min_samples_leaf=10, n_estimators=1000 \n",
      "[CV]  max_depth=20, max_features=0.7, max_leaf_nodes=50, min_samples_leaf=10, n_estimators=1000, total=   1.3s\n",
      "[CV] max_depth=20, max_features=0.7, max_leaf_nodes=50, min_samples_leaf=10, n_estimators=1500 \n",
      "[CV]  max_depth=20, max_features=0.7, max_leaf_nodes=50, min_samples_leaf=10, n_estimators=1500, total=   1.9s\n",
      "[CV] max_depth=20, max_features=0.7, max_leaf_nodes=50, min_samples_leaf=10, n_estimators=1500 \n",
      "[CV]  max_depth=20, max_features=0.7, max_leaf_nodes=50, min_samples_leaf=10, n_estimators=1500, total=   1.9s\n",
      "[CV] max_depth=20, max_features=0.7, max_leaf_nodes=50, min_samples_leaf=10, n_estimators=1500 \n",
      "[CV]  max_depth=20, max_features=0.7, max_leaf_nodes=50, min_samples_leaf=10, n_estimators=1500, total=   1.9s\n",
      "[CV] max_depth=20, max_features=0.7, max_leaf_nodes=50, min_samples_leaf=10, n_estimators=2000 \n",
      "[CV]  max_depth=20, max_features=0.7, max_leaf_nodes=50, min_samples_leaf=10, n_estimators=2000, total=   2.5s\n",
      "[CV] max_depth=20, max_features=0.7, max_leaf_nodes=50, min_samples_leaf=10, n_estimators=2000 \n",
      "[CV]  max_depth=20, max_features=0.7, max_leaf_nodes=50, min_samples_leaf=10, n_estimators=2000, total=   2.5s\n",
      "[CV] max_depth=20, max_features=0.7, max_leaf_nodes=50, min_samples_leaf=10, n_estimators=2000 \n",
      "[CV]  max_depth=20, max_features=0.7, max_leaf_nodes=50, min_samples_leaf=10, n_estimators=2000, total=   2.6s\n",
      "[CV] max_depth=20, max_features=0.7, max_leaf_nodes=50, min_samples_leaf=10, n_estimators=2500 \n"
     ]
    },
    {
     "name": "stdout",
     "output_type": "stream",
     "text": [
      "[CV]  max_depth=20, max_features=0.7, max_leaf_nodes=50, min_samples_leaf=10, n_estimators=2500, total=   3.1s\n",
      "[CV] max_depth=20, max_features=0.7, max_leaf_nodes=50, min_samples_leaf=10, n_estimators=2500 \n",
      "[CV]  max_depth=20, max_features=0.7, max_leaf_nodes=50, min_samples_leaf=10, n_estimators=2500, total=   3.1s\n",
      "[CV] max_depth=20, max_features=0.7, max_leaf_nodes=50, min_samples_leaf=10, n_estimators=2500 \n",
      "[CV]  max_depth=20, max_features=0.7, max_leaf_nodes=50, min_samples_leaf=10, n_estimators=2500, total=   3.2s\n",
      "[CV] max_depth=20, max_features=0.7, max_leaf_nodes=50, min_samples_leaf=15, n_estimators=1000 \n",
      "[CV]  max_depth=20, max_features=0.7, max_leaf_nodes=50, min_samples_leaf=15, n_estimators=1000, total=   1.2s\n",
      "[CV] max_depth=20, max_features=0.7, max_leaf_nodes=50, min_samples_leaf=15, n_estimators=1000 \n",
      "[CV]  max_depth=20, max_features=0.7, max_leaf_nodes=50, min_samples_leaf=15, n_estimators=1000, total=   1.2s\n",
      "[CV] max_depth=20, max_features=0.7, max_leaf_nodes=50, min_samples_leaf=15, n_estimators=1000 \n",
      "[CV]  max_depth=20, max_features=0.7, max_leaf_nodes=50, min_samples_leaf=15, n_estimators=1000, total=   1.2s\n",
      "[CV] max_depth=20, max_features=0.7, max_leaf_nodes=50, min_samples_leaf=15, n_estimators=1500 \n",
      "[CV]  max_depth=20, max_features=0.7, max_leaf_nodes=50, min_samples_leaf=15, n_estimators=1500, total=   1.8s\n",
      "[CV] max_depth=20, max_features=0.7, max_leaf_nodes=50, min_samples_leaf=15, n_estimators=1500 \n",
      "[CV]  max_depth=20, max_features=0.7, max_leaf_nodes=50, min_samples_leaf=15, n_estimators=1500, total=   1.8s\n",
      "[CV] max_depth=20, max_features=0.7, max_leaf_nodes=50, min_samples_leaf=15, n_estimators=1500 \n",
      "[CV]  max_depth=20, max_features=0.7, max_leaf_nodes=50, min_samples_leaf=15, n_estimators=1500, total=   1.8s\n",
      "[CV] max_depth=20, max_features=0.7, max_leaf_nodes=50, min_samples_leaf=15, n_estimators=2000 \n",
      "[CV]  max_depth=20, max_features=0.7, max_leaf_nodes=50, min_samples_leaf=15, n_estimators=2000, total=   2.4s\n",
      "[CV] max_depth=20, max_features=0.7, max_leaf_nodes=50, min_samples_leaf=15, n_estimators=2000 \n",
      "[CV]  max_depth=20, max_features=0.7, max_leaf_nodes=50, min_samples_leaf=15, n_estimators=2000, total=   2.4s\n",
      "[CV] max_depth=20, max_features=0.7, max_leaf_nodes=50, min_samples_leaf=15, n_estimators=2000 \n",
      "[CV]  max_depth=20, max_features=0.7, max_leaf_nodes=50, min_samples_leaf=15, n_estimators=2000, total=   2.5s\n",
      "[CV] max_depth=20, max_features=0.7, max_leaf_nodes=50, min_samples_leaf=15, n_estimators=2500 \n",
      "[CV]  max_depth=20, max_features=0.7, max_leaf_nodes=50, min_samples_leaf=15, n_estimators=2500, total=   3.0s\n",
      "[CV] max_depth=20, max_features=0.7, max_leaf_nodes=50, min_samples_leaf=15, n_estimators=2500 \n",
      "[CV]  max_depth=20, max_features=0.7, max_leaf_nodes=50, min_samples_leaf=15, n_estimators=2500, total=   3.0s\n",
      "[CV] max_depth=20, max_features=0.7, max_leaf_nodes=50, min_samples_leaf=15, n_estimators=2500 \n",
      "[CV]  max_depth=20, max_features=0.7, max_leaf_nodes=50, min_samples_leaf=15, n_estimators=2500, total=   3.0s\n",
      "[CV] max_depth=20, max_features=0.7, max_leaf_nodes=50, min_samples_leaf=20, n_estimators=1000 \n",
      "[CV]  max_depth=20, max_features=0.7, max_leaf_nodes=50, min_samples_leaf=20, n_estimators=1000, total=   1.2s\n",
      "[CV] max_depth=20, max_features=0.7, max_leaf_nodes=50, min_samples_leaf=20, n_estimators=1000 \n",
      "[CV]  max_depth=20, max_features=0.7, max_leaf_nodes=50, min_samples_leaf=20, n_estimators=1000, total=   1.2s\n",
      "[CV] max_depth=20, max_features=0.7, max_leaf_nodes=50, min_samples_leaf=20, n_estimators=1000 \n",
      "[CV]  max_depth=20, max_features=0.7, max_leaf_nodes=50, min_samples_leaf=20, n_estimators=1000, total=   1.2s\n",
      "[CV] max_depth=20, max_features=0.7, max_leaf_nodes=50, min_samples_leaf=20, n_estimators=1500 \n",
      "[CV]  max_depth=20, max_features=0.7, max_leaf_nodes=50, min_samples_leaf=20, n_estimators=1500, total=   1.8s\n",
      "[CV] max_depth=20, max_features=0.7, max_leaf_nodes=50, min_samples_leaf=20, n_estimators=1500 \n",
      "[CV]  max_depth=20, max_features=0.7, max_leaf_nodes=50, min_samples_leaf=20, n_estimators=1500, total=   1.8s\n",
      "[CV] max_depth=20, max_features=0.7, max_leaf_nodes=50, min_samples_leaf=20, n_estimators=1500 \n",
      "[CV]  max_depth=20, max_features=0.7, max_leaf_nodes=50, min_samples_leaf=20, n_estimators=1500, total=   1.8s\n",
      "[CV] max_depth=20, max_features=0.7, max_leaf_nodes=50, min_samples_leaf=20, n_estimators=2000 \n",
      "[CV]  max_depth=20, max_features=0.7, max_leaf_nodes=50, min_samples_leaf=20, n_estimators=2000, total=   2.3s\n",
      "[CV] max_depth=20, max_features=0.7, max_leaf_nodes=50, min_samples_leaf=20, n_estimators=2000 \n",
      "[CV]  max_depth=20, max_features=0.7, max_leaf_nodes=50, min_samples_leaf=20, n_estimators=2000, total=   2.4s\n",
      "[CV] max_depth=20, max_features=0.7, max_leaf_nodes=50, min_samples_leaf=20, n_estimators=2000 \n",
      "[CV]  max_depth=20, max_features=0.7, max_leaf_nodes=50, min_samples_leaf=20, n_estimators=2000, total=   2.4s\n",
      "[CV] max_depth=20, max_features=0.7, max_leaf_nodes=50, min_samples_leaf=20, n_estimators=2500 \n",
      "[CV]  max_depth=20, max_features=0.7, max_leaf_nodes=50, min_samples_leaf=20, n_estimators=2500, total=   2.9s\n",
      "[CV] max_depth=20, max_features=0.7, max_leaf_nodes=50, min_samples_leaf=20, n_estimators=2500 \n",
      "[CV]  max_depth=20, max_features=0.7, max_leaf_nodes=50, min_samples_leaf=20, n_estimators=2500, total=   3.0s\n",
      "[CV] max_depth=20, max_features=0.7, max_leaf_nodes=50, min_samples_leaf=20, n_estimators=2500 \n",
      "[CV]  max_depth=20, max_features=0.7, max_leaf_nodes=50, min_samples_leaf=20, n_estimators=2500, total=   2.9s\n",
      "[CV] max_depth=20, max_features=0.7, max_leaf_nodes=80, min_samples_leaf=10, n_estimators=1000 \n",
      "[CV]  max_depth=20, max_features=0.7, max_leaf_nodes=80, min_samples_leaf=10, n_estimators=1000, total=   1.2s\n",
      "[CV] max_depth=20, max_features=0.7, max_leaf_nodes=80, min_samples_leaf=10, n_estimators=1000 \n",
      "[CV]  max_depth=20, max_features=0.7, max_leaf_nodes=80, min_samples_leaf=10, n_estimators=1000, total=   1.3s\n",
      "[CV] max_depth=20, max_features=0.7, max_leaf_nodes=80, min_samples_leaf=10, n_estimators=1000 \n",
      "[CV]  max_depth=20, max_features=0.7, max_leaf_nodes=80, min_samples_leaf=10, n_estimators=1000, total=   1.3s\n",
      "[CV] max_depth=20, max_features=0.7, max_leaf_nodes=80, min_samples_leaf=10, n_estimators=1500 \n",
      "[CV]  max_depth=20, max_features=0.7, max_leaf_nodes=80, min_samples_leaf=10, n_estimators=1500, total=   1.9s\n",
      "[CV] max_depth=20, max_features=0.7, max_leaf_nodes=80, min_samples_leaf=10, n_estimators=1500 \n",
      "[CV]  max_depth=20, max_features=0.7, max_leaf_nodes=80, min_samples_leaf=10, n_estimators=1500, total=   1.9s\n",
      "[CV] max_depth=20, max_features=0.7, max_leaf_nodes=80, min_samples_leaf=10, n_estimators=1500 \n",
      "[CV]  max_depth=20, max_features=0.7, max_leaf_nodes=80, min_samples_leaf=10, n_estimators=1500, total=   1.9s\n",
      "[CV] max_depth=20, max_features=0.7, max_leaf_nodes=80, min_samples_leaf=10, n_estimators=2000 \n",
      "[CV]  max_depth=20, max_features=0.7, max_leaf_nodes=80, min_samples_leaf=10, n_estimators=2000, total=   2.5s\n",
      "[CV] max_depth=20, max_features=0.7, max_leaf_nodes=80, min_samples_leaf=10, n_estimators=2000 \n",
      "[CV]  max_depth=20, max_features=0.7, max_leaf_nodes=80, min_samples_leaf=10, n_estimators=2000, total=   2.6s\n",
      "[CV] max_depth=20, max_features=0.7, max_leaf_nodes=80, min_samples_leaf=10, n_estimators=2000 \n",
      "[CV]  max_depth=20, max_features=0.7, max_leaf_nodes=80, min_samples_leaf=10, n_estimators=2000, total=   2.5s\n",
      "[CV] max_depth=20, max_features=0.7, max_leaf_nodes=80, min_samples_leaf=10, n_estimators=2500 \n",
      "[CV]  max_depth=20, max_features=0.7, max_leaf_nodes=80, min_samples_leaf=10, n_estimators=2500, total=   3.2s\n",
      "[CV] max_depth=20, max_features=0.7, max_leaf_nodes=80, min_samples_leaf=10, n_estimators=2500 \n",
      "[CV]  max_depth=20, max_features=0.7, max_leaf_nodes=80, min_samples_leaf=10, n_estimators=2500, total=   3.1s\n",
      "[CV] max_depth=20, max_features=0.7, max_leaf_nodes=80, min_samples_leaf=10, n_estimators=2500 \n",
      "[CV]  max_depth=20, max_features=0.7, max_leaf_nodes=80, min_samples_leaf=10, n_estimators=2500, total=   3.2s\n",
      "[CV] max_depth=20, max_features=0.7, max_leaf_nodes=80, min_samples_leaf=15, n_estimators=1000 \n",
      "[CV]  max_depth=20, max_features=0.7, max_leaf_nodes=80, min_samples_leaf=15, n_estimators=1000, total=   1.3s\n",
      "[CV] max_depth=20, max_features=0.7, max_leaf_nodes=80, min_samples_leaf=15, n_estimators=1000 \n"
     ]
    },
    {
     "name": "stdout",
     "output_type": "stream",
     "text": [
      "[CV]  max_depth=20, max_features=0.7, max_leaf_nodes=80, min_samples_leaf=15, n_estimators=1000, total=   1.4s\n",
      "[CV] max_depth=20, max_features=0.7, max_leaf_nodes=80, min_samples_leaf=15, n_estimators=1000 \n",
      "[CV]  max_depth=20, max_features=0.7, max_leaf_nodes=80, min_samples_leaf=15, n_estimators=1000, total=   1.3s\n",
      "[CV] max_depth=20, max_features=0.7, max_leaf_nodes=80, min_samples_leaf=15, n_estimators=1500 \n",
      "[CV]  max_depth=20, max_features=0.7, max_leaf_nodes=80, min_samples_leaf=15, n_estimators=1500, total=   1.9s\n",
      "[CV] max_depth=20, max_features=0.7, max_leaf_nodes=80, min_samples_leaf=15, n_estimators=1500 \n",
      "[CV]  max_depth=20, max_features=0.7, max_leaf_nodes=80, min_samples_leaf=15, n_estimators=1500, total=   1.9s\n",
      "[CV] max_depth=20, max_features=0.7, max_leaf_nodes=80, min_samples_leaf=15, n_estimators=1500 \n",
      "[CV]  max_depth=20, max_features=0.7, max_leaf_nodes=80, min_samples_leaf=15, n_estimators=1500, total=   1.8s\n",
      "[CV] max_depth=20, max_features=0.7, max_leaf_nodes=80, min_samples_leaf=15, n_estimators=2000 \n",
      "[CV]  max_depth=20, max_features=0.7, max_leaf_nodes=80, min_samples_leaf=15, n_estimators=2000, total=   2.4s\n",
      "[CV] max_depth=20, max_features=0.7, max_leaf_nodes=80, min_samples_leaf=15, n_estimators=2000 \n",
      "[CV]  max_depth=20, max_features=0.7, max_leaf_nodes=80, min_samples_leaf=15, n_estimators=2000, total=   2.4s\n",
      "[CV] max_depth=20, max_features=0.7, max_leaf_nodes=80, min_samples_leaf=15, n_estimators=2000 \n",
      "[CV]  max_depth=20, max_features=0.7, max_leaf_nodes=80, min_samples_leaf=15, n_estimators=2000, total=   2.5s\n",
      "[CV] max_depth=20, max_features=0.7, max_leaf_nodes=80, min_samples_leaf=15, n_estimators=2500 \n",
      "[CV]  max_depth=20, max_features=0.7, max_leaf_nodes=80, min_samples_leaf=15, n_estimators=2500, total=   3.0s\n",
      "[CV] max_depth=20, max_features=0.7, max_leaf_nodes=80, min_samples_leaf=15, n_estimators=2500 \n",
      "[CV]  max_depth=20, max_features=0.7, max_leaf_nodes=80, min_samples_leaf=15, n_estimators=2500, total=   3.0s\n",
      "[CV] max_depth=20, max_features=0.7, max_leaf_nodes=80, min_samples_leaf=15, n_estimators=2500 \n",
      "[CV]  max_depth=20, max_features=0.7, max_leaf_nodes=80, min_samples_leaf=15, n_estimators=2500, total=   3.0s\n",
      "[CV] max_depth=20, max_features=0.7, max_leaf_nodes=80, min_samples_leaf=20, n_estimators=1000 \n",
      "[CV]  max_depth=20, max_features=0.7, max_leaf_nodes=80, min_samples_leaf=20, n_estimators=1000, total=   1.2s\n",
      "[CV] max_depth=20, max_features=0.7, max_leaf_nodes=80, min_samples_leaf=20, n_estimators=1000 \n",
      "[CV]  max_depth=20, max_features=0.7, max_leaf_nodes=80, min_samples_leaf=20, n_estimators=1000, total=   1.2s\n",
      "[CV] max_depth=20, max_features=0.7, max_leaf_nodes=80, min_samples_leaf=20, n_estimators=1000 \n",
      "[CV]  max_depth=20, max_features=0.7, max_leaf_nodes=80, min_samples_leaf=20, n_estimators=1000, total=   1.2s\n",
      "[CV] max_depth=20, max_features=0.7, max_leaf_nodes=80, min_samples_leaf=20, n_estimators=1500 \n",
      "[CV]  max_depth=20, max_features=0.7, max_leaf_nodes=80, min_samples_leaf=20, n_estimators=1500, total=   1.8s\n",
      "[CV] max_depth=20, max_features=0.7, max_leaf_nodes=80, min_samples_leaf=20, n_estimators=1500 \n",
      "[CV]  max_depth=20, max_features=0.7, max_leaf_nodes=80, min_samples_leaf=20, n_estimators=1500, total=   1.8s\n",
      "[CV] max_depth=20, max_features=0.7, max_leaf_nodes=80, min_samples_leaf=20, n_estimators=1500 \n",
      "[CV]  max_depth=20, max_features=0.7, max_leaf_nodes=80, min_samples_leaf=20, n_estimators=1500, total=   1.8s\n",
      "[CV] max_depth=20, max_features=0.7, max_leaf_nodes=80, min_samples_leaf=20, n_estimators=2000 \n",
      "[CV]  max_depth=20, max_features=0.7, max_leaf_nodes=80, min_samples_leaf=20, n_estimators=2000, total=   2.3s\n",
      "[CV] max_depth=20, max_features=0.7, max_leaf_nodes=80, min_samples_leaf=20, n_estimators=2000 \n",
      "[CV]  max_depth=20, max_features=0.7, max_leaf_nodes=80, min_samples_leaf=20, n_estimators=2000, total=   2.4s\n",
      "[CV] max_depth=20, max_features=0.7, max_leaf_nodes=80, min_samples_leaf=20, n_estimators=2000 \n",
      "[CV]  max_depth=20, max_features=0.7, max_leaf_nodes=80, min_samples_leaf=20, n_estimators=2000, total=   2.4s\n",
      "[CV] max_depth=20, max_features=0.7, max_leaf_nodes=80, min_samples_leaf=20, n_estimators=2500 \n",
      "[CV]  max_depth=20, max_features=0.7, max_leaf_nodes=80, min_samples_leaf=20, n_estimators=2500, total=   2.9s\n",
      "[CV] max_depth=20, max_features=0.7, max_leaf_nodes=80, min_samples_leaf=20, n_estimators=2500 \n",
      "[CV]  max_depth=20, max_features=0.7, max_leaf_nodes=80, min_samples_leaf=20, n_estimators=2500, total=   2.9s\n",
      "[CV] max_depth=20, max_features=0.7, max_leaf_nodes=80, min_samples_leaf=20, n_estimators=2500 \n",
      "[CV]  max_depth=20, max_features=0.7, max_leaf_nodes=80, min_samples_leaf=20, n_estimators=2500, total=   3.0s\n"
     ]
    },
    {
     "name": "stderr",
     "output_type": "stream",
     "text": [
      "[Parallel(n_jobs=1)]: Done 864 out of 864 | elapsed: 29.6min finished\n"
     ]
    },
    {
     "data": {
      "text/plain": [
       "GridSearchCV(cv=3,\n",
       "             estimator=RandomForestClassifier(max_depth=5, max_features=0.7,\n",
       "                                              max_leaf_nodes=50,\n",
       "                                              min_samples_leaf=15,\n",
       "                                              n_estimators=1000),\n",
       "             param_grid={'max_depth': [5, 10, 15, 20],\n",
       "                         'max_features': [0.5, 0.7],\n",
       "                         'max_leaf_nodes': [20, 50, 80],\n",
       "                         'min_samples_leaf': [10, 15, 20],\n",
       "                         'n_estimators': [1000, 1500, 2000, 2500]},\n",
       "             verbose=2)"
      ]
     },
     "execution_count": 110,
     "metadata": {},
     "output_type": "execute_result"
    }
   ],
   "source": [
    "# 4 * 4 * 2 * 3 * 3 = 288번의 학습 중에 제일 잘 나온걸 찾는 중\n",
    "grid.fit(X_train, y_train)"
   ]
  },
  {
   "cell_type": "code",
   "execution_count": 112,
   "metadata": {
    "scrolled": true
   },
   "outputs": [
    {
     "name": "stdout",
     "output_type": "stream",
     "text": [
      "최적의 파라미터 :  {'max_depth': 10, 'max_features': 0.5, 'max_leaf_nodes': 50, 'min_samples_leaf': 10, 'n_estimators': 1000}\n",
      "최고 예측 점수 :  0.8294051627384961\n"
     ]
    }
   ],
   "source": [
    "# 최적의 파라미터\n",
    "print('최적의 파라미터 : ',grid.best_params_)\n",
    "# 최적의 예측점수\n",
    "print('최고 예측 점수 : ',grid.best_score_)"
   ]
  },
  {
   "cell_type": "markdown",
   "metadata": {},
   "source": [
    "# 6-1"
   ]
  },
  {
   "cell_type": "code",
   "execution_count": 94,
   "metadata": {},
   "outputs": [
    {
     "data": {
      "text/plain": [
       "RandomForestClassifier(max_depth=5, max_features=0.7, max_leaf_nodes=50,\n",
       "                       min_samples_leaf=15, n_estimators=1000)"
      ]
     },
     "execution_count": 94,
     "metadata": {},
     "output_type": "execute_result"
    }
   ],
   "source": [
    "forest.fit(X_train, y_train)"
   ]
  },
  {
   "cell_type": "markdown",
   "metadata": {},
   "source": [
    "# 7-1"
   ]
  },
  {
   "cell_type": "code",
   "execution_count": 95,
   "metadata": {},
   "outputs": [],
   "source": [
    "pre = forest.predict(X_test)\n",
    "result = pd.read_csv('titanic/gender_submission.csv')\n",
    "result['Survived'] = pre\n",
    "result.to_csv('forest_submission_01.csv', index = False)"
   ]
  },
  {
   "cell_type": "markdown",
   "metadata": {},
   "source": [
    "# 5-2\n",
    "- KNN"
   ]
  },
  {
   "cell_type": "code",
   "execution_count": 111,
   "metadata": {},
   "outputs": [],
   "source": [
    "from sklearn.neighbors import KNeighborsClassifier\n",
    "knn = KNeighborsClassifier()"
   ]
  },
  {
   "cell_type": "code",
   "execution_count": 113,
   "metadata": {},
   "outputs": [
    {
     "data": {
      "text/plain": [
       "0.7216935534492499"
      ]
     },
     "execution_count": 113,
     "metadata": {},
     "output_type": "execute_result"
    }
   ],
   "source": [
    "# 스케일러 적용전\n",
    "result = cross_val_score(knn, X_train, y_train, cv =5)\n",
    "result.mean()"
   ]
  },
  {
   "cell_type": "code",
   "execution_count": 114,
   "metadata": {},
   "outputs": [],
   "source": [
    "# standardScaler 받아오기\n",
    "from sklearn.preprocessing import StandardScaler"
   ]
  },
  {
   "cell_type": "code",
   "execution_count": 115,
   "metadata": {},
   "outputs": [],
   "source": [
    "scaler = StandardScaler()"
   ]
  },
  {
   "cell_type": "code",
   "execution_count": 116,
   "metadata": {},
   "outputs": [
    {
     "data": {
      "text/plain": [
       "StandardScaler()"
      ]
     },
     "execution_count": 116,
     "metadata": {},
     "output_type": "execute_result"
    }
   ],
   "source": [
    "# 범위 학습\n",
    "scaler.fit(X_train)"
   ]
  },
  {
   "cell_type": "code",
   "execution_count": 120,
   "metadata": {},
   "outputs": [],
   "source": [
    "# 학습된 범위로 값 반환\n",
    "trans_X_train = scaler.transform(X_train)\n",
    "trans_X_test = scaler.transform(X_test)"
   ]
  },
  {
   "cell_type": "code",
   "execution_count": 122,
   "metadata": {},
   "outputs": [
    {
     "data": {
      "text/plain": [
       "0.8046889711882492"
      ]
     },
     "execution_count": 122,
     "metadata": {},
     "output_type": "execute_result"
    }
   ],
   "source": [
    "result = cross_val_score(knn, trans_X_train, y_train, cv = 5)\n",
    "result.mean()"
   ]
  },
  {
   "cell_type": "markdown",
   "metadata": {},
   "source": [
    "# 6-2"
   ]
  },
  {
   "cell_type": "code",
   "execution_count": 97,
   "metadata": {},
   "outputs": [
    {
     "data": {
      "text/plain": [
       "KNeighborsClassifier()"
      ]
     },
     "execution_count": 97,
     "metadata": {},
     "output_type": "execute_result"
    }
   ],
   "source": [
    "knn.fit(X_train, y_train)"
   ]
  },
  {
   "cell_type": "markdown",
   "metadata": {},
   "source": [
    "# 7-2"
   ]
  },
  {
   "cell_type": "code",
   "execution_count": 98,
   "metadata": {},
   "outputs": [
    {
     "data": {
      "text/plain": [
       "array([0, 0, 0, 0, 0, 0, 0, 1, 0, 0, 0, 0, 1, 0, 1, 1, 0, 0, 1, 0, 0, 1,\n",
       "       1, 1, 1, 0, 1, 0, 1, 0, 1, 1, 1, 1, 1, 0, 1, 1, 0, 1, 0, 0, 0, 1,\n",
       "       1, 0, 0, 0, 1, 1, 1, 0, 1, 1, 0, 0, 0, 0, 0, 1, 0, 0, 0, 1, 1, 0,\n",
       "       1, 0, 0, 1, 0, 0, 0, 0, 1, 1, 0, 0, 0, 0, 1, 1, 1, 0, 0, 0, 1, 1,\n",
       "       0, 1, 1, 0, 1, 0, 0, 0, 1, 0, 1, 0, 1, 0, 0, 0, 1, 0, 0, 0, 0, 0,\n",
       "       0, 1, 1, 1, 1, 0, 0, 1, 1, 1, 1, 0, 1, 0, 0, 0, 0, 1, 1, 0, 0, 0,\n",
       "       1, 0, 0, 0, 0, 0, 1, 0, 0, 1, 1, 1, 0, 0, 0, 0, 0, 1, 1, 0, 0, 1,\n",
       "       0, 0, 1, 1, 0, 0, 1, 1, 0, 0, 1, 0, 1, 0, 1, 1, 0, 0, 0, 0, 0, 0,\n",
       "       0, 1, 0, 1, 0, 1, 1, 0, 1, 0, 1, 0, 0, 0, 1, 0, 0, 0, 0, 0, 1, 1,\n",
       "       0, 0, 1, 1, 1, 1, 0, 0, 0, 0, 1, 0, 0, 0, 0, 0, 0, 0, 1, 1, 1, 0,\n",
       "       1, 0, 0, 0, 0, 1, 0, 1, 0, 0, 1, 1, 0, 0, 1, 0, 1, 0, 0, 0, 0, 1,\n",
       "       1, 0, 0, 0, 1, 0, 1, 1, 1, 0, 1, 0, 0, 0, 0, 0, 0, 0, 1, 0, 0, 1,\n",
       "       0, 0, 0, 0, 1, 0, 1, 0, 1, 1, 0, 1, 0, 0, 0, 0, 1, 1, 1, 1, 1, 0,\n",
       "       0, 1, 0, 0, 0, 0, 0, 1, 0, 0, 1, 0, 0, 0, 0, 0, 0, 0, 1, 0, 1, 1,\n",
       "       1, 0, 0, 0, 0, 0, 1, 1, 1, 0, 1, 1, 0, 0, 0, 1, 1, 0, 0, 1, 1, 0,\n",
       "       0, 1, 0, 1, 1, 1, 0, 0, 1, 0, 0, 0, 1, 1, 0, 1, 0, 0, 0, 0, 1, 0,\n",
       "       0, 1, 1, 1, 1, 0, 0, 0, 0, 0, 0, 0, 1, 1, 0, 0, 1, 0, 0, 1, 0, 1,\n",
       "       1, 1, 1, 0, 0, 0, 0, 0, 1, 1, 0, 1, 0, 0, 0, 0, 1, 0, 0, 0, 0, 1,\n",
       "       0, 1, 0, 0, 1, 0, 1, 0, 0, 0, 0, 1, 1, 1, 1, 1, 0, 0, 1, 0, 0, 0],\n",
       "      dtype=int64)"
      ]
     },
     "execution_count": 98,
     "metadata": {},
     "output_type": "execute_result"
    }
   ],
   "source": [
    "knn.predict(X_test)"
   ]
  },
  {
   "cell_type": "markdown",
   "metadata": {},
   "source": [
    "#  5-3\n",
    "- voting"
   ]
  },
  {
   "cell_type": "code",
   "execution_count": 99,
   "metadata": {},
   "outputs": [],
   "source": [
    "from sklearn.ensemble import VotingClassifier\n",
    "voting = VotingClassifier(\n",
    "    estimators = [\n",
    "        ('knn_model', knn),\n",
    "        ('tree_model', tree),\n",
    "        ('forest_model', forest)\n",
    "    ],\n",
    "    voting = 'soft'\n",
    ")"
   ]
  },
  {
   "cell_type": "markdown",
   "metadata": {},
   "source": [
    "# 6-3"
   ]
  },
  {
   "cell_type": "code",
   "execution_count": 100,
   "metadata": {
    "scrolled": true
   },
   "outputs": [
    {
     "data": {
      "text/plain": [
       "VotingClassifier(estimators=[('knn_model', KNeighborsClassifier()),\n",
       "                             ('tree_model',\n",
       "                              DecisionTreeClassifier(max_depth=4)),\n",
       "                             ('forest_model',\n",
       "                              RandomForestClassifier(max_depth=5,\n",
       "                                                     max_features=0.7,\n",
       "                                                     max_leaf_nodes=50,\n",
       "                                                     min_samples_leaf=15,\n",
       "                                                     n_estimators=1000))],\n",
       "                 voting='soft')"
      ]
     },
     "execution_count": 100,
     "metadata": {},
     "output_type": "execute_result"
    }
   ],
   "source": [
    "voting.fit(X_train, y_train)"
   ]
  },
  {
   "cell_type": "code",
   "execution_count": 101,
   "metadata": {},
   "outputs": [],
   "source": [
    "pre = voting.predict(X_test)\n",
    "result = pd.read_csv('titanic/gender_submission.csv')\n",
    "result['Survived'] = pre\n",
    "result.to_csv('voting_submission_01.csv', index = False)"
   ]
  },
  {
   "cell_type": "markdown",
   "metadata": {},
   "source": [
    "# 5-4\n",
    "- adaboost"
   ]
  },
  {
   "cell_type": "code",
   "execution_count": 102,
   "metadata": {},
   "outputs": [],
   "source": [
    "from sklearn.ensemble  import AdaBoostClassifier"
   ]
  },
  {
   "cell_type": "code",
   "execution_count": 103,
   "metadata": {},
   "outputs": [],
   "source": [
    "adaboost = AdaBoostClassifier()"
   ]
  },
  {
   "cell_type": "markdown",
   "metadata": {},
   "source": [
    "# 6-4"
   ]
  },
  {
   "cell_type": "code",
   "execution_count": 104,
   "metadata": {},
   "outputs": [
    {
     "data": {
      "text/plain": [
       "AdaBoostClassifier()"
      ]
     },
     "execution_count": 104,
     "metadata": {},
     "output_type": "execute_result"
    }
   ],
   "source": [
    "adaboost.fit(X_train, y_train)"
   ]
  },
  {
   "cell_type": "markdown",
   "metadata": {},
   "source": [
    "# 7-4"
   ]
  },
  {
   "cell_type": "code",
   "execution_count": 105,
   "metadata": {},
   "outputs": [],
   "source": [
    "pre = adaboost.predict(X_test)\n",
    "result = pd.read_csv('titanic/gender_submission.csv')\n",
    "result['Survived'] = pre\n",
    "result.to_csv('adaboost_submission_01.csv', index = False)"
   ]
  },
  {
   "cell_type": "markdown",
   "metadata": {},
   "source": [
    "# 5-5\n",
    "- GradientBoosting"
   ]
  },
  {
   "cell_type": "code",
   "execution_count": 106,
   "metadata": {},
   "outputs": [],
   "source": [
    "from sklearn.ensemble import GradientBoostingClassifier\n",
    "gdc = GradientBoostingClassifier()"
   ]
  },
  {
   "cell_type": "markdown",
   "metadata": {},
   "source": [
    "# 6-5"
   ]
  },
  {
   "cell_type": "code",
   "execution_count": 107,
   "metadata": {},
   "outputs": [
    {
     "data": {
      "text/plain": [
       "GradientBoostingClassifier()"
      ]
     },
     "execution_count": 107,
     "metadata": {},
     "output_type": "execute_result"
    }
   ],
   "source": [
    "gdc.fit(X_train, y_train)"
   ]
  },
  {
   "cell_type": "markdown",
   "metadata": {},
   "source": [
    "# 7-5"
   ]
  },
  {
   "cell_type": "code",
   "execution_count": 108,
   "metadata": {},
   "outputs": [],
   "source": [
    "pre = gdc.predict(X_test)\n",
    "result = pd.read_csv('titanic/gender_submission.csv')\n",
    "result['Survived'] = pre\n",
    "result.to_csv('gdc_submission_01.csv', index = False)"
   ]
  },
  {
   "cell_type": "code",
   "execution_count": null,
   "metadata": {},
   "outputs": [],
   "source": []
  },
  {
   "cell_type": "code",
   "execution_count": null,
   "metadata": {},
   "outputs": [],
   "source": []
  },
  {
   "cell_type": "code",
   "execution_count": null,
   "metadata": {},
   "outputs": [],
   "source": []
  },
  {
   "cell_type": "code",
   "execution_count": null,
   "metadata": {},
   "outputs": [],
   "source": []
  }
 ],
 "metadata": {
  "kernelspec": {
   "display_name": "Python 3",
   "language": "python",
   "name": "python3"
  },
  "language_info": {
   "codemirror_mode": {
    "name": "ipython",
    "version": 3
   },
   "file_extension": ".py",
   "mimetype": "text/x-python",
   "name": "python",
   "nbconvert_exporter": "python",
   "pygments_lexer": "ipython3",
   "version": "3.8.5"
  }
 },
 "nbformat": 4,
 "nbformat_minor": 4
}
