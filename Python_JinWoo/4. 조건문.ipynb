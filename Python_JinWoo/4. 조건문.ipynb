{
 "cells": [
  {
   "cell_type": "code",
   "execution_count": 3,
   "metadata": {},
   "outputs": [
    {
     "name": "stdout",
     "output_type": "stream",
     "text": [
      "실행문장 실행\n",
      "if문 밖의 실행문장\n"
     ]
    }
   ],
   "source": [
    "if True:\n",
    "    print(\"실행문장 실행\")\n",
    "print(\"if문 밖의 실행문장\")"
   ]
  },
  {
   "cell_type": "code",
   "execution_count": null,
   "metadata": {},
   "outputs": [],
   "source": []
  },
  {
   "cell_type": "code",
   "execution_count": 4,
   "metadata": {},
   "outputs": [
    {
     "name": "stdout",
     "output_type": "stream",
     "text": [
      "if문 밖의 실행문장\n"
     ]
    }
   ],
   "source": [
    "if False:\n",
    "    print(\"실행문장 실행\")\n",
    "print(\"if문 밖의 실행문장\")"
   ]
  },
  {
   "cell_type": "code",
   "execution_count": 2,
   "metadata": {},
   "outputs": [
    {
     "name": "stdout",
     "output_type": "stream",
     "text": [
      "11000\n",
      "택시를 탄다\n"
     ]
    }
   ],
   "source": [
    "money = int(input())\n",
    "if money >= 10000:\n",
    "    print(\"택시를 탄다\")"
   ]
  },
  {
   "cell_type": "code",
   "execution_count": 3,
   "metadata": {},
   "outputs": [
    {
     "name": "stdout",
     "output_type": "stream",
     "text": [
      "9000\n"
     ]
    }
   ],
   "source": [
    "money = int(input())\n",
    "if money >= 10000:\n",
    "    print(\"택시를 탄다\")"
   ]
  },
  {
   "cell_type": "code",
   "execution_count": 4,
   "metadata": {},
   "outputs": [
    {
     "name": "stdout",
     "output_type": "stream",
     "text": [
      "실행문장1\n"
     ]
    }
   ],
   "source": [
    "if True:\n",
    "    print(\"실행문장1\")\n",
    "else:\n",
    "    print(\"실행문장2\")"
   ]
  },
  {
   "cell_type": "code",
   "execution_count": 5,
   "metadata": {},
   "outputs": [
    {
     "name": "stdout",
     "output_type": "stream",
     "text": [
      "실행문장2\n"
     ]
    }
   ],
   "source": [
    "if False:\n",
    "    print(\"실행문장1\")\n",
    "else:\n",
    "    print(\"실행문장2\")"
   ]
  },
  {
   "cell_type": "code",
   "execution_count": 10,
   "metadata": {},
   "outputs": [
    {
     "name": "stdout",
     "output_type": "stream",
     "text": [
      "가지고 있는 돈 9000\n",
      "버스를 탄다\n"
     ]
    }
   ],
   "source": [
    "money = int(input(\"가지고 있는 돈 \"))\n",
    "if money >= 10000:\n",
    "    print(\"택시를 탄다\")\n",
    "else:\n",
    "    print(\"버스를 탄다\")"
   ]
  },
  {
   "cell_type": "code",
   "execution_count": 11,
   "metadata": {},
   "outputs": [
    {
     "name": "stdout",
     "output_type": "stream",
     "text": [
      "정수 입력 >> 30\n",
      "3과 5의 배수입니다.\n"
     ]
    }
   ],
   "source": [
    "num = int(input(\"정수 입력 >> \"))\n",
    "if num%3==0 and num%5==0:\n",
    "    print(\"3과 5의 배수입니다.\")\n",
    "else:\n",
    "    print(\"3과 5의 배수가 아닙니다.\")"
   ]
  },
  {
   "cell_type": "code",
   "execution_count": 12,
   "metadata": {},
   "outputs": [
    {
     "name": "stdout",
     "output_type": "stream",
     "text": [
      "정수 입력 >> 7\n",
      "3과 5의 배수가 아닙니다.\n"
     ]
    }
   ],
   "source": [
    "num = int(input(\"정수 입력 >> \"))\n",
    "if num%3==0 and num%5==0:\n",
    "    print(\"3과 5의 배수입니다.\")\n",
    "else:\n",
    "    print(\"3과 5의 배수가 아닙니다.\")"
   ]
  },
  {
   "cell_type": "code",
   "execution_count": 13,
   "metadata": {},
   "outputs": [
    {
     "name": "stdout",
     "output_type": "stream",
     "text": [
      "정수 입력 >> 33\n",
      "3과 5의 배수가 아닙니다.\n"
     ]
    }
   ],
   "source": [
    "num = int(input(\"정수 입력 >> \"))\n",
    "if num%3==0 and num%5==0:\n",
    "    print(\"3과 5의 배수입니다.\")\n",
    "else:\n",
    "    print(\"3과 5의 배수가 아닙니다.\")"
   ]
  },
  {
   "cell_type": "code",
   "execution_count": 15,
   "metadata": {},
   "outputs": [
    {
     "name": "stdout",
     "output_type": "stream",
     "text": [
      "첫 번째 정수 입력 >> 7\n",
      "두 번째 정수 입력 >> 13\n",
      "두 번째 정수가 더 큽니다\n"
     ]
    }
   ],
   "source": [
    "# 변수 num1과 num2에 숫자를 입력받아 크기를 비교하시오\n",
    "num1 = int(input(\"첫 번째 정수 입력 >> \"))\n",
    "num2 = int(input(\"두 번째 정수 입력 >> \"))\n",
    "# 1이 2보다 크면 '첫번째 정수가 더 큽니다'\n",
    "if num1 > num2 :\n",
    "    print(\"첫 번째 정수가 더 큽니다\")\n",
    "# 1이 2보다 작으면 '두번째 정수가 더 큽니다'\n",
    "elif num1 < num2 :\n",
    "    print(\"두 번째 정수가 더 큽니다\")\n",
    "# 1과 2가 같으면 '두 수가 똑같습니다'\n",
    "# else :\n",
    "elif num1 == num2 :\n",
    "    print(\"두 수가 똑같습니다\")"
   ]
  },
  {
   "cell_type": "code",
   "execution_count": 24,
   "metadata": {},
   "outputs": [
    {
     "name": "stdout",
     "output_type": "stream",
     "text": [
      "점수 입력 >> 98\n",
      "98점은 A학점입니다.\n"
     ]
    }
   ],
   "source": [
    "score = int(input(\"점수 입력 >> \"))\n",
    "if 90 <= score <= 100 :\n",
    "    result = \"A\"\n",
    "elif score >= 80 :\n",
    "    result = \"B\"\n",
    "elif score >= 70 :\n",
    "    result = \"C\"\n",
    "elif score >= 60 :\n",
    "    result = \"D\"\n",
    "else :\n",
    "    result = \"F\"\n",
    "print(\"{}점은 {}학점입니다.\".format(score, result))"
   ]
  },
  {
   "cell_type": "code",
   "execution_count": 21,
   "metadata": {},
   "outputs": [
    {
     "name": "stdout",
     "output_type": "stream",
     "text": [
      "점수 입력 >> 70\n",
      "C\n"
     ]
    }
   ],
   "source": [
    "score = int(input(\"점수 입력 >> \"))\n",
    "if 90 <= score <= 100 :\n",
    "    print(\"A\")\n",
    "elif score >= 80 :\n",
    "    print(\"B\")\n",
    "elif score >= 70 :\n",
    "    print(\"C\")\n",
    "elif score >= 60 :\n",
    "else :\n",
    "    print(\"F\")"
   ]
  },
  {
   "cell_type": "code",
   "execution_count": 22,
   "metadata": {},
   "outputs": [
    {
     "name": "stdout",
     "output_type": "stream",
     "text": [
      "점수 입력 >> 36\n",
      "F\n"
     ]
    }
   ],
   "source": [
    "score = int(input(\"점수 입력 >> \"))\n",
    "if 90 <= score <= 100 :\n",
    "    print(\"A\")\n",
    "elif score >= 80 :\n",
    "    print(\"B\")\n",
    "elif score >= 70 :\n",
    "    print(\"C\")\n",
    "elif score >= 60 :\n",
    "else :\n",
    "    print(\"F\")"
   ]
  },
  {
   "cell_type": "code",
   "execution_count": 5,
   "metadata": {},
   "outputs": [
    {
     "name": "stdout",
     "output_type": "stream",
     "text": [
      "-----[SM Coffee]-----\n",
      "금액을 입력하세요 >> 1700\n",
      "커피를 고르세요.\n",
      "[1]에스프레소(300원) [2]아메리카노(1000원) [3]카페라떼(1300원) >> 2\n",
      "거스름돈 : 700원\n"
     ]
    }
   ],
   "source": [
    "print(\"-----[SM Coffee]-----\")\n",
    "money = int(input(\"금액을 입력하세요 >> \"))\n",
    "coffee = int(input(\"\"\"커피를 고르세요.\n",
    "[1]에스프레소(300원) [2]아메리카노(1000원) [3]카페라떼(1300원) >> \"\"\"))\n",
    "if coffee == 1 :\n",
    "    result = money - 600\n",
    "elif coffee == 2 :\n",
    "    result = money - 1000\n",
    "elif coffee == 3 :\n",
    "    result = money - 1300\n",
    "else:\n",
    "    result = \"금액이 부족합니다.\"\n",
    "print(\"거스름돈 : {}원\".format(result))"
   ]
  },
  {
   "cell_type": "code",
   "execution_count": 10,
   "metadata": {},
   "outputs": [
    {
     "name": "stdout",
     "output_type": "stream",
     "text": [
      "----- [SM Coffee] -----\n",
      "금액을 입력하세요 >> 1700\n",
      "커피를 고르세요.\n",
      "[1]에스프레소(300원) [2]아메리카노(1000원) [3]카페라떼(1300원) >> 2\n",
      "거스름돈 : 700원\n"
     ]
    }
   ],
   "source": [
    "print('-'*5,\"[SM Coffee]\",'-'*5)\n",
    "money = int(input(\"금액을 입력하세요 >> \"))\n",
    "print('커피를 고르세요.')\n",
    "coffe = int(input(\"[1]에스프레소(300원) [2]아메리카노(1000원) [3]카페라떼(1300원) >> \"))\n",
    "if coffee == 1:\n",
    "    result = money - 600\n",
    "elif coffee == 2:\n",
    "    result = money - 1000\n",
    "elif coffee == 3:\n",
    "    result = money - 1300\n",
    "else:\n",
    "    print(\"다시 선택하세요.\")\n",
    "    result = money\n",
    "print('거스름돈 : {}원'.format(result))"
   ]
  },
  {
   "cell_type": "code",
   "execution_count": 15,
   "metadata": {},
   "outputs": [
    {
     "name": "stdout",
     "output_type": "stream",
     "text": [
      "----- [SM Coffee] -----\n",
      "금액을 입력하세요 >> 1700\n",
      "커피를 고르세요.\n",
      "[1]에스프레소(600원) [2]아메리카노(1000원) [3]카페라떼(1300원) >> 2\n",
      "거스름돈 : 700원\n",
      "천원 : 0개\n",
      "오백원 : 1개\n",
      "백원 : 2개\n"
     ]
    }
   ],
   "source": [
    "print('-'*5,\"[SM Coffee]\",'-'*5)\n",
    "money = int(input(\"금액을 입력하세요 >> \"))\n",
    "print('커피를 고르세요.')\n",
    "coffee = int(input(\"[1]에스프레소(600원) [2]아메리카노(1000원) [3]카페라떼(1300원) >> \"))\n",
    "\n",
    "# 선택한 커피의 종류에 따라 거스름돈을 계산\n",
    "if coffee == 1:\n",
    "    result = money - 600\n",
    "elif coffee == 2:\n",
    "    result = money - 1000\n",
    "elif coffee == 3:\n",
    "    result = money - 1300\n",
    "else: \n",
    "    print(\"다시 선택하세요.\")\n",
    "    result = money\n",
    "\n",
    "# 거스름돈에 따라 어떻게 걸러줄 것인지라 어떻게 걸러줄 것인지\n",
    "if result < 0:\n",
    "    print(\"돈이 부족해요..T^T\")\n",
    "else:\n",
    "    print('거스름돈 : {}원'.format(result))\n",
    "    print('천원 : {}개'.format(result//1000))\n",
    "    print('오백원 : {}개'.format(result%1000//500))\n",
    "    print('백원 : {}개'.format(result%500//100))"
   ]
  },
  {
   "cell_type": "code",
   "execution_count": null,
   "metadata": {},
   "outputs": [],
   "source": []
  },
  {
   "cell_type": "code",
   "execution_count": null,
   "metadata": {},
   "outputs": [],
   "source": []
  },
  {
   "cell_type": "code",
   "execution_count": null,
   "metadata": {},
   "outputs": [],
   "source": []
  }
 ],
 "metadata": {
  "kernelspec": {
   "display_name": "Python 3",
   "language": "python",
   "name": "python3"
  },
  "language_info": {
   "codemirror_mode": {
    "name": "ipython",
    "version": 3
   },
   "file_extension": ".py",
   "mimetype": "text/x-python",
   "name": "python",
   "nbconvert_exporter": "python",
   "pygments_lexer": "ipython3",
   "version": "3.8.5"
  }
 },
 "nbformat": 4,
 "nbformat_minor": 4
}
