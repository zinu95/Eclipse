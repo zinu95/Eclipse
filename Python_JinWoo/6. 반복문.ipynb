{
 "cells": [
  {
   "cell_type": "code",
   "execution_count": 8,
   "metadata": {},
   "outputs": [
    {
     "name": "stdout",
     "output_type": "stream",
     "text": [
      "1\n",
      "2\n",
      "3\n"
     ]
    }
   ],
   "source": [
    "number = 1\n",
    "while number <= 3:\n",
    "    print(number)\n",
    "    number += 1"
   ]
  },
  {
   "cell_type": "code",
   "execution_count": 9,
   "metadata": {},
   "outputs": [
    {
     "name": "stdout",
     "output_type": "stream",
     "text": [
      "파이썬 최고!!\n",
      "파이썬 최고!!\n",
      "파이썬 최고!!\n",
      "파이썬 최고!!\n",
      "파이썬 최고!!\n",
      "파이썬 최고!!\n",
      "파이썬 최고!!\n",
      "파이썬 최고!!\n",
      "파이썬 최고!!\n",
      "파이썬 최고!!\n",
      "파이썬 최고!!\n",
      "파이썬 최고!!\n",
      "파이썬 최고!!\n"
     ]
    }
   ],
   "source": [
    "num = 0\n",
    "while num < 13 :\n",
    "    print(\"파이썬 최고!!\")\n",
    "    num += 1"
   ]
  },
  {
   "cell_type": "code",
   "execution_count": 10,
   "metadata": {},
   "outputs": [
    {
     "name": "stdout",
     "output_type": "stream",
     "text": [
      "1 번째 파이썬 최고!!\n",
      "2 번째 파이썬 최고!!\n",
      "3 번째 파이썬 최고!!\n",
      "4 번째 파이썬 최고!!\n",
      "5 번째 파이썬 최고!!\n",
      "6 번째 파이썬 최고!!\n",
      "7 번째 파이썬 최고!!\n",
      "8 번째 파이썬 최고!!\n",
      "9 번째 파이썬 최고!!\n",
      "10 번째 파이썬 최고!!\n",
      "11 번째 파이썬 최고!!\n",
      "12 번째 파이썬 최고!!\n",
      "13 번째 파이썬 최고!!\n"
     ]
    }
   ],
   "source": [
    "num = 1\n",
    "while num <= 13 :\n",
    "    print(\"{} 번째 파이썬 최고!!\".format(num))\n",
    "    num += 1"
   ]
  },
  {
   "cell_type": "code",
   "execution_count": 11,
   "metadata": {},
   "outputs": [
    {
     "name": "stdout",
     "output_type": "stream",
     "text": [
      "1\n",
      "2\n",
      "3\n"
     ]
    }
   ],
   "source": [
    "number = 1\n",
    "while True:\n",
    "    print(number)\n",
    "    number+=1\n",
    "    if number > 3:\n",
    "        break"
   ]
  },
  {
   "cell_type": "code",
   "execution_count": 12,
   "metadata": {},
   "outputs": [
    {
     "name": "stdout",
     "output_type": "stream",
     "text": [
      "첫 번째 정수 입력 >> 12\n",
      "두 번째 정수 입력 >> 30\n",
      "두 정수의 합 : 42\n",
      "첫 번째 정수 입력 >> 0\n",
      "두 번째 정수 입력 >> 0\n",
      "두 정수의 합 : 0\n",
      "프로그램이 종료되었습니다.\n"
     ]
    }
   ],
   "source": [
    "while True:\n",
    "    num1 = int(input(\"첫 번째 정수 입력 >> \"))\n",
    "    num2 = int(input(\"두 번째 정수 입력 >> \"))\n",
    "    print(\"두 정수의 합 : {}\".format(num1+num2))\n",
    "    if num1==0 and num2==0:\n",
    "        print(\"프로그램이 종료되었습니다.\")\n",
    "        break"
   ]
  },
  {
   "cell_type": "code",
   "execution_count": 13,
   "metadata": {},
   "outputs": [],
   "source": [
    "import random"
   ]
  },
  {
   "cell_type": "code",
   "execution_count": 14,
   "metadata": {},
   "outputs": [
    {
     "data": {
      "text/plain": [
       "5"
      ]
     },
     "execution_count": 14,
     "metadata": {},
     "output_type": "execute_result"
    }
   ],
   "source": [
    "# 내가 지정한 범위에서 랜덤한 정수를 출력\n",
    "random.randint(1, 10)"
   ]
  },
  {
   "cell_type": "code",
   "execution_count": 16,
   "metadata": {},
   "outputs": [
    {
     "name": "stdout",
     "output_type": "stream",
     "text": [
      "숫자를 입력하세요 >> 45\n",
      "45보다 작은 수입니다.\n",
      "숫자를 입력하세요 >> 5\n",
      "5보다 큰 수입니다.\n",
      "숫자를 입력하세요 >> 42\n",
      "42보다 작은 수입니다.\n",
      "숫자를 입력하세요 >> 30\n",
      "30보다 작은 수입니다.\n",
      "숫자를 입력하세요 >> 20\n",
      "20보다 작은 수입니다.\n",
      "숫자를 입력하세요 >> 10\n",
      "10보다 작은 수입니다.\n",
      "숫자를 입력하세요 >> 9\n",
      "9보다 작은 수입니다.\n",
      "숫자를 입력하세요 >> 8\n",
      "8보다 작은 수입니다.\n",
      "숫자를 입력하세요 >> 7\n",
      "7보다 작은 수입니다.\n",
      "숫자를 입력하세요 >> 6\n",
      "정답을 맞추셨습니다.\n"
     ]
    }
   ],
   "source": [
    "import random\n",
    "number = random.randint(1, 50)\n",
    "while True:\n",
    "    num = int(input(\"숫자를 입력하세요 >> \"))\n",
    "    if number > num:\n",
    "        print(\"{}보다 큰 수입니다.\".format(num))\n",
    "    elif number < num:\n",
    "        print(\"{}보다 작은 수입니다.\".format(num))\n",
    "    else:\n",
    "        print(\"정답을 맞추셨습니다.\")\n",
    "        break"
   ]
  },
  {
   "cell_type": "code",
   "execution_count": 1,
   "metadata": {},
   "outputs": [
    {
     "name": "stdout",
     "output_type": "stream",
     "text": [
      "현재몸무게 : 65\n",
      "목표몸무게 : 60\n",
      "1주차 감량 몸무게 : 1\n",
      "2주차 감량 몸무게 : 2\n",
      "3주차 감량 몸무게 : 1\n",
      "4주차 감량 몸무게 : 1\n",
      "60kg 달성 !! 축하합니다 !\n"
     ]
    }
   ],
   "source": [
    "now = int(input('현재몸무게 : '))\n",
    "wish = int(input('목표몸무게 : '))\n",
    "num = 1\n",
    "sum1 = 0\n",
    "while True: \n",
    "    minus = int(input(\"{}주차 감량 몸무게 : \".format(num)))\n",
    "    sum1 += minus\n",
    "    num += 1\n",
    "    if sum1 >= (now - wish):\n",
    "        print(\"{}kg 달성 !! 축하합니다 !\".format(now - sum1))\n",
    "        break"
   ]
  },
  {
   "cell_type": "code",
   "execution_count": 2,
   "metadata": {},
   "outputs": [
    {
     "name": "stdout",
     "output_type": "stream",
     "text": [
      "햄버거\n",
      "치킨\n",
      "피자\n"
     ]
    }
   ],
   "source": [
    "list_food = [\"햄버거\", \"치킨\", \"피자\"]\n",
    "for food in list_food:\n",
    "    print(food)"
   ]
  },
  {
   "cell_type": "code",
   "execution_count": 3,
   "metadata": {},
   "outputs": [
    {
     "name": "stdout",
     "output_type": "stream",
     "text": [
      "안\n",
      "녕\n",
      "하\n",
      "세\n",
      "요\n"
     ]
    }
   ],
   "source": [
    "hi = \"안녕하세요\"\n",
    "for s in hi:\n",
    "    print(s)"
   ]
  },
  {
   "cell_type": "code",
   "execution_count": 4,
   "metadata": {},
   "outputs": [
    {
     "name": "stdout",
     "output_type": "stream",
     "text": [
      "햄버거\n",
      "치킨\n",
      "피자\n"
     ]
    }
   ],
   "source": [
    "tuple_food = (\"햄버거\", \"치킨\", \"피자\")\n",
    "for food in tuple_food:\n",
    "    print(food)"
   ]
  },
  {
   "cell_type": "code",
   "execution_count": 10,
   "metadata": {},
   "outputs": [
    {
     "name": "stdout",
     "output_type": "stream",
     "text": [
      "1번 학생은 합격입니다.\n",
      "2번 학생은 불합격입니다.\n",
      "3번 학생은 합격입니다.\n",
      "4번 학생은 합격입니다.\n",
      "5번 학생은 불합격입니다.\n"
     ]
    }
   ],
   "source": [
    "score_list = [90, 45, 70, 60, 55]\n",
    "num = 1\n",
    "for score in score_list:\n",
    "    # num = score_list.index(score) + 1\n",
    "    if score >= 60:\n",
    "        result = \"합격\"\n",
    "    else:\n",
    "        result = \"불합격\"\n",
    "    print(\"{}번 학생은 {}입니다.\".format(num, result))\n",
    "    num += 1"
   ]
  },
  {
   "cell_type": "code",
   "execution_count": 12,
   "metadata": {},
   "outputs": [
    {
     "name": "stdout",
     "output_type": "stream",
     "text": [
      "1 2 3 4 5 6 7 8 9 "
     ]
    }
   ],
   "source": [
    "# 1부터 9까지 1씩 증가하는 숫자\n",
    "# 0부터 시작 : 기본값\n",
    "# 1씩 커짐 : 기본값\n",
    "for i in range(1, 10, 1):\n",
    "    print(i, end=\" \")"
   ]
  },
  {
   "cell_type": "code",
   "execution_count": 13,
   "metadata": {},
   "outputs": [
    {
     "name": "stdout",
     "output_type": "stream",
     "text": [
      "97 96 95 94 93 92 91 90 89 88 87 86 85 84 83 82 81 80 79 78 77 "
     ]
    }
   ],
   "source": [
    "for i in range(97,76,-1):\n",
    "    print(i, end=\" \")"
   ]
  },
  {
   "cell_type": "code",
   "execution_count": 15,
   "metadata": {},
   "outputs": [
    {
     "name": "stdout",
     "output_type": "stream",
     "text": [
      "23 24 25 26 27 28 29 30 31 32 33 34 35 36 37 38 39 "
     ]
    }
   ],
   "source": [
    "for i in range(23,40,):\n",
    "    print(i, end=\" \")"
   ]
  },
  {
   "cell_type": "code",
   "execution_count": 17,
   "metadata": {},
   "outputs": [
    {
     "name": "stdout",
     "output_type": "stream",
     "text": [
      "첫 번째 정수 입력 >> 10\n",
      "두번째 정수 입력 >> 30\n",
      "10 11 12 13 14 15 16 17 18 19 20 21 22 23 24 25 26 27 28 29 30 "
     ]
    }
   ],
   "source": [
    "# 두 개의 정수를 입력받아 첫 번째 정수부터 두 번째 정수까지 출력\n",
    "start = int(input(\"첫 번째 정수 입력 >> \"))\n",
    "end = int(input(\"두번째 정수 입력 >> \"))\n",
    "for i in range(start, end+1):\n",
    "    print(i, end=\" \")"
   ]
  },
  {
   "cell_type": "code",
   "execution_count": 25,
   "metadata": {},
   "outputs": [
    {
     "name": "stdout",
     "output_type": "stream",
     "text": [
      "1683\n"
     ]
    }
   ],
   "source": [
    "# 1부터 100사이의 숫자 중 3의 배수인 값들의 합 출력\n",
    "# 3으로 나눈 나머지가 0인 값들만 출력\n",
    "a=0 # << 값들의 합을 누적받을 변수\n",
    "for i in range(1, 101):\n",
    "    if i%3==0:\n",
    "        a+=i\n",
    "print(a)"
   ]
  },
  {
   "cell_type": "code",
   "execution_count": 28,
   "metadata": {},
   "outputs": [
    {
     "name": "stdout",
     "output_type": "stream",
     "text": [
      "1683\n"
     ]
    }
   ],
   "source": [
    "# range함수를 조절해서 3의 배수인 값만 출력\n",
    "a=0\n",
    "for i in range(3, 101, 3):\n",
    "    a += i\n",
    "print(a)"
   ]
  },
  {
   "cell_type": "code",
   "execution_count": 22,
   "metadata": {},
   "outputs": [
    {
     "name": "stdout",
     "output_type": "stream",
     "text": [
      "2 * 1 = 2\n",
      "2 * 2 = 4\n",
      "2 * 3 = 6\n",
      "2 * 4 = 8\n",
      "2 * 5 = 10\n",
      "2 * 6 = 12\n",
      "2 * 7 = 14\n",
      "2 * 8 = 16\n",
      "2 * 9 = 18\n"
     ]
    }
   ],
   "source": [
    "for i in range(1, 10):\n",
    "    print(\"2 * {} = {}\".format(i, i*2))"
   ]
  },
  {
   "cell_type": "code",
   "execution_count": 5,
   "metadata": {},
   "outputs": [
    {
     "name": "stdout",
     "output_type": "stream",
     "text": [
      "정수 입력 >> 32\n",
      "32의 약수 : 1 2 4 8 16 32 "
     ]
    }
   ],
   "source": [
    "# 약수 : 어떤 수를 나누어 떨어지게 하는 수\n",
    "num = int(input(\"정수 입력 >> \"))\n",
    "print(\"{}의 약수 :\".format(num), end=\" \")\n",
    "for i in range(1, num+1):\n",
    "    if num%i==0:\n",
    "        print(i, end=\" \")\n"
   ]
  },
  {
   "cell_type": "code",
   "execution_count": 4,
   "metadata": {},
   "outputs": [
    {
     "name": "stdout",
     "output_type": "stream",
     "text": [
      "==============================\n",
      "[1]시험점수 입력 [2]성적 확인 [3]종료 >> 1\n",
      "[1]시험점수 입력 [2]성적 확인 [3]종료 >> 2\n",
      "[1]시험점수 입력 [2]성적 확인 [3]종료 >> 3\n"
     ]
    }
   ],
   "source": [
    "print(\"=\"*30)\n",
    "while True:\n",
    "    select = int(input(\"[1]시험점수 입력 [2]성적 확인 [3]종료 >> \"))\n",
    "    if select== 3:\n",
    "        break"
   ]
  },
  {
   "cell_type": "code",
   "execution_count": 2,
   "metadata": {},
   "outputs": [
    {
     "name": "stdout",
     "output_type": "stream",
     "text": [
      "==============================\n",
      "[1]시험점수입력 [2]성적확인 [3]종료 >> 1\n",
      "이름 입력 : 김진우\n",
      "Java 점수 입력 : 90\n",
      "web 점수 입력 : 85\n",
      "[1]시험점수입력 [2]성적확인 [3]종료 >> 2\n",
      "이름\tJava\tWeb\tGrade\t\n",
      "------------------------------\n",
      "김진우\t90\t85\tB\n",
      "------------------------------\n",
      "[1]시험점수입력 [2]성적확인 [3]종료 >> 3\n",
      "==============================\n"
     ]
    }
   ],
   "source": [
    "print(\"=\"*30)\n",
    "# 2단계\n",
    "studentScore = []\n",
    "while True :\n",
    "    select = int(input(\"[1]시험점수입력 [2]성적확인 [3]종료 >> \"))\n",
    "    if select == 1:\n",
    "        # 3단계\n",
    "        name = input('이름 입력 : ')\n",
    "        javaScore = int(input(\"Java 점수 입력 : \"))\n",
    "        webScore = int(input(\"web 점수 입력 : \"))\n",
    "        studentScore.append([name,javaScore,webScore])\n",
    "    elif select == 2:\n",
    "        # 4단계\n",
    "        print('이름\\tJava\\tWeb\\tGrade\\t') # 이스케이프 코드 활용 'tab' = \\t\n",
    "        print(\"-\"*30)\n",
    "        for a,b,c in studentScore:\n",
    "            # for문 리스트활용 [name,javaScore, webScore]\n",
    "            # a : name\n",
    "            # b : javaScore\n",
    "            # c : webScore\n",
    "            mean = (b+c) / 2\n",
    "            if 100 >= mean >= 90 : \n",
    "                grade = 'A'\n",
    "            elif 90 > mean >= 80 :\n",
    "                grade = 'B'\n",
    "            elif 80 > mean >= 70 :\n",
    "                grade = 'C'\n",
    "            elif 70 > mean >= 60 :\n",
    "                grade = 'D'\n",
    "            else : \n",
    "                grade = 'F'\n",
    "            print(\"{}\\t{}\\t{}\\t{}\".format(a,b,c,grade))\n",
    "        print(\"-\"*30)\n",
    "    elif select == 3:\n",
    "        print(\"=\"*30)\n",
    "        break"
   ]
  },
  {
   "cell_type": "code",
   "execution_count": 7,
   "metadata": {},
   "outputs": [
    {
     "name": "stdout",
     "output_type": "stream",
     "text": [
      "[1, 2]\n",
      "[3, 4]\n",
      "[5, 6]\n",
      "1 2\n",
      "3 4\n",
      "5 6\n"
     ]
    }
   ],
   "source": [
    "list1 = [[1,2],[3,4],[5,6]]\n",
    "for i in list1:\n",
    "    print(i)\n",
    "for i,j in list1:\n",
    "    print(i,j)"
   ]
  },
  {
   "cell_type": "code",
   "execution_count": 3,
   "metadata": {},
   "outputs": [
    {
     "name": "stdout",
     "output_type": "stream",
     "text": [
      "==============================\n",
      "[1]시험점수입력 [2]성적확인 [3]종료 >> 1\n",
      "이름 입력 : 김단아\n",
      "Java 점수 입력 : 86\n",
      "Web 점수 입력 : 78\n",
      "[1]시험점수입력 [2]성적확인 [3]종료 >> 2\n",
      "이름\tJava\tWeb\tGrade\t\n",
      "------------------------------\n",
      "김단아\t86\t78\tB\t\n",
      "[1]시험점수입력 [2]성적확인 [3]종료 >> 3\n",
      "==============================\n"
     ]
    }
   ],
   "source": [
    "# 연습\n",
    "print('='*30)\n",
    "studentScore = []\n",
    "while True:\n",
    "    select = int(input(\"[1]시험점수입력 [2]성적확인 [3]종료 >> \"))\n",
    "    if select == 1:\n",
    "        name = input('이름 입력 : ')\n",
    "        JavaScore = int(input('Java 점수 입력 : '))\n",
    "        WebScore = int(input('Web 점수 입력 : '))\n",
    "        studentScore.append([name,JavaScore,WebScore])\n",
    "    if select == 2:\n",
    "        print('이름\\tJava\\tWeb\\tGrade\\t')\n",
    "        print('-'*30)\n",
    "        for a,b,c in studentScore:\n",
    "            result = (b+c)/2\n",
    "            if 100 >= result >= 90:\n",
    "                grade = 'A'\n",
    "            elif result >= 80:\n",
    "                grade = 'B'\n",
    "            elif result >= 70:\n",
    "                grade = 'C'\n",
    "            elif result >= 60:\n",
    "                grade = 'D'\n",
    "            else:\n",
    "                grade = 'F'\n",
    "            print(\"{}\\t{}\\t{}\\t{}\\t\".format(a,b,c,grade))\n",
    "    if select == 3:\n",
    "        print('='*30)\n",
    "        break"
   ]
  },
  {
   "cell_type": "code",
   "execution_count": null,
   "metadata": {},
   "outputs": [],
   "source": []
  },
  {
   "cell_type": "code",
   "execution_count": null,
   "metadata": {},
   "outputs": [],
   "source": []
  },
  {
   "cell_type": "code",
   "execution_count": null,
   "metadata": {},
   "outputs": [],
   "source": []
  }
 ],
 "metadata": {
  "kernelspec": {
   "display_name": "Python 3",
   "language": "python",
   "name": "python3"
  },
  "language_info": {
   "codemirror_mode": {
    "name": "ipython",
    "version": 3
   },
   "file_extension": ".py",
   "mimetype": "text/x-python",
   "name": "python",
   "nbconvert_exporter": "python",
   "pygments_lexer": "ipython3",
   "version": "3.8.5"
  }
 },
 "nbformat": 4,
 "nbformat_minor": 4
}
