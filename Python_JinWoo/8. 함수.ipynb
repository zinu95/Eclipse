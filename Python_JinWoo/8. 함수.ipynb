{
 "cells": [
  {
   "cell_type": "code",
   "execution_count": 4,
   "metadata": {},
   "outputs": [],
   "source": [
    "# 함수 만들기\n",
    "# 두 수를 더하는 함수\n",
    "def add(num1, num2) : # 함수 이름짓기\n",
    "    result = num1 + num2 # 함수 동작 시 실행할 문장\n",
    "    return result # 함수를 실행할 시 출력할 결과"
   ]
  },
  {
   "cell_type": "code",
   "execution_count": 6,
   "metadata": {},
   "outputs": [
    {
     "data": {
      "text/plain": [
       "7"
      ]
     },
     "execution_count": 6,
     "metadata": {},
     "output_type": "execute_result"
    }
   ],
   "source": [
    "add(3,4)"
   ]
  },
  {
   "cell_type": "code",
   "execution_count": 7,
   "metadata": {},
   "outputs": [],
   "source": [
    "# 두 수를 빼는 함수\n",
    "# minus\n",
    "def minus(num1, num2):\n",
    "    result=num1-num2\n",
    "    return result"
   ]
  },
  {
   "cell_type": "code",
   "execution_count": 8,
   "metadata": {},
   "outputs": [
    {
     "data": {
      "text/plain": [
       "5"
      ]
     },
     "execution_count": 8,
     "metadata": {},
     "output_type": "execute_result"
    }
   ],
   "source": [
    "minus(7,2)"
   ]
  },
  {
   "cell_type": "code",
   "execution_count": 22,
   "metadata": {},
   "outputs": [],
   "source": [
    "# 큰 수에서 작은 수를 빼는 함수\n",
    "def minus2(num1, num2):\n",
    "    if num1 > num2:\n",
    "        result = num1 - num2\n",
    "    else: # <- if의 반대 num2 > num1\n",
    "        result = num2 - num1\n",
    "    return result"
   ]
  },
  {
   "cell_type": "code",
   "execution_count": 27,
   "metadata": {},
   "outputs": [
    {
     "data": {
      "text/plain": [
       "5"
      ]
     },
     "execution_count": 27,
     "metadata": {},
     "output_type": "execute_result"
    }
   ],
   "source": [
    "minus2(2,7)"
   ]
  },
  {
   "cell_type": "code",
   "execution_count": 24,
   "metadata": {},
   "outputs": [],
   "source": [
    "def minus2(num1, num2):\n",
    "    if num1 > num2:\n",
    "        return num1 - num2\n",
    "    else: # <- if의 반대 num2 > num1\n",
    "        return num2 - num1"
   ]
  },
  {
   "cell_type": "code",
   "execution_count": 25,
   "metadata": {},
   "outputs": [
    {
     "data": {
      "text/plain": [
       "3"
      ]
     },
     "execution_count": 25,
     "metadata": {},
     "output_type": "execute_result"
    }
   ],
   "source": [
    "minus2(5,8)"
   ]
  },
  {
   "cell_type": "code",
   "execution_count": 29,
   "metadata": {},
   "outputs": [],
   "source": [
    "# 약수 출력\n",
    "# 굳이 result 말고 print도 가능\n",
    "def divisor(num):\n",
    "    for i in range(1,num+1):\n",
    "        if num%i==0: # 나누어 떨어졌는지 확인\n",
    "            print(i, end=\" \")"
   ]
  },
  {
   "cell_type": "code",
   "execution_count": 31,
   "metadata": {},
   "outputs": [
    {
     "name": "stdout",
     "output_type": "stream",
     "text": [
      "1 2 3 6 9 18 27 54 "
     ]
    }
   ],
   "source": [
    "divisor(54)"
   ]
  },
  {
   "cell_type": "code",
   "execution_count": 34,
   "metadata": {},
   "outputs": [],
   "source": [
    "# +와 -가 되는 계산기 만들기\n",
    "# 두 숫자와 기호를 입력\n",
    "# 첫 번째 방법\n",
    "def cal1(num1,num2,obj):\n",
    "    if obj == '+':\n",
    "        result = num1+num2\n",
    "    elif obj == '-':\n",
    "        result = num1-num2\n",
    "    return result"
   ]
  },
  {
   "cell_type": "code",
   "execution_count": 35,
   "metadata": {},
   "outputs": [
    {
     "data": {
      "text/plain": [
       "10"
      ]
     },
     "execution_count": 35,
     "metadata": {},
     "output_type": "execute_result"
    }
   ],
   "source": [
    "cal1(4,6,'+')"
   ]
  },
  {
   "cell_type": "code",
   "execution_count": 40,
   "metadata": {},
   "outputs": [],
   "source": [
    "# 두 번째 방법\n",
    "def cal2(): # 함수 안에서 변수를 입력받기 때문에 입력변수가 필요 없음\n",
    "    num1 = int(input(\"첫 번째 수 입력 >> \"))\n",
    "    obj = input(\"+, - 중 하나 입력 >> \")\n",
    "    num2 = int(input(\"두 번째 수 입력 >> \"))\n",
    "    if obj == '+':\n",
    "        return num1 + num2\n",
    "    elif obj == '-':\n",
    "        return num1 - num2"
   ]
  },
  {
   "cell_type": "code",
   "execution_count": 41,
   "metadata": {},
   "outputs": [
    {
     "name": "stdout",
     "output_type": "stream",
     "text": [
      "첫 번째 수 입력 >> 5\n",
      "+, - 중 하나 입력 >> -\n",
      "두 번째 수 입력 >> 10\n"
     ]
    },
    {
     "data": {
      "text/plain": [
       "-5"
      ]
     },
     "execution_count": 41,
     "metadata": {},
     "output_type": "execute_result"
    }
   ],
   "source": [
    "cal2()"
   ]
  },
  {
   "cell_type": "code",
   "execution_count": null,
   "metadata": {},
   "outputs": [],
   "source": []
  }
 ],
 "metadata": {
  "kernelspec": {
   "display_name": "Python 3",
   "language": "python",
   "name": "python3"
  },
  "language_info": {
   "codemirror_mode": {
    "name": "ipython",
    "version": 3
   },
   "file_extension": ".py",
   "mimetype": "text/x-python",
   "name": "python",
   "nbconvert_exporter": "python",
   "pygments_lexer": "ipython3",
   "version": "3.8.5"
  }
 },
 "nbformat": 4,
 "nbformat_minor": 4
}
