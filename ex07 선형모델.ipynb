{
 "cells": [
  {
   "cell_type": "code",
   "execution_count": 1,
   "metadata": {},
   "outputs": [],
   "source": [
    "import numpy as np\n",
    "import pandas as pd\n",
    "import matplotlib.pyplot as plt"
   ]
  },
  {
   "cell_type": "markdown",
   "metadata": {},
   "source": [
    "### 성적 데이터 생성"
   ]
  },
  {
   "cell_type": "code",
   "execution_count": 2,
   "metadata": {},
   "outputs": [
    {
     "data": {
      "text/html": [
       "<div>\n",
       "<style scoped>\n",
       "    .dataframe tbody tr th:only-of-type {\n",
       "        vertical-align: middle;\n",
       "    }\n",
       "\n",
       "    .dataframe tbody tr th {\n",
       "        vertical-align: top;\n",
       "    }\n",
       "\n",
       "    .dataframe thead th {\n",
       "        text-align: right;\n",
       "    }\n",
       "</style>\n",
       "<table border=\"1\" class=\"dataframe\">\n",
       "  <thead>\n",
       "    <tr style=\"text-align: right;\">\n",
       "      <th></th>\n",
       "      <th>시간</th>\n",
       "      <th>성적</th>\n",
       "    </tr>\n",
       "  </thead>\n",
       "  <tbody>\n",
       "    <tr>\n",
       "      <th>0</th>\n",
       "      <td>2</td>\n",
       "      <td>20</td>\n",
       "    </tr>\n",
       "    <tr>\n",
       "      <th>1</th>\n",
       "      <td>4</td>\n",
       "      <td>40</td>\n",
       "    </tr>\n",
       "    <tr>\n",
       "      <th>2</th>\n",
       "      <td>8</td>\n",
       "      <td>80</td>\n",
       "    </tr>\n",
       "    <tr>\n",
       "      <th>3</th>\n",
       "      <td>9</td>\n",
       "      <td>90</td>\n",
       "    </tr>\n",
       "  </tbody>\n",
       "</table>\n",
       "</div>"
      ],
      "text/plain": [
       "   시간  성적\n",
       "0   2  20\n",
       "1   4  40\n",
       "2   8  80\n",
       "3   9  90"
      ]
     },
     "execution_count": 2,
     "metadata": {},
     "output_type": "execute_result"
    }
   ],
   "source": [
    "data = pd.DataFrame([[2,20],[4,40],[8,80],[9,90]],\n",
    "                   columns = ['시간','성적'])\n",
    "data"
   ]
  },
  {
   "cell_type": "markdown",
   "metadata": {},
   "source": [
    "### 1. 수학 공식을 이용한 해석적 모델\n",
    "- LinearRegression"
   ]
  },
  {
   "cell_type": "code",
   "execution_count": 3,
   "metadata": {},
   "outputs": [],
   "source": [
    "# LinearRegression 모델 받아오기\n",
    "from sklearn.linear_model import LinearRegression\n",
    "linear = LinearRegression()"
   ]
  },
  {
   "cell_type": "code",
   "execution_count": 6,
   "metadata": {},
   "outputs": [
    {
     "data": {
      "text/plain": [
       "LinearRegression()"
      ]
     },
     "execution_count": 6,
     "metadata": {},
     "output_type": "execute_result"
    }
   ],
   "source": [
    "# X(문제) -> 시간(2차원) : 행렬벡터로 이루어짐(행렬백터 자체가 2차원데이터) -> 대괄호 2개 씌어줘야 함\n",
    "# y(정답) -> 성적(1차원)\n",
    "linear.fit(data[['시간']], data['성적'])\n",
    "# 입력특성(데이터)에 대해서 데이터들을 모두 반영한 예측함수를 만듦"
   ]
  },
  {
   "cell_type": "code",
   "execution_count": 8,
   "metadata": {},
   "outputs": [
    {
     "name": "stdout",
     "output_type": "stream",
     "text": [
      "가중치 :  [10.]\n",
      "절편 :  7.105427357601002e-15\n"
     ]
    }
   ],
   "source": [
    "print('가중치 : ', linear.coef_)\n",
    "print('절편 : ', linear.intercept_)"
   ]
  },
  {
   "cell_type": "code",
   "execution_count": 9,
   "metadata": {},
   "outputs": [
    {
     "data": {
      "text/plain": [
       "array([70.])"
      ]
     },
     "execution_count": 9,
     "metadata": {},
     "output_type": "execute_result"
    }
   ],
   "source": [
    "# 7시간 공부했을 때의 점수는?\n",
    "# 문제이기 때문에 2차원으로\n",
    "linear.predict([[7]])"
   ]
  },
  {
   "cell_type": "markdown",
   "metadata": {},
   "source": [
    "### 2. 경사하강법\n",
    "- 가중치(w)변화에 따른 비용함수(평균제곱오차 : MSE)값의 변화 그래프"
   ]
  },
  {
   "cell_type": "markdown",
   "metadata": {},
   "source": [
    "### H(x)\n",
    "- 예측함수\n",
    "- y = wx + 0"
   ]
  },
  {
   "cell_type": "code",
   "execution_count": 11,
   "metadata": {},
   "outputs": [],
   "source": [
    "def h(w, x):\n",
    "    # w : 가중치\n",
    "    # x : 데이터\n",
    "    return w * x + 0"
   ]
  },
  {
   "cell_type": "markdown",
   "metadata": {},
   "source": [
    "### 비용함수(cost function)\n",
    "- 평균제곱오차(MSE)"
   ]
  },
  {
   "cell_type": "code",
   "execution_count": 13,
   "metadata": {},
   "outputs": [],
   "source": [
    "def cost(data, target, weight):\n",
    "    # data -> 문제\n",
    "    # target -> 정답\n",
    "    # weight -> 가중치\n",
    "    y_pre = h(weight, data)\n",
    "    # 예측함수에 가중치와 문제를 넣음 -> 예측값을 출력\n",
    "    # 예측값 - 실제값 = 오차\n",
    "    # y_pre - target = 오차\n",
    "    # ** 2 : 제곱\n",
    "    # .mean() : 평균\n",
    "    return ((y_pre - target) ** 2).mean()"
   ]
  },
  {
   "cell_type": "code",
   "execution_count": 14,
   "metadata": {},
   "outputs": [
    {
     "data": {
      "text/plain": [
       "0.0"
      ]
     },
     "execution_count": 14,
     "metadata": {},
     "output_type": "execute_result"
    }
   ],
   "source": [
    "# 비용함수 -> 평균제곱오차\n",
    "# 평균제곱오차값이 0에 가까울 수록 예측을 잘한 함수\n",
    "cost(data['시간'], data['성적'], 10)"
   ]
  },
  {
   "cell_type": "code",
   "execution_count": 15,
   "metadata": {},
   "outputs": [
    {
     "data": {
      "text/plain": [
       "165.0"
      ]
     },
     "execution_count": 15,
     "metadata": {},
     "output_type": "execute_result"
    }
   ],
   "source": [
    "cost(data['시간'], data['성적'], 12)"
   ]
  },
  {
   "cell_type": "code",
   "execution_count": 20,
   "metadata": {},
   "outputs": [
    {
     "data": {
      "image/png": "[encoded data removed]",
      "text/plain": [
       "<Figure size 432x288 with 1 Axes>"
      ]
     },
     "metadata": {
      "needs_background": "light"
     },
     "output_type": "display_data"
    }
   ],
   "source": [
    "# 그래프 그릴 가중치 범위 (-10 ~ 30)\n",
    "weight_arr = range(-10, 31)\n",
    "\n",
    "\n",
    "# 비용함수(MSE)값을 담을 리스트 생성\n",
    "cost_list = []\n",
    "for w in weight_arr:\n",
    "    c = cost(data['시간'], data['성적'], w)\n",
    "    cost_list.append(c)\n",
    "    \n",
    "# 그래프 그리기\n",
    "plt.plot(weight_arr, cost_list)\n",
    "plt.show()"
   ]
  },
  {
   "cell_type": "markdown",
   "metadata": {},
   "source": [
    "- SGDRegressor\n",
    "- 경사하강법을 사용"
   ]
  },
  {
   "cell_type": "code",
   "execution_count": 21,
   "metadata": {},
   "outputs": [],
   "source": [
    "from sklearn.linear_model import SGDRegressor\n",
    "sgd = SGDRegressor(\n",
    "        max_iter = 1000, # 가중치 업데이트\n",
    "        eta0 = 0.01, # 학습률\n",
    "        verbose = 1 # 학습과정확인\n",
    "        )"
   ]
  },
  {
   "cell_type": "code",
   "execution_count": 26,
   "metadata": {},
   "outputs": [
    {
     "name": "stdout",
     "output_type": "stream",
     "text": [
      "-- Epoch 1\n",
      "Norm: 8.17, NNZs: 1, Bias: 1.261105, T: 4, Avg. loss: 999.488998\n",
      "Total training time: 0.00 seconds.\n",
      "-- Epoch 2\n",
      "Norm: 9.37, NNZs: 1, Bias: 1.436658, T: 8, Avg. loss: 31.095164\n",
      "Total training time: 0.00 seconds.\n",
      "-- Epoch 3\n",
      "Norm: 9.67, NNZs: 1, Bias: 1.473184, T: 12, Avg. loss: 2.542369\n",
      "Total training time: 0.00 seconds.\n",
      "-- Epoch 4\n",
      "Norm: 9.76, NNZs: 1, Bias: 1.480341, T: 16, Avg. loss: 0.441904\n",
      "Total training time: 0.00 seconds.\n",
      "-- Epoch 5\n",
      "Norm: 9.79, NNZs: 1, Bias: 1.478514, T: 20, Avg. loss: 0.255354\n",
      "Total training time: 0.00 seconds.\n",
      "-- Epoch 6\n",
      "Norm: 9.80, NNZs: 1, Bias: 1.474741, T: 24, Avg. loss: 0.230906\n",
      "Total training time: 0.00 seconds.\n",
      "-- Epoch 7\n",
      "Norm: 9.81, NNZs: 1, Bias: 1.469803, T: 28, Avg. loss: 0.230174\n",
      "Total training time: 0.00 seconds.\n",
      "-- Epoch 8\n",
      "Norm: 9.81, NNZs: 1, Bias: 1.465122, T: 32, Avg. loss: 0.226308\n",
      "Total training time: 0.00 seconds.\n",
      "-- Epoch 9\n",
      "Norm: 9.81, NNZs: 1, Bias: 1.460114, T: 36, Avg. loss: 0.226601\n",
      "Total training time: 0.00 seconds.\n",
      "-- Epoch 10\n",
      "Norm: 9.81, NNZs: 1, Bias: 1.455552, T: 40, Avg. loss: 0.223047\n",
      "Total training time: 0.00 seconds.\n",
      "-- Epoch 11\n",
      "Norm: 9.81, NNZs: 1, Bias: 1.450784, T: 44, Avg. loss: 0.223039\n",
      "Total training time: 0.00 seconds.\n",
      "-- Epoch 12\n",
      "Norm: 9.81, NNZs: 1, Bias: 1.446436, T: 48, Avg. loss: 0.219779\n",
      "Total training time: 0.00 seconds.\n",
      "-- Epoch 13\n",
      "Norm: 9.81, NNZs: 1, Bias: 1.441907, T: 52, Avg. loss: 0.219687\n",
      "Total training time: 0.00 seconds.\n",
      "-- Epoch 14\n",
      "Norm: 9.81, NNZs: 1, Bias: 1.437753, T: 56, Avg. loss: 0.216709\n",
      "Total training time: 0.00 seconds.\n",
      "-- Epoch 15\n",
      "Norm: 9.81, NNZs: 1, Bias: 1.433427, T: 60, Avg. loss: 0.216584\n",
      "Total training time: 0.00 seconds.\n",
      "-- Epoch 16\n",
      "Norm: 9.81, NNZs: 1, Bias: 1.429439, T: 64, Avg. loss: 0.213838\n",
      "Total training time: 0.00 seconds.\n",
      "-- Epoch 17\n",
      "Norm: 9.81, NNZs: 1, Bias: 1.425287, T: 68, Avg. loss: 0.213692\n",
      "Total training time: 0.00 seconds.\n",
      "-- Epoch 18\n",
      "Norm: 9.81, NNZs: 1, Bias: 1.421443, T: 72, Avg. loss: 0.211137\n",
      "Total training time: 0.00 seconds.\n",
      "-- Epoch 19\n",
      "Norm: 9.81, NNZs: 1, Bias: 1.417440, T: 76, Avg. loss: 0.210975\n",
      "Total training time: 0.00 seconds.\n",
      "-- Epoch 20\n",
      "Norm: 9.81, NNZs: 1, Bias: 1.413720, T: 80, Avg. loss: 0.208577\n",
      "Total training time: 0.00 seconds.\n",
      "-- Epoch 21\n",
      "Norm: 9.81, NNZs: 1, Bias: 1.409848, T: 84, Avg. loss: 0.208402\n",
      "Total training time: 0.00 seconds.\n",
      "-- Epoch 22\n",
      "Norm: 9.81, NNZs: 1, Bias: 1.406239, T: 88, Avg. loss: 0.206139\n",
      "Total training time: 0.00 seconds.\n",
      "-- Epoch 23\n",
      "Norm: 9.81, NNZs: 1, Bias: 1.402483, T: 92, Avg. loss: 0.205953\n",
      "Total training time: 0.00 seconds.\n",
      "-- Epoch 24\n",
      "Norm: 9.81, NNZs: 1, Bias: 1.398972, T: 96, Avg. loss: 0.203806\n",
      "Total training time: 0.00 seconds.\n",
      "-- Epoch 25\n",
      "Norm: 9.81, NNZs: 1, Bias: 1.395320, T: 100, Avg. loss: 0.203611\n",
      "Total training time: 0.00 seconds.\n",
      "-- Epoch 26\n",
      "Norm: 9.82, NNZs: 1, Bias: 1.391899, T: 104, Avg. loss: 0.201565\n",
      "Total training time: 0.00 seconds.\n",
      "-- Epoch 27\n",
      "Norm: 9.82, NNZs: 1, Bias: 1.388340, T: 108, Avg. loss: 0.201362\n",
      "Total training time: 0.00 seconds.\n",
      "-- Epoch 28\n",
      "Norm: 9.82, NNZs: 1, Bias: 1.385001, T: 112, Avg. loss: 0.199405\n",
      "Total training time: 0.00 seconds.\n",
      "-- Epoch 29\n",
      "Norm: 9.82, NNZs: 1, Bias: 1.381528, T: 116, Avg. loss: 0.199196\n",
      "Total training time: 0.00 seconds.\n",
      "-- Epoch 30\n",
      "Norm: 9.82, NNZs: 1, Bias: 1.378263, T: 120, Avg. loss: 0.197319\n",
      "Total training time: 0.00 seconds.\n",
      "-- Epoch 31\n",
      "Norm: 9.82, NNZs: 1, Bias: 1.374869, T: 124, Avg. loss: 0.197104\n",
      "Total training time: 0.00 seconds.\n",
      "-- Epoch 32\n",
      "Norm: 9.82, NNZs: 1, Bias: 1.371673, T: 128, Avg. loss: 0.195299\n",
      "Total training time: 0.00 seconds.\n",
      "-- Epoch 33\n",
      "Norm: 9.82, NNZs: 1, Bias: 1.368353, T: 132, Avg. loss: 0.195080\n",
      "Total training time: 0.00 seconds.\n",
      "-- Epoch 34\n",
      "Norm: 9.82, NNZs: 1, Bias: 1.365221, T: 136, Avg. loss: 0.193340\n",
      "Total training time: 0.00 seconds.\n",
      "-- Epoch 35\n",
      "Norm: 9.82, NNZs: 1, Bias: 1.361968, T: 140, Avg. loss: 0.193117\n",
      "Total training time: 0.00 seconds.\n",
      "-- Epoch 36\n",
      "Norm: 9.82, NNZs: 1, Bias: 1.358895, T: 144, Avg. loss: 0.191437\n",
      "Total training time: 0.00 seconds.\n",
      "-- Epoch 37\n",
      "Norm: 9.82, NNZs: 1, Bias: 1.355705, T: 148, Avg. loss: 0.191210\n",
      "Total training time: 0.00 seconds.\n",
      "-- Epoch 38\n",
      "Norm: 9.82, NNZs: 1, Bias: 1.352689, T: 152, Avg. loss: 0.189585\n",
      "Total training time: 0.00 seconds.\n",
      "-- Epoch 39\n",
      "Norm: 9.82, NNZs: 1, Bias: 1.349559, T: 156, Avg. loss: 0.189356\n",
      "Total training time: 0.00 seconds.\n",
      "-- Epoch 40\n",
      "Norm: 9.82, NNZs: 1, Bias: 1.346595, T: 160, Avg. loss: 0.187782\n",
      "Total training time: 0.00 seconds.\n",
      "-- Epoch 41\n",
      "Norm: 9.82, NNZs: 1, Bias: 1.343520, T: 164, Avg. loss: 0.187550\n",
      "Total training time: 0.00 seconds.\n",
      "-- Epoch 42\n",
      "Norm: 9.82, NNZs: 1, Bias: 1.340606, T: 168, Avg. loss: 0.186023\n",
      "Total training time: 0.00 seconds.\n",
      "-- Epoch 43\n",
      "Norm: 9.82, NNZs: 1, Bias: 1.337583, T: 172, Avg. loss: 0.185790\n",
      "Total training time: 0.00 seconds.\n",
      "-- Epoch 44\n",
      "Norm: 9.82, NNZs: 1, Bias: 1.334716, T: 176, Avg. loss: 0.184305\n",
      "Total training time: 0.00 seconds.\n",
      "-- Epoch 45\n",
      "Norm: 9.82, NNZs: 1, Bias: 1.331743, T: 180, Avg. loss: 0.184071\n",
      "Total training time: 0.00 seconds.\n",
      "-- Epoch 46\n",
      "Norm: 9.82, NNZs: 1, Bias: 1.328921, T: 184, Avg. loss: 0.182628\n",
      "Total training time: 0.00 seconds.\n",
      "-- Epoch 47\n",
      "Norm: 9.82, NNZs: 1, Bias: 1.325995, T: 188, Avg. loss: 0.182392\n",
      "Total training time: 0.00 seconds.\n",
      "-- Epoch 48\n",
      "Norm: 9.82, NNZs: 1, Bias: 1.323215, T: 192, Avg. loss: 0.180987\n",
      "Total training time: 0.00 seconds.\n",
      "-- Epoch 49\n",
      "Norm: 9.82, NNZs: 1, Bias: 1.320333, T: 196, Avg. loss: 0.180750\n",
      "Total training time: 0.00 seconds.\n",
      "-- Epoch 50\n",
      "Norm: 9.82, NNZs: 1, Bias: 1.317594, T: 200, Avg. loss: 0.179381\n",
      "Total training time: 0.00 seconds.\n",
      "-- Epoch 51\n",
      "Norm: 9.82, NNZs: 1, Bias: 1.314755, T: 204, Avg. loss: 0.179144\n",
      "Total training time: 0.00 seconds.\n",
      "-- Epoch 52\n",
      "Norm: 9.82, NNZs: 1, Bias: 1.312054, T: 208, Avg. loss: 0.177808\n",
      "Total training time: 0.00 seconds.\n",
      "-- Epoch 53\n",
      "Norm: 9.82, NNZs: 1, Bias: 1.309256, T: 212, Avg. loss: 0.177571\n",
      "Total training time: 0.00 seconds.\n",
      "-- Epoch 54\n",
      "Norm: 9.83, NNZs: 1, Bias: 1.306592, T: 216, Avg. loss: 0.176267\n",
      "Total training time: 0.00 seconds.\n",
      "-- Epoch 55\n",
      "Norm: 9.83, NNZs: 1, Bias: 1.303832, T: 220, Avg. loss: 0.176029\n",
      "Total training time: 0.00 seconds.\n",
      "-- Epoch 56\n",
      "Norm: 9.83, NNZs: 1, Bias: 1.301204, T: 224, Avg. loss: 0.174756\n",
      "Total training time: 0.00 seconds.\n",
      "-- Epoch 57\n",
      "Norm: 9.83, NNZs: 1, Bias: 1.298482, T: 228, Avg. loss: 0.174518\n",
      "Total training time: 0.00 seconds.\n",
      "-- Epoch 58\n",
      "Norm: 9.83, NNZs: 1, Bias: 1.295887, T: 232, Avg. loss: 0.173274\n",
      "Total training time: 0.00 seconds.\n",
      "-- Epoch 59\n",
      "Norm: 9.83, NNZs: 1, Bias: 1.293201, T: 236, Avg. loss: 0.173036\n",
      "Total training time: 0.00 seconds.\n",
      "-- Epoch 60\n",
      "Norm: 9.83, NNZs: 1, Bias: 1.290638, T: 240, Avg. loss: 0.171819\n",
      "Total training time: 0.00 seconds.\n",
      "-- Epoch 61\n",
      "Norm: 9.83, NNZs: 1, Bias: 1.287987, T: 244, Avg. loss: 0.171581\n",
      "Total training time: 0.00 seconds.\n",
      "-- Epoch 62\n",
      "Norm: 9.83, NNZs: 1, Bias: 1.285456, T: 248, Avg. loss: 0.170390\n",
      "Total training time: 0.00 seconds.\n",
      "-- Epoch 63\n",
      "Norm: 9.83, NNZs: 1, Bias: 1.282837, T: 252, Avg. loss: 0.170153\n",
      "Total training time: 0.00 seconds.\n",
      "-- Epoch 64\n",
      "Norm: 9.83, NNZs: 1, Bias: 1.280336, T: 256, Avg. loss: 0.168987\n",
      "Total training time: 0.00 seconds.\n",
      "-- Epoch 65\n",
      "Norm: 9.83, NNZs: 1, Bias: 1.277749, T: 260, Avg. loss: 0.168749\n",
      "Total training time: 0.00 seconds.\n",
      "-- Epoch 66\n",
      "Norm: 9.83, NNZs: 1, Bias: 1.275278, T: 264, Avg. loss: 0.167607\n",
      "Total training time: 0.00 seconds.\n",
      "-- Epoch 67\n",
      "Norm: 9.83, NNZs: 1, Bias: 1.272722, T: 268, Avg. loss: 0.167370\n",
      "Total training time: 0.00 seconds.\n",
      "-- Epoch 68\n",
      "Norm: 9.83, NNZs: 1, Bias: 1.270279, T: 272, Avg. loss: 0.166250\n",
      "Total training time: 0.00 seconds.\n",
      "-- Epoch 69\n",
      "Norm: 9.83, NNZs: 1, Bias: 1.267752, T: 276, Avg. loss: 0.166014\n",
      "Total training time: 0.00 seconds.\n",
      "-- Epoch 70\n",
      "Norm: 9.83, NNZs: 1, Bias: 1.265336, T: 280, Avg. loss: 0.164916\n",
      "Total training time: 0.00 seconds.\n",
      "-- Epoch 71\n",
      "Norm: 9.83, NNZs: 1, Bias: 1.262839, T: 284, Avg. loss: 0.164681\n",
      "Total training time: 0.00 seconds.\n",
      "-- Epoch 72\n",
      "Norm: 9.83, NNZs: 1, Bias: 1.260449, T: 288, Avg. loss: 0.163604\n",
      "Total training time: 0.00 seconds.\n",
      "-- Epoch 73\n",
      "Norm: 9.83, NNZs: 1, Bias: 1.257979, T: 292, Avg. loss: 0.163369\n",
      "Total training time: 0.00 seconds.\n",
      "-- Epoch 74\n",
      "Norm: 9.83, NNZs: 1, Bias: 1.255615, T: 296, Avg. loss: 0.162312\n",
      "Total training time: 0.00 seconds.\n",
      "-- Epoch 75\n",
      "Norm: 9.83, NNZs: 1, Bias: 1.253172, T: 300, Avg. loss: 0.162078\n",
      "Total training time: 0.00 seconds.\n",
      "-- Epoch 76\n",
      "Norm: 9.83, NNZs: 1, Bias: 1.250833, T: 304, Avg. loss: 0.161040\n",
      "Total training time: 0.00 seconds.\n",
      "-- Epoch 77\n",
      "Norm: 9.83, NNZs: 1, Bias: 1.248416, T: 308, Avg. loss: 0.160807\n",
      "Total training time: 0.00 seconds.\n",
      "-- Epoch 78\n",
      "Norm: 9.83, NNZs: 1, Bias: 1.246101, T: 312, Avg. loss: 0.159788\n",
      "Total training time: 0.00 seconds.\n",
      "-- Epoch 79\n",
      "Norm: 9.83, NNZs: 1, Bias: 1.243710, T: 316, Avg. loss: 0.159556\n",
      "Total training time: 0.00 seconds.\n",
      "-- Epoch 80\n",
      "Norm: 9.83, NNZs: 1, Bias: 1.241418, T: 320, Avg. loss: 0.158554\n",
      "Total training time: 0.00 seconds.\n",
      "-- Epoch 81\n",
      "Norm: 9.83, NNZs: 1, Bias: 1.239051, T: 324, Avg. loss: 0.158323\n",
      "Total training time: 0.00 seconds.\n",
      "-- Epoch 82\n",
      "Norm: 9.83, NNZs: 1, Bias: 1.236782, T: 328, Avg. loss: 0.157338\n",
      "Total training time: 0.00 seconds.\n",
      "-- Epoch 83\n",
      "Norm: 9.83, NNZs: 1, Bias: 1.234439, T: 332, Avg. loss: 0.157108\n",
      "Total training time: 0.00 seconds.\n",
      "-- Epoch 84\n",
      "Norm: 9.83, NNZs: 1, Bias: 1.232192, T: 336, Avg. loss: 0.156140\n",
      "Total training time: 0.00 seconds.\n",
      "-- Epoch 85\n",
      "Norm: 9.83, NNZs: 1, Bias: 1.229872, T: 340, Avg. loss: 0.155911\n",
      "Total training time: 0.00 seconds.\n",
      "Convergence after 85 epochs took 0.00 seconds\n"
     ]
    },
    {
     "data": {
      "text/plain": [
       "SGDRegressor(verbose=1)"
      ]
     },
     "execution_count": 26,
     "metadata": {},
     "output_type": "execute_result"
    }
   ],
   "source": [
    "sgd.fit(data[['시간']], data['성적'])"
   ]
  },
  {
   "cell_type": "code",
   "execution_count": 27,
   "metadata": {},
   "outputs": [
    {
     "name": "stdout",
     "output_type": "stream",
     "text": [
      "가중치 :  [9.8343665]\n",
      "절편 :  [1.22987217]\n"
     ]
    }
   ],
   "source": [
    "print('가중치 : ', sgd.coef_)\n",
    "print('절편 : ', sgd.intercept_)"
   ]
  },
  {
   "cell_type": "code",
   "execution_count": null,
   "metadata": {},
   "outputs": [],
   "source": []
  },
  {
   "cell_type": "code",
   "execution_count": null,
   "metadata": {},
   "outputs": [],
   "source": []
  },
  {
   "cell_type": "code",
   "execution_count": null,
   "metadata": {},
   "outputs": [],
   "source": []
  },
  {
   "cell_type": "code",
   "execution_count": null,
   "metadata": {},
   "outputs": [],
   "source": []
  },
  {
   "cell_type": "code",
   "execution_count": null,
   "metadata": {},
   "outputs": [],
   "source": []
  },
  {
   "cell_type": "code",
   "execution_count": null,
   "metadata": {},
   "outputs": [],
   "source": []
  },
  {
   "cell_type": "code",
   "execution_count": null,
   "metadata": {},
   "outputs": [],
   "source": []
  }
 ],
 "metadata": {
  "kernelspec": {
   "display_name": "Python 3",
   "language": "python",
   "name": "python3"
  },
  "language_info": {
   "codemirror_mode": {
    "name": "ipython",
    "version": 3
   },
   "file_extension": ".py",
   "mimetype": "text/x-python",
   "name": "python",
   "nbconvert_exporter": "python",
   "pygments_lexer": "ipython3",
   "version": "3.8.5"
  }
 },
 "nbformat": 4,
 "nbformat_minor": 4
}
