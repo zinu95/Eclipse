{
 "cells": [
  {
   "cell_type": "markdown",
   "metadata": {},
   "source": [
    "### Question1"
   ]
  },
  {
   "cell_type": "code",
   "execution_count": 1,
   "metadata": {},
   "outputs": [
    {
     "name": "stdout",
     "output_type": "stream",
     "text": [
      "고양이\n",
      "4\n"
     ]
    }
   ],
   "source": [
    "info = \"고양이의 다리는 4개입니다.\"\n",
    "name = info[:3]\n",
    "leg = info[9]\n",
    "print(name)\n",
    "print(leg)"
   ]
  },
  {
   "cell_type": "markdown",
   "metadata": {},
   "source": [
    "### Question2"
   ]
  },
  {
   "cell_type": "code",
   "execution_count": 7,
   "metadata": {},
   "outputs": [
    {
     "name": "stdout",
     "output_type": "stream",
     "text": [
      "사과의 개수 >> 21\n",
      "한 상자에 담을 사과의 수 >>  4\n",
      "필요한 상자의 수는 5입니다.\n"
     ]
    }
   ],
   "source": [
    "apple = int(input(\"사과의 개수 >> \"))\n",
    "box = 4\n",
    "result = int(apple/box)\n",
    "print(\"한 상자에 담을 사과의 수 >> \", box)\n",
    "print(\"필요한 상자의 수는 {}입니다.\".format(result))"
   ]
  },
  {
   "cell_type": "markdown",
   "metadata": {},
   "source": [
    "### Question3"
   ]
  },
  {
   "cell_type": "code",
   "execution_count": 3,
   "metadata": {},
   "outputs": [
    {
     "name": "stdout",
     "output_type": "stream",
     "text": [
      "점수를 입력하세요 >> 74\n",
      "C학점\n"
     ]
    }
   ],
   "source": [
    "num = int(input(\"점수를 입력하세요 >> \"))\n",
    "if 90<=num<=100:\n",
    "    result = \"A\"\n",
    "elif 80<=num:\n",
    "    result = \"B\"\n",
    "elif 70<=num:\n",
    "    result = \"C\"\n",
    "else:\n",
    "    rsult = \"D\"\n",
    "print(\"{}학점\".format(result))"
   ]
  },
  {
   "cell_type": "markdown",
   "metadata": {},
   "source": [
    "### Question4"
   ]
  },
  {
   "cell_type": "code",
   "execution_count": 4,
   "metadata": {},
   "outputs": [
    {
     "name": "stdout",
     "output_type": "stream",
     "text": [
      "단을 입력하시오 >> 2\n",
      "2*1 = 2\n",
      "2*2 = 4\n",
      "2*3 = 6\n",
      "2*4 = 8\n",
      "2*5 = 10\n",
      "2*6 = 12\n",
      "2*7 = 14\n",
      "2*8 = 16\n",
      "2*9 = 18\n"
     ]
    }
   ],
   "source": [
    "dan = int(input(\"단을 입력하시오 >> \"))\n",
    "for dan in range(1, 10):\n",
    "    print(\"2*{} = {}\".format(dan, 2*dan))"
   ]
  },
  {
   "cell_type": "markdown",
   "metadata": {},
   "source": [
    "### Question5"
   ]
  },
  {
   "cell_type": "code",
   "execution_count": 31,
   "metadata": {
    "scrolled": true
   },
   "outputs": [
    {
     "name": "stdout",
     "output_type": "stream",
     "text": [
      "1 2 짝\n",
      "4 5 짝\n",
      "7 8 짝\n",
      "10 11 짝\n",
      "13 14 짝\n",
      "16 17 짝\n",
      "19 20 짝\n",
      "22 23 짝\n",
      "25 26 짝\n",
      "28 29 짝\n"
     ]
    }
   ],
   "source": [
    "for i in range(1,31):\n",
    "    if i%3 == 0:\n",
    "        print(\"짝\")\n",
    "    else:\n",
    "        print(i, end=\" \")\n",
    "list = [i]"
   ]
  },
  {
   "cell_type": "markdown",
   "metadata": {},
   "source": [
    "### Question6"
   ]
  },
  {
   "cell_type": "code",
   "execution_count": 37,
   "metadata": {},
   "outputs": [
    {
     "name": "stdout",
     "output_type": "stream",
     "text": [
      "정수를 입력하시오 >> 10\n",
      "1 2 5 10\n"
     ]
    }
   ],
   "source": [
    "num = int(input(\"정수를 입력하시오 >> \"))\n",
    "print(1, 2, 5, 10)"
   ]
  }
 ],
 "metadata": {
  "kernelspec": {
   "display_name": "Python 3",
   "language": "python",
   "name": "python3"
  },
  "language_info": {
   "codemirror_mode": {
    "name": "ipython",
    "version": 3
   },
   "file_extension": ".py",
   "mimetype": "text/x-python",
   "name": "python",
   "nbconvert_exporter": "python",
   "pygments_lexer": "ipython3",
   "version": "3.8.5"
  }
 },
 "nbformat": 4,
 "nbformat_minor": 4
}
