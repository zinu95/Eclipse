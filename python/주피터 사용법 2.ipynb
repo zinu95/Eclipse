{
 "cells": [
  {
   "cell_type": "code",
   "execution_count": 2,
   "metadata": {},
   "outputs": [
    {
     "name": "stdout",
     "output_type": "stream",
     "text": [
      "정수를 입력하세요 >> 133\n"
     ]
    }
   ],
   "source": [
    "num = input(\"정수를 입력하세요 >> \")"
   ]
  },
  {
   "cell_type": "code",
   "execution_count": 3,
   "metadata": {},
   "outputs": [
    {
     "data": {
      "text/plain": [
       "'133'"
      ]
     },
     "execution_count": 3,
     "metadata": {},
     "output_type": "execute_result"
    }
   ],
   "source": [
    "num"
   ]
  },
  {
   "cell_type": "code",
   "execution_count": 4,
   "metadata": {},
   "outputs": [
    {
     "name": "stdout",
     "output_type": "stream",
     "text": [
      "정수를 입력하세요 >>133\n"
     ]
    },
    {
     "data": {
      "text/plain": [
       "133"
      ]
     },
     "execution_count": 4,
     "metadata": {},
     "output_type": "execute_result"
    }
   ],
   "source": [
    "num = int(input(\"정수를 입력하세요 >>\"))\n",
    "num"
   ]
  },
  {
   "cell_type": "code",
   "execution_count": 7,
   "metadata": {},
   "outputs": [
    {
     "name": "stdout",
     "output_type": "stream",
     "text": [
      "첫 번째 정수 입력 >>7\n",
      "두 번째 정수 입력 >>3\n",
      "더하기 결과 : 10\n",
      "빼기 결과 : 4\n",
      "곱하기 결과 : 21\n",
      "나누기 결과 : 2.3333333333333335\n"
     ]
    }
   ],
   "source": [
    "num1 = int(input(\"첫 번째 정수 입력 >>\"))\n",
    "num2 = int(input(\"두 번째 정수 입력 >>\"))\n",
    "\n",
    "print(\"더하기 결과 : {}\".format(num1+num2))\n",
    "print(\"빼기 결과 : {}\".format(num1-num2))\n",
    "print(\"곱하기 결과 : {}\".format(num1*num2))\n",
    "print(\"나누기 결과 : {}\".format(num1/num2))"
   ]
  },
  {
   "cell_type": "code",
   "execution_count": 8,
   "metadata": {},
   "outputs": [
    {
     "name": "stdout",
     "output_type": "stream",
     "text": [
      "python 점수 입력 >> 100\n",
      "머신러닝 점수 입력 >> 100\n",
      "딥러닝 점수 입력 >> 90\n",
      "합계 : 290\n",
      "평균 : 96.66666666666667\n"
     ]
    }
   ],
   "source": [
    "python = int(input(\"python 점수 입력 >> \"))\n",
    "ml = int(input(\"머신러닝 점수 입력 >> \"))\n",
    "deep = int(input(\"딥러닝 점수 입력 >> \"))\n",
    "\n",
    "score = python + ml + deep\n",
    "print(\"합계 : {}\".format(score))\n",
    "print(\"평균 : {}\".format(score/3))"
   ]
  },
  {
   "cell_type": "code",
   "execution_count": 2,
   "metadata": {},
   "outputs": [
    {
     "name": "stdout",
     "output_type": "stream",
     "text": [
      "파이선 최고!\n",
      "파이선 최고!\n",
      "파이선 최고!\n",
      "파이선 최고!\n",
      "파이선 최고!\n",
      "파이선 최고!\n",
      "파이선 최고!\n",
      "파이선 최고!\n",
      "파이선 최고!\n",
      "파이선 최고!\n",
      "파이선 최고!\n",
      "파이선 최고!\n",
      "파이선 최고!\n"
     ]
    }
   ],
   "source": [
    "number = 0\n",
    "while number <13:\n",
    "    print(\"파이선 최고!\")\n",
    "    number +=1"
   ]
  },
  {
   "cell_type": "code",
   "execution_count": 4,
   "metadata": {},
   "outputs": [
    {
     "name": "stdout",
     "output_type": "stream",
     "text": [
      "첫 번째 정수 입력 >>3\n",
      "두 번째 정수 입력 >>5\n",
      "두 수의 합 : 8\n",
      "첫 번째 정수 입력 >>6\n",
      "두 번째 정수 입력 >>6\n",
      "두 수의 합 : 12\n",
      "첫 번째 정수 입력 >>0\n",
      "두 번째 정수 입력 >>0\n",
      "프로그램이 종료되었습니다.\n"
     ]
    }
   ],
   "source": [
    "while True:\n",
    "    num1 = int(input(\"첫 번째 정수 입력 >>\"))\n",
    "    num2 = int(input(\"두 번째 정수 입력 >>\"))\n",
    "    \n",
    "    if num1==0 and num2==0:\n",
    "        break\n",
    "    \n",
    "    print(\"두 수의 합 : {}\".format(num1+num2))\n",
    "print(\"프로그램이 종료되었습니다.\")"
   ]
  },
  {
   "cell_type": "code",
   "execution_count": 12,
   "metadata": {},
   "outputs": [
    {
     "name": "stdout",
     "output_type": "stream",
     "text": [
      "1번 학생은 합격 입니다.\n",
      "2번 학생은 불합격 입니다.\n",
      "3번 학생은 합격 입니다.\n",
      "4번 학생은 합격 입니다.\n",
      "5번 학생은 불합격 입니다.\n"
     ]
    }
   ],
   "source": [
    "score_list = [90, 45, 70, 60, 55]\n",
    "number = 1\n",
    "for score in score_list:\n",
    "    if score >= 60:\n",
    "        result = \"합격\"\n",
    "    else:\n",
    "        result = \"불합격\"\n",
    "    print(\"{}번 학생은 {} 입니다.\".format(number, result))\n",
    "    number += 1"
   ]
  },
  {
   "cell_type": "code",
   "execution_count": 16,
   "metadata": {},
   "outputs": [
    {
     "name": "stdout",
     "output_type": "stream",
     "text": [
      "1 2 3 4 5 6 7 8 9 "
     ]
    }
   ],
   "source": [
    "for i in range(1, 10, 1):\n",
    "    print(i, end=\" \")"
   ]
  },
  {
   "cell_type": "code",
   "execution_count": 18,
   "metadata": {},
   "outputs": [
    {
     "name": "stdout",
     "output_type": "stream",
     "text": [
      "99 98 97 96 95 94 93 92 91 90 89 88 87 86 85 84 83 82 81 80 79 78 77 76 "
     ]
    }
   ],
   "source": [
    "for i in range(99, 75, -1):\n",
    "    print(i, end=\" \")"
   ]
  },
  {
   "cell_type": "code",
   "execution_count": 19,
   "metadata": {},
   "outputs": [
    {
     "name": "stdout",
     "output_type": "stream",
     "text": [
      "23 24 25 26 27 28 29 30 31 32 33 34 35 36 37 38 39 40 "
     ]
    }
   ],
   "source": [
    "for i in range(23, 41): # i=index\n",
    "    print(i, end=\" \")"
   ]
  },
  {
   "cell_type": "code",
   "execution_count": 23,
   "metadata": {},
   "outputs": [
    {
     "name": "stdout",
     "output_type": "stream",
     "text": [
      "1\n",
      "2\n",
      "3\n",
      "4\n",
      "5\n",
      "6\n"
     ]
    }
   ],
   "source": [
    "list1 = [[1,2],[3,4],[5,6]]\n",
    "for i,j in list1:\n",
    "    print(i)\n",
    "    print(j)"
   ]
  },
  {
   "cell_type": "code",
   "execution_count": 24,
   "metadata": {},
   "outputs": [],
   "source": [
    "import random"
   ]
  },
  {
   "cell_type": "code",
   "execution_count": 26,
   "metadata": {},
   "outputs": [
    {
     "name": "stdout",
     "output_type": "stream",
     "text": [
      "숫자를 입력하세요 >> 25\n",
      "25보다 작은 수 입니다.\n",
      "숫자를 입력하세요 >> 35\n",
      "35보다 작은 수 입니다.\n",
      "숫자를 입력하세요 >> 30\n",
      "30보다 작은 수 입니다.\n",
      "숫자를 입력하세요 >> 28\n",
      "28보다 작은 수 입니다.\n",
      "숫자를 입력하세요 >> 20\n",
      "20보다 작은 수 입니다.\n",
      "숫자를 입력하세요 >> 10\n",
      "10보다 큰 수 입니다.\n",
      "숫자를 입력하세요 >> 15\n",
      "정답입니다!!\n"
     ]
    }
   ],
   "source": [
    "com_num = random.randint(1, 50)\n",
    "while True:\n",
    "    num = int(input(\"숫자를 입력하세요 >> \"))\n",
    "    if num < com_num:\n",
    "        print(\"{}보다 큰 수 입니다.\".format(num))\n",
    "    elif num > com_num:\n",
    "        print(\"{}보다 작은 수 입니다.\".format(num))\n",
    "    else:\n",
    "        print(\"정답입니다!!\")\n",
    "        break"
   ]
  },
  {
   "cell_type": "code",
   "execution_count": 27,
   "metadata": {},
   "outputs": [
    {
     "name": "stdout",
     "output_type": "stream",
     "text": [
      "첫 번째 정수 입력 >>10\n",
      "두 번째 정수 입력 >>30\n",
      "10 11 12 13 14 15 16 17 18 19 20 21 22 23 24 25 26 27 28 29 30 "
     ]
    }
   ],
   "source": [
    "start = int(input(\"첫 번째 정수 입력 >>\"))\n",
    "end = int(input(\"두 번째 정수 입력 >>\"))\n",
    "\n",
    "for i in range(start, end+1):\n",
    "    print(i, end=\" \")"
   ]
  },
  {
   "cell_type": "code",
   "execution_count": 30,
   "metadata": {},
   "outputs": [],
   "source": [
    "add = 0\n",
    "for i in range(1, 101):\n",
    "    if i%3==0:\n",
    "        add += i"
   ]
  },
  {
   "cell_type": "code",
   "execution_count": 31,
   "metadata": {},
   "outputs": [
    {
     "data": {
      "text/plain": [
       "1683"
      ]
     },
     "execution_count": 31,
     "metadata": {},
     "output_type": "execute_result"
    }
   ],
   "source": [
    "add"
   ]
  },
  {
   "cell_type": "code",
   "execution_count": 32,
   "metadata": {},
   "outputs": [
    {
     "name": "stdout",
     "output_type": "stream",
     "text": [
      "2 * 1 = 2\n",
      "2 * 2 = 4\n",
      "2 * 3 = 6\n",
      "2 * 4 = 8\n",
      "2 * 5 = 10\n",
      "2 * 6 = 12\n",
      "2 * 7 = 14\n",
      "2 * 8 = 16\n",
      "2 * 9 = 18\n"
     ]
    }
   ],
   "source": [
    "for i in range(1, 10):\n",
    "    print(\"2 * {} = {}\".format(i, 2*i))"
   ]
  },
  {
   "cell_type": "code",
   "execution_count": 36,
   "metadata": {},
   "outputs": [
    {
     "name": "stdout",
     "output_type": "stream",
     "text": [
      "정수 입력 >> 32\n",
      "약수 : 1 2 4 8 16 32 "
     ]
    }
   ],
   "source": [
    "num = int(input(\"정수 입력 >> \"))\n",
    "\n",
    "print(\"약수 :\", end=\" \")\n",
    "for i in range(1, num+1):\n",
    "    if num%i==0:\n",
    "        print(i, end=\" \")"
   ]
  },
  {
   "cell_type": "code",
   "execution_count": null,
   "metadata": {},
   "outputs": [],
   "source": []
  },
  {
   "cell_type": "code",
   "execution_count": null,
   "metadata": {},
   "outputs": [],
   "source": []
  },
  {
   "cell_type": "code",
   "execution_count": null,
   "metadata": {},
   "outputs": [],
   "source": []
  },
  {
   "cell_type": "code",
   "execution_count": null,
   "metadata": {},
   "outputs": [],
   "source": []
  },
  {
   "cell_type": "code",
   "execution_count": null,
   "metadata": {},
   "outputs": [],
   "source": []
  }
 ],
 "metadata": {
  "kernelspec": {
   "display_name": "Python 3",
   "language": "python",
   "name": "python3"
  },
  "language_info": {
   "codemirror_mode": {
    "name": "ipython",
    "version": 3
   },
   "file_extension": ".py",
   "mimetype": "text/x-python",
   "name": "python",
   "nbconvert_exporter": "python",
   "pygments_lexer": "ipython3",
   "version": "3.8.5"
  }
 },
 "nbformat": 4,
 "nbformat_minor": 4
}
