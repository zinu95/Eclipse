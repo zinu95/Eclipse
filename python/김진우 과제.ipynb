{
 "cells": [
  {
   "cell_type": "code",
   "execution_count": 1,
   "metadata": {},
   "outputs": [],
   "source": [
    "num = 7\n",
    "word = 'python'"
   ]
  },
  {
   "cell_type": "code",
   "execution_count": 2,
   "metadata": {},
   "outputs": [
    {
     "name": "stdout",
     "output_type": "stream",
     "text": [
      "1\n"
     ]
    }
   ],
   "source": [
    "number = 5\n",
    "number = 1\n",
    "print(number)"
   ]
  },
  {
   "cell_type": "code",
   "execution_count": 3,
   "metadata": {},
   "outputs": [
    {
     "name": "stdout",
     "output_type": "stream",
     "text": [
      "\"python is fun\" he says.\n"
     ]
    }
   ],
   "source": [
    "s = '\"python is fun\" he says.'\n",
    "print(s)"
   ]
  },
  {
   "cell_type": "code",
   "execution_count": 7,
   "metadata": {},
   "outputs": [
    {
     "name": "stdout",
     "output_type": "stream",
     "text": [
      "name\n",
      "is\n"
     ]
    }
   ],
   "source": [
    "s = \"Hi my name is SM\"\n",
    "print(s[6:10])\n",
    "print(s[11:13])"
   ]
  },
  {
   "cell_type": "code",
   "execution_count": 8,
   "metadata": {},
   "outputs": [
    {
     "name": "stdout",
     "output_type": "stream",
     "text": [
      "인공지능서비스 개발자과정 개강일은 7월 8일 입니다.\n"
     ]
    }
   ],
   "source": [
    "month = 7\n",
    "day = 8\n",
    "print(\"인공지능서비스 개발자과정 개강일은 {}월 {}일 입니다.\".format(month,day))"
   ]
  },
  {
   "cell_type": "code",
   "execution_count": 9,
   "metadata": {},
   "outputs": [
    {
     "name": "stdout",
     "output_type": "stream",
     "text": [
      "300와 150의 뺄셈은 150입니다.\n"
     ]
    }
   ],
   "source": [
    "x = 300\n",
    "y = 150\n",
    "minus = x-y \n",
    "print(\"{}와 {}의 뺄셈은 {}입니다.\".format(x,y,minus))"
   ]
  }
 ],
 "metadata": {
  "kernelspec": {
   "display_name": "Python 3",
   "language": "python",
   "name": "python3"
  },
  "language_info": {
   "codemirror_mode": {
    "name": "ipython",
    "version": 3
   },
   "file_extension": ".py",
   "mimetype": "text/x-python",
   "name": "python",
   "nbconvert_exporter": "python",
   "pygments_lexer": "ipython3",
   "version": "3.8.5"
  }
 },
 "nbformat": 4,
 "nbformat_minor": 4
}
